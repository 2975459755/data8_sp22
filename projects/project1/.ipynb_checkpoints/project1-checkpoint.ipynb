{
 "cells": [
  {
   "cell_type": "code",
   "execution_count": 1,
   "id": "f6d7a376",
   "metadata": {
    "deletable": false,
    "editable": false,
    "slideshow": {
     "slide_type": ""
    },
    "tags": []
   },
   "outputs": [],
   "source": [
    "# Initialize Otter\n",
    "import otter\n",
    "grader = otter.Notebook(\"project1.ipynb\")"
   ]
  },
  {
   "cell_type": "markdown",
   "id": "6032a25d",
   "metadata": {},
   "source": [
    "# Project 1: World Progress"
   ]
  },
  {
   "cell_type": "markdown",
   "id": "037be2e0",
   "metadata": {},
   "source": [
    "In this project, you'll explore data from [Gapminder.org](http://gapminder.org), a website dedicated to providing a fact-based view of the world and how it has changed. That site includes several data visualizations and presentations, but also publishes the raw data that we will use in this project to recreate and extend some of their most famous visualizations.\n",
    "\n",
    "The Gapminder website collects data from many sources and compiles them into tables that describe many countries around the world. All of the data they aggregate are published in the [Systema Globalis](https://github.com/open-numbers/ddf--gapminder--systema_globalis/blob/master/README.md). Their goal is \"to compile all public statistics; Social, Economic and Environmental; into a comparable total dataset.\" All data sets in this project are copied directly from the Systema Globalis without any changes.\n",
    "\n",
    "This project is dedicated to [Hans Rosling](https://en.wikipedia.org/wiki/Hans_Rosling) (1948-2017), who championed the use of data to understand and prioritize global development challenges."
   ]
  },
  {
   "cell_type": "markdown",
   "id": "fd3c160d",
   "metadata": {},
   "source": [
    "### Logistics\n",
    "\n",
    "**Rules.** Don't share your code with anybody but your partner. You are welcome to discuss questions with other students, but don't share the answers. The experience of solving the problems in this project will prepare you for exams (and life). If someone asks you for the answer, resist! Instead, you can demonstrate how you would solve a similar problem.\n",
    "\n",
    "**Support.** You are not alone! Come to office hours and talk to your classmates. If you want to ask about the details of your solution to a problem, come see me. If you're ever feeling overwhelmed or don't know how to make progress, email for help.\n",
    "\n",
    "**Tests.** The tests that are given are **not comprehensive** and passing the tests for a question **does not** mean that you answered the question correctly. Tests usually only check that your table has the correct column labels. However, more tests will be applied to verify the correctness of your submission in order to assign your final score, so be careful and check your work! You might want to create your own checks along the way to see if your answers make sense. Additionally, before you submit, make sure that none of your cells take a very long time to run (several minutes).\n",
    "\n",
    "**Free Response Questions:** Make sure that you put the answers to the written questions in the indicated cell we provide. **Every free response question should include an explanation** that adequately answers the question.\n",
    "\n",
    "**Tabular Thinking Guide:** Feel free to reference [Tabular Thinking Guide](https://drive.google.com/file/d/1NvbBECCBdI0Ku380oPcTUOcpjH3RI230/view) for extra guidance.\n",
    "\n",
    "**Advice.** Develop your answers incrementally. To perform a complicated table manipulation, break it up into steps, perform each step on a different line, give a new name to each result, and check that each intermediate result is what you expect. You can add any additional names or functions you want to the provided cells. Make sure that you are using distinct and meaningful variable names throughout the notebook. Along that line, **DO NOT** reuse the variable names that we use when we grade your answers. For example, in Question 1 of the Global Poverty section we ask you to assign an answer to `latest`. Do not reassign the variable name `latest` to anything else in your notebook, otherwise there is the chance that our tests grade against what `latest` was reassigned to.\n",
    "\n",
    "You **never** have to use just one line in this project or any others. Use intermediate variables and multiple lines as much as you would like!\n",
    "\n",
    "---\n",
    "\n",
    "To get started, load `datascience`, `numpy`, `plots`, and `otter`."
   ]
  },
  {
   "cell_type": "code",
   "execution_count": 2,
   "id": "38cbf09b",
   "metadata": {
    "deletable": false
   },
   "outputs": [],
   "source": [
    "# Run this cell to set up the notebook, but please don't change it.\n",
    "\n",
    "# These lines import the NumPy and Datascience modules.\n",
    "from datascience import *\n",
    "import numpy as np\n",
    "\n",
    "# These lines do some fancy plotting magic.\n",
    "%matplotlib inline\n",
    "import matplotlib.pyplot as plots\n",
    "plots.style.use('fivethirtyeight')\n",
    "\n",
    "from ipywidgets import interact, interactive, fixed, interact_manual\n",
    "import ipywidgets as widgets\n",
    "\n",
    "import d8error"
   ]
  },
  {
   "cell_type": "markdown",
   "id": "db95eac8",
   "metadata": {
    "deletable": false,
    "editable": false
   },
   "source": [
    "## 1. Global Population Growth"
   ]
  },
  {
   "cell_type": "markdown",
   "id": "95299c71",
   "metadata": {
    "deletable": false,
    "editable": false
   },
   "source": [
    "The global population of humans reached 1 billion around 1800, 3 billion around 1960, and 7 billion around 2011. The potential impact of exponential population growth has concerned scientists, economists, and politicians alike.\n",
    "\n",
    "The UN Population Division estimates that the world population will likely continue to grow throughout the 21st century, but at a slower rate, perhaps reaching 11 billion by 2100. However, the UN does not rule out scenarios of more extreme growth.\n",
    "\n",
    "<a href=\"http://www.pewresearch.org/fact-tank/2015/06/08/scientists-more-worried-than-public-about-worlds-growing-population/ft_15-06-04_popcount/\"> \n",
    " <img src=\"pew_population_projection.png\"/> \n",
    "</a>\n",
    "\n",
    "In this part of the project, we will examine some of the factors that influence population growth and how they have been changing over the years and around the world. There are two main sub-parts of this analysis.\n",
    "\n",
    "- First, we will examine the data for one country, Bangladesh. We will see how factors such as life expectancy, fertility rate, and child mortality have changed over time in Bangladesh, and how they are related to the rate of population growth.\n",
    "- Next, we will examine whether the changes we have observed for Bangladesh are particular to that country or whether they reflect general patterns observable in other countries too. We will study aspects of world population growth and see how they have been changing.\n",
    "\n",
    "The first table we will consider contains the total population of each country over time. Run the cell below."
   ]
  },
  {
   "cell_type": "code",
   "execution_count": 3,
   "id": "ed394c3e",
   "metadata": {
    "deletable": false,
    "scrolled": true
   },
   "outputs": [
    {
     "data": {
      "text/html": [
       "<table border=\"1\" class=\"dataframe\">\n",
       "    <thead>\n",
       "        <tr>\n",
       "            <th>geo</th> <th>time</th> <th>population_total</th>\n",
       "        </tr>\n",
       "    </thead>\n",
       "    <tbody>\n",
       "        <tr>\n",
       "            <td>afg </td> <td>1800</td> <td>3280000         </td>\n",
       "        </tr>\n",
       "        <tr>\n",
       "            <td>afg </td> <td>1801</td> <td>3280000         </td>\n",
       "        </tr>\n",
       "        <tr>\n",
       "            <td>afg </td> <td>1802</td> <td>3280000         </td>\n",
       "        </tr>\n",
       "    </tbody>\n",
       "</table>\n",
       "<p>... (43534 rows omitted)</p>"
      ],
      "text/plain": [
       "<IPython.core.display.HTML object>"
      ]
     },
     "metadata": {},
     "output_type": "display_data"
    }
   ],
   "source": [
    "population = Table.read_table('population.csv').where(\"time\", are.below(2021))\n",
    "population.show(3)"
   ]
  },
  {
   "cell_type": "markdown",
   "id": "fe7905ed",
   "metadata": {},
   "source": [
    "**Note:** The population csv file can also be found [here](https://github.com/open-numbers/ddf--gapminder--systema_globalis/blob/master/countries-etc-datapoints/ddf--datapoints--population_total--by--geo--time.csv). The data for this project was downloaded in February 2017. "
   ]
  },
  {
   "cell_type": "markdown",
   "id": "2bed7a13",
   "metadata": {
    "deletable": false
   },
   "source": [
    "### Bangladesh\n",
    "\n",
    "The nation of [Bangladesh](https://en.wikipedia.org/wiki/Bangladesh#People's_Republic_of_Bangladesh) was established as a parliamentary democracy after the Bangladesh Liberation War ended in 1971. The war-ravaged fledgling nation was almost immediately faced with floods and famine. In this section of the project, we will examine aspects of the development of Bangladesh since that time.\n",
    "\n",
    "In the `population` table, the `geo` column contains three-letter codes established by the [International Organization for Standardization](https://en.wikipedia.org/wiki/International_Organization_for_Standardization) (ISO) in the [Alpha-3](https://en.wikipedia.org/wiki/ISO_3166-1_alpha-3#Current_codes) standard. We will begin by taking a close look at Bangladesh. Use the Alpha-3 link to find the 3-letter code for Bangladesh."
   ]
  },
  {
   "cell_type": "markdown",
   "id": "cc2049cf",
   "metadata": {},
   "source": [
    "**Question 1.** Create a table called `b_pop` that has two columns labeled `time` and `population_total`. The first column should contain the years from 1970 through 2020 (including both 1970 and 2020) and the second should contain the population of Bangladesh in each of those years.\n"
   ]
  },
  {
   "cell_type": "code",
   "execution_count": 4,
   "id": "c4a9786b",
   "metadata": {
    "deletable": false,
    "tags": []
   },
   "outputs": [
    {
     "data": {
      "text/html": [
       "<table border=\"1\" class=\"dataframe\">\n",
       "    <thead>\n",
       "        <tr>\n",
       "            <th>time</th> <th>population_total</th>\n",
       "        </tr>\n",
       "    </thead>\n",
       "    <tbody>\n",
       "        <tr>\n",
       "            <td>1970</td> <td>64232486        </td>\n",
       "        </tr>\n",
       "        <tr>\n",
       "            <td>1971</td> <td>65531635        </td>\n",
       "        </tr>\n",
       "        <tr>\n",
       "            <td>1972</td> <td>66625706        </td>\n",
       "        </tr>\n",
       "        <tr>\n",
       "            <td>1973</td> <td>67637541        </td>\n",
       "        </tr>\n",
       "        <tr>\n",
       "            <td>1974</td> <td>68742222        </td>\n",
       "        </tr>\n",
       "        <tr>\n",
       "            <td>1975</td> <td>70066310        </td>\n",
       "        </tr>\n",
       "        <tr>\n",
       "            <td>1976</td> <td>71652386        </td>\n",
       "        </tr>\n",
       "        <tr>\n",
       "            <td>1977</td> <td>73463593        </td>\n",
       "        </tr>\n",
       "        <tr>\n",
       "            <td>1978</td> <td>75450033        </td>\n",
       "        </tr>\n",
       "        <tr>\n",
       "            <td>1979</td> <td>77529040        </td>\n",
       "        </tr>\n",
       "    </tbody>\n",
       "</table>\n",
       "<p>... (41 rows omitted)</p>"
      ],
      "text/plain": [
       "time | population_total\n",
       "1970 | 64232486\n",
       "1971 | 65531635\n",
       "1972 | 66625706\n",
       "1973 | 67637541\n",
       "1974 | 68742222\n",
       "1975 | 70066310\n",
       "1976 | 71652386\n",
       "1977 | 73463593\n",
       "1978 | 75450033\n",
       "1979 | 77529040\n",
       "... (41 rows omitted)"
      ]
     },
     "execution_count": 4,
     "metadata": {},
     "output_type": "execute_result"
    }
   ],
   "source": [
    "b_pop = population.where('geo', 'bgd').where('time', lambda x: x in range(1970, 2020 + 1)).select(1, 2)\n",
    "b_pop"
   ]
  },
  {
   "cell_type": "code",
   "execution_count": 5,
   "id": "da13ac0a",
   "metadata": {
    "deletable": false,
    "editable": false
   },
   "outputs": [
    {
     "data": {
      "text/html": [
       "<p><strong><pre style='display: inline;'>q1_1</pre></strong> passed! ✨</p>"
      ],
      "text/plain": [
       "q1_1 results: All test cases passed!"
      ]
     },
     "execution_count": 5,
     "metadata": {},
     "output_type": "execute_result"
    }
   ],
   "source": [
    "grader.check(\"q1_1\")"
   ]
  },
  {
   "cell_type": "markdown",
   "id": "d2474b7b",
   "metadata": {
    "deletable": false
   },
   "source": [
    "Run the following cell to create a table called `b_five` that has the population of Bangladesh every five years. At a glance, it appears that the population of Bangladesh has been growing quickly indeed!"
   ]
  },
  {
   "cell_type": "code",
   "execution_count": 6,
   "id": "ff6acec6",
   "metadata": {
    "deletable": false
   },
   "outputs": [
    {
     "data": {
      "text/html": [
       "<table border=\"1\" class=\"dataframe\">\n",
       "    <thead>\n",
       "        <tr>\n",
       "            <th>time</th> <th>population_total</th>\n",
       "        </tr>\n",
       "    </thead>\n",
       "    <tbody>\n",
       "        <tr>\n",
       "            <td>1970</td> <td>64,232,486      </td>\n",
       "        </tr>\n",
       "        <tr>\n",
       "            <td>1975</td> <td>70,066,310      </td>\n",
       "        </tr>\n",
       "        <tr>\n",
       "            <td>1980</td> <td>79,639,498      </td>\n",
       "        </tr>\n",
       "        <tr>\n",
       "            <td>1985</td> <td>90,764,180      </td>\n",
       "        </tr>\n",
       "        <tr>\n",
       "            <td>1990</td> <td>103,171,957     </td>\n",
       "        </tr>\n",
       "        <tr>\n",
       "            <td>1995</td> <td>115,169,933     </td>\n",
       "        </tr>\n",
       "        <tr>\n",
       "            <td>2000</td> <td>127,657,862     </td>\n",
       "        </tr>\n",
       "        <tr>\n",
       "            <td>2005</td> <td>139,035,505     </td>\n",
       "        </tr>\n",
       "        <tr>\n",
       "            <td>2010</td> <td>147,575,433     </td>\n",
       "        </tr>\n",
       "        <tr>\n",
       "            <td>2015</td> <td>156,256,287     </td>\n",
       "        </tr>\n",
       "        <tr>\n",
       "            <td>2020</td> <td>164,689,383     </td>\n",
       "        </tr>\n",
       "    </tbody>\n",
       "</table>"
      ],
      "text/plain": [
       "<IPython.core.display.HTML object>"
      ]
     },
     "metadata": {},
     "output_type": "display_data"
    }
   ],
   "source": [
    "b_pop.set_format('population_total', NumberFormatter)\n",
    "\n",
    "fives = np.arange(1970, 2021, 5) # 1970, 1975, 1980, ...\n",
    "b_five = b_pop.sort('time').where('time', are.contained_in(fives))\n",
    "b_five.show()"
   ]
  },
  {
   "cell_type": "markdown",
   "id": "715810d6",
   "metadata": {},
   "source": [
    "**Question 2.** Assign `initial` to an array that contains the population for every five year interval from 1970 to 2015 (inclusive). Then, assign `changed` to an array that contains the population for every five year interval from 1975 to 2020 (inclusive). The first array should include both 1970 and 2015, and the second array should include both 1975 and 2020. You should use the `b_five` table to create both arrays, by first filtering the table to only contain the relevant years.\n",
    "\n",
    "The annual growth rate for a time period is equal to:\n",
    "\n",
    "$$\\left(\\left(\\frac{\\text{Population at end of period}}{\\text{Population at start of period}}\\right)^{\\displaystyle\\frac{1}{\\text{number of years}}}\\right) -1$$\n",
    "\n",
    "We have provided the code below that uses  `initial` and `changed` in order to add a column to `b_five` called `annual_growth`. Don't worry about the calculation of the growth rates; run the test below to test your solution.\n",
    "\n",
    "If you are interested in how we came up with the formula for growth rates, consult the [growth rates](https://inferentialthinking.com/chapters/03/2/1/Growth.html) section of the textbook.\n"
   ]
  },
  {
   "cell_type": "code",
   "execution_count": 7,
   "id": "038b3a87",
   "metadata": {
    "tags": []
   },
   "outputs": [
    {
     "data": {
      "text/html": [
       "<table border=\"1\" class=\"dataframe\">\n",
       "    <thead>\n",
       "        <tr>\n",
       "            <th>time</th> <th>population_total</th> <th>annual_growth</th>\n",
       "        </tr>\n",
       "    </thead>\n",
       "    <tbody>\n",
       "        <tr>\n",
       "            <td>1970</td> <td>64,232,486      </td> <td>1.75%        </td>\n",
       "        </tr>\n",
       "        <tr>\n",
       "            <td>1975</td> <td>70,066,310      </td> <td>2.59%        </td>\n",
       "        </tr>\n",
       "        <tr>\n",
       "            <td>1980</td> <td>79,639,498      </td> <td>2.65%        </td>\n",
       "        </tr>\n",
       "        <tr>\n",
       "            <td>1985</td> <td>90,764,180      </td> <td>2.60%        </td>\n",
       "        </tr>\n",
       "        <tr>\n",
       "            <td>1990</td> <td>103,171,957     </td> <td>2.22%        </td>\n",
       "        </tr>\n",
       "        <tr>\n",
       "            <td>1995</td> <td>115,169,933     </td> <td>2.08%        </td>\n",
       "        </tr>\n",
       "        <tr>\n",
       "            <td>2000</td> <td>127,657,862     </td> <td>1.72%        </td>\n",
       "        </tr>\n",
       "        <tr>\n",
       "            <td>2005</td> <td>139,035,505     </td> <td>1.20%        </td>\n",
       "        </tr>\n",
       "        <tr>\n",
       "            <td>2010</td> <td>147,575,433     </td> <td>1.15%        </td>\n",
       "        </tr>\n",
       "        <tr>\n",
       "            <td>2015</td> <td>156,256,287     </td> <td>1.06%        </td>\n",
       "        </tr>\n",
       "    </tbody>\n",
       "</table>"
      ],
      "text/plain": [
       "time | population_total | annual_growth\n",
       "1970 | 64,232,486       | 1.75%\n",
       "1975 | 70,066,310       | 2.59%\n",
       "1980 | 79,639,498       | 2.65%\n",
       "1985 | 90,764,180       | 2.60%\n",
       "1990 | 103,171,957      | 2.22%\n",
       "1995 | 115,169,933      | 2.08%\n",
       "2000 | 127,657,862      | 1.72%\n",
       "2005 | 139,035,505      | 1.20%\n",
       "2010 | 147,575,433      | 1.15%\n",
       "2015 | 156,256,287      | 1.06%"
      ]
     },
     "execution_count": 7,
     "metadata": {},
     "output_type": "execute_result"
    }
   ],
   "source": [
    "initial = b_five.where('time', lambda x: x in range(1970, 2015 + 1)).column(1)\n",
    "changed = b_five.where('time', lambda x: x in range(1975, 2020 + 1)).column(1)\n",
    "\n",
    "b_1970_through_2015 = b_five.where('time', are.below_or_equal_to(2015)) \n",
    "b_five_growth = b_1970_through_2015.with_column('annual_growth', (changed/initial)**0.2-1)\n",
    "b_five_growth.set_format('annual_growth', PercentFormatter)"
   ]
  },
  {
   "cell_type": "code",
   "execution_count": 8,
   "id": "0c735b66",
   "metadata": {
    "deletable": false,
    "editable": false
   },
   "outputs": [
    {
     "data": {
      "text/html": [
       "<p><strong><pre style='display: inline;'>q1_2</pre></strong> passed! 🚀</p>"
      ],
      "text/plain": [
       "q1_2 results: All test cases passed!"
      ]
     },
     "execution_count": 8,
     "metadata": {},
     "output_type": "execute_result"
    }
   ],
   "source": [
    "grader.check(\"q1_2\")"
   ]
  },
  {
   "cell_type": "markdown",
   "id": "92dd8c88",
   "metadata": {
    "deletable": false
   },
   "source": [
    "While the population has grown every five years since 1970, the annual growth rate decreased dramatically from 1985 to 2015. Let's look at some other information in order to develop a possible explanation. Run the next cell to load three additional tables of measurements about countries over time."
   ]
  },
  {
   "cell_type": "code",
   "execution_count": 9,
   "id": "dc983018",
   "metadata": {
    "deletable": false
   },
   "outputs": [],
   "source": [
    "life_expectancy = Table.read_table('life_expectancy.csv').where('time', are.below(2021))\n",
    "child_mortality = Table.read_table('child_mortality.csv').relabel(2, 'child_mortality_under_5_per_1000_born').where('time', are.below(2021))\n",
    "fertility = Table.read_table('fertility.csv').where('time', are.below(2021))"
   ]
  },
  {
   "cell_type": "markdown",
   "id": "0cc28d4f",
   "metadata": {
    "deletable": false,
    "editable": false
   },
   "source": [
    "The `life_expectancy` table contains a statistic that is often used to measure how long people live, called *life expectancy at birth*. This number, for a country in a given year, [does not measure how long babies born in that year are expected to live](http://blogs.worldbank.org/opendata/what-does-life-expectancy-birth-really-mean). Instead, it measures how long someone would live, on average, if the *mortality conditions* in that year persisted throughout their lifetime. These \"mortality conditions\" describe what fraction of people at each age survived the year. So, it is a way of measuring the proportion of people that are staying alive, aggregated over different age groups in the population."
   ]
  },
  {
   "cell_type": "markdown",
   "id": "4f1ccdd4",
   "metadata": {},
   "source": [
    "Run the following cells below to see `life_expectancy`, `child_mortality`, and `fertility`. Refer back to these tables as they will be helpful for answering further questions!"
   ]
  },
  {
   "cell_type": "code",
   "execution_count": 10,
   "id": "2290b0e3",
   "metadata": {},
   "outputs": [
    {
     "data": {
      "text/html": [
       "<table border=\"1\" class=\"dataframe\">\n",
       "    <thead>\n",
       "        <tr>\n",
       "            <th>geo</th> <th>time</th> <th>life_expectancy_years</th>\n",
       "        </tr>\n",
       "    </thead>\n",
       "    <tbody>\n",
       "        <tr>\n",
       "            <td>afg </td> <td>1800</td> <td>28.21                </td>\n",
       "        </tr>\n",
       "        <tr>\n",
       "            <td>afg </td> <td>1801</td> <td>28.2                 </td>\n",
       "        </tr>\n",
       "        <tr>\n",
       "            <td>afg </td> <td>1802</td> <td>28.19                </td>\n",
       "        </tr>\n",
       "    </tbody>\n",
       "</table>\n",
       "<p>... (41247 rows omitted)</p>"
      ],
      "text/plain": [
       "<IPython.core.display.HTML object>"
      ]
     },
     "metadata": {},
     "output_type": "display_data"
    }
   ],
   "source": [
    "life_expectancy.show(3)"
   ]
  },
  {
   "cell_type": "code",
   "execution_count": 11,
   "id": "eed55011",
   "metadata": {},
   "outputs": [
    {
     "data": {
      "text/html": [
       "<table border=\"1\" class=\"dataframe\">\n",
       "    <thead>\n",
       "        <tr>\n",
       "            <th>geo</th> <th>time</th> <th>child_mortality_under_5_per_1000_born</th>\n",
       "        </tr>\n",
       "    </thead>\n",
       "    <tbody>\n",
       "        <tr>\n",
       "            <td>afg </td> <td>1800</td> <td>468.58                               </td>\n",
       "        </tr>\n",
       "        <tr>\n",
       "            <td>afg </td> <td>1801</td> <td>468.58                               </td>\n",
       "        </tr>\n",
       "        <tr>\n",
       "            <td>afg </td> <td>1802</td> <td>468.58                               </td>\n",
       "        </tr>\n",
       "    </tbody>\n",
       "</table>\n",
       "<p>... (41734 rows omitted)</p>"
      ],
      "text/plain": [
       "<IPython.core.display.HTML object>"
      ]
     },
     "metadata": {},
     "output_type": "display_data"
    }
   ],
   "source": [
    "child_mortality.show(3)"
   ]
  },
  {
   "cell_type": "code",
   "execution_count": 12,
   "id": "8ee53347",
   "metadata": {},
   "outputs": [
    {
     "data": {
      "text/html": [
       "<table border=\"1\" class=\"dataframe\">\n",
       "    <thead>\n",
       "        <tr>\n",
       "            <th>geo</th> <th>time</th> <th>children_per_woman_total_fertility</th>\n",
       "        </tr>\n",
       "    </thead>\n",
       "    <tbody>\n",
       "        <tr>\n",
       "            <td>abw </td> <td>1800</td> <td>5.64                              </td>\n",
       "        </tr>\n",
       "        <tr>\n",
       "            <td>abw </td> <td>1801</td> <td>5.64                              </td>\n",
       "        </tr>\n",
       "        <tr>\n",
       "            <td>abw </td> <td>1802</td> <td>5.64                              </td>\n",
       "        </tr>\n",
       "    </tbody>\n",
       "</table>\n",
       "<p>... (44632 rows omitted)</p>"
      ],
      "text/plain": [
       "<IPython.core.display.HTML object>"
      ]
     },
     "metadata": {},
     "output_type": "display_data"
    }
   ],
   "source": [
    "fertility.show(3)"
   ]
  },
  {
   "cell_type": "markdown",
   "id": "7a455abb",
   "metadata": {},
   "source": [
    "<!-- BEGIN QUESTION -->\n",
    "\n",
    "**Question 3.** Perhaps population is growing more slowly because people aren't living as long. Use the `life_expectancy` table to draw a line graph with the years 1970 and later on the horizontal axis that shows how the *life expectancy at birth* has changed in Bangladesh.\n"
   ]
  },
  {
   "cell_type": "code",
   "execution_count": 13,
   "id": "204a6c19",
   "metadata": {
    "deletable": false,
    "manual_grade": true,
    "manual_problem_id": "global_pop_3",
    "tags": []
   },
   "outputs": [
    {
     "data": {
      "image/png": "[encoded data removed]",
      "text/plain": [
       "<Figure size 600x600 with 1 Axes>"
      ]
     },
     "metadata": {},
     "output_type": "display_data"
    }
   ],
   "source": [
    "#Fill in code here\n",
    "life_expectancy.where('geo', 'bgd').where('time', lambda x: x >= 1970).plot('time', 2)"
   ]
  },
  {
   "cell_type": "markdown",
   "id": "e419dfcd",
   "metadata": {},
   "source": [
    "<!-- END QUESTION -->\n",
    "\n",
    "<!-- BEGIN QUESTION -->\n",
    "\n",
    "**Question 4.** Assuming everything else stays the same, do the trends in life expectancy in the graph above directly explain why the population growth rate decreased from 1985 to 2015 in Bangladesh? Why or why not? \n",
    "\n",
    "Hint: What happened in Bangladesh in 1991, and does that event explain the overall change in population growth rate? This [webpage](https://en.wikipedia.org/wiki/1991_Bangladesh_cyclone) provides relevant context.\n"
   ]
  },
  {
   "cell_type": "markdown",
   "id": "54a5d599",
   "metadata": {},
   "source": [
    "_Type your answer here, replacing this text._"
   ]
  },
  {
   "cell_type": "markdown",
   "id": "35bf7504",
   "metadata": {
    "deletable": false,
    "editable": false
   },
   "source": [
    "<!-- END QUESTION -->\n",
    "\n",
    "The `fertility` table contains a statistic that is often used to measure how many babies are being born, the *total fertility rate*. This number describes the [number of children a woman would have in her lifetime](https://www.measureevaluation.org/prh/rh_indicators/specific/fertility/total-fertility-rate), on average, if the current rates of birth by age of the mother persisted throughout her child bearing years, assuming she survived through age 49. "
   ]
  },
  {
   "cell_type": "markdown",
   "id": "94cdab99",
   "metadata": {},
   "source": [
    "**Question 5.** Complete the function `fertility_over_time`. It takes the Alpha-3 code of a country as `country_code` and a `start` year. It returns a two-column table with labels `Year` and `Children per woman` that can be used to generate a line chart of the country's fertility rate each year, starting at the `start` year. The plot should include the `start` year and all later years that appear in the `fertility` table. \n",
    "\n",
    "Then, determine the Alpha-3 code for Bangladesh. The code for Bangladesh and the year 1970 are used in the call to your `fertility_over_time` function in order to plot how Bangladesh's fertility rate has changed since 1970. Note that the function `fertility_over_time` should not return the plot itself. **The expression that draws the line plot is provided for you; please don't change it.**\n"
   ]
  },
  {
   "cell_type": "code",
   "execution_count": 14,
   "id": "1d8e86ad",
   "metadata": {
    "deletable": false,
    "tags": []
   },
   "outputs": [
    {
     "data": {
      "image/png": "[encoded data removed]",
      "text/plain": [
       "<Figure size 600x600 with 1 Axes>"
      ]
     },
     "metadata": {},
     "output_type": "display_data"
    }
   ],
   "source": [
    "def fertility_over_time(country_code, start):\n",
    "    \"\"\"Create a two-column table that describes a country's total fertility rate each year.\"\"\"\n",
    "    country_fertility = fertility.where('geo', country_code)\n",
    "    country_fertility_after_start = country_fertility.where('time', lambda x: x >= start)\n",
    "    cleaned_table = country_fertility_after_start.drop(0).relabeled(0, 'Year').relabeled(1, 'Children per woman')\n",
    "    return cleaned_table\n",
    "\n",
    "bangladesh_code = 'bgd'\n",
    "fertility_over_time(bangladesh_code, 1970).plot(0, 1) # You should *not* change this line."
   ]
  },
  {
   "cell_type": "code",
   "execution_count": 15,
   "id": "3bbb4363",
   "metadata": {
    "deletable": false,
    "editable": false
   },
   "outputs": [
    {
     "data": {
      "text/html": [
       "<p><strong><pre style='display: inline;'>q1_5</pre></strong> passed! 💯</p>"
      ],
      "text/plain": [
       "q1_5 results: All test cases passed!"
      ]
     },
     "execution_count": 15,
     "metadata": {},
     "output_type": "execute_result"
    }
   ],
   "source": [
    "grader.check(\"q1_5\")"
   ]
  },
  {
   "cell_type": "markdown",
   "id": "4d1e99e9",
   "metadata": {},
   "source": [
    "<!-- BEGIN QUESTION -->\n",
    "\n",
    "**Question 6.** Assuming everything else is constant, do the trends in fertility in the graph above help directly explain why the population growth rate decreased from 1980 to 2020 in Bangladesh? Why or why not?\n"
   ]
  },
  {
   "cell_type": "markdown",
   "id": "d52b4916",
   "metadata": {},
   "source": [
    "_Type your answer here, replacing this text._"
   ]
  },
  {
   "cell_type": "markdown",
   "id": "611f3d24",
   "metadata": {
    "deletable": false
   },
   "source": [
    "<!-- END QUESTION -->\n",
    "\n",
    "It has been [observed](https://www.ageing.ox.ac.uk/download/143) that lower fertility rates are often associated with lower child mortality rates. The link has been attributed to family planning: if parents can expect that their children will all survive into adulthood, then they will choose to have fewer children. In the reverse direction, having fewer children may allow families to devote more resources to each child, reducing child mortality. We can see if this association is evident in Bangladesh by plotting the relationship between total fertility rate and [child mortality rate per 1000 children](https://en.wikipedia.org/wiki/Child_mortality)."
   ]
  },
  {
   "cell_type": "markdown",
   "id": "81f2b0da",
   "metadata": {},
   "source": [
    "**Question 7.** Using both the `fertility` and `child_mortality` tables, draw a scatter diagram that has Bangladesh's total fertility on the horizontal axis and its child mortality on the vertical axis with one point for each year, starting with 1970.\n",
    "\n",
    "**The code that draws the scatter diagram is provided for you; please don't change it.** Instead, create a table called `post_1969_fertility_and_child_mortality` with the appropriate column labels and data in order to generate the chart correctly. Use the label `Children per woman` to describe total fertility and the label `Child deaths per 1000 born` to describe child mortality.\n",
    "\n",
    "*Hint*: Do not drop the `time` column or you will get an error in the scatterplot in the next cell!\n"
   ]
  },
  {
   "cell_type": "code",
   "execution_count": 16,
   "id": "5b6ddca5",
   "metadata": {
    "deletable": false,
    "tags": []
   },
   "outputs": [
    {
     "data": {
      "image/png": "[encoded data removed]",
      "text/plain": [
       "<Figure size 600x600 with 2 Axes>"
      ]
     },
     "metadata": {},
     "output_type": "display_data"
    }
   ],
   "source": [
    "bgd_fertility = fertility.where('geo', 'bgd').where('time', lambda x: x >= 1970).drop('geo').relabeled(1, 'Children per woman')\n",
    "bgd_child_mortality = child_mortality.where('geo', 'bgd').where('time', lambda x: x >= 1970).drop('geo').relabeled(1, 'Child deaths per 1000 born')\n",
    "# fertility_and_child_mortality = \n",
    "post_1969_fertility_and_child_mortality = bgd_fertility.join('time', bgd_child_mortality, 'time')\n",
    "\n",
    "# Don't change anything below this line!\n",
    "x_births = post_1969_fertility_and_child_mortality.column(\"Children per woman\")\n",
    "y_deaths = post_1969_fertility_and_child_mortality.column(\"Child deaths per 1000 born\")\n",
    "time_colors = post_1969_fertility_and_child_mortality.column(\"time\")\n",
    "\n",
    "plots.figure(figsize=(6,6))\n",
    "plots.scatter(x_births, y_deaths, c=time_colors, cmap=\"Blues_r\")\n",
    "plots.colorbar()                  \n",
    "plots.xlabel(\"Children per woman\")\n",
    "plots.ylabel(\"Child deaths per 1000 born\");"
   ]
  },
  {
   "cell_type": "code",
   "execution_count": 17,
   "id": "c9ff4544",
   "metadata": {
    "deletable": false,
    "editable": false
   },
   "outputs": [
    {
     "data": {
      "text/html": [
       "<p><strong><pre style='display: inline;'>q1_7</pre></strong> passed! 🍀</p>"
      ],
      "text/plain": [
       "q1_7 results: All test cases passed!"
      ]
     },
     "execution_count": 17,
     "metadata": {},
     "output_type": "execute_result"
    }
   ],
   "source": [
    "grader.check(\"q1_7\")"
   ]
  },
  {
   "cell_type": "markdown",
   "id": "fc475a04",
   "metadata": {},
   "source": [
    "The plot above uses **color** to encode data about the `time` column from the table `post_1969_fertility_and_child_mortality`. The colors, ranging from dark blue to white, represent the passing of time between the 1970s to the 2020s. For example, a point on the scatter plot representing data from the 1970s would appear as **dark blue** and a point from the 2010s would appear as **light blue**.\n"
   ]
  },
  {
   "cell_type": "markdown",
   "id": "8dfc7cf1",
   "metadata": {},
   "source": [
    "<!-- BEGIN QUESTION -->\n",
    "\n",
    "**Question 8.** In one or two sentences, describe the association (if any) that is illustrated by this scatter diagram. Does the diagram show that reduced child mortality *causes* parents to choose to have fewer children?\n"
   ]
  },
  {
   "cell_type": "markdown",
   "id": "3a8b21ca",
   "metadata": {},
   "source": [
    "_Type your answer here, replacing this text._"
   ]
  },
  {
   "cell_type": "markdown",
   "id": "0b128edf",
   "metadata": {},
   "source": [
    "<!-- END QUESTION -->\n",
    "\n",
    "<img src=\"yoshi.jpg\" alt=\"drawing\" width=\"500\"/>\n",
    "\n",
    "**WOOOHOO Yoshi and friends want to congratulate you on getting this far!**\n",
    "\n"
   ]
  },
  {
   "cell_type": "markdown",
   "id": "38fde5f0",
   "metadata": {},
   "source": [
    "--- \n",
    "\n",
    "To double check your work, the cell below will rerun all of the autograder tests for Section 1. "
   ]
  },
  {
   "cell_type": "code",
   "execution_count": 18,
   "id": "488ddcd8",
   "metadata": {},
   "outputs": [
    {
     "data": {
      "text/html": [
       "<p><strong><pre style='display: inline;'>q1_1</pre></strong> passed! 🍀</p>"
      ],
      "text/plain": [
       "q1_1 results: All test cases passed!"
      ]
     },
     "metadata": {},
     "output_type": "display_data"
    },
    {
     "data": {
      "text/html": [
       "<p><strong><pre style='display: inline;'>q1_2</pre></strong> passed! 🎉</p>"
      ],
      "text/plain": [
       "q1_2 results: All test cases passed!"
      ]
     },
     "metadata": {},
     "output_type": "display_data"
    },
    {
     "data": {
      "text/html": [
       "<p><strong><pre style='display: inline;'>q1_5</pre></strong> passed! 🙌</p>"
      ],
      "text/plain": [
       "q1_5 results: All test cases passed!"
      ]
     },
     "metadata": {},
     "output_type": "display_data"
    },
    {
     "data": {
      "text/html": [
       "<p><strong><pre style='display: inline;'>q1_7</pre></strong> passed! ✨</p>"
      ],
      "text/plain": [
       "q1_7 results: All test cases passed!"
      ]
     },
     "metadata": {},
     "output_type": "display_data"
    }
   ],
   "source": [
    "checkpoint_tests = [\"q1_1\", \"q1_2\", \"q1_5\", \"q1_7\"]\n",
    "for test in checkpoint_tests:\n",
    "    display(grader.check(test))"
   ]
  },
  {
   "cell_type": "markdown",
   "id": "3a1f7ee4",
   "metadata": {},
   "source": [
    "## Submission\n",
    "If your instructor would like you to submit the work in part one as a checkpoint to the project, follow the instructions below.\n",
    "\n",
    "Make sure you have run all cells in your notebook in order before running the cell below, so that all images/graphs appear in the output. The cell below will generate a zip file for you to submit. **Please save before exporting!**"
   ]
  },
  {
   "cell_type": "code",
   "execution_count": 19,
   "id": "11571d0b",
   "metadata": {},
   "outputs": [
    {
     "data": {
      "text/html": [
       "\n",
       "            <p>Your submission has been exported. Click <a href=\"project1_2023_08_13T21_08_44_465326.zip\" download=\"project1_2023_08_13T21_08_44_465326.zip\" target=\"_blank\">here</a>\n",
       "            to download the zip file.</p>\n",
       "            "
      ],
      "text/plain": [
       "<IPython.core.display.HTML object>"
      ]
     },
     "metadata": {},
     "output_type": "display_data"
    }
   ],
   "source": [
    "# Save your notebook first, then run this cell to export your submission.\n",
    "grader.export(pdf=False)"
   ]
  },
  {
   "cell_type": "markdown",
   "id": "34cd5ea6",
   "metadata": {
    "deletable": false
   },
   "source": [
    "### The World\n",
    "\n",
    "The change observed in Bangladesh since 1970 can also be observed in many other developing countries: health services improve, life expectancy increases, and child mortality decreases. At the same time, the fertility rate often plummets, and so the population growth rate decreases despite increasing longevity."
   ]
  },
  {
   "cell_type": "markdown",
   "id": "879c0c4d",
   "metadata": {
    "deletable": false
   },
   "source": [
    "Run the cell below to generate two overlaid histograms, one for 1962 and one for 2010, that show the distributions of total fertility rates for these two years among all 201 countries in the `fertility` table."
   ]
  },
  {
   "cell_type": "code",
   "execution_count": 20,
   "id": "a1dcaa60",
   "metadata": {
    "deletable": false
   },
   "outputs": [
    {
     "data": {
      "image/png": "[encoded data removed]",
      "text/plain": [
       "<Figure size 600x400 with 1 Axes>"
      ]
     },
     "metadata": {},
     "output_type": "display_data"
    }
   ],
   "source": [
    "Table().with_columns(\n",
    "    '1962', fertility.where('time', 1962).column(2),\n",
    "    '2010', fertility.where('time', 2010).column(2)\n",
    ").hist(bins=np.arange(0, 10, 0.5), unit='child per woman')\n",
    "_ = plots.xlabel('Children per woman')\n",
    "_ = plots.ylabel('Percent per children per woman')\n",
    "_ = plots.xticks(np.arange(10))"
   ]
  },
  {
   "cell_type": "markdown",
   "id": "cd01bedb",
   "metadata": {},
   "source": [
    "**Question 9.** Assign `fertility_statements` to an array of the numbers of each statement below that can be correctly inferred from these histograms.\n",
    "\n",
    "1. About the same number of countries had a fertility rate between 3.5 and 4.5 in both 1962 and 2010.\n",
    "1. In 1962, less than 20% of countries had a fertility rate below 3.\n",
    "1. At least half of countries had a fertility rate between 5 and 8 in 1962.\n",
    "1. In 2010, about 40% of countries had a fertility rate between 1.5 and 2.\n",
    "1. At least half of countries had a fertility rate below 3 in 2010.\n",
    "1. More countries had a fertility rate above 3 in 1962 than in 2010.\n"
   ]
  },
  {
   "cell_type": "code",
   "execution_count": 21,
   "id": "32f637f9",
   "metadata": {
    "deletable": false,
    "tags": []
   },
   "outputs": [],
   "source": [
    "fertility_statements = make_array(2, 3, 4, 5, 6)"
   ]
  },
  {
   "cell_type": "code",
   "execution_count": 22,
   "id": "e8770c11",
   "metadata": {
    "deletable": false,
    "editable": false
   },
   "outputs": [
    {
     "data": {
      "text/html": [
       "<p><strong><pre style='display: inline;'>q1_9</pre></strong> passed! 🙌</p>"
      ],
      "text/plain": [
       "q1_9 results: All test cases passed!"
      ]
     },
     "execution_count": 22,
     "metadata": {},
     "output_type": "execute_result"
    }
   ],
   "source": [
    "grader.check(\"q1_9\")"
   ]
  },
  {
   "cell_type": "markdown",
   "id": "52f4fdfb",
   "metadata": {},
   "source": [
    "<!-- BEGIN QUESTION -->\n",
    "\n",
    "**Question 10.** Draw a line plot of the world population from 1800 through 2020 (inclusive of both endpoints). The world population is the sum of all of the countries' populations. You should use the `population` table defined earlier in the project. \n"
   ]
  },
  {
   "cell_type": "code",
   "execution_count": 23,
   "id": "7f2f0c07",
   "metadata": {
    "deletable": false,
    "manual_grade": true,
    "manual_problem_id": "global_pop_10",
    "tags": []
   },
   "outputs": [
    {
     "name": "stderr",
     "output_type": "stream",
     "text": [
      "C:\\Users\\NP\\AppData\\Local\\Programs\\Python\\Python311\\Lib\\site-packages\\datascience\\tables.py:5832: RuntimeWarning: overflow encountered in scalar add\n",
      "  return column_fn(column)\n"
     ]
    },
    {
     "data": {
      "image/png": "[encoded data removed]",
      "text/plain": [
       "<Figure size 600x600 with 1 Axes>"
      ]
     },
     "metadata": {},
     "output_type": "display_data"
    }
   ],
   "source": [
    "#Fill in code here\n",
    "population.drop('geo').group('time', sum).plot('time')"
   ]
  },
  {
   "cell_type": "markdown",
   "id": "9b9b4a91",
   "metadata": {},
   "source": [
    "<!-- END QUESTION -->\n",
    "\n",
    "**Question 11.** Create a function `stats_for_year` that takes a `year` and returns a table of statistics. The table it returns should have four columns: `geo`, `population_total`, `children_per_woman_total_fertility`, and `child_mortality_under_5_per_1000_born`. Each row should contain one unique Alpha-3 country code and three statistics: population, fertility rate, and child mortality for that `year` from the `population`, `fertility` and `child_mortality` tables. Only include rows for which all three statistics are available for the country and year.\n",
    "\n",
    "In addition, restrict the result to country codes that appears in `big_50`, an array of the 50 most populous countries in 2020. This restriction will speed up computations later in the project.\n",
    "\n",
    "After you write `stats_for_year`, try calling `stats_for_year` on any year between 1960 and 2020. Try to understand the output of stats_for_year.\n",
    "\n",
    "*Hint*: The tests for this question are quite comprehensive, so if you pass the tests, your function is probably correct. However, without calling your function yourself and looking at the output, it will be very difficult to understand any problems you have, so try your best to write the function correctly and check that it works before you rely on the `grader` tests to confirm your work.\n",
    "\n",
    "*Hint*: What do all three tables have in common (pay attention to column names)?\n"
   ]
  },
  {
   "cell_type": "code",
   "execution_count": 24,
   "id": "ab1ed360",
   "metadata": {
    "deletable": false,
    "tags": []
   },
   "outputs": [
    {
     "data": {
      "text/html": [
       "<table border=\"1\" class=\"dataframe\">\n",
       "    <thead>\n",
       "        <tr>\n",
       "            <th>geo</th> <th>population_total</th> <th>children_per_woman_total_fertility</th> <th>child_mortality_under_5_per_1000_born</th>\n",
       "        </tr>\n",
       "    </thead>\n",
       "    <tbody>\n",
       "        <tr>\n",
       "            <td>afg </td> <td>20779957        </td> <td>7.49                              </td> <td>129.38                               </td>\n",
       "        </tr>\n",
       "        <tr>\n",
       "            <td>ago </td> <td>16395477        </td> <td>6.64                              </td> <td>205.69                               </td>\n",
       "        </tr>\n",
       "        <tr>\n",
       "            <td>arg </td> <td>36870796        </td> <td>2.56                              </td> <td>19.62                                </td>\n",
       "        </tr>\n",
       "        <tr>\n",
       "            <td>bgd </td> <td>127657862       </td> <td>3.12                              </td> <td>87.28                                </td>\n",
       "        </tr>\n",
       "        <tr>\n",
       "            <td>bra </td> <td>174790339       </td> <td>2.3                               </td> <td>34.77                                </td>\n",
       "        </tr>\n",
       "        <tr>\n",
       "            <td>can </td> <td>30588379        </td> <td>1.52                              </td> <td>6.21                                 </td>\n",
       "        </tr>\n",
       "        <tr>\n",
       "            <td>chn </td> <td>1290550767      </td> <td>1.5                               </td> <td>36.81                                </td>\n",
       "        </tr>\n",
       "        <tr>\n",
       "            <td>cod </td> <td>47105830        </td> <td>6.96                              </td> <td>160.84                               </td>\n",
       "        </tr>\n",
       "        <tr>\n",
       "            <td>col </td> <td>39629965        </td> <td>2.39                              </td> <td>24.98                                </td>\n",
       "        </tr>\n",
       "        <tr>\n",
       "            <td>deu </td> <td>81400883        </td> <td>1.35                              </td> <td>5.36                                 </td>\n",
       "        </tr>\n",
       "    </tbody>\n",
       "</table>\n",
       "<p>... (40 rows omitted)</p>"
      ],
      "text/plain": [
       "geo  | population_total | children_per_woman_total_fertility | child_mortality_under_5_per_1000_born\n",
       "afg  | 20779957         | 7.49                               | 129.38\n",
       "ago  | 16395477         | 6.64                               | 205.69\n",
       "arg  | 36870796         | 2.56                               | 19.62\n",
       "bgd  | 127657862        | 3.12                               | 87.28\n",
       "bra  | 174790339        | 2.3                                | 34.77\n",
       "can  | 30588379         | 1.52                               | 6.21\n",
       "chn  | 1290550767       | 1.5                                | 36.81\n",
       "cod  | 47105830         | 6.96                               | 160.84\n",
       "col  | 39629965         | 2.39                               | 24.98\n",
       "deu  | 81400883         | 1.35                               | 5.36\n",
       "... (40 rows omitted)"
      ]
     },
     "execution_count": 24,
     "metadata": {},
     "output_type": "execute_result"
    }
   ],
   "source": [
    "# We first create a population table that only includes the \n",
    "# 50 countries with the largest 2020 populations. We focus on \n",
    "# these 50 countries only so that plotting later will run faster.\n",
    "big_50 = population.where('time', are.equal_to(2020)).sort(\"population_total\", descending=True).take(np.arange(50)).column('geo')\n",
    "population_of_big_50 = population.where('time', are.above(1959)).where('geo', are.contained_in(big_50))\n",
    "\n",
    "def stats_for_year(year):\n",
    "    \"\"\"Return a table of the stats for each country that year.\"\"\"\n",
    "    p = population_of_big_50.where('time', are.equal_to(year)).drop('time')\n",
    "    f = fertility.where('time', are.equal_to(year)).drop('time')\n",
    "    c = child_mortality.where('time', are.equal_to(year)).drop('time')\n",
    "    return p.join('geo', f, 'geo').join('geo', c, 'geo')\n",
    "\n",
    "stats_for_year(2000)"
   ]
  },
  {
   "cell_type": "code",
   "execution_count": 25,
   "id": "e9ec6267",
   "metadata": {
    "deletable": false,
    "editable": false
   },
   "outputs": [
    {
     "data": {
      "text/html": [
       "<p><strong><pre style='display: inline;'>q1_11</pre></strong> passed! 🚀</p>"
      ],
      "text/plain": [
       "q1_11 results: All test cases passed!"
      ]
     },
     "execution_count": 25,
     "metadata": {},
     "output_type": "execute_result"
    }
   ],
   "source": [
    "grader.check(\"q1_11\")"
   ]
  },
  {
   "cell_type": "markdown",
   "id": "dfb9eab6",
   "metadata": {},
   "source": [
    "**Question 12.** Create a table called `pop_by_decade` with two columns called `decade` and `population`, in this order. It has a row for each year that starts a decade, in increasing order starting with 1960 and ending with 2020. For example, 1960 is the start of the 1960's decade. The `population` column contains the total population of all countries included in the result of `stats_for_year(year)` for the first `year` of the decade. You should see that these countries contain most of the world's population.\n",
    "\n",
    "*Hint:* One approach is to define a function `pop_for_year` that computes this total population, then `apply` it to the `decade` column.  The `stats_for_year` function from the previous question may be useful here.\n",
    "\n",
    "This first test is just a sanity check for your helper function if you choose to use it. You will not lose points for not implementing the function `pop_for_year`.\n",
    "\n",
    "**Note:** The cell where you will generate the `pop_by_decade` table is below the cell where you can choose to define the helper function `pop_for_year`. You should define your `pop_by_decade` table in the cell that starts with the table `decades` being defined. \n"
   ]
  },
  {
   "cell_type": "code",
   "execution_count": 26,
   "id": "16b8a9c7",
   "metadata": {
    "tags": []
   },
   "outputs": [
    {
     "data": {
      "text/plain": [
       "6765161289"
      ]
     },
     "execution_count": 26,
     "metadata": {},
     "output_type": "execute_result"
    }
   ],
   "source": [
    "pop_50 = population.where('geo', lambda s: s in big_50)\n",
    "def pop_for_year(year):\n",
    "    \"\"\"Return the total population for the specified year.\"\"\"\n",
    "    return np.sum(pop_50.where('time', year).column('population_total'), dtype = np.int64)\n",
    "pop_for_year(2020)"
   ]
  },
  {
   "cell_type": "code",
   "execution_count": 27,
   "id": "1daa7f4b",
   "metadata": {
    "deletable": false,
    "editable": false
   },
   "outputs": [
    {
     "data": {
      "text/html": [
       "<p><strong><pre style='display: inline;'>q1_12_0</pre></strong> passed! 🎉</p>"
      ],
      "text/plain": [
       "q1_12_0 results: All test cases passed!"
      ]
     },
     "execution_count": 27,
     "metadata": {},
     "output_type": "execute_result"
    }
   ],
   "source": [
    "grader.check(\"q1_12_0\")"
   ]
  },
  {
   "cell_type": "markdown",
   "id": "5d45f38e",
   "metadata": {},
   "source": [
    "Now that you've defined your helper function (if you've chosen to do so), define the `pop_by_decade` table.\n"
   ]
  },
  {
   "cell_type": "code",
   "execution_count": 28,
   "id": "d7cf8d0d",
   "metadata": {
    "deletable": false,
    "tags": []
   },
   "outputs": [
    {
     "data": {
      "text/html": [
       "<table border=\"1\" class=\"dataframe\">\n",
       "    <thead>\n",
       "        <tr>\n",
       "            <th>decade</th> <th>population</th>\n",
       "        </tr>\n",
       "    </thead>\n",
       "    <tbody>\n",
       "        <tr>\n",
       "            <td>1960  </td> <td>2,635,123,897</td>\n",
       "        </tr>\n",
       "        <tr>\n",
       "            <td>1970  </td> <td>3,221,457,416</td>\n",
       "        </tr>\n",
       "        <tr>\n",
       "            <td>1980  </td> <td>3,890,044,418</td>\n",
       "        </tr>\n",
       "        <tr>\n",
       "            <td>1990  </td> <td>4,656,339,803</td>\n",
       "        </tr>\n",
       "        <tr>\n",
       "            <td>2000  </td> <td>5,377,062,169</td>\n",
       "        </tr>\n",
       "        <tr>\n",
       "            <td>2010  </td> <td>6,064,674,132</td>\n",
       "        </tr>\n",
       "        <tr>\n",
       "            <td>2020  </td> <td>6,765,161,289</td>\n",
       "        </tr>\n",
       "    </tbody>\n",
       "</table>"
      ],
      "text/plain": [
       "decade | population\n",
       "1960   | 2,635,123,897\n",
       "1970   | 3,221,457,416\n",
       "1980   | 3,890,044,418\n",
       "1990   | 4,656,339,803\n",
       "2000   | 5,377,062,169\n",
       "2010   | 6,064,674,132\n",
       "2020   | 6,765,161,289"
      ]
     },
     "execution_count": 28,
     "metadata": {},
     "output_type": "execute_result"
    }
   ],
   "source": [
    "decades = Table().with_column('decade', np.arange(1960, 2021, 10))\n",
    "pop_by_decade = decades.with_columns('population', decades.apply(pop_for_year))\n",
    "\n",
    "pop_by_decade.set_format(1, NumberFormatter)"
   ]
  },
  {
   "cell_type": "code",
   "execution_count": 29,
   "id": "58e48290",
   "metadata": {
    "deletable": false,
    "editable": false
   },
   "outputs": [
    {
     "data": {
      "text/html": [
       "<p><strong><pre style='display: inline;'>q1_12</pre></strong> passed! 🙌</p>"
      ],
      "text/plain": [
       "q1_12 results: All test cases passed!"
      ]
     },
     "execution_count": 29,
     "metadata": {},
     "output_type": "execute_result"
    }
   ],
   "source": [
    "grader.check(\"q1_12\")"
   ]
  },
  {
   "cell_type": "markdown",
   "id": "015fe087",
   "metadata": {
    "deletable": false,
    "editable": false
   },
   "source": [
    "The `countries` table describes various characteristics of countries. The `country` column contains the same codes as the `geo` column in each of the other data tables (`population`, `fertility`, and `child_mortality`). The `world_6region` column classifies each country into a region of the world. Run the cell below to inspect the data."
   ]
  },
  {
   "cell_type": "code",
   "execution_count": 30,
   "id": "f9690827",
   "metadata": {},
   "outputs": [
    {
     "data": {
      "text/html": [
       "<table border=\"1\" class=\"dataframe\">\n",
       "    <thead>\n",
       "        <tr>\n",
       "            <th>country</th> <th>name</th> <th>world_6region</th>\n",
       "        </tr>\n",
       "    </thead>\n",
       "    <tbody>\n",
       "        <tr>\n",
       "            <td>afg    </td> <td>Afghanistan         </td> <td>south_asia              </td>\n",
       "        </tr>\n",
       "        <tr>\n",
       "            <td>ago    </td> <td>Angola              </td> <td>sub_saharan_africa      </td>\n",
       "        </tr>\n",
       "        <tr>\n",
       "            <td>alb    </td> <td>Albania             </td> <td>europe_central_asia     </td>\n",
       "        </tr>\n",
       "        <tr>\n",
       "            <td>and    </td> <td>Andorra             </td> <td>europe_central_asia     </td>\n",
       "        </tr>\n",
       "        <tr>\n",
       "            <td>are    </td> <td>United Arab Emirates</td> <td>middle_east_north_africa</td>\n",
       "        </tr>\n",
       "        <tr>\n",
       "            <td>arg    </td> <td>Argentina           </td> <td>america                 </td>\n",
       "        </tr>\n",
       "        <tr>\n",
       "            <td>arm    </td> <td>Armenia             </td> <td>europe_central_asia     </td>\n",
       "        </tr>\n",
       "        <tr>\n",
       "            <td>atg    </td> <td>Antigua and Barbuda </td> <td>america                 </td>\n",
       "        </tr>\n",
       "        <tr>\n",
       "            <td>aus    </td> <td>Australia           </td> <td>east_asia_pacific       </td>\n",
       "        </tr>\n",
       "        <tr>\n",
       "            <td>aut    </td> <td>Austria             </td> <td>europe_central_asia     </td>\n",
       "        </tr>\n",
       "    </tbody>\n",
       "</table>\n",
       "<p>... (187 rows omitted)</p>"
      ],
      "text/plain": [
       "country | name                 | world_6region\n",
       "afg     | Afghanistan          | south_asia\n",
       "ago     | Angola               | sub_saharan_africa\n",
       "alb     | Albania              | europe_central_asia\n",
       "and     | Andorra              | europe_central_asia\n",
       "are     | United Arab Emirates | middle_east_north_africa\n",
       "arg     | Argentina            | america\n",
       "arm     | Armenia              | europe_central_asia\n",
       "atg     | Antigua and Barbuda  | america\n",
       "aus     | Australia            | east_asia_pacific\n",
       "aut     | Austria              | europe_central_asia\n",
       "... (187 rows omitted)"
      ]
     },
     "execution_count": 30,
     "metadata": {},
     "output_type": "execute_result"
    }
   ],
   "source": [
    "countries = Table.read_table('countries.csv').where('country', are.contained_in(population.group('geo').column('geo')))\n",
    "countries.select('country', 'name', 'world_6region')"
   ]
  },
  {
   "cell_type": "markdown",
   "id": "0c48d3e4",
   "metadata": {},
   "source": [
    "**Question 13.** Create a table called `region_counts`. It should contain two columns called `region` and `count`. The `region` column should contain regions of the world, and the `count` column should contain the number of countries in each region that appears in the result of `stats_for_year(2020)`. \n",
    "\n",
    "For example, one row would have `south_asia` as its `region` value and an integer as its `count` value: the number of large South Asian countries for which we have population, fertility, and child mortality numbers from 2020.\n",
    "\n",
    "*Hint*: You may have to relabel a column to name it `region`. \n"
   ]
  },
  {
   "cell_type": "code",
   "execution_count": 31,
   "id": "e0508a4b",
   "metadata": {
    "deletable": false,
    "tags": []
   },
   "outputs": [
    {
     "data": {
      "text/html": [
       "<table border=\"1\" class=\"dataframe\">\n",
       "    <thead>\n",
       "        <tr>\n",
       "            <th>region</th> <th>count</th>\n",
       "        </tr>\n",
       "    </thead>\n",
       "    <tbody>\n",
       "        <tr>\n",
       "            <td>america                 </td> <td>8    </td>\n",
       "        </tr>\n",
       "        <tr>\n",
       "            <td>east_asia_pacific       </td> <td>9    </td>\n",
       "        </tr>\n",
       "        <tr>\n",
       "            <td>europe_central_asia     </td> <td>10   </td>\n",
       "        </tr>\n",
       "        <tr>\n",
       "            <td>middle_east_north_africa</td> <td>7    </td>\n",
       "        </tr>\n",
       "        <tr>\n",
       "            <td>south_asia              </td> <td>5    </td>\n",
       "        </tr>\n",
       "        <tr>\n",
       "            <td>sub_saharan_africa      </td> <td>11   </td>\n",
       "        </tr>\n",
       "    </tbody>\n",
       "</table>"
      ],
      "text/plain": [
       "region                   | count\n",
       "america                  | 8\n",
       "east_asia_pacific        | 9\n",
       "europe_central_asia      | 10\n",
       "middle_east_north_africa | 7\n",
       "south_asia               | 5\n",
       "sub_saharan_africa       | 11"
      ]
     },
     "execution_count": 31,
     "metadata": {},
     "output_type": "execute_result"
    }
   ],
   "source": [
    "stats_for_2020 = stats_for_year(2020).join('geo', countries, 'country').relabeled('world_6region', 'region')\n",
    "region_counts = stats_for_2020.group('region')\n",
    "region_counts"
   ]
  },
  {
   "cell_type": "code",
   "execution_count": 32,
   "id": "f55377a2",
   "metadata": {
    "deletable": false,
    "editable": false
   },
   "outputs": [
    {
     "data": {
      "text/html": [
       "<p><strong><pre style='display: inline;'>q1_13</pre></strong> passed! 🌈</p>"
      ],
      "text/plain": [
       "q1_13 results: All test cases passed!"
      ]
     },
     "execution_count": 32,
     "metadata": {},
     "output_type": "execute_result"
    }
   ],
   "source": [
    "grader.check(\"q1_13\")"
   ]
  },
  {
   "cell_type": "markdown",
   "id": "778ededb",
   "metadata": {
    "deletable": false
   },
   "source": [
    "The following scatter diagram compares total fertility rate and child mortality rate for each country in 1960. The area of each dot represents the population of the country, and the color represents its region of the world. Run the cell. Do you think you can identify any of the dots?"
   ]
  },
  {
   "cell_type": "code",
   "execution_count": 33,
   "id": "32384b0e",
   "metadata": {
    "deletable": false
   },
   "outputs": [
    {
     "data": {
      "image/png": "[encoded data removed]",
      "text/plain": [
       "<Figure size 500x500 with 1 Axes>"
      ]
     },
     "metadata": {},
     "output_type": "display_data"
    }
   ],
   "source": [
    "from functools import lru_cache as cache\n",
    "\n",
    "# This cache annotation makes sure that if the same year\n",
    "# is passed as an argument twice, the work of computing\n",
    "# the result is only carried out once.\n",
    "@cache(None)\n",
    "def stats_relabeled(year):\n",
    "    \"\"\"Relabeled and cached version of stats_for_year.\"\"\"\n",
    "    return stats_for_year(year).relabel(2, 'Children per woman').relabel(3, 'Child deaths per 1000 born')\n",
    "\n",
    "def fertility_vs_child_mortality(year):\n",
    "    \"\"\"Draw a color scatter diagram comparing child mortality and fertility.\"\"\"\n",
    "    with_region = stats_relabeled(year).join('geo', countries.select('country', 'world_6region'), 'country')\n",
    "    with_region.scatter(2, 3, sizes=1, group=4, s=500)\n",
    "    plots.xlim(0,10)\n",
    "    plots.ylim(-50, 500)\n",
    "    plots.title(year)\n",
    "    plots.show()\n",
    "\n",
    "fertility_vs_child_mortality(1960)"
   ]
  },
  {
   "cell_type": "markdown",
   "id": "625042cd",
   "metadata": {},
   "source": [
    "**Question 14.** Assign `scatter_statements` to an array of the numbers of each statement below that can be inferred from this scatter diagram for 1960. \n",
    "1. As a whole, the `europe_central_asia` region had the lowest child mortality rate.\n",
    "1. The lowest child mortality rate of any country was from an `east_asia_pacific` country.\n",
    "1. Most countries had a fertility rate above 5.\n",
    "1. There was an association between child mortality and fertility.\n",
    "1. The two largest countries by population also had the two highest child mortality rates.\n"
   ]
  },
  {
   "cell_type": "code",
   "execution_count": 34,
   "id": "6fc8ca65",
   "metadata": {
    "deletable": false,
    "tags": []
   },
   "outputs": [],
   "source": [
    "scatter_statements = make_array(1, 3, 4)"
   ]
  },
  {
   "cell_type": "code",
   "execution_count": 35,
   "id": "941ae474",
   "metadata": {
    "deletable": false,
    "editable": false
   },
   "outputs": [
    {
     "data": {
      "text/html": [
       "<p><strong><pre style='display: inline;'>q1_14</pre></strong> passed! ✨</p>"
      ],
      "text/plain": [
       "q1_14 results: All test cases passed!"
      ]
     },
     "execution_count": 35,
     "metadata": {},
     "output_type": "execute_result"
    }
   ],
   "source": [
    "grader.check(\"q1_14\")"
   ]
  },
  {
   "cell_type": "markdown",
   "id": "84597c65",
   "metadata": {
    "deletable": false
   },
   "source": [
    "The result of the cell below is interactive. Drag the slider to the right to see how countries have changed over time. You'll find that the great divide between so-called \"Western\" and \"developing\" countries that existed in the 1960's has nearly disappeared. This shift in fertility rates is the reason that the global population is expected to grow more slowly in the 21st century than it did in the 19th and 20th centuries.\n",
    "\n",
    "**Note:** Don't worry if a red warning pops up when running the cell below. You'll still be able to run the cell!"
   ]
  },
  {
   "cell_type": "code",
   "execution_count": 36,
   "id": "6b568015",
   "metadata": {
    "deletable": false,
    "scrolled": true
   },
   "outputs": [
    {
     "data": {
      "application/vnd.jupyter.widget-view+json": {
       "model_id": "46d552c169a1475db54e6579f9c92ce0",
       "version_major": 2,
       "version_minor": 0
      },
      "text/plain": [
       "interactive(children=(IntSlider(value=1960, description='year', max=2020, min=1960), Output()), _dom_classes=(…"
      ]
     },
     "metadata": {},
     "output_type": "display_data"
    }
   ],
   "source": [
    "import ipywidgets as widgets\n",
    "\n",
    "_ = widgets.interact(fertility_vs_child_mortality, \n",
    "                     year=widgets.IntSlider(min=1960, max=2020, value=1960))"
   ]
  },
  {
   "cell_type": "markdown",
   "id": "8594cd6b",
   "metadata": {
    "deletable": false,
    "editable": false
   },
   "source": [
    "Now is a great time to take a break and watch the same data presented by [Hans Rosling in a 2010 TEDx talk](https://www.gapminder.org/videos/reducing-child-mortality-a-moral-and-environmental-imperative) with smoother animation and witty commentary."
   ]
  },
  {
   "cell_type": "markdown",
   "id": "5a46c7ac",
   "metadata": {
    "deletable": false
   },
   "source": [
    "## 2. Global Poverty"
   ]
  },
  {
   "cell_type": "code",
   "execution_count": 37,
   "id": "92c26020",
   "metadata": {},
   "outputs": [],
   "source": [
    "# Run this cell to set up the notebook, but please don't change it.\n",
    "\n",
    "# These lines import the Numpy and Datascience modules.\n",
    "import numpy as np\n",
    "from datascience import *\n",
    "\n",
    "# These lines do some fancy plotting magic.\n",
    "import matplotlib\n",
    "%matplotlib inline\n",
    "import matplotlib.pyplot as plots\n",
    "plots.style.use('fivethirtyeight')\n",
    "\n",
    "from ipywidgets import interact, interactive, fixed, interact_manual\n",
    "import ipywidgets as widgets\n",
    "\n",
    "import d8error"
   ]
  },
  {
   "cell_type": "markdown",
   "id": "4f6ce0bf",
   "metadata": {
    "deletable": false
   },
   "source": [
    "In 1800, 85% of the world's 1 billion people lived in [extreme poverty](https://en.wikipedia.org/wiki/Extreme_poverty), defined by the United Nations as \"a condition characterized by severe deprivation of basic human needs, including food, safe drinking water, sanitation facilities, health, shelter, education and information.\" At the time when the data in this project were gathered, a common definition of extreme poverty was a person living on less than \\$1.25 a day.\n",
    "\n",
    "In 2018, the proportion of people living in extreme poverty was estimated to be [about 9\\%](https://unstats.un.org/sdgs/report/2019/goal-01/). Although the world rate of extreme poverty has declined consistently for hundreds of years, the number of people living in extreme poverty is still over 600 million. The United Nations adopted an [ambitious goal](http://www.un.org/sustainabledevelopment/poverty/): \"By 2030, eradicate extreme poverty for all people everywhere.\" In this part of the project we will examine aspects of global poverty that might affect whether the goal is achievable."
   ]
  },
  {
   "cell_type": "markdown",
   "id": "b052c8d9",
   "metadata": {
    "deletable": false,
    "editable": false
   },
   "source": [
    "First, load the population and poverty rate by country and year and the country descriptions. While the `population` table has values for every recent year for many countries, the `poverty` table only includes certain years for each country in which a measurement of the rate of extreme poverty was available."
   ]
  },
  {
   "cell_type": "code",
   "execution_count": 38,
   "id": "33594213",
   "metadata": {},
   "outputs": [
    {
     "data": {
      "text/html": [
       "<table border=\"1\" class=\"dataframe\">\n",
       "    <thead>\n",
       "        <tr>\n",
       "            <th>geo</th> <th>time</th> <th>extreme_poverty_percent_people_below_125_a_day</th>\n",
       "        </tr>\n",
       "    </thead>\n",
       "    <tbody>\n",
       "        <tr>\n",
       "            <td>alb </td> <td>1996</td> <td>0.2                                           </td>\n",
       "        </tr>\n",
       "        <tr>\n",
       "            <td>alb </td> <td>2002</td> <td>0.73                                          </td>\n",
       "        </tr>\n",
       "        <tr>\n",
       "            <td>alb </td> <td>2004</td> <td>0.53                                          </td>\n",
       "        </tr>\n",
       "    </tbody>\n",
       "</table>\n",
       "<p>... (1096 rows omitted)</p>"
      ],
      "text/plain": [
       "<IPython.core.display.HTML object>"
      ]
     },
     "metadata": {},
     "output_type": "display_data"
    }
   ],
   "source": [
    "population = Table.read_table('population.csv')\n",
    "countries = Table.read_table('countries.csv').where('country', are.contained_in(population.group('geo').column('geo')))\n",
    "poverty = Table.read_table('poverty.csv')\n",
    "poverty.show(3)"
   ]
  },
  {
   "cell_type": "markdown",
   "id": "537cd7d1",
   "metadata": {},
   "source": [
    "**Question 1.** Assign `latest_poverty` to a three-column table with one row for each country that appears in the `poverty` table. The first column should contain the 3-letter code for the country. The second column should contain the most recent year for which an extreme poverty rate is available for the country. The third column should contain the poverty rate in that year. **Do not change the last line, so that the labels of your table are set correctly.**\n",
    "\n",
    "*Hint*: think about how ```group``` works: it does a sequential search of the table (from top to bottom) and collects values in the array in the order in which they appear, and then applies a function to that array. The `first` function may be helpful, but you are not required to use it.\n"
   ]
  },
  {
   "cell_type": "code",
   "execution_count": 39,
   "id": "3d743b09",
   "metadata": {
    "deletable": false,
    "tags": []
   },
   "outputs": [
    {
     "data": {
      "text/html": [
       "<table border=\"1\" class=\"dataframe\">\n",
       "    <thead>\n",
       "        <tr>\n",
       "            <th>geo</th> <th>time</th> <th>poverty_percent</th>\n",
       "        </tr>\n",
       "    </thead>\n",
       "    <tbody>\n",
       "        <tr>\n",
       "            <td>ago </td> <td>2009</td> <td>43.37          </td>\n",
       "        </tr>\n",
       "        <tr>\n",
       "            <td>alb </td> <td>2012</td> <td>0.46           </td>\n",
       "        </tr>\n",
       "        <tr>\n",
       "            <td>arg </td> <td>2011</td> <td>1.41           </td>\n",
       "        </tr>\n",
       "        <tr>\n",
       "            <td>arm </td> <td>2012</td> <td>1.75           </td>\n",
       "        </tr>\n",
       "        <tr>\n",
       "            <td>aus </td> <td>2003</td> <td>1.36           </td>\n",
       "        </tr>\n",
       "        <tr>\n",
       "            <td>aut </td> <td>2004</td> <td>0.34           </td>\n",
       "        </tr>\n",
       "        <tr>\n",
       "            <td>aze </td> <td>2008</td> <td>0.31           </td>\n",
       "        </tr>\n",
       "        <tr>\n",
       "            <td>bdi </td> <td>2006</td> <td>81.32          </td>\n",
       "        </tr>\n",
       "        <tr>\n",
       "            <td>bel </td> <td>2000</td> <td>0.5            </td>\n",
       "        </tr>\n",
       "        <tr>\n",
       "            <td>ben </td> <td>2012</td> <td>51.61          </td>\n",
       "        </tr>\n",
       "    </tbody>\n",
       "</table>\n",
       "<p>... (135 rows omitted)</p>"
      ],
      "text/plain": [
       "geo  | time | poverty_percent\n",
       "ago  | 2009 | 43.37\n",
       "alb  | 2012 | 0.46\n",
       "arg  | 2011 | 1.41\n",
       "arm  | 2012 | 1.75\n",
       "aus  | 2003 | 1.36\n",
       "aut  | 2004 | 0.34\n",
       "aze  | 2008 | 0.31\n",
       "bdi  | 2006 | 81.32\n",
       "bel  | 2000 | 0.5\n",
       "ben  | 2012 | 51.61\n",
       "... (135 rows omitted)"
      ]
     },
     "execution_count": 39,
     "metadata": {},
     "output_type": "execute_result"
    }
   ],
   "source": [
    "def first(values):\n",
    "    return values.item(0)\n",
    "\n",
    "latest_poverty = poverty.sort('time', descending = True).group('geo', lambda npArr: npArr.item(0))\n",
    "latest_poverty = latest_poverty.relabeled(0, 'geo').relabeled(1, 'time').relabeled(2, 'poverty_percent') # You should *not* change this line.\n",
    "latest_poverty"
   ]
  },
  {
   "cell_type": "code",
   "execution_count": 40,
   "id": "ebec1f06",
   "metadata": {
    "deletable": false,
    "editable": false
   },
   "outputs": [
    {
     "data": {
      "text/html": [
       "<p><strong><pre style='display: inline;'>q2_1</pre></strong> passed! 🍀</p>"
      ],
      "text/plain": [
       "q2_1 results: All test cases passed!"
      ]
     },
     "execution_count": 40,
     "metadata": {},
     "output_type": "execute_result"
    }
   ],
   "source": [
    "grader.check(\"q2_1\")"
   ]
  },
  {
   "cell_type": "markdown",
   "id": "add6c98d",
   "metadata": {},
   "source": [
    "**Question 2.** Using both `latest_poverty` and `population`, create a four-column table called `recent_poverty_total` with one row for each country in `latest_poverty`. The four columns should have the following labels and contents:\n",
    "1. `geo` contains the 3-letter country code,\n",
    "1. `poverty_percent` contains the most recent poverty percent,\n",
    "1. `population_total` contains the population of the country in 2010,\n",
    "1. `poverty_total` contains the number of people in poverty **rounded to the nearest integer**, based on the 2010 population and most recent poverty rate.\n",
    "\n",
    "*Hint*: You are not required to use `poverty_and_pop`, and you are always welcome to add any additional names. "
   ]
  },
  {
   "cell_type": "code",
   "execution_count": 75,
   "id": "7ff4e889",
   "metadata": {
    "deletable": false,
    "tags": []
   },
   "outputs": [
    {
     "data": {
      "text/html": [
       "<table border=\"1\" class=\"dataframe\">\n",
       "    <thead>\n",
       "        <tr>\n",
       "            <th>geo</th> <th>poverty_percent</th> <th>population_total</th> <th>poverty_total</th>\n",
       "        </tr>\n",
       "    </thead>\n",
       "    <tbody>\n",
       "        <tr>\n",
       "            <td>ago </td> <td>43.37          </td> <td>23356247        </td> <td>1.01296e+07  </td>\n",
       "        </tr>\n",
       "        <tr>\n",
       "            <td>alb </td> <td>0.46           </td> <td>2948029         </td> <td>13561        </td>\n",
       "        </tr>\n",
       "        <tr>\n",
       "            <td>arg </td> <td>1.41           </td> <td>40895751        </td> <td>576630       </td>\n",
       "        </tr>\n",
       "        <tr>\n",
       "            <td>arm </td> <td>1.75           </td> <td>2877314         </td> <td>50353        </td>\n",
       "        </tr>\n",
       "        <tr>\n",
       "            <td>aus </td> <td>1.36           </td> <td>22154687        </td> <td>301304       </td>\n",
       "        </tr>\n",
       "        <tr>\n",
       "            <td>aut </td> <td>0.34           </td> <td>8409945         </td> <td>28594        </td>\n",
       "        </tr>\n",
       "        <tr>\n",
       "            <td>aze </td> <td>0.31           </td> <td>9032465         </td> <td>28001        </td>\n",
       "        </tr>\n",
       "        <tr>\n",
       "            <td>bdi </td> <td>81.32          </td> <td>8675606         </td> <td>7.055e+06    </td>\n",
       "        </tr>\n",
       "        <tr>\n",
       "            <td>bel </td> <td>0.5            </td> <td>10938735        </td> <td>54694        </td>\n",
       "        </tr>\n",
       "        <tr>\n",
       "            <td>ben </td> <td>51.61          </td> <td>9199254         </td> <td>4.74774e+06  </td>\n",
       "        </tr>\n",
       "    </tbody>\n",
       "</table>\n",
       "<p>... (135 rows omitted)</p>"
      ],
      "text/plain": [
       "geo  | poverty_percent | population_total | poverty_total\n",
       "ago  | 43.37           | 23356247         | 1.01296e+07\n",
       "alb  | 0.46            | 2948029          | 13561\n",
       "arg  | 1.41            | 40895751         | 576630\n",
       "arm  | 1.75            | 2877314          | 50353\n",
       "aus  | 1.36            | 22154687         | 301304\n",
       "aut  | 0.34            | 8409945          | 28594\n",
       "aze  | 0.31            | 9032465          | 28001\n",
       "bdi  | 81.32           | 8675606          | 7.055e+06\n",
       "bel  | 0.5             | 10938735         | 54694\n",
       "ben  | 51.61           | 9199254          | 4.74774e+06\n",
       "... (135 rows omitted)"
      ]
     },
     "execution_count": 75,
     "metadata": {},
     "output_type": "execute_result"
    }
   ],
   "source": [
    "'''\n",
    "it's intended for computing each country's population of /the latest poverty year/\n",
    "QAQ this was all because of misreading of the question\n",
    "'''\n",
    "# poverty_and_pop = population.join('geo', latest_poverty, 'geo').group('geo', lambda arr: arr)\n",
    "# def func(time_2, pop, base = 1800):\n",
    "#     res = np.arange(0, dtype = np.int64)\n",
    "#     for i in range(len(time_2)):\n",
    "#         index = time_2.item(i) - base\n",
    "#         res = np.append(res, pop[i].item(index))\n",
    "#     return res\n",
    "# population_total = func(poverty_and_pop.column('time_2'), poverty_and_pop.column('population_total'))\n",
    "# poverty_total = latest_poverty.column('poverty_percent') * population_total / 100\n",
    "# recent_poverty_total = latest_poverty.select('geo', 'poverty_percent')\\\n",
    "#                                      .with_columns('population_total', population_total, 'poverty_total', poverty_total)\n",
    "\n",
    "t = latest_poverty.select(0, 2).join('geo', population.where('time', 2010).select('geo', 'population_total'))\n",
    "recent_poverty_total = t.with_columns('poverty_total', np.round(t.column('population_total') * t.column('poverty_percent') / 100, 0))\n",
    "recent_poverty_total"
   ]
  },
  {
   "cell_type": "code",
   "execution_count": 42,
   "id": "bdbdd7e1",
   "metadata": {
    "deletable": false,
    "editable": false
   },
   "outputs": [
    {
     "data": {
      "text/html": [
       "<p><strong><pre style='display: inline;'>q2_2</pre></strong> passed! 💯</p>"
      ],
      "text/plain": [
       "q2_2 results: All test cases passed!"
      ]
     },
     "execution_count": 42,
     "metadata": {},
     "output_type": "execute_result"
    }
   ],
   "source": [
    "grader.check(\"q2_2\")"
   ]
  },
  {
   "cell_type": "markdown",
   "id": "4f384ac0",
   "metadata": {},
   "source": [
    "**Question 3.** Assign the name `poverty_percent` to the known percentage of the world’s 2010 population that were living in extreme poverty. Assume that the `poverty_total` numbers in the `recent_poverty_total` table describe **all** people in 2010 living in extreme poverty. You should get a number that is above the 2018 global estimate of 9%, since many country-specific poverty rates are older than 2018.\n",
    "\n",
    "*Hint*: The sum of the `population_total` column in the `recent_poverty_total` table is not the world population, because only a subset of the world's countries are included in the `recent_poverty_total` table (only some countries have known poverty rates). Use the `population` table to compute the world's 2010 total population.\n",
    "\n",
    "*Hint*: We are computing a percentage (value between 0 and 100), not a proportion (value between 0 and 1).\n"
   ]
  },
  {
   "cell_type": "code",
   "execution_count": 43,
   "id": "15a35d49",
   "metadata": {
    "deletable": false,
    "tags": []
   },
   "outputs": [
    {
     "data": {
      "text/plain": [
       "0.07220692783766014"
      ]
     },
     "execution_count": 43,
     "metadata": {},
     "output_type": "execute_result"
    }
   ],
   "source": [
    "pov_total = np.sum(recent_poverty_total.column('poverty_total'), dtype = np.int64)\n",
    "pop_total = np.sum(population.column('population_total'), dtype = np.int64)\n",
    "poverty_percent = pov_total / pop_total * 100\n",
    "poverty_percent"
   ]
  },
  {
   "cell_type": "code",
   "execution_count": null,
   "id": "7d615023",
   "metadata": {
    "deletable": false,
    "editable": false
   },
   "outputs": [],
   "source": [
    "grader.check(\"q2_3\")"
   ]
  },
  {
   "cell_type": "markdown",
   "id": "f26a88ce",
   "metadata": {
    "deletable": false,
    "editable": false
   },
   "source": [
    "The `countries` table includes not only the name and region of countries, but also their positions on the globe."
   ]
  },
  {
   "cell_type": "code",
   "execution_count": 45,
   "id": "f0f11510",
   "metadata": {
    "deletable": false,
    "editable": false
   },
   "outputs": [
    {
     "data": {
      "text/html": [
       "<table border=\"1\" class=\"dataframe\">\n",
       "    <thead>\n",
       "        <tr>\n",
       "            <th>country</th> <th>name</th> <th>world_4region</th> <th>latitude</th> <th>longitude</th>\n",
       "        </tr>\n",
       "    </thead>\n",
       "    <tbody>\n",
       "        <tr>\n",
       "            <td>afg    </td> <td>Afghanistan         </td> <td>asia         </td> <td>33      </td> <td>66       </td>\n",
       "        </tr>\n",
       "        <tr>\n",
       "            <td>ago    </td> <td>Angola              </td> <td>africa       </td> <td>-12.5   </td> <td>18.5     </td>\n",
       "        </tr>\n",
       "        <tr>\n",
       "            <td>alb    </td> <td>Albania             </td> <td>europe       </td> <td>41      </td> <td>20       </td>\n",
       "        </tr>\n",
       "        <tr>\n",
       "            <td>and    </td> <td>Andorra             </td> <td>europe       </td> <td>42.5078 </td> <td>1.52109  </td>\n",
       "        </tr>\n",
       "        <tr>\n",
       "            <td>are    </td> <td>United Arab Emirates</td> <td>asia         </td> <td>23.75   </td> <td>54.5     </td>\n",
       "        </tr>\n",
       "        <tr>\n",
       "            <td>arg    </td> <td>Argentina           </td> <td>americas     </td> <td>-34     </td> <td>-64      </td>\n",
       "        </tr>\n",
       "        <tr>\n",
       "            <td>arm    </td> <td>Armenia             </td> <td>europe       </td> <td>40.25   </td> <td>45       </td>\n",
       "        </tr>\n",
       "        <tr>\n",
       "            <td>atg    </td> <td>Antigua and Barbuda </td> <td>americas     </td> <td>17.05   </td> <td>-61.8    </td>\n",
       "        </tr>\n",
       "        <tr>\n",
       "            <td>aus    </td> <td>Australia           </td> <td>asia         </td> <td>-25     </td> <td>135      </td>\n",
       "        </tr>\n",
       "        <tr>\n",
       "            <td>aut    </td> <td>Austria             </td> <td>europe       </td> <td>47.3333 </td> <td>13.3333  </td>\n",
       "        </tr>\n",
       "    </tbody>\n",
       "</table>\n",
       "<p>... (187 rows omitted)</p>"
      ],
      "text/plain": [
       "country | name                 | world_4region | latitude | longitude\n",
       "afg     | Afghanistan          | asia          | 33       | 66\n",
       "ago     | Angola               | africa        | -12.5    | 18.5\n",
       "alb     | Albania              | europe        | 41       | 20\n",
       "and     | Andorra              | europe        | 42.5078  | 1.52109\n",
       "are     | United Arab Emirates | asia          | 23.75    | 54.5\n",
       "arg     | Argentina            | americas      | -34      | -64\n",
       "arm     | Armenia              | europe        | 40.25    | 45\n",
       "atg     | Antigua and Barbuda  | americas      | 17.05    | -61.8\n",
       "aus     | Australia            | asia          | -25      | 135\n",
       "aut     | Austria              | europe        | 47.3333  | 13.3333\n",
       "... (187 rows omitted)"
      ]
     },
     "execution_count": 45,
     "metadata": {},
     "output_type": "execute_result"
    }
   ],
   "source": [
    "countries.select('country', 'name', 'world_4region', 'latitude', 'longitude')"
   ]
  },
  {
   "cell_type": "markdown",
   "id": "aa25bac3",
   "metadata": {},
   "source": [
    "**Question 4.** Using both `countries` and `recent_poverty_total`, create a five-column table called `poverty_map` with one row for every country in `recent_poverty_total`.  The five columns should have the following labels and contents:\n",
    "1. `latitude` contains the country's latitude,\n",
    "1. `longitude` contains the country's longitude,\n",
    "1. `name` contains the country's name,\n",
    "1. `region` contains the country's region from the `world_4region` column of `countries`,\n",
    "1. `poverty_total` contains the country's poverty total.\n"
   ]
  },
  {
   "cell_type": "code",
   "execution_count": 53,
   "id": "393ce6b1",
   "metadata": {
    "deletable": false,
    "tags": []
   },
   "outputs": [
    {
     "data": {
      "text/html": [
       "<table border=\"1\" class=\"dataframe\">\n",
       "    <thead>\n",
       "        <tr>\n",
       "            <th>latitude</th> <th>longitude</th> <th>name</th> <th>region</th> <th>poverty_total</th>\n",
       "        </tr>\n",
       "    </thead>\n",
       "    <tbody>\n",
       "        <tr>\n",
       "            <td>-12.5   </td> <td>18.5     </td> <td>Angola    </td> <td>africa  </td> <td>1.01296e+07  </td>\n",
       "        </tr>\n",
       "        <tr>\n",
       "            <td>41      </td> <td>20       </td> <td>Albania   </td> <td>europe  </td> <td>13561        </td>\n",
       "        </tr>\n",
       "        <tr>\n",
       "            <td>-34     </td> <td>-64      </td> <td>Argentina </td> <td>americas</td> <td>576630       </td>\n",
       "        </tr>\n",
       "        <tr>\n",
       "            <td>40.25   </td> <td>45       </td> <td>Armenia   </td> <td>europe  </td> <td>50353        </td>\n",
       "        </tr>\n",
       "        <tr>\n",
       "            <td>-25     </td> <td>135      </td> <td>Australia </td> <td>asia    </td> <td>301304       </td>\n",
       "        </tr>\n",
       "        <tr>\n",
       "            <td>47.3333 </td> <td>13.3333  </td> <td>Austria   </td> <td>europe  </td> <td>28594        </td>\n",
       "        </tr>\n",
       "        <tr>\n",
       "            <td>40.5    </td> <td>47.5     </td> <td>Azerbaijan</td> <td>europe  </td> <td>28001        </td>\n",
       "        </tr>\n",
       "        <tr>\n",
       "            <td>-3.5    </td> <td>30       </td> <td>Burundi   </td> <td>africa  </td> <td>7.055e+06    </td>\n",
       "        </tr>\n",
       "        <tr>\n",
       "            <td>50.75   </td> <td>4.5      </td> <td>Belgium   </td> <td>europe  </td> <td>54694        </td>\n",
       "        </tr>\n",
       "        <tr>\n",
       "            <td>9.5     </td> <td>2.25     </td> <td>Benin     </td> <td>africa  </td> <td>4.74774e+06  </td>\n",
       "        </tr>\n",
       "    </tbody>\n",
       "</table>\n",
       "<p>... (135 rows omitted)</p>"
      ],
      "text/plain": [
       "latitude | longitude | name       | region   | poverty_total\n",
       "-12.5    | 18.5      | Angola     | africa   | 1.01296e+07\n",
       "41       | 20        | Albania    | europe   | 13561\n",
       "-34      | -64       | Argentina  | americas | 576630\n",
       "40.25    | 45        | Armenia    | europe   | 50353\n",
       "-25      | 135       | Australia  | asia     | 301304\n",
       "47.3333  | 13.3333   | Austria    | europe   | 28594\n",
       "40.5     | 47.5      | Azerbaijan | europe   | 28001\n",
       "-3.5     | 30        | Burundi    | africa   | 7.055e+06\n",
       "50.75    | 4.5       | Belgium    | europe   | 54694\n",
       "9.5      | 2.25      | Benin      | africa   | 4.74774e+06\n",
       "... (135 rows omitted)"
      ]
     },
     "execution_count": 53,
     "metadata": {},
     "output_type": "execute_result"
    }
   ],
   "source": [
    "c = countries.select('country', 'name', 'world_4region', 'latitude', 'longitude')\n",
    "poverty_map = recent_poverty_total.join('geo', c, 'country').drop(0, 1, 2).relabeled('world_4region', 'region').select(3, 4, 1, 2, 0)\n",
    "poverty_map"
   ]
  },
  {
   "cell_type": "code",
   "execution_count": 51,
   "id": "3da1aa2b",
   "metadata": {
    "deletable": false,
    "editable": false
   },
   "outputs": [
    {
     "data": {
      "text/html": [
       "<p><strong><pre style='display: inline;'>q2_4</pre></strong> passed! ✨</p>"
      ],
      "text/plain": [
       "q2_4 results: All test cases passed!"
      ]
     },
     "execution_count": 51,
     "metadata": {},
     "output_type": "execute_result"
    }
   ],
   "source": [
    "grader.check(\"q2_4\")"
   ]
  },
  {
   "cell_type": "markdown",
   "id": "9f09c98e",
   "metadata": {
    "deletable": false,
    "editable": false
   },
   "source": [
    "Run the cell below to draw a map of the world in which the areas of circles represent the number of people living in extreme poverty. Double-click on the map to zoom in."
   ]
  },
  {
   "cell_type": "code",
   "execution_count": 52,
   "id": "8d9a9424",
   "metadata": {
    "deletable": false,
    "editable": false,
    "scrolled": true
   },
   "outputs": [
    {
     "data": {
      "text/html": [
       "<div style=\"width:100%;\"><div style=\"position:relative;width:100%;height:0;padding-bottom:60%;\"><span style=\"color:#565656\">Make this Notebook Trusted to load map: File -> Trust Notebook</span><iframe srcdoc=\"&lt;!DOCTYPE html&gt;\n",
       "&lt;html&gt;\n",
       "&lt;head&gt;\n",
       "    \n",
       "    &lt;meta http-equiv=&quot;content-type&quot; content=&quot;text/html; charset=UTF-8&quot; /&gt;\n",
       "    \n",
       "        &lt;script&gt;\n",
       "            L_NO_TOUCH = false;\n",
       "            L_DISABLE_3D = false;\n",
       "        &lt;/script&gt;\n",
       "    \n",
       "    &lt;style&gt;html, body {width: 100%;height: 100%;margin: 0;padding: 0;}&lt;/style&gt;\n",
       "    &lt;style&gt;#map {position:absolute;top:0;bottom:0;right:0;left:0;}&lt;/style&gt;\n",
       "    &lt;script src=&quot;https://cdn.jsdelivr.net/npm/leaflet@1.9.3/dist/leaflet.js&quot;&gt;&lt;/script&gt;\n",
       "    &lt;script src=&quot;https://code.jquery.com/jquery-1.12.4.min.js&quot;&gt;&lt;/script&gt;\n",
       "    &lt;script src=&quot;https://cdn.jsdelivr.net/npm/bootstrap@5.2.2/dist/js/bootstrap.bundle.min.js&quot;&gt;&lt;/script&gt;\n",
       "    &lt;script src=&quot;https://cdnjs.cloudflare.com/ajax/libs/Leaflet.awesome-markers/2.0.2/leaflet.awesome-markers.js&quot;&gt;&lt;/script&gt;\n",
       "    &lt;link rel=&quot;stylesheet&quot; href=&quot;https://cdn.jsdelivr.net/npm/leaflet@1.9.3/dist/leaflet.css&quot;/&gt;\n",
       "    &lt;link rel=&quot;stylesheet&quot; href=&quot;https://cdn.jsdelivr.net/npm/bootstrap@5.2.2/dist/css/bootstrap.min.css&quot;/&gt;\n",
       "    &lt;link rel=&quot;stylesheet&quot; href=&quot;https://netdna.bootstrapcdn.com/bootstrap/3.0.0/css/bootstrap.min.css&quot;/&gt;\n",
       "    &lt;link rel=&quot;stylesheet&quot; href=&quot;https://cdn.jsdelivr.net/npm/@fortawesome/fontawesome-free@6.2.0/css/all.min.css&quot;/&gt;\n",
       "    &lt;link rel=&quot;stylesheet&quot; href=&quot;https://cdnjs.cloudflare.com/ajax/libs/Leaflet.awesome-markers/2.0.2/leaflet.awesome-markers.css&quot;/&gt;\n",
       "    &lt;link rel=&quot;stylesheet&quot; href=&quot;https://cdn.jsdelivr.net/gh/python-visualization/folium/folium/templates/leaflet.awesome.rotate.min.css&quot;/&gt;\n",
       "    \n",
       "            &lt;meta name=&quot;viewport&quot; content=&quot;width=device-width,\n",
       "                initial-scale=1.0, maximum-scale=1.0, user-scalable=no&quot; /&gt;\n",
       "            &lt;style&gt;\n",
       "                #map_44e3e96609660dbcbcb47f957ff20567 {\n",
       "                    position: relative;\n",
       "                    width: 960.0px;\n",
       "                    height: 500.0px;\n",
       "                    left: 0.0%;\n",
       "                    top: 0.0%;\n",
       "                }\n",
       "                .leaflet-container { font-size: 1rem; }\n",
       "            &lt;/style&gt;\n",
       "        \n",
       "&lt;/head&gt;\n",
       "&lt;body&gt;\n",
       "    \n",
       "    \n",
       "            &lt;div class=&quot;folium-map&quot; id=&quot;map_44e3e96609660dbcbcb47f957ff20567&quot; &gt;&lt;/div&gt;\n",
       "        \n",
       "&lt;/body&gt;\n",
       "&lt;script&gt;\n",
       "    \n",
       "    \n",
       "            var map_44e3e96609660dbcbcb47f957ff20567 = L.map(\n",
       "                &quot;map_44e3e96609660dbcbcb47f957ff20567&quot;,\n",
       "                {\n",
       "                    center: [15.0, 32.17871],\n",
       "                    crs: L.CRS.EPSG3857,\n",
       "                    zoom: 1,\n",
       "                    zoomControl: true,\n",
       "                    preferCanvas: false,\n",
       "                    clusteredMarker: false,\n",
       "                    includeColorScaleOutliers: true,\n",
       "                    radiusInMeters: false,\n",
       "                }\n",
       "            );\n",
       "\n",
       "            \n",
       "\n",
       "        \n",
       "    \n",
       "            var tile_layer_4588bccf69f48887ae7389abc8c3caca = L.tileLayer(\n",
       "                &quot;https://{s}.tile.openstreetmap.org/{z}/{x}/{y}.png&quot;,\n",
       "                {&quot;attribution&quot;: &quot;Data by \\u0026copy; \\u003ca target=\\&quot;_blank\\&quot; href=\\&quot;http://openstreetmap.org\\&quot;\\u003eOpenStreetMap\\u003c/a\\u003e, under \\u003ca target=\\&quot;_blank\\&quot; href=\\&quot;http://www.openstreetmap.org/copyright\\&quot;\\u003eODbL\\u003c/a\\u003e.&quot;, &quot;detectRetina&quot;: false, &quot;maxNativeZoom&quot;: 17, &quot;maxZoom&quot;: 17, &quot;minZoom&quot;: -1, &quot;noWrap&quot;: false, &quot;opacity&quot;: 1, &quot;subdomains&quot;: &quot;abc&quot;, &quot;tms&quot;: false}\n",
       "            ).addTo(map_44e3e96609660dbcbcb47f957ff20567);\n",
       "        \n",
       "    \n",
       "            var circle_marker_4b87a9a9de54a1f41c2965743c12e06d = L.circleMarker(\n",
       "                [-12.5, 18.5],\n",
       "                {&quot;bubblingMouseEvents&quot;: true, &quot;color&quot;: &quot;blue&quot;, &quot;dashArray&quot;: null, &quot;dashOffset&quot;: null, &quot;fill&quot;: true, &quot;fillColor&quot;: &quot;blue&quot;, &quot;fillOpacity&quot;: 0.2, &quot;fillRule&quot;: &quot;evenodd&quot;, &quot;lineCap&quot;: &quot;round&quot;, &quot;lineJoin&quot;: &quot;round&quot;, &quot;opacity&quot;: 1.0, &quot;radius&quot;: 17.956483776972792, &quot;stroke&quot;: true, &quot;weight&quot;: 3}\n",
       "            ).addTo(map_44e3e96609660dbcbcb47f957ff20567);\n",
       "        \n",
       "    \n",
       "        var popup_bcc44324c41cd1bafd9ca4a15b096943 = L.popup({&quot;maxWidth&quot;: &quot;100%&quot;});\n",
       "\n",
       "        \n",
       "            \n",
       "                var html_1ab52fc6c1818386ba34f6bbf3279ffc = $(`&lt;div id=&quot;html_1ab52fc6c1818386ba34f6bbf3279ffc&quot; style=&quot;width: 100.0%; height: 100.0%;&quot;&gt;Angola&lt;/div&gt;`)[0];\n",
       "                popup_bcc44324c41cd1bafd9ca4a15b096943.setContent(html_1ab52fc6c1818386ba34f6bbf3279ffc);\n",
       "            \n",
       "        \n",
       "\n",
       "        circle_marker_4b87a9a9de54a1f41c2965743c12e06d.bindPopup(popup_bcc44324c41cd1bafd9ca4a15b096943)\n",
       "        ;\n",
       "\n",
       "        \n",
       "    \n",
       "    \n",
       "            var circle_marker_dee579554ebf26527b6423cc9a193562 = L.circleMarker(\n",
       "                [41.0, 20.0],\n",
       "                {&quot;bubblingMouseEvents&quot;: true, &quot;color&quot;: &quot;black&quot;, &quot;dashArray&quot;: null, &quot;dashOffset&quot;: null, &quot;fill&quot;: true, &quot;fillColor&quot;: &quot;black&quot;, &quot;fillOpacity&quot;: 0.2, &quot;fillRule&quot;: &quot;evenodd&quot;, &quot;lineCap&quot;: &quot;round&quot;, &quot;lineJoin&quot;: &quot;round&quot;, &quot;opacity&quot;: 1.0, &quot;radius&quot;: 0.6570083992262493, &quot;stroke&quot;: true, &quot;weight&quot;: 3}\n",
       "            ).addTo(map_44e3e96609660dbcbcb47f957ff20567);\n",
       "        \n",
       "    \n",
       "        var popup_fe26f48fc007d9d8d74d80d3a65edae2 = L.popup({&quot;maxWidth&quot;: &quot;100%&quot;});\n",
       "\n",
       "        \n",
       "            \n",
       "                var html_584b4e489bc457a16b6d3f7aeb530b5b = $(`&lt;div id=&quot;html_584b4e489bc457a16b6d3f7aeb530b5b&quot; style=&quot;width: 100.0%; height: 100.0%;&quot;&gt;Albania&lt;/div&gt;`)[0];\n",
       "                popup_fe26f48fc007d9d8d74d80d3a65edae2.setContent(html_584b4e489bc457a16b6d3f7aeb530b5b);\n",
       "            \n",
       "        \n",
       "\n",
       "        circle_marker_dee579554ebf26527b6423cc9a193562.bindPopup(popup_fe26f48fc007d9d8d74d80d3a65edae2)\n",
       "        ;\n",
       "\n",
       "        \n",
       "    \n",
       "    \n",
       "            var circle_marker_fe9f577613b33e6eb70036b26563cdc5 = L.circleMarker(\n",
       "                [-34.0, -64.0],\n",
       "                {&quot;bubblingMouseEvents&quot;: true, &quot;color&quot;: &quot;green&quot;, &quot;dashArray&quot;: null, &quot;dashOffset&quot;: null, &quot;fill&quot;: true, &quot;fillColor&quot;: &quot;green&quot;, &quot;fillOpacity&quot;: 0.2, &quot;fillRule&quot;: &quot;evenodd&quot;, &quot;lineCap&quot;: &quot;round&quot;, &quot;lineJoin&quot;: &quot;round&quot;, &quot;opacity&quot;: 1.0, &quot;radius&quot;: 4.284238901720576, &quot;stroke&quot;: true, &quot;weight&quot;: 3}\n",
       "            ).addTo(map_44e3e96609660dbcbcb47f957ff20567);\n",
       "        \n",
       "    \n",
       "        var popup_10ea4a50156cfa2c21b728a6e83c42d6 = L.popup({&quot;maxWidth&quot;: &quot;100%&quot;});\n",
       "\n",
       "        \n",
       "            \n",
       "                var html_351485862a1a06ea332e58e70037e137 = $(`&lt;div id=&quot;html_351485862a1a06ea332e58e70037e137&quot; style=&quot;width: 100.0%; height: 100.0%;&quot;&gt;Argentina&lt;/div&gt;`)[0];\n",
       "                popup_10ea4a50156cfa2c21b728a6e83c42d6.setContent(html_351485862a1a06ea332e58e70037e137);\n",
       "            \n",
       "        \n",
       "\n",
       "        circle_marker_fe9f577613b33e6eb70036b26563cdc5.bindPopup(popup_10ea4a50156cfa2c21b728a6e83c42d6)\n",
       "        ;\n",
       "\n",
       "        \n",
       "    \n",
       "    \n",
       "            var circle_marker_d5a0db0e697667db5acfc155980292ff = L.circleMarker(\n",
       "                [40.25, 45.0],\n",
       "                {&quot;bubblingMouseEvents&quot;: true, &quot;color&quot;: &quot;black&quot;, &quot;dashArray&quot;: null, &quot;dashOffset&quot;: null, &quot;fill&quot;: true, &quot;fillColor&quot;: &quot;black&quot;, &quot;fillOpacity&quot;: 0.2, &quot;fillRule&quot;: &quot;evenodd&quot;, &quot;lineCap&quot;: &quot;round&quot;, &quot;lineJoin&quot;: &quot;round&quot;, &quot;opacity&quot;: 1.0, &quot;radius&quot;: 1.2660117574103493, &quot;stroke&quot;: true, &quot;weight&quot;: 3}\n",
       "            ).addTo(map_44e3e96609660dbcbcb47f957ff20567);\n",
       "        \n",
       "    \n",
       "        var popup_4f309a86f8484d1052d410a605ddf14a = L.popup({&quot;maxWidth&quot;: &quot;100%&quot;});\n",
       "\n",
       "        \n",
       "            \n",
       "                var html_acd69d281a4352354342d2e37d5502a1 = $(`&lt;div id=&quot;html_acd69d281a4352354342d2e37d5502a1&quot; style=&quot;width: 100.0%; height: 100.0%;&quot;&gt;Armenia&lt;/div&gt;`)[0];\n",
       "                popup_4f309a86f8484d1052d410a605ddf14a.setContent(html_acd69d281a4352354342d2e37d5502a1);\n",
       "            \n",
       "        \n",
       "\n",
       "        circle_marker_d5a0db0e697667db5acfc155980292ff.bindPopup(popup_4f309a86f8484d1052d410a605ddf14a)\n",
       "        ;\n",
       "\n",
       "        \n",
       "    \n",
       "    \n",
       "            var circle_marker_5769bb12e7bde982650f7c9d2386bc99 = L.circleMarker(\n",
       "                [-25.0, 135.0],\n",
       "                {&quot;bubblingMouseEvents&quot;: true, &quot;color&quot;: &quot;red&quot;, &quot;dashArray&quot;: null, &quot;dashOffset&quot;: null, &quot;fill&quot;: true, &quot;fillColor&quot;: &quot;red&quot;, &quot;fillOpacity&quot;: 0.2, &quot;fillRule&quot;: &quot;evenodd&quot;, &quot;lineCap&quot;: &quot;round&quot;, &quot;lineJoin&quot;: &quot;round&quot;, &quot;opacity&quot;: 1.0, &quot;radius&quot;: 3.0969023547202914, &quot;stroke&quot;: true, &quot;weight&quot;: 3}\n",
       "            ).addTo(map_44e3e96609660dbcbcb47f957ff20567);\n",
       "        \n",
       "    \n",
       "        var popup_f36556ad0ea7dab6f61c65a66c5c8509 = L.popup({&quot;maxWidth&quot;: &quot;100%&quot;});\n",
       "\n",
       "        \n",
       "            \n",
       "                var html_a2967011204defc8574b11472273b08c = $(`&lt;div id=&quot;html_a2967011204defc8574b11472273b08c&quot; style=&quot;width: 100.0%; height: 100.0%;&quot;&gt;Australia&lt;/div&gt;`)[0];\n",
       "                popup_f36556ad0ea7dab6f61c65a66c5c8509.setContent(html_a2967011204defc8574b11472273b08c);\n",
       "            \n",
       "        \n",
       "\n",
       "        circle_marker_5769bb12e7bde982650f7c9d2386bc99.bindPopup(popup_f36556ad0ea7dab6f61c65a66c5c8509)\n",
       "        ;\n",
       "\n",
       "        \n",
       "    \n",
       "    \n",
       "            var circle_marker_a3c78eed56cce8b4af24f536191d99c6 = L.circleMarker(\n",
       "                [47.33333, 13.33333],\n",
       "                {&quot;bubblingMouseEvents&quot;: true, &quot;color&quot;: &quot;black&quot;, &quot;dashArray&quot;: null, &quot;dashOffset&quot;: null, &quot;fill&quot;: true, &quot;fillColor&quot;: &quot;black&quot;, &quot;fillOpacity&quot;: 0.2, &quot;fillRule&quot;: &quot;evenodd&quot;, &quot;lineCap&quot;: &quot;round&quot;, &quot;lineJoin&quot;: &quot;round&quot;, &quot;opacity&quot;: 1.0, &quot;radius&quot;: 0.9540310731595334, &quot;stroke&quot;: true, &quot;weight&quot;: 3}\n",
       "            ).addTo(map_44e3e96609660dbcbcb47f957ff20567);\n",
       "        \n",
       "    \n",
       "        var popup_ad382a107c7755e6b8cc8f709ef3cec7 = L.popup({&quot;maxWidth&quot;: &quot;100%&quot;});\n",
       "\n",
       "        \n",
       "            \n",
       "                var html_4e7619e5903336b1075976d8d667b573 = $(`&lt;div id=&quot;html_4e7619e5903336b1075976d8d667b573&quot; style=&quot;width: 100.0%; height: 100.0%;&quot;&gt;Austria&lt;/div&gt;`)[0];\n",
       "                popup_ad382a107c7755e6b8cc8f709ef3cec7.setContent(html_4e7619e5903336b1075976d8d667b573);\n",
       "            \n",
       "        \n",
       "\n",
       "        circle_marker_a3c78eed56cce8b4af24f536191d99c6.bindPopup(popup_ad382a107c7755e6b8cc8f709ef3cec7)\n",
       "        ;\n",
       "\n",
       "        \n",
       "    \n",
       "    \n",
       "            var circle_marker_5d0818b49ec7e28a107c6a4bbffa189d = L.circleMarker(\n",
       "                [40.5, 47.5],\n",
       "                {&quot;bubblingMouseEvents&quot;: true, &quot;color&quot;: &quot;black&quot;, &quot;dashArray&quot;: null, &quot;dashOffset&quot;: null, &quot;fill&quot;: true, &quot;fillColor&quot;: &quot;black&quot;, &quot;fillOpacity&quot;: 0.2, &quot;fillRule&quot;: &quot;evenodd&quot;, &quot;lineCap&quot;: &quot;round&quot;, &quot;lineJoin&quot;: &quot;round&quot;, &quot;opacity&quot;: 1.0, &quot;radius&quot;: 0.9440866021203946, &quot;stroke&quot;: true, &quot;weight&quot;: 3}\n",
       "            ).addTo(map_44e3e96609660dbcbcb47f957ff20567);\n",
       "        \n",
       "    \n",
       "        var popup_6152d4365d02480d763e61e1ecd057ea = L.popup({&quot;maxWidth&quot;: &quot;100%&quot;});\n",
       "\n",
       "        \n",
       "            \n",
       "                var html_a369954709f7af6916f38b7fe4125fb1 = $(`&lt;div id=&quot;html_a369954709f7af6916f38b7fe4125fb1&quot; style=&quot;width: 100.0%; height: 100.0%;&quot;&gt;Azerbaijan&lt;/div&gt;`)[0];\n",
       "                popup_6152d4365d02480d763e61e1ecd057ea.setContent(html_a369954709f7af6916f38b7fe4125fb1);\n",
       "            \n",
       "        \n",
       "\n",
       "        circle_marker_5d0818b49ec7e28a107c6a4bbffa189d.bindPopup(popup_6152d4365d02480d763e61e1ecd057ea)\n",
       "        ;\n",
       "\n",
       "        \n",
       "    \n",
       "    \n",
       "            var circle_marker_ddf41064225dfdd71e552bb398b068c8 = L.circleMarker(\n",
       "                [-3.5, 30.0],\n",
       "                {&quot;bubblingMouseEvents&quot;: true, &quot;color&quot;: &quot;blue&quot;, &quot;dashArray&quot;: null, &quot;dashOffset&quot;: null, &quot;fill&quot;: true, &quot;fillColor&quot;: &quot;blue&quot;, &quot;fillOpacity&quot;: 0.2, &quot;fillRule&quot;: &quot;evenodd&quot;, &quot;lineCap&quot;: &quot;round&quot;, &quot;lineJoin&quot;: &quot;round&quot;, &quot;opacity&quot;: 1.0, &quot;radius&quot;: 14.985583745574617, &quot;stroke&quot;: true, &quot;weight&quot;: 3}\n",
       "            ).addTo(map_44e3e96609660dbcbcb47f957ff20567);\n",
       "        \n",
       "    \n",
       "        var popup_d404a9e9a9b505b03212eed5abca701d = L.popup({&quot;maxWidth&quot;: &quot;100%&quot;});\n",
       "\n",
       "        \n",
       "            \n",
       "                var html_3e92f49ce8668ebbf8a26613055ccf8a = $(`&lt;div id=&quot;html_3e92f49ce8668ebbf8a26613055ccf8a&quot; style=&quot;width: 100.0%; height: 100.0%;&quot;&gt;Burundi&lt;/div&gt;`)[0];\n",
       "                popup_d404a9e9a9b505b03212eed5abca701d.setContent(html_3e92f49ce8668ebbf8a26613055ccf8a);\n",
       "            \n",
       "        \n",
       "\n",
       "        circle_marker_ddf41064225dfdd71e552bb398b068c8.bindPopup(popup_d404a9e9a9b505b03212eed5abca701d)\n",
       "        ;\n",
       "\n",
       "        \n",
       "    \n",
       "    \n",
       "            var circle_marker_1b2da9f018dbb4245e0b791eebb1d717 = L.circleMarker(\n",
       "                [50.75, 4.5],\n",
       "                {&quot;bubblingMouseEvents&quot;: true, &quot;color&quot;: &quot;black&quot;, &quot;dashArray&quot;: null, &quot;dashOffset&quot;: null, &quot;fill&quot;: true, &quot;fillColor&quot;: &quot;black&quot;, &quot;fillOpacity&quot;: 0.2, &quot;fillRule&quot;: &quot;evenodd&quot;, &quot;lineCap&quot;: &quot;round&quot;, &quot;lineJoin&quot;: &quot;round&quot;, &quot;opacity&quot;: 1.0, &quot;radius&quot;: 1.3194559831588262, &quot;stroke&quot;: true, &quot;weight&quot;: 3}\n",
       "            ).addTo(map_44e3e96609660dbcbcb47f957ff20567);\n",
       "        \n",
       "    \n",
       "        var popup_4266dbbd751fc6e36f3f0906e795d9bc = L.popup({&quot;maxWidth&quot;: &quot;100%&quot;});\n",
       "\n",
       "        \n",
       "            \n",
       "                var html_a4c01cee2737f08f86f61a4600736971 = $(`&lt;div id=&quot;html_a4c01cee2737f08f86f61a4600736971&quot; style=&quot;width: 100.0%; height: 100.0%;&quot;&gt;Belgium&lt;/div&gt;`)[0];\n",
       "                popup_4266dbbd751fc6e36f3f0906e795d9bc.setContent(html_a4c01cee2737f08f86f61a4600736971);\n",
       "            \n",
       "        \n",
       "\n",
       "        circle_marker_1b2da9f018dbb4245e0b791eebb1d717.bindPopup(popup_4266dbbd751fc6e36f3f0906e795d9bc)\n",
       "        ;\n",
       "\n",
       "        \n",
       "    \n",
       "    \n",
       "            var circle_marker_33f62c21481bb8ae5fbff887d47b4e99 = L.circleMarker(\n",
       "                [9.5, 2.25],\n",
       "                {&quot;bubblingMouseEvents&quot;: true, &quot;color&quot;: &quot;blue&quot;, &quot;dashArray&quot;: null, &quot;dashOffset&quot;: null, &quot;fill&quot;: true, &quot;fillColor&quot;: &quot;blue&quot;, &quot;fillOpacity&quot;: 0.2, &quot;fillRule&quot;: &quot;evenodd&quot;, &quot;lineCap&quot;: &quot;round&quot;, &quot;lineJoin&quot;: &quot;round&quot;, &quot;opacity&quot;: 1.0, &quot;radius&quot;: 12.293294869483931, &quot;stroke&quot;: true, &quot;weight&quot;: 3}\n",
       "            ).addTo(map_44e3e96609660dbcbcb47f957ff20567);\n",
       "        \n",
       "    \n",
       "        var popup_dc2be7adadbdd1fa7913b71e14ce51cd = L.popup({&quot;maxWidth&quot;: &quot;100%&quot;});\n",
       "\n",
       "        \n",
       "            \n",
       "                var html_75726d658811dccdd92ec36685bddfd4 = $(`&lt;div id=&quot;html_75726d658811dccdd92ec36685bddfd4&quot; style=&quot;width: 100.0%; height: 100.0%;&quot;&gt;Benin&lt;/div&gt;`)[0];\n",
       "                popup_dc2be7adadbdd1fa7913b71e14ce51cd.setContent(html_75726d658811dccdd92ec36685bddfd4);\n",
       "            \n",
       "        \n",
       "\n",
       "        circle_marker_33f62c21481bb8ae5fbff887d47b4e99.bindPopup(popup_dc2be7adadbdd1fa7913b71e14ce51cd)\n",
       "        ;\n",
       "\n",
       "        \n",
       "    \n",
       "    \n",
       "            var circle_marker_8e043531317e05f67d013124b3bef5f6 = L.circleMarker(\n",
       "                [12.5, -1.66667],\n",
       "                {&quot;bubblingMouseEvents&quot;: true, &quot;color&quot;: &quot;blue&quot;, &quot;dashArray&quot;: null, &quot;dashOffset&quot;: null, &quot;fill&quot;: true, &quot;fillColor&quot;: &quot;blue&quot;, &quot;fillOpacity&quot;: 0.2, &quot;fillRule&quot;: &quot;evenodd&quot;, &quot;lineCap&quot;: &quot;round&quot;, &quot;lineJoin&quot;: &quot;round&quot;, &quot;opacity&quot;: 1.0, &quot;radius&quot;: 14.860883218047224, &quot;stroke&quot;: true, &quot;weight&quot;: 3}\n",
       "            ).addTo(map_44e3e96609660dbcbcb47f957ff20567);\n",
       "        \n",
       "    \n",
       "        var popup_6f696f6913e0259e7f07309da91cecf1 = L.popup({&quot;maxWidth&quot;: &quot;100%&quot;});\n",
       "\n",
       "        \n",
       "            \n",
       "                var html_9056d571b28d8ec471c5612ed8eeb177 = $(`&lt;div id=&quot;html_9056d571b28d8ec471c5612ed8eeb177&quot; style=&quot;width: 100.0%; height: 100.0%;&quot;&gt;Burkina Faso&lt;/div&gt;`)[0];\n",
       "                popup_6f696f6913e0259e7f07309da91cecf1.setContent(html_9056d571b28d8ec471c5612ed8eeb177);\n",
       "            \n",
       "        \n",
       "\n",
       "        circle_marker_8e043531317e05f67d013124b3bef5f6.bindPopup(popup_6f696f6913e0259e7f07309da91cecf1)\n",
       "        ;\n",
       "\n",
       "        \n",
       "    \n",
       "    \n",
       "            var circle_marker_289cfbc9f54293b6afe0a0f450bdd7ac = L.circleMarker(\n",
       "                [24.0, 90.0],\n",
       "                {&quot;bubblingMouseEvents&quot;: true, &quot;color&quot;: &quot;red&quot;, &quot;dashArray&quot;: null, &quot;dashOffset&quot;: null, &quot;fill&quot;: true, &quot;fillColor&quot;: &quot;red&quot;, &quot;fillOpacity&quot;: 0.2, &quot;fillRule&quot;: &quot;evenodd&quot;, &quot;lineCap&quot;: &quot;round&quot;, &quot;lineJoin&quot;: &quot;round&quot;, &quot;opacity&quot;: 1.0, &quot;radius&quot;: 45.07390171903687, &quot;stroke&quot;: true, &quot;weight&quot;: 3}\n",
       "            ).addTo(map_44e3e96609660dbcbcb47f957ff20567);\n",
       "        \n",
       "    \n",
       "        var popup_5d6704f13e013b9598c78f7f25c7b627 = L.popup({&quot;maxWidth&quot;: &quot;100%&quot;});\n",
       "\n",
       "        \n",
       "            \n",
       "                var html_b6ca944b757bfab0dfb381b64b5e4f0b = $(`&lt;div id=&quot;html_b6ca944b757bfab0dfb381b64b5e4f0b&quot; style=&quot;width: 100.0%; height: 100.0%;&quot;&gt;Bangladesh&lt;/div&gt;`)[0];\n",
       "                popup_5d6704f13e013b9598c78f7f25c7b627.setContent(html_b6ca944b757bfab0dfb381b64b5e4f0b);\n",
       "            \n",
       "        \n",
       "\n",
       "        circle_marker_289cfbc9f54293b6afe0a0f450bdd7ac.bindPopup(popup_5d6704f13e013b9598c78f7f25c7b627)\n",
       "        ;\n",
       "\n",
       "        \n",
       "    \n",
       "    \n",
       "            var circle_marker_909a5405b57804fcb9c3295f80e3c7d9 = L.circleMarker(\n",
       "                [42.66667, 25.25],\n",
       "                {&quot;bubblingMouseEvents&quot;: true, &quot;color&quot;: &quot;black&quot;, &quot;dashArray&quot;: null, &quot;dashOffset&quot;: null, &quot;fill&quot;: true, &quot;fillColor&quot;: &quot;black&quot;, &quot;fillOpacity&quot;: 0.2, &quot;fillRule&quot;: &quot;evenodd&quot;, &quot;lineCap&quot;: &quot;round&quot;, &quot;lineJoin&quot;: &quot;round&quot;, &quot;opacity&quot;: 1.0, &quot;radius&quot;: 2.119093372019701, &quot;stroke&quot;: true, &quot;weight&quot;: 3}\n",
       "            ).addTo(map_44e3e96609660dbcbcb47f957ff20567);\n",
       "        \n",
       "    \n",
       "        var popup_f75948efd6de8f9292c606edb2154d59 = L.popup({&quot;maxWidth&quot;: &quot;100%&quot;});\n",
       "\n",
       "        \n",
       "            \n",
       "                var html_582e2b7378d84ea9e4859b4c4c85b241 = $(`&lt;div id=&quot;html_582e2b7378d84ea9e4859b4c4c85b241&quot; style=&quot;width: 100.0%; height: 100.0%;&quot;&gt;Bulgaria&lt;/div&gt;`)[0];\n",
       "                popup_f75948efd6de8f9292c606edb2154d59.setContent(html_582e2b7378d84ea9e4859b4c4c85b241);\n",
       "            \n",
       "        \n",
       "\n",
       "        circle_marker_909a5405b57804fcb9c3295f80e3c7d9.bindPopup(popup_f75948efd6de8f9292c606edb2154d59)\n",
       "        ;\n",
       "\n",
       "        \n",
       "    \n",
       "    \n",
       "            var circle_marker_f59128074d0c9a4e36c763244ca699e7 = L.circleMarker(\n",
       "                [44.25, 17.83333],\n",
       "                {&quot;bubblingMouseEvents&quot;: true, &quot;color&quot;: &quot;black&quot;, &quot;dashArray&quot;: null, &quot;dashOffset&quot;: null, &quot;fill&quot;: true, &quot;fillColor&quot;: &quot;black&quot;, &quot;fillOpacity&quot;: 0.2, &quot;fillRule&quot;: &quot;evenodd&quot;, &quot;lineCap&quot;: &quot;round&quot;, &quot;lineJoin&quot;: &quot;round&quot;, &quot;opacity&quot;: 1.0, &quot;radius&quot;: 0.217194671049816, &quot;stroke&quot;: true, &quot;weight&quot;: 3}\n",
       "            ).addTo(map_44e3e96609660dbcbcb47f957ff20567);\n",
       "        \n",
       "    \n",
       "        var popup_d981a95092a8ced22522b55a56b974b2 = L.popup({&quot;maxWidth&quot;: &quot;100%&quot;});\n",
       "\n",
       "        \n",
       "            \n",
       "                var html_79d93c7972504260d500906dc5a43266 = $(`&lt;div id=&quot;html_79d93c7972504260d500906dc5a43266&quot; style=&quot;width: 100.0%; height: 100.0%;&quot;&gt;Bosnia and Herzegovina&lt;/div&gt;`)[0];\n",
       "                popup_d981a95092a8ced22522b55a56b974b2.setContent(html_79d93c7972504260d500906dc5a43266);\n",
       "            \n",
       "        \n",
       "\n",
       "        circle_marker_f59128074d0c9a4e36c763244ca699e7.bindPopup(popup_d981a95092a8ced22522b55a56b974b2)\n",
       "        ;\n",
       "\n",
       "        \n",
       "    \n",
       "    \n",
       "            var circle_marker_bd3a4123f1290b583909a478a31e1ef3 = L.circleMarker(\n",
       "                [53.0, 28.0],\n",
       "                {&quot;bubblingMouseEvents&quot;: true, &quot;color&quot;: &quot;black&quot;, &quot;dashArray&quot;: null, &quot;dashOffset&quot;: null, &quot;fill&quot;: true, &quot;fillColor&quot;: &quot;black&quot;, &quot;fillOpacity&quot;: 0.2, &quot;fillRule&quot;: &quot;evenodd&quot;, &quot;lineCap&quot;: &quot;round&quot;, &quot;lineJoin&quot;: &quot;round&quot;, &quot;opacity&quot;: 1.0, &quot;stroke&quot;: true, &quot;weight&quot;: 3}\n",
       "            ).addTo(map_44e3e96609660dbcbcb47f957ff20567);\n",
       "        \n",
       "    \n",
       "        var popup_9d6724000efacb3f6fd5968fa05ee705 = L.popup({&quot;maxWidth&quot;: &quot;100%&quot;});\n",
       "\n",
       "        \n",
       "            \n",
       "                var html_f60ca04456a7633ab66621ded916d586 = $(`&lt;div id=&quot;html_f60ca04456a7633ab66621ded916d586&quot; style=&quot;width: 100.0%; height: 100.0%;&quot;&gt;Belarus&lt;/div&gt;`)[0];\n",
       "                popup_9d6724000efacb3f6fd5968fa05ee705.setContent(html_f60ca04456a7633ab66621ded916d586);\n",
       "            \n",
       "        \n",
       "\n",
       "        circle_marker_bd3a4123f1290b583909a478a31e1ef3.bindPopup(popup_9d6724000efacb3f6fd5968fa05ee705)\n",
       "        ;\n",
       "\n",
       "        \n",
       "    \n",
       "    \n",
       "            var circle_marker_9d86e005257fccf6207583e4e7d54e1f = L.circleMarker(\n",
       "                [17.49952, -88.19756],\n",
       "                {&quot;bubblingMouseEvents&quot;: true, &quot;color&quot;: &quot;green&quot;, &quot;dashArray&quot;: null, &quot;dashOffset&quot;: null, &quot;fill&quot;: true, &quot;fillColor&quot;: &quot;green&quot;, &quot;fillOpacity&quot;: 0.2, &quot;fillRule&quot;: &quot;evenodd&quot;, &quot;lineCap&quot;: &quot;round&quot;, &quot;lineJoin&quot;: &quot;round&quot;, &quot;opacity&quot;: 1.0, &quot;radius&quot;: 1.1195005649268066, &quot;stroke&quot;: true, &quot;weight&quot;: 3}\n",
       "            ).addTo(map_44e3e96609660dbcbcb47f957ff20567);\n",
       "        \n",
       "    \n",
       "        var popup_b6336556fa4298c5dc02faec36bdfa13 = L.popup({&quot;maxWidth&quot;: &quot;100%&quot;});\n",
       "\n",
       "        \n",
       "            \n",
       "                var html_636e43b8b8fd530cffe9acaedcb232e4 = $(`&lt;div id=&quot;html_636e43b8b8fd530cffe9acaedcb232e4&quot; style=&quot;width: 100.0%; height: 100.0%;&quot;&gt;Belize&lt;/div&gt;`)[0];\n",
       "                popup_b6336556fa4298c5dc02faec36bdfa13.setContent(html_636e43b8b8fd530cffe9acaedcb232e4);\n",
       "            \n",
       "        \n",
       "\n",
       "        circle_marker_9d86e005257fccf6207583e4e7d54e1f.bindPopup(popup_b6336556fa4298c5dc02faec36bdfa13)\n",
       "        ;\n",
       "\n",
       "        \n",
       "    \n",
       "    \n",
       "            var circle_marker_d334d8fa13d33245aae7689d2ac8a6ec = L.circleMarker(\n",
       "                [-17.0, -65.0],\n",
       "                {&quot;bubblingMouseEvents&quot;: true, &quot;color&quot;: &quot;green&quot;, &quot;dashArray&quot;: null, &quot;dashOffset&quot;: null, &quot;fill&quot;: true, &quot;fillColor&quot;: &quot;green&quot;, &quot;fillOpacity&quot;: 0.2, &quot;fillRule&quot;: &quot;evenodd&quot;, &quot;lineCap&quot;: &quot;round&quot;, &quot;lineJoin&quot;: &quot;round&quot;, &quot;opacity&quot;: 1.0, &quot;radius&quot;: 5.0521846256177705, &quot;stroke&quot;: true, &quot;weight&quot;: 3}\n",
       "            ).addTo(map_44e3e96609660dbcbcb47f957ff20567);\n",
       "        \n",
       "    \n",
       "        var popup_da5aff3ec7f4065ceeb11afecdfce99d = L.popup({&quot;maxWidth&quot;: &quot;100%&quot;});\n",
       "\n",
       "        \n",
       "            \n",
       "                var html_f917bf2c352af0749ddb51c6a9a21bb3 = $(`&lt;div id=&quot;html_f917bf2c352af0749ddb51c6a9a21bb3&quot; style=&quot;width: 100.0%; height: 100.0%;&quot;&gt;Bolivia&lt;/div&gt;`)[0];\n",
       "                popup_da5aff3ec7f4065ceeb11afecdfce99d.setContent(html_f917bf2c352af0749ddb51c6a9a21bb3);\n",
       "            \n",
       "        \n",
       "\n",
       "        circle_marker_d334d8fa13d33245aae7689d2ac8a6ec.bindPopup(popup_da5aff3ec7f4065ceeb11afecdfce99d)\n",
       "        ;\n",
       "\n",
       "        \n",
       "    \n",
       "    \n",
       "            var circle_marker_36c0593e53d7ba86df875bf88545dfe1 = L.circleMarker(\n",
       "                [-10.0, -55.0],\n",
       "                {&quot;bubblingMouseEvents&quot;: true, &quot;color&quot;: &quot;green&quot;, &quot;dashArray&quot;: null, &quot;dashOffset&quot;: null, &quot;fill&quot;: true, &quot;fillColor&quot;: &quot;green&quot;, &quot;fillOpacity&quot;: 0.2, &quot;fillRule&quot;: &quot;evenodd&quot;, &quot;lineCap&quot;: &quot;round&quot;, &quot;lineJoin&quot;: &quot;round&quot;, &quot;opacity&quot;: 1.0, &quot;radius&quot;: 15.284499774553087, &quot;stroke&quot;: true, &quot;weight&quot;: 3}\n",
       "            ).addTo(map_44e3e96609660dbcbcb47f957ff20567);\n",
       "        \n",
       "    \n",
       "        var popup_539a897f72bc0044fd46df3a408c3df8 = L.popup({&quot;maxWidth&quot;: &quot;100%&quot;});\n",
       "\n",
       "        \n",
       "            \n",
       "                var html_054b48c7af470dbc40f957c2f5465e17 = $(`&lt;div id=&quot;html_054b48c7af470dbc40f957c2f5465e17&quot; style=&quot;width: 100.0%; height: 100.0%;&quot;&gt;Brazil&lt;/div&gt;`)[0];\n",
       "                popup_539a897f72bc0044fd46df3a408c3df8.setContent(html_054b48c7af470dbc40f957c2f5465e17);\n",
       "            \n",
       "        \n",
       "\n",
       "        circle_marker_36c0593e53d7ba86df875bf88545dfe1.bindPopup(popup_539a897f72bc0044fd46df3a408c3df8)\n",
       "        ;\n",
       "\n",
       "        \n",
       "    \n",
       "    \n",
       "            var circle_marker_a7c57201279cf6cd8a9390bef5ce6ca1 = L.circleMarker(\n",
       "                [27.5, 90.5],\n",
       "                {&quot;bubblingMouseEvents&quot;: true, &quot;color&quot;: &quot;red&quot;, &quot;dashArray&quot;: null, &quot;dashOffset&quot;: null, &quot;fill&quot;: true, &quot;fillColor&quot;: &quot;red&quot;, &quot;fillOpacity&quot;: 0.2, &quot;fillRule&quot;: &quot;evenodd&quot;, &quot;lineCap&quot;: &quot;round&quot;, &quot;lineJoin&quot;: &quot;round&quot;, &quot;opacity&quot;: 1.0, &quot;radius&quot;: 0.7206403952796807, &quot;stroke&quot;: true, &quot;weight&quot;: 3}\n",
       "            ).addTo(map_44e3e96609660dbcbcb47f957ff20567);\n",
       "        \n",
       "    \n",
       "        var popup_e8460b2154a4229882badae3fdf22439 = L.popup({&quot;maxWidth&quot;: &quot;100%&quot;});\n",
       "\n",
       "        \n",
       "            \n",
       "                var html_cd625b49e2c34e33fa4dec85ceee5e95 = $(`&lt;div id=&quot;html_cd625b49e2c34e33fa4dec85ceee5e95&quot; style=&quot;width: 100.0%; height: 100.0%;&quot;&gt;Bhutan&lt;/div&gt;`)[0];\n",
       "                popup_e8460b2154a4229882badae3fdf22439.setContent(html_cd625b49e2c34e33fa4dec85ceee5e95);\n",
       "            \n",
       "        \n",
       "\n",
       "        circle_marker_a7c57201279cf6cd8a9390bef5ce6ca1.bindPopup(popup_e8460b2154a4229882badae3fdf22439)\n",
       "        ;\n",
       "\n",
       "        \n",
       "    \n",
       "    \n",
       "            var circle_marker_03f05b7c77bd481c87349fcecac824a8 = L.circleMarker(\n",
       "                [-22.0, 24.0],\n",
       "                {&quot;bubblingMouseEvents&quot;: true, &quot;color&quot;: &quot;blue&quot;, &quot;dashArray&quot;: null, &quot;dashOffset&quot;: null, &quot;fill&quot;: true, &quot;fillColor&quot;: &quot;blue&quot;, &quot;fillOpacity&quot;: 0.2, &quot;fillRule&quot;: &quot;evenodd&quot;, &quot;lineCap&quot;: &quot;round&quot;, &quot;lineJoin&quot;: &quot;round&quot;, &quot;opacity&quot;: 1.0, &quot;radius&quot;: 2.9123934088869396, &quot;stroke&quot;: true, &quot;weight&quot;: 3}\n",
       "            ).addTo(map_44e3e96609660dbcbcb47f957ff20567);\n",
       "        \n",
       "    \n",
       "        var popup_203d5a571edfd55a9cee21679406b59a = L.popup({&quot;maxWidth&quot;: &quot;100%&quot;});\n",
       "\n",
       "        \n",
       "            \n",
       "                var html_7f49ed96a2a10855fe6754f9ff899afa = $(`&lt;div id=&quot;html_7f49ed96a2a10855fe6754f9ff899afa&quot; style=&quot;width: 100.0%; height: 100.0%;&quot;&gt;Botswana&lt;/div&gt;`)[0];\n",
       "                popup_203d5a571edfd55a9cee21679406b59a.setContent(html_7f49ed96a2a10855fe6754f9ff899afa);\n",
       "            \n",
       "        \n",
       "\n",
       "        circle_marker_03f05b7c77bd481c87349fcecac824a8.bindPopup(popup_203d5a571edfd55a9cee21679406b59a)\n",
       "        ;\n",
       "\n",
       "        \n",
       "    \n",
       "    \n",
       "            var circle_marker_8bd4e6b449f135699bb53be42911e480 = L.circleMarker(\n",
       "                [7.0, 21.0],\n",
       "                {&quot;bubblingMouseEvents&quot;: true, &quot;color&quot;: &quot;blue&quot;, &quot;dashArray&quot;: null, &quot;dashOffset&quot;: null, &quot;fill&quot;: true, &quot;fillColor&quot;: &quot;blue&quot;, &quot;fillOpacity&quot;: 0.2, &quot;fillRule&quot;: &quot;evenodd&quot;, &quot;lineCap&quot;: &quot;round&quot;, &quot;lineJoin&quot;: &quot;round&quot;, &quot;opacity&quot;: 1.0, &quot;radius&quot;: 9.366573447847983, &quot;stroke&quot;: true, &quot;weight&quot;: 3}\n",
       "            ).addTo(map_44e3e96609660dbcbcb47f957ff20567);\n",
       "        \n",
       "    \n",
       "        var popup_6088d00ffe855aff7b8af76114c0b76f = L.popup({&quot;maxWidth&quot;: &quot;100%&quot;});\n",
       "\n",
       "        \n",
       "            \n",
       "                var html_849bbe3575153d2c3c99292d34387919 = $(`&lt;div id=&quot;html_849bbe3575153d2c3c99292d34387919&quot; style=&quot;width: 100.0%; height: 100.0%;&quot;&gt;Central African Republic&lt;/div&gt;`)[0];\n",
       "                popup_6088d00ffe855aff7b8af76114c0b76f.setContent(html_849bbe3575153d2c3c99292d34387919);\n",
       "            \n",
       "        \n",
       "\n",
       "        circle_marker_8bd4e6b449f135699bb53be42911e480.bindPopup(popup_6088d00ffe855aff7b8af76114c0b76f)\n",
       "        ;\n",
       "\n",
       "        \n",
       "    \n",
       "    \n",
       "            var circle_marker_3a0f4c746a2e2a12989dcb8605fc0945 = L.circleMarker(\n",
       "                [60.10867, -113.64258],\n",
       "                {&quot;bubblingMouseEvents&quot;: true, &quot;color&quot;: &quot;green&quot;, &quot;dashArray&quot;: null, &quot;dashOffset&quot;: null, &quot;fill&quot;: true, &quot;fillColor&quot;: &quot;green&quot;, &quot;fillOpacity&quot;: 0.2, &quot;fillRule&quot;: &quot;evenodd&quot;, &quot;lineCap&quot;: &quot;round&quot;, &quot;lineJoin&quot;: &quot;round&quot;, &quot;opacity&quot;: 1.0, &quot;radius&quot;: 1.9224051187434574, &quot;stroke&quot;: true, &quot;weight&quot;: 3}\n",
       "            ).addTo(map_44e3e96609660dbcbcb47f957ff20567);\n",
       "        \n",
       "    \n",
       "        var popup_4f27b62adc9092694730fb3abaacfd31 = L.popup({&quot;maxWidth&quot;: &quot;100%&quot;});\n",
       "\n",
       "        \n",
       "            \n",
       "                var html_56ae74ac42bd18ee0d21a4750bfb8e95 = $(`&lt;div id=&quot;html_56ae74ac42bd18ee0d21a4750bfb8e95&quot; style=&quot;width: 100.0%; height: 100.0%;&quot;&gt;Canada&lt;/div&gt;`)[0];\n",
       "                popup_4f27b62adc9092694730fb3abaacfd31.setContent(html_56ae74ac42bd18ee0d21a4750bfb8e95);\n",
       "            \n",
       "        \n",
       "\n",
       "        circle_marker_3a0f4c746a2e2a12989dcb8605fc0945.bindPopup(popup_4f27b62adc9092694730fb3abaacfd31)\n",
       "        ;\n",
       "\n",
       "        \n",
       "    \n",
       "    \n",
       "            var circle_marker_07f64df640b003f56f93c20f40d9d289 = L.circleMarker(\n",
       "                [47.00016, 8.01427],\n",
       "                {&quot;bubblingMouseEvents&quot;: true, &quot;color&quot;: &quot;black&quot;, &quot;dashArray&quot;: null, &quot;dashOffset&quot;: null, &quot;fill&quot;: true, &quot;fillColor&quot;: &quot;black&quot;, &quot;fillOpacity&quot;: 0.2, &quot;fillRule&quot;: &quot;evenodd&quot;, &quot;lineCap&quot;: &quot;round&quot;, &quot;lineJoin&quot;: &quot;round&quot;, &quot;opacity&quot;: 1.0, &quot;radius&quot;: 1.2904780751862297, &quot;stroke&quot;: true, &quot;weight&quot;: 3}\n",
       "            ).addTo(map_44e3e96609660dbcbcb47f957ff20567);\n",
       "        \n",
       "    \n",
       "        var popup_f8426a89855aabee4d808eeb37e7fc0f = L.popup({&quot;maxWidth&quot;: &quot;100%&quot;});\n",
       "\n",
       "        \n",
       "            \n",
       "                var html_868116d406d56f17d2889369ca341fc7 = $(`&lt;div id=&quot;html_868116d406d56f17d2889369ca341fc7&quot; style=&quot;width: 100.0%; height: 100.0%;&quot;&gt;Switzerland&lt;/div&gt;`)[0];\n",
       "                popup_f8426a89855aabee4d808eeb37e7fc0f.setContent(html_868116d406d56f17d2889369ca341fc7);\n",
       "            \n",
       "        \n",
       "\n",
       "        circle_marker_07f64df640b003f56f93c20f40d9d289.bindPopup(popup_f8426a89855aabee4d808eeb37e7fc0f)\n",
       "        ;\n",
       "\n",
       "        \n",
       "    \n",
       "    \n",
       "            var circle_marker_3c4476e0a783c6981e6d665b5f6304a7 = L.circleMarker(\n",
       "                [-33.45694, -70.64827],\n",
       "                {&quot;bubblingMouseEvents&quot;: true, &quot;color&quot;: &quot;green&quot;, &quot;dashArray&quot;: null, &quot;dashOffset&quot;: null, &quot;fill&quot;: true, &quot;fillColor&quot;: &quot;green&quot;, &quot;fillOpacity&quot;: 0.2, &quot;fillRule&quot;: &quot;evenodd&quot;, &quot;lineCap&quot;: &quot;round&quot;, &quot;lineJoin&quot;: &quot;round&quot;, &quot;opacity&quot;: 1.0, &quot;radius&quot;: 2.123175164028212, &quot;stroke&quot;: true, &quot;weight&quot;: 3}\n",
       "            ).addTo(map_44e3e96609660dbcbcb47f957ff20567);\n",
       "        \n",
       "    \n",
       "        var popup_ee5b306ae2641f702ab4fa89f974756c = L.popup({&quot;maxWidth&quot;: &quot;100%&quot;});\n",
       "\n",
       "        \n",
       "            \n",
       "                var html_02205a4008550ec7cbc44b1d83bc4045 = $(`&lt;div id=&quot;html_02205a4008550ec7cbc44b1d83bc4045&quot; style=&quot;width: 100.0%; height: 100.0%;&quot;&gt;Chile&lt;/div&gt;`)[0];\n",
       "                popup_ee5b306ae2641f702ab4fa89f974756c.setContent(html_02205a4008550ec7cbc44b1d83bc4045);\n",
       "            \n",
       "        \n",
       "\n",
       "        circle_marker_3c4476e0a783c6981e6d665b5f6304a7.bindPopup(popup_ee5b306ae2641f702ab4fa89f974756c)\n",
       "        ;\n",
       "\n",
       "        \n",
       "    \n",
       "    \n",
       "            var circle_marker_d9a6242db7dd4780990a50b9d15d6b9a = L.circleMarker(\n",
       "                [35.0, 105.0],\n",
       "                {&quot;bubblingMouseEvents&quot;: true, &quot;color&quot;: &quot;red&quot;, &quot;dashArray&quot;: null, &quot;dashOffset&quot;: null, &quot;fill&quot;: true, &quot;fillColor&quot;: &quot;red&quot;, &quot;fillOpacity&quot;: 0.2, &quot;fillRule&quot;: &quot;evenodd&quot;, &quot;lineCap&quot;: &quot;round&quot;, &quot;lineJoin&quot;: &quot;round&quot;, &quot;opacity&quot;: 1.0, &quot;radius&quot;: 52.225656891999506, &quot;stroke&quot;: true, &quot;weight&quot;: 3}\n",
       "            ).addTo(map_44e3e96609660dbcbcb47f957ff20567);\n",
       "        \n",
       "    \n",
       "        var popup_0ea34e7fffc1baf131f8b299d75ea4cd = L.popup({&quot;maxWidth&quot;: &quot;100%&quot;});\n",
       "\n",
       "        \n",
       "            \n",
       "                var html_ad11d23234326d3aadcbfe22ab37d0bf = $(`&lt;div id=&quot;html_ad11d23234326d3aadcbfe22ab37d0bf&quot; style=&quot;width: 100.0%; height: 100.0%;&quot;&gt;China&lt;/div&gt;`)[0];\n",
       "                popup_0ea34e7fffc1baf131f8b299d75ea4cd.setContent(html_ad11d23234326d3aadcbfe22ab37d0bf);\n",
       "            \n",
       "        \n",
       "\n",
       "        circle_marker_d9a6242db7dd4780990a50b9d15d6b9a.bindPopup(popup_0ea34e7fffc1baf131f8b299d75ea4cd)\n",
       "        ;\n",
       "\n",
       "        \n",
       "    \n",
       "    \n",
       "            var circle_marker_bfb1a23cd7d8fc3cf9a04245628b26e7 = L.circleMarker(\n",
       "                [8.0, -5.5],\n",
       "                {&quot;bubblingMouseEvents&quot;: true, &quot;color&quot;: &quot;blue&quot;, &quot;dashArray&quot;: null, &quot;dashOffset&quot;: null, &quot;fill&quot;: true, &quot;fillColor&quot;: &quot;blue&quot;, &quot;fillOpacity&quot;: 0.2, &quot;fillRule&quot;: &quot;evenodd&quot;, &quot;lineCap&quot;: &quot;round&quot;, &quot;lineJoin&quot;: &quot;round&quot;, &quot;opacity&quot;: 1.0, &quot;radius&quot;: 15.133268463096499, &quot;stroke&quot;: true, &quot;weight&quot;: 3}\n",
       "            ).addTo(map_44e3e96609660dbcbcb47f957ff20567);\n",
       "        \n",
       "    \n",
       "        var popup_5f6892759720f6ae9028ce24956e2468 = L.popup({&quot;maxWidth&quot;: &quot;100%&quot;});\n",
       "\n",
       "        \n",
       "            \n",
       "                var html_976d2519b5c1e607b7d90ce929b78844 = $(`&lt;div id=&quot;html_976d2519b5c1e607b7d90ce929b78844&quot; style=&quot;width: 100.0%; height: 100.0%;&quot;&gt;Cote d&#x27;Ivoire&lt;/div&gt;`)[0];\n",
       "                popup_5f6892759720f6ae9028ce24956e2468.setContent(html_976d2519b5c1e607b7d90ce929b78844);\n",
       "            \n",
       "        \n",
       "\n",
       "        circle_marker_bfb1a23cd7d8fc3cf9a04245628b26e7.bindPopup(popup_5f6892759720f6ae9028ce24956e2468)\n",
       "        ;\n",
       "\n",
       "        \n",
       "    \n",
       "    \n",
       "            var circle_marker_d2af5a53e8d54bd31b59fa110908d118 = L.circleMarker(\n",
       "                [6.0, 12.5],\n",
       "                {&quot;bubblingMouseEvents&quot;: true, &quot;color&quot;: &quot;blue&quot;, &quot;dashArray&quot;: null, &quot;dashOffset&quot;: null, &quot;fill&quot;: true, &quot;fillColor&quot;: &quot;blue&quot;, &quot;fillOpacity&quot;: 0.2, &quot;fillRule&quot;: &quot;evenodd&quot;, &quot;lineCap&quot;: &quot;round&quot;, &quot;lineJoin&quot;: &quot;round&quot;, &quot;opacity&quot;: 1.0, &quot;radius&quot;: 13.37047776795466, &quot;stroke&quot;: true, &quot;weight&quot;: 3}\n",
       "            ).addTo(map_44e3e96609660dbcbcb47f957ff20567);\n",
       "        \n",
       "    \n",
       "        var popup_f5b3d41d8489cbfebfbd6862e6ffb264 = L.popup({&quot;maxWidth&quot;: &quot;100%&quot;});\n",
       "\n",
       "        \n",
       "            \n",
       "                var html_a703dd01fcadb20437efe929b8f2a409 = $(`&lt;div id=&quot;html_a703dd01fcadb20437efe929b8f2a409&quot; style=&quot;width: 100.0%; height: 100.0%;&quot;&gt;Cameroon&lt;/div&gt;`)[0];\n",
       "                popup_f5b3d41d8489cbfebfbd6862e6ffb264.setContent(html_a703dd01fcadb20437efe929b8f2a409);\n",
       "            \n",
       "        \n",
       "\n",
       "        circle_marker_d2af5a53e8d54bd31b59fa110908d118.bindPopup(popup_f5b3d41d8489cbfebfbd6862e6ffb264)\n",
       "        ;\n",
       "\n",
       "        \n",
       "    \n",
       "    \n",
       "            var circle_marker_be3e4ce30f47a3102ecf5a75593eaa50 = L.circleMarker(\n",
       "                [-2.5, 23.5],\n",
       "                {&quot;bubblingMouseEvents&quot;: true, &quot;color&quot;: &quot;blue&quot;, &quot;dashArray&quot;: null, &quot;dashOffset&quot;: null, &quot;fill&quot;: true, &quot;fillColor&quot;: &quot;blue&quot;, &quot;fillOpacity&quot;: 0.2, &quot;fillRule&quot;: &quot;evenodd&quot;, &quot;lineCap&quot;: &quot;round&quot;, &quot;lineJoin&quot;: &quot;round&quot;, &quot;opacity&quot;: 1.0, &quot;radius&quot;: 42.45893492268982, &quot;stroke&quot;: true, &quot;weight&quot;: 3}\n",
       "            ).addTo(map_44e3e96609660dbcbcb47f957ff20567);\n",
       "        \n",
       "    \n",
       "        var popup_2310949b9c4ab5533b7e7e591a22fdb8 = L.popup({&quot;maxWidth&quot;: &quot;100%&quot;});\n",
       "\n",
       "        \n",
       "            \n",
       "                var html_43ee5de955ff203055b315eb0c2a83b9 = $(`&lt;div id=&quot;html_43ee5de955ff203055b315eb0c2a83b9&quot; style=&quot;width: 100.0%; height: 100.0%;&quot;&gt;Congo, Dem. Rep.&lt;/div&gt;`)[0];\n",
       "                popup_2310949b9c4ab5533b7e7e591a22fdb8.setContent(html_43ee5de955ff203055b315eb0c2a83b9);\n",
       "            \n",
       "        \n",
       "\n",
       "        circle_marker_be3e4ce30f47a3102ecf5a75593eaa50.bindPopup(popup_2310949b9c4ab5533b7e7e591a22fdb8)\n",
       "        ;\n",
       "\n",
       "        \n",
       "    \n",
       "    \n",
       "            var circle_marker_f91c8162f614c70f700c1ecf714c4d5b = L.circleMarker(\n",
       "                [-1.0, 15.5],\n",
       "                {&quot;bubblingMouseEvents&quot;: true, &quot;color&quot;: &quot;blue&quot;, &quot;dashArray&quot;: null, &quot;dashOffset&quot;: null, &quot;fill&quot;: true, &quot;fillColor&quot;: &quot;blue&quot;, &quot;fillOpacity&quot;: 0.2, &quot;fillRule&quot;: &quot;evenodd&quot;, &quot;lineCap&quot;: &quot;round&quot;, &quot;lineJoin&quot;: &quot;round&quot;, &quot;opacity&quot;: 1.0, &quot;radius&quot;: 6.681874714978711, &quot;stroke&quot;: true, &quot;weight&quot;: 3}\n",
       "            ).addTo(map_44e3e96609660dbcbcb47f957ff20567);\n",
       "        \n",
       "    \n",
       "        var popup_32bd53285b1489d502b43497c3631d05 = L.popup({&quot;maxWidth&quot;: &quot;100%&quot;});\n",
       "\n",
       "        \n",
       "            \n",
       "                var html_97114abaa5f91e4bd56155e39a81eac9 = $(`&lt;div id=&quot;html_97114abaa5f91e4bd56155e39a81eac9&quot; style=&quot;width: 100.0%; height: 100.0%;&quot;&gt;Congo, Rep.&lt;/div&gt;`)[0];\n",
       "                popup_32bd53285b1489d502b43497c3631d05.setContent(html_97114abaa5f91e4bd56155e39a81eac9);\n",
       "            \n",
       "        \n",
       "\n",
       "        circle_marker_f91c8162f614c70f700c1ecf714c4d5b.bindPopup(popup_32bd53285b1489d502b43497c3631d05)\n",
       "        ;\n",
       "\n",
       "        \n",
       "    \n",
       "    \n",
       "            var circle_marker_c4d102b63b67328298899cf28e9712d6 = L.circleMarker(\n",
       "                [4.0, -73.25],\n",
       "                {&quot;bubblingMouseEvents&quot;: true, &quot;color&quot;: &quot;green&quot;, &quot;dashArray&quot;: null, &quot;dashOffset&quot;: null, &quot;fill&quot;: true, &quot;fillColor&quot;: &quot;green&quot;, &quot;fillOpacity&quot;: 0.2, &quot;fillRule&quot;: &quot;evenodd&quot;, &quot;lineCap&quot;: &quot;round&quot;, &quot;lineJoin&quot;: &quot;round&quot;, &quot;opacity&quot;: 1.0, &quot;radius&quot;: 9.002383384413296, &quot;stroke&quot;: true, &quot;weight&quot;: 3}\n",
       "            ).addTo(map_44e3e96609660dbcbcb47f957ff20567);\n",
       "        \n",
       "    \n",
       "        var popup_003c24e66e2df3454d0a5eefbcccd13f = L.popup({&quot;maxWidth&quot;: &quot;100%&quot;});\n",
       "\n",
       "        \n",
       "            \n",
       "                var html_ea276805e78c1bf6b4214edaf832ebcf = $(`&lt;div id=&quot;html_ea276805e78c1bf6b4214edaf832ebcf&quot; style=&quot;width: 100.0%; height: 100.0%;&quot;&gt;Colombia&lt;/div&gt;`)[0];\n",
       "                popup_003c24e66e2df3454d0a5eefbcccd13f.setContent(html_ea276805e78c1bf6b4214edaf832ebcf);\n",
       "            \n",
       "        \n",
       "\n",
       "        circle_marker_c4d102b63b67328298899cf28e9712d6.bindPopup(popup_003c24e66e2df3454d0a5eefbcccd13f)\n",
       "        ;\n",
       "\n",
       "        \n",
       "    \n",
       "    \n",
       "            var circle_marker_ba19289cfab0a38a1b3004c02983c203 = L.circleMarker(\n",
       "                [-12.23333, 44.44553],\n",
       "                {&quot;bubblingMouseEvents&quot;: true, &quot;color&quot;: &quot;blue&quot;, &quot;dashArray&quot;: null, &quot;dashOffset&quot;: null, &quot;fill&quot;: true, &quot;fillColor&quot;: &quot;blue&quot;, &quot;fillOpacity&quot;: 0.2, &quot;fillRule&quot;: &quot;evenodd&quot;, &quot;lineCap&quot;: &quot;round&quot;, &quot;lineJoin&quot;: &quot;round&quot;, &quot;opacity&quot;: 1.0, &quot;radius&quot;: 3.1816440984856076, &quot;stroke&quot;: true, &quot;weight&quot;: 3}\n",
       "            ).addTo(map_44e3e96609660dbcbcb47f957ff20567);\n",
       "        \n",
       "    \n",
       "        var popup_589f4b67c82338e617eec9e9e20141f4 = L.popup({&quot;maxWidth&quot;: &quot;100%&quot;});\n",
       "\n",
       "        \n",
       "            \n",
       "                var html_838cc83e926411981e630a9c095abf65 = $(`&lt;div id=&quot;html_838cc83e926411981e630a9c095abf65&quot; style=&quot;width: 100.0%; height: 100.0%;&quot;&gt;Comoros&lt;/div&gt;`)[0];\n",
       "                popup_589f4b67c82338e617eec9e9e20141f4.setContent(html_838cc83e926411981e630a9c095abf65);\n",
       "            \n",
       "        \n",
       "\n",
       "        circle_marker_ba19289cfab0a38a1b3004c02983c203.bindPopup(popup_589f4b67c82338e617eec9e9e20141f4)\n",
       "        ;\n",
       "\n",
       "        \n",
       "    \n",
       "    \n",
       "            var circle_marker_976bb06e502bf3605b11616128c35eab = L.circleMarker(\n",
       "                [16.0, -24.0],\n",
       "                {&quot;bubblingMouseEvents&quot;: true, &quot;color&quot;: &quot;blue&quot;, &quot;dashArray&quot;: null, &quot;dashOffset&quot;: null, &quot;fill&quot;: true, &quot;fillColor&quot;: &quot;blue&quot;, &quot;fillOpacity&quot;: 0.2, &quot;fillRule&quot;: &quot;evenodd&quot;, &quot;lineCap&quot;: &quot;round&quot;, &quot;lineJoin&quot;: &quot;round&quot;, &quot;opacity&quot;: 1.0, &quot;radius&quot;: 1.4667952657766725, &quot;stroke&quot;: true, &quot;weight&quot;: 3}\n",
       "            ).addTo(map_44e3e96609660dbcbcb47f957ff20567);\n",
       "        \n",
       "    \n",
       "        var popup_253a55adbea5c013dd1f2a6689985f9b = L.popup({&quot;maxWidth&quot;: &quot;100%&quot;});\n",
       "\n",
       "        \n",
       "            \n",
       "                var html_fc0333926db3de2a4954135dbaad89b1 = $(`&lt;div id=&quot;html_fc0333926db3de2a4954135dbaad89b1&quot; style=&quot;width: 100.0%; height: 100.0%;&quot;&gt;Cape Verde&lt;/div&gt;`)[0];\n",
       "                popup_253a55adbea5c013dd1f2a6689985f9b.setContent(html_fc0333926db3de2a4954135dbaad89b1);\n",
       "            \n",
       "        \n",
       "\n",
       "        circle_marker_976bb06e502bf3605b11616128c35eab.bindPopup(popup_253a55adbea5c013dd1f2a6689985f9b)\n",
       "        ;\n",
       "\n",
       "        \n",
       "    \n",
       "    \n",
       "            var circle_marker_49c235555ddc967eaa3d63ce0ba0d0d4 = L.circleMarker(\n",
       "                [10.0, -84.0],\n",
       "                {&quot;bubblingMouseEvents&quot;: true, &quot;color&quot;: &quot;green&quot;, &quot;dashArray&quot;: null, &quot;dashOffset&quot;: null, &quot;fill&quot;: true, &quot;fillColor&quot;: &quot;green&quot;, &quot;fillOpacity&quot;: 0.2, &quot;fillRule&quot;: &quot;evenodd&quot;, &quot;lineCap&quot;: &quot;round&quot;, &quot;lineJoin&quot;: &quot;round&quot;, &quot;opacity&quot;: 1.0, &quot;radius&quot;: 1.402496325012203, &quot;stroke&quot;: true, &quot;weight&quot;: 3}\n",
       "            ).addTo(map_44e3e96609660dbcbcb47f957ff20567);\n",
       "        \n",
       "    \n",
       "        var popup_24fce670b737dac2fd803368b9ebcf68 = L.popup({&quot;maxWidth&quot;: &quot;100%&quot;});\n",
       "\n",
       "        \n",
       "            \n",
       "                var html_487536067dc6ac88dbb33f3d5f759455 = $(`&lt;div id=&quot;html_487536067dc6ac88dbb33f3d5f759455&quot; style=&quot;width: 100.0%; height: 100.0%;&quot;&gt;Costa Rica&lt;/div&gt;`)[0];\n",
       "                popup_24fce670b737dac2fd803368b9ebcf68.setContent(html_487536067dc6ac88dbb33f3d5f759455);\n",
       "            \n",
       "        \n",
       "\n",
       "        circle_marker_49c235555ddc967eaa3d63ce0ba0d0d4.bindPopup(popup_24fce670b737dac2fd803368b9ebcf68)\n",
       "        ;\n",
       "\n",
       "        \n",
       "    \n",
       "    \n",
       "            var circle_marker_92d67a830b579c4d38bd9dedc2163684 = L.circleMarker(\n",
       "                [49.75, 15.0],\n",
       "                {&quot;bubblingMouseEvents&quot;: true, &quot;color&quot;: &quot;black&quot;, &quot;dashArray&quot;: null, &quot;dashOffset&quot;: null, &quot;fill&quot;: true, &quot;fillColor&quot;: &quot;black&quot;, &quot;fillOpacity&quot;: 0.2, &quot;fillRule&quot;: &quot;evenodd&quot;, &quot;lineCap&quot;: &quot;round&quot;, &quot;lineJoin&quot;: &quot;round&quot;, &quot;opacity&quot;: 1.0, &quot;radius&quot;: 0.31720301862166483, &quot;stroke&quot;: true, &quot;weight&quot;: 3}\n",
       "            ).addTo(map_44e3e96609660dbcbcb47f957ff20567);\n",
       "        \n",
       "    \n",
       "        var popup_77a4585526f5c99751f31afcc9aa5e0b = L.popup({&quot;maxWidth&quot;: &quot;100%&quot;});\n",
       "\n",
       "        \n",
       "            \n",
       "                var html_f0cf0474dc158a2a32e085a7c518ae49 = $(`&lt;div id=&quot;html_f0cf0474dc158a2a32e085a7c518ae49&quot; style=&quot;width: 100.0%; height: 100.0%;&quot;&gt;Czech Republic&lt;/div&gt;`)[0];\n",
       "                popup_77a4585526f5c99751f31afcc9aa5e0b.setContent(html_f0cf0474dc158a2a32e085a7c518ae49);\n",
       "            \n",
       "        \n",
       "\n",
       "        circle_marker_92d67a830b579c4d38bd9dedc2163684.bindPopup(popup_77a4585526f5c99751f31afcc9aa5e0b)\n",
       "        ;\n",
       "\n",
       "        \n",
       "    \n",
       "    \n",
       "            var circle_marker_dc91af732ccdbb39583f4bbd491aef24 = L.circleMarker(\n",
       "                [51.5, 10.5],\n",
       "                {&quot;bubblingMouseEvents&quot;: true, &quot;color&quot;: &quot;black&quot;, &quot;dashArray&quot;: null, &quot;dashOffset&quot;: null, &quot;fill&quot;: true, &quot;fillColor&quot;: &quot;black&quot;, &quot;fillOpacity&quot;: 0.2, &quot;fillRule&quot;: &quot;evenodd&quot;, &quot;lineCap&quot;: &quot;round&quot;, &quot;lineJoin&quot;: &quot;round&quot;, &quot;opacity&quot;: 1.0, &quot;radius&quot;: 2.957623648166546, &quot;stroke&quot;: true, &quot;weight&quot;: 3}\n",
       "            ).addTo(map_44e3e96609660dbcbcb47f957ff20567);\n",
       "        \n",
       "    \n",
       "        var popup_89c8b5deaece9905e4e28a412d0b1c99 = L.popup({&quot;maxWidth&quot;: &quot;100%&quot;});\n",
       "\n",
       "        \n",
       "            \n",
       "                var html_c6ae2ae7e7456b559c0e2258d1770461 = $(`&lt;div id=&quot;html_c6ae2ae7e7456b559c0e2258d1770461&quot; style=&quot;width: 100.0%; height: 100.0%;&quot;&gt;Germany&lt;/div&gt;`)[0];\n",
       "                popup_89c8b5deaece9905e4e28a412d0b1c99.setContent(html_c6ae2ae7e7456b559c0e2258d1770461);\n",
       "            \n",
       "        \n",
       "\n",
       "        circle_marker_dc91af732ccdbb39583f4bbd491aef24.bindPopup(popup_89c8b5deaece9905e4e28a412d0b1c99)\n",
       "        ;\n",
       "\n",
       "        \n",
       "    \n",
       "    \n",
       "            var circle_marker_c08cdd8547e75eed14f06c3b7a2826ee = L.circleMarker(\n",
       "                [11.58901, 43.14503],\n",
       "                {&quot;bubblingMouseEvents&quot;: true, &quot;color&quot;: &quot;blue&quot;, &quot;dashArray&quot;: null, &quot;dashOffset&quot;: null, &quot;fill&quot;: true, &quot;fillColor&quot;: &quot;blue&quot;, &quot;fillOpacity&quot;: 0.2, &quot;fillRule&quot;: &quot;evenodd&quot;, &quot;lineCap&quot;: &quot;round&quot;, &quot;lineJoin&quot;: &quot;round&quot;, &quot;opacity&quot;: 1.0, &quot;radius&quot;: 2.244091994176071, &quot;stroke&quot;: true, &quot;weight&quot;: 3}\n",
       "            ).addTo(map_44e3e96609660dbcbcb47f957ff20567);\n",
       "        \n",
       "    \n",
       "        var popup_6675637be6ceeedb7d3e3a8cd9ac58ba = L.popup({&quot;maxWidth&quot;: &quot;100%&quot;});\n",
       "\n",
       "        \n",
       "            \n",
       "                var html_8b9c86f781539443f02b9eb2b5309888 = $(`&lt;div id=&quot;html_8b9c86f781539443f02b9eb2b5309888&quot; style=&quot;width: 100.0%; height: 100.0%;&quot;&gt;Djibouti&lt;/div&gt;`)[0];\n",
       "                popup_6675637be6ceeedb7d3e3a8cd9ac58ba.setContent(html_8b9c86f781539443f02b9eb2b5309888);\n",
       "            \n",
       "        \n",
       "\n",
       "        circle_marker_c08cdd8547e75eed14f06c3b7a2826ee.bindPopup(popup_6675637be6ceeedb7d3e3a8cd9ac58ba)\n",
       "        ;\n",
       "\n",
       "        \n",
       "    \n",
       "    \n",
       "            var circle_marker_0563038137fc8e5ccaf0d3f1892adefd = L.circleMarker(\n",
       "                [56.0, 10.0],\n",
       "                {&quot;bubblingMouseEvents&quot;: true, &quot;color&quot;: &quot;black&quot;, &quot;dashArray&quot;: null, &quot;dashOffset&quot;: null, &quot;fill&quot;: true, &quot;fillColor&quot;: &quot;black&quot;, &quot;fillOpacity&quot;: 0.2, &quot;fillRule&quot;: &quot;evenodd&quot;, &quot;lineCap&quot;: &quot;round&quot;, &quot;lineJoin&quot;: &quot;round&quot;, &quot;opacity&quot;: 1.0, &quot;radius&quot;: 1.0884180738164053, &quot;stroke&quot;: true, &quot;weight&quot;: 3}\n",
       "            ).addTo(map_44e3e96609660dbcbcb47f957ff20567);\n",
       "        \n",
       "    \n",
       "        var popup_c5fb824b11a6a954858e102cd12d9be2 = L.popup({&quot;maxWidth&quot;: &quot;100%&quot;});\n",
       "\n",
       "        \n",
       "            \n",
       "                var html_e1328c1032d3da057ece0c11e3805348 = $(`&lt;div id=&quot;html_e1328c1032d3da057ece0c11e3805348&quot; style=&quot;width: 100.0%; height: 100.0%;&quot;&gt;Denmark&lt;/div&gt;`)[0];\n",
       "                popup_c5fb824b11a6a954858e102cd12d9be2.setContent(html_e1328c1032d3da057ece0c11e3805348);\n",
       "            \n",
       "        \n",
       "\n",
       "        circle_marker_0563038137fc8e5ccaf0d3f1892adefd.bindPopup(popup_c5fb824b11a6a954858e102cd12d9be2)\n",
       "        ;\n",
       "\n",
       "        \n",
       "    \n",
       "    \n",
       "            var circle_marker_c5be00aaa7bf80b87a5dd296e2e7a67d = L.circleMarker(\n",
       "                [19.0, -70.66667],\n",
       "                {&quot;bubblingMouseEvents&quot;: true, &quot;color&quot;: &quot;green&quot;, &quot;dashArray&quot;: null, &quot;dashOffset&quot;: null, &quot;fill&quot;: true, &quot;fillColor&quot;: &quot;green&quot;, &quot;fillOpacity&quot;: 0.2, &quot;fillRule&quot;: &quot;evenodd&quot;, &quot;lineCap&quot;: &quot;round&quot;, &quot;lineJoin&quot;: &quot;round&quot;, &quot;opacity&quot;: 1.0, &quot;radius&quot;: 2.6350734064183507, &quot;stroke&quot;: true, &quot;weight&quot;: 3}\n",
       "            ).addTo(map_44e3e96609660dbcbcb47f957ff20567);\n",
       "        \n",
       "    \n",
       "        var popup_bdc51c4f0fe238bf080c4f154fd381b3 = L.popup({&quot;maxWidth&quot;: &quot;100%&quot;});\n",
       "\n",
       "        \n",
       "            \n",
       "                var html_38ebd9c54869761e09b494a4825580d6 = $(`&lt;div id=&quot;html_38ebd9c54869761e09b494a4825580d6&quot; style=&quot;width: 100.0%; height: 100.0%;&quot;&gt;Dominican Republic&lt;/div&gt;`)[0];\n",
       "                popup_bdc51c4f0fe238bf080c4f154fd381b3.setContent(html_38ebd9c54869761e09b494a4825580d6);\n",
       "            \n",
       "        \n",
       "\n",
       "        circle_marker_c5be00aaa7bf80b87a5dd296e2e7a67d.bindPopup(popup_bdc51c4f0fe238bf080c4f154fd381b3)\n",
       "        ;\n",
       "\n",
       "        \n",
       "    \n",
       "    \n",
       "            var circle_marker_3bc84d58402a5e0184dd2fbb2abf5ac6 = L.circleMarker(\n",
       "                [28.0, 3.0],\n",
       "                {&quot;bubblingMouseEvents&quot;: true, &quot;color&quot;: &quot;blue&quot;, &quot;dashArray&quot;: null, &quot;dashOffset&quot;: null, &quot;fill&quot;: true, &quot;fillColor&quot;: &quot;blue&quot;, &quot;fillOpacity&quot;: 0.2, &quot;fillRule&quot;: &quot;evenodd&quot;, &quot;lineCap&quot;: &quot;round&quot;, &quot;lineJoin&quot;: &quot;round&quot;, &quot;opacity&quot;: 1.0, &quot;radius&quot;: 8.547725420605834, &quot;stroke&quot;: true, &quot;weight&quot;: 3}\n",
       "            ).addTo(map_44e3e96609660dbcbcb47f957ff20567);\n",
       "        \n",
       "    \n",
       "        var popup_9313daf215ea20c2bbfc5b9d86679366 = L.popup({&quot;maxWidth&quot;: &quot;100%&quot;});\n",
       "\n",
       "        \n",
       "            \n",
       "                var html_750fa118458e3bab5ec79f43afcd0ff6 = $(`&lt;div id=&quot;html_750fa118458e3bab5ec79f43afcd0ff6&quot; style=&quot;width: 100.0%; height: 100.0%;&quot;&gt;Algeria&lt;/div&gt;`)[0];\n",
       "                popup_9313daf215ea20c2bbfc5b9d86679366.setContent(html_750fa118458e3bab5ec79f43afcd0ff6);\n",
       "            \n",
       "        \n",
       "\n",
       "        circle_marker_3bc84d58402a5e0184dd2fbb2abf5ac6.bindPopup(popup_9313daf215ea20c2bbfc5b9d86679366)\n",
       "        ;\n",
       "\n",
       "        \n",
       "    \n",
       "    \n",
       "            var circle_marker_bc9aa38c669f8609449d6e5d821de4b3 = L.circleMarker(\n",
       "                [-1.25, -78.25],\n",
       "                {&quot;bubblingMouseEvents&quot;: true, &quot;color&quot;: &quot;green&quot;, &quot;dashArray&quot;: null, &quot;dashOffset&quot;: null, &quot;fill&quot;: true, &quot;fillColor&quot;: &quot;green&quot;, &quot;fillOpacity&quot;: 0.2, &quot;fillRule&quot;: &quot;evenodd&quot;, &quot;lineCap&quot;: &quot;round&quot;, &quot;lineJoin&quot;: &quot;round&quot;, &quot;opacity&quot;: 1.0, &quot;radius&quot;: 4.34440267014846, &quot;stroke&quot;: true, &quot;weight&quot;: 3}\n",
       "            ).addTo(map_44e3e96609660dbcbcb47f957ff20567);\n",
       "        \n",
       "    \n",
       "        var popup_c2bf17c096837ff4f1c710864a9e7a29 = L.popup({&quot;maxWidth&quot;: &quot;100%&quot;});\n",
       "\n",
       "        \n",
       "            \n",
       "                var html_060f0e45898af82cd5ddba2571b0df19 = $(`&lt;div id=&quot;html_060f0e45898af82cd5ddba2571b0df19&quot; style=&quot;width: 100.0%; height: 100.0%;&quot;&gt;Ecuador&lt;/div&gt;`)[0];\n",
       "                popup_c2bf17c096837ff4f1c710864a9e7a29.setContent(html_060f0e45898af82cd5ddba2571b0df19);\n",
       "            \n",
       "        \n",
       "\n",
       "        circle_marker_bc9aa38c669f8609449d6e5d821de4b3.bindPopup(popup_c2bf17c096837ff4f1c710864a9e7a29)\n",
       "        ;\n",
       "\n",
       "        \n",
       "    \n",
       "    \n",
       "            var circle_marker_049f4a333b66d20e34b557bd4c1ec089 = L.circleMarker(\n",
       "                [27.0, 30.0],\n",
       "                {&quot;bubblingMouseEvents&quot;: true, &quot;color&quot;: &quot;blue&quot;, &quot;dashArray&quot;: null, &quot;dashOffset&quot;: null, &quot;fill&quot;: true, &quot;fillColor&quot;: &quot;blue&quot;, &quot;fillOpacity&quot;: 0.2, &quot;fillRule&quot;: &quot;evenodd&quot;, &quot;lineCap&quot;: &quot;round&quot;, &quot;lineJoin&quot;: &quot;round&quot;, &quot;opacity&quot;: 1.0, &quot;radius&quot;: 6.652627784125568, &quot;stroke&quot;: true, &quot;weight&quot;: 3}\n",
       "            ).addTo(map_44e3e96609660dbcbcb47f957ff20567);\n",
       "        \n",
       "    \n",
       "        var popup_cdd8bd16ef1122755c4a85150c85da00 = L.popup({&quot;maxWidth&quot;: &quot;100%&quot;});\n",
       "\n",
       "        \n",
       "            \n",
       "                var html_4b8a38d2bd0293c0b3e16622bcddc32d = $(`&lt;div id=&quot;html_4b8a38d2bd0293c0b3e16622bcddc32d&quot; style=&quot;width: 100.0%; height: 100.0%;&quot;&gt;Egypt&lt;/div&gt;`)[0];\n",
       "                popup_cdd8bd16ef1122755c4a85150c85da00.setContent(html_4b8a38d2bd0293c0b3e16622bcddc32d);\n",
       "            \n",
       "        \n",
       "\n",
       "        circle_marker_049f4a333b66d20e34b557bd4c1ec089.bindPopup(popup_cdd8bd16ef1122755c4a85150c85da00)\n",
       "        ;\n",
       "\n",
       "        \n",
       "    \n",
       "    \n",
       "            var circle_marker_cc97d5ea5bdc638bbbd4c55316fd62f7 = L.circleMarker(\n",
       "                [40.0, -4.0],\n",
       "                {&quot;bubblingMouseEvents&quot;: true, &quot;color&quot;: &quot;black&quot;, &quot;dashArray&quot;: null, &quot;dashOffset&quot;: null, &quot;fill&quot;: true, &quot;fillColor&quot;: &quot;black&quot;, &quot;fillOpacity&quot;: 0.2, &quot;fillRule&quot;: &quot;evenodd&quot;, &quot;lineCap&quot;: &quot;round&quot;, &quot;lineJoin&quot;: &quot;round&quot;, &quot;opacity&quot;: 1.0, &quot;radius&quot;: 5.912389201233562, &quot;stroke&quot;: true, &quot;weight&quot;: 3}\n",
       "            ).addTo(map_44e3e96609660dbcbcb47f957ff20567);\n",
       "        \n",
       "    \n",
       "        var popup_f5acd1fa9ab08f25e95b68f52b01fd1f = L.popup({&quot;maxWidth&quot;: &quot;100%&quot;});\n",
       "\n",
       "        \n",
       "            \n",
       "                var html_7de3320a797646e7e763b5bd55513248 = $(`&lt;div id=&quot;html_7de3320a797646e7e763b5bd55513248&quot; style=&quot;width: 100.0%; height: 100.0%;&quot;&gt;Spain&lt;/div&gt;`)[0];\n",
       "                popup_f5acd1fa9ab08f25e95b68f52b01fd1f.setContent(html_7de3320a797646e7e763b5bd55513248);\n",
       "            \n",
       "        \n",
       "\n",
       "        circle_marker_cc97d5ea5bdc638bbbd4c55316fd62f7.bindPopup(popup_f5acd1fa9ab08f25e95b68f52b01fd1f)\n",
       "        ;\n",
       "\n",
       "        \n",
       "    \n",
       "    \n",
       "            var circle_marker_25808bae5c51b8802659d7b7d8426463 = L.circleMarker(\n",
       "                [59.0, 26.0],\n",
       "                {&quot;bubblingMouseEvents&quot;: true, &quot;color&quot;: &quot;black&quot;, &quot;dashArray&quot;: null, &quot;dashOffset&quot;: null, &quot;fill&quot;: true, &quot;fillColor&quot;: &quot;black&quot;, &quot;fillOpacity&quot;: 0.2, &quot;fillRule&quot;: &quot;evenodd&quot;, &quot;lineCap&quot;: &quot;round&quot;, &quot;lineJoin&quot;: &quot;round&quot;, &quot;opacity&quot;: 1.0, &quot;radius&quot;: 0.6446344362605358, &quot;stroke&quot;: true, &quot;weight&quot;: 3}\n",
       "            ).addTo(map_44e3e96609660dbcbcb47f957ff20567);\n",
       "        \n",
       "    \n",
       "        var popup_ada55b907cf7358b630f48a5033db8a0 = L.popup({&quot;maxWidth&quot;: &quot;100%&quot;});\n",
       "\n",
       "        \n",
       "            \n",
       "                var html_1f8dfda68fcb6f813434287926a2a155 = $(`&lt;div id=&quot;html_1f8dfda68fcb6f813434287926a2a155&quot; style=&quot;width: 100.0%; height: 100.0%;&quot;&gt;Estonia&lt;/div&gt;`)[0];\n",
       "                popup_ada55b907cf7358b630f48a5033db8a0.setContent(html_1f8dfda68fcb6f813434287926a2a155);\n",
       "            \n",
       "        \n",
       "\n",
       "        circle_marker_25808bae5c51b8802659d7b7d8426463.bindPopup(popup_ada55b907cf7358b630f48a5033db8a0)\n",
       "        ;\n",
       "\n",
       "        \n",
       "    \n",
       "    \n",
       "            var circle_marker_08244345ab919bc8684fb3a589913e9d = L.circleMarker(\n",
       "                [9.0, 39.5],\n",
       "                {&quot;bubblingMouseEvents&quot;: true, &quot;color&quot;: &quot;blue&quot;, &quot;dashArray&quot;: null, &quot;dashOffset&quot;: null, &quot;fill&quot;: true, &quot;fillColor&quot;: &quot;blue&quot;, &quot;fillOpacity&quot;: 0.2, &quot;fillRule&quot;: &quot;evenodd&quot;, &quot;lineCap&quot;: &quot;round&quot;, &quot;lineJoin&quot;: &quot;round&quot;, &quot;opacity&quot;: 1.0, &quot;radius&quot;: 32.036203795508186, &quot;stroke&quot;: true, &quot;weight&quot;: 3}\n",
       "            ).addTo(map_44e3e96609660dbcbcb47f957ff20567);\n",
       "        \n",
       "    \n",
       "        var popup_986bcfeebb763b38e98dd3a442240811 = L.popup({&quot;maxWidth&quot;: &quot;100%&quot;});\n",
       "\n",
       "        \n",
       "            \n",
       "                var html_9f992adf627fcf4c40cba321d1f930d9 = $(`&lt;div id=&quot;html_9f992adf627fcf4c40cba321d1f930d9&quot; style=&quot;width: 100.0%; height: 100.0%;&quot;&gt;Ethiopia&lt;/div&gt;`)[0];\n",
       "                popup_986bcfeebb763b38e98dd3a442240811.setContent(html_9f992adf627fcf4c40cba321d1f930d9);\n",
       "            \n",
       "        \n",
       "\n",
       "        circle_marker_08244345ab919bc8684fb3a589913e9d.bindPopup(popup_986bcfeebb763b38e98dd3a442240811)\n",
       "        ;\n",
       "\n",
       "        \n",
       "    \n",
       "    \n",
       "            var circle_marker_2c9f7aef3f4ce31e98ac9133c7915b2a = L.circleMarker(\n",
       "                [64.0, 26.0],\n",
       "                {&quot;bubblingMouseEvents&quot;: true, &quot;color&quot;: &quot;black&quot;, &quot;dashArray&quot;: null, &quot;dashOffset&quot;: null, &quot;fill&quot;: true, &quot;fillColor&quot;: &quot;black&quot;, &quot;fillOpacity&quot;: 0.2, &quot;fillRule&quot;: &quot;evenodd&quot;, &quot;lineCap&quot;: &quot;round&quot;, &quot;lineJoin&quot;: &quot;round&quot;, &quot;opacity&quot;: 1.0, &quot;stroke&quot;: true, &quot;weight&quot;: 3}\n",
       "            ).addTo(map_44e3e96609660dbcbcb47f957ff20567);\n",
       "        \n",
       "    \n",
       "        var popup_44fa47328b4ee2495cc50a1abd7ec67a = L.popup({&quot;maxWidth&quot;: &quot;100%&quot;});\n",
       "\n",
       "        \n",
       "            \n",
       "                var html_70fc44deb40194b068e844bd047f5d57 = $(`&lt;div id=&quot;html_70fc44deb40194b068e844bd047f5d57&quot; style=&quot;width: 100.0%; height: 100.0%;&quot;&gt;Finland&lt;/div&gt;`)[0];\n",
       "                popup_44fa47328b4ee2495cc50a1abd7ec67a.setContent(html_70fc44deb40194b068e844bd047f5d57);\n",
       "            \n",
       "        \n",
       "\n",
       "        circle_marker_2c9f7aef3f4ce31e98ac9133c7915b2a.bindPopup(popup_44fa47328b4ee2495cc50a1abd7ec67a)\n",
       "        ;\n",
       "\n",
       "        \n",
       "    \n",
       "    \n",
       "            var circle_marker_50f7ddee2d9bbd0bba1984171dc25b8a = L.circleMarker(\n",
       "                [-18.0, 178.0],\n",
       "                {&quot;bubblingMouseEvents&quot;: true, &quot;color&quot;: &quot;red&quot;, &quot;dashArray&quot;: null, &quot;dashOffset&quot;: null, &quot;fill&quot;: true, &quot;fillColor&quot;: &quot;red&quot;, &quot;fillOpacity&quot;: 0.2, &quot;fillRule&quot;: &quot;evenodd&quot;, &quot;lineCap&quot;: &quot;round&quot;, &quot;lineJoin&quot;: &quot;round&quot;, &quot;opacity&quot;: 1.0, &quot;radius&quot;: 1.2685737233520922, &quot;stroke&quot;: true, &quot;weight&quot;: 3}\n",
       "            ).addTo(map_44e3e96609660dbcbcb47f957ff20567);\n",
       "        \n",
       "    \n",
       "        var popup_5b1b5d7fa2f4fb7248dad840bf3834b5 = L.popup({&quot;maxWidth&quot;: &quot;100%&quot;});\n",
       "\n",
       "        \n",
       "            \n",
       "                var html_6b6d756bb9c1ed4f207abff09efb55ac = $(`&lt;div id=&quot;html_6b6d756bb9c1ed4f207abff09efb55ac&quot; style=&quot;width: 100.0%; height: 100.0%;&quot;&gt;Fiji&lt;/div&gt;`)[0];\n",
       "                popup_5b1b5d7fa2f4fb7248dad840bf3834b5.setContent(html_6b6d756bb9c1ed4f207abff09efb55ac);\n",
       "            \n",
       "        \n",
       "\n",
       "        circle_marker_50f7ddee2d9bbd0bba1984171dc25b8a.bindPopup(popup_5b1b5d7fa2f4fb7248dad840bf3834b5)\n",
       "        ;\n",
       "\n",
       "        \n",
       "    \n",
       "    \n",
       "            var circle_marker_41a0debc88121509f76e216d0bc48f84 = L.circleMarker(\n",
       "                [46.0, 2.0],\n",
       "                {&quot;bubblingMouseEvents&quot;: true, &quot;color&quot;: &quot;black&quot;, &quot;dashArray&quot;: null, &quot;dashOffset&quot;: null, &quot;fill&quot;: true, &quot;fillColor&quot;: &quot;black&quot;, &quot;fillOpacity&quot;: 0.2, &quot;fillRule&quot;: &quot;evenodd&quot;, &quot;lineCap&quot;: &quot;round&quot;, &quot;lineJoin&quot;: &quot;round&quot;, &quot;opacity&quot;: 1.0, &quot;radius&quot;: 2.57001824901904, &quot;stroke&quot;: true, &quot;weight&quot;: 3}\n",
       "            ).addTo(map_44e3e96609660dbcbcb47f957ff20567);\n",
       "        \n",
       "    \n",
       "        var popup_d314df2f69a38ffc507a516b84b0cea6 = L.popup({&quot;maxWidth&quot;: &quot;100%&quot;});\n",
       "\n",
       "        \n",
       "            \n",
       "                var html_e44f877da4783bd050c63e1703795743 = $(`&lt;div id=&quot;html_e44f877da4783bd050c63e1703795743&quot; style=&quot;width: 100.0%; height: 100.0%;&quot;&gt;France&lt;/div&gt;`)[0];\n",
       "                popup_d314df2f69a38ffc507a516b84b0cea6.setContent(html_e44f877da4783bd050c63e1703795743);\n",
       "            \n",
       "        \n",
       "\n",
       "        circle_marker_41a0debc88121509f76e216d0bc48f84.bindPopup(popup_d314df2f69a38ffc507a516b84b0cea6)\n",
       "        ;\n",
       "\n",
       "        \n",
       "    \n",
       "    \n",
       "            var circle_marker_19feff336d3fa85dba1eb9a9f0880193 = L.circleMarker(\n",
       "                [6.924, 158.162],\n",
       "                {&quot;bubblingMouseEvents&quot;: true, &quot;color&quot;: &quot;red&quot;, &quot;dashArray&quot;: null, &quot;dashOffset&quot;: null, &quot;fill&quot;: true, &quot;fillColor&quot;: &quot;red&quot;, &quot;fillOpacity&quot;: 0.2, &quot;fillRule&quot;: &quot;evenodd&quot;, &quot;lineCap&quot;: &quot;round&quot;, &quot;lineJoin&quot;: &quot;round&quot;, &quot;opacity&quot;: 1.0, &quot;radius&quot;: 1.0101672302782327, &quot;stroke&quot;: true, &quot;weight&quot;: 3}\n",
       "            ).addTo(map_44e3e96609660dbcbcb47f957ff20567);\n",
       "        \n",
       "    \n",
       "        var popup_99069c2b74efed7cc96b9a91f7b7145b = L.popup({&quot;maxWidth&quot;: &quot;100%&quot;});\n",
       "\n",
       "        \n",
       "            \n",
       "                var html_3782df2147416412823c1205ea58f04d = $(`&lt;div id=&quot;html_3782df2147416412823c1205ea58f04d&quot; style=&quot;width: 100.0%; height: 100.0%;&quot;&gt;Micronesia, Fed. Sts.&lt;/div&gt;`)[0];\n",
       "                popup_99069c2b74efed7cc96b9a91f7b7145b.setContent(html_3782df2147416412823c1205ea58f04d);\n",
       "            \n",
       "        \n",
       "\n",
       "        circle_marker_19feff336d3fa85dba1eb9a9f0880193.bindPopup(popup_99069c2b74efed7cc96b9a91f7b7145b)\n",
       "        ;\n",
       "\n",
       "        \n",
       "    \n",
       "    \n",
       "            var circle_marker_4f84ccc3b6ad8c75942387dc996bce49 = L.circleMarker(\n",
       "                [-1.0, 11.75],\n",
       "                {&quot;bubblingMouseEvents&quot;: true, &quot;color&quot;: &quot;blue&quot;, &quot;dashArray&quot;: null, &quot;dashOffset&quot;: null, &quot;fill&quot;: true, &quot;fillColor&quot;: &quot;blue&quot;, &quot;fillOpacity&quot;: 0.2, &quot;fillRule&quot;: &quot;evenodd&quot;, &quot;lineCap&quot;: &quot;round&quot;, &quot;lineJoin&quot;: &quot;round&quot;, &quot;opacity&quot;: 1.0, &quot;radius&quot;: 1.7743739978493467, &quot;stroke&quot;: true, &quot;weight&quot;: 3}\n",
       "            ).addTo(map_44e3e96609660dbcbcb47f957ff20567);\n",
       "        \n",
       "    \n",
       "        var popup_f32d725948f840cf19e0cd7d3aafe31d = L.popup({&quot;maxWidth&quot;: &quot;100%&quot;});\n",
       "\n",
       "        \n",
       "            \n",
       "                var html_f1a27654f65424b03dd140e47d769327 = $(`&lt;div id=&quot;html_f1a27654f65424b03dd140e47d769327&quot; style=&quot;width: 100.0%; height: 100.0%;&quot;&gt;Gabon&lt;/div&gt;`)[0];\n",
       "                popup_f32d725948f840cf19e0cd7d3aafe31d.setContent(html_f1a27654f65424b03dd140e47d769327);\n",
       "            \n",
       "        \n",
       "\n",
       "        circle_marker_4f84ccc3b6ad8c75942387dc996bce49.bindPopup(popup_f32d725948f840cf19e0cd7d3aafe31d)\n",
       "        ;\n",
       "\n",
       "        \n",
       "    \n",
       "    \n",
       "            var circle_marker_397a9c22eeacc5b78279faa1be4ba325 = L.circleMarker(\n",
       "                [54.75844, -2.69531],\n",
       "                {&quot;bubblingMouseEvents&quot;: true, &quot;color&quot;: &quot;black&quot;, &quot;dashArray&quot;: null, &quot;dashOffset&quot;: null, &quot;fill&quot;: true, &quot;fillColor&quot;: &quot;black&quot;, &quot;fillOpacity&quot;: 0.2, &quot;fillRule&quot;: &quot;evenodd&quot;, &quot;lineCap&quot;: &quot;round&quot;, &quot;lineJoin&quot;: &quot;round&quot;, &quot;opacity&quot;: 1.0, &quot;radius&quot;: 4.516844160364442, &quot;stroke&quot;: true, &quot;weight&quot;: 3}\n",
       "            ).addTo(map_44e3e96609660dbcbcb47f957ff20567);\n",
       "        \n",
       "    \n",
       "        var popup_909a7e95ec484fad438c735d2c62f71b = L.popup({&quot;maxWidth&quot;: &quot;100%&quot;});\n",
       "\n",
       "        \n",
       "            \n",
       "                var html_3767d44a1258bfd50b2089fa48d21c8f = $(`&lt;div id=&quot;html_3767d44a1258bfd50b2089fa48d21c8f&quot; style=&quot;width: 100.0%; height: 100.0%;&quot;&gt;United Kingdom&lt;/div&gt;`)[0];\n",
       "                popup_909a7e95ec484fad438c735d2c62f71b.setContent(html_3767d44a1258bfd50b2089fa48d21c8f);\n",
       "            \n",
       "        \n",
       "\n",
       "        circle_marker_397a9c22eeacc5b78279faa1be4ba325.bindPopup(popup_909a7e95ec484fad438c735d2c62f71b)\n",
       "        ;\n",
       "\n",
       "        \n",
       "    \n",
       "    \n",
       "            var circle_marker_b35e6a207e7c1b31dd38547cc17cf7a0 = L.circleMarker(\n",
       "                [41.99998, 43.4999],\n",
       "                {&quot;bubblingMouseEvents&quot;: true, &quot;color&quot;: &quot;black&quot;, &quot;dashArray&quot;: null, &quot;dashOffset&quot;: null, &quot;fill&quot;: true, &quot;fillColor&quot;: &quot;black&quot;, &quot;fillOpacity&quot;: 0.2, &quot;fillRule&quot;: &quot;evenodd&quot;, &quot;lineCap&quot;: &quot;round&quot;, &quot;lineJoin&quot;: &quot;round&quot;, &quot;opacity&quot;: 1.0, &quot;radius&quot;: 4.2953024311538215, &quot;stroke&quot;: true, &quot;weight&quot;: 3}\n",
       "            ).addTo(map_44e3e96609660dbcbcb47f957ff20567);\n",
       "        \n",
       "    \n",
       "        var popup_a255e8883a61fde170ec41bcf2b9531d = L.popup({&quot;maxWidth&quot;: &quot;100%&quot;});\n",
       "\n",
       "        \n",
       "            \n",
       "                var html_8286010edcfc1e93d4205227f93b4f0a = $(`&lt;div id=&quot;html_8286010edcfc1e93d4205227f93b4f0a&quot; style=&quot;width: 100.0%; height: 100.0%;&quot;&gt;Georgia&lt;/div&gt;`)[0];\n",
       "                popup_a255e8883a61fde170ec41bcf2b9531d.setContent(html_8286010edcfc1e93d4205227f93b4f0a);\n",
       "            \n",
       "        \n",
       "\n",
       "        circle_marker_b35e6a207e7c1b31dd38547cc17cf7a0.bindPopup(popup_a255e8883a61fde170ec41bcf2b9531d)\n",
       "        ;\n",
       "\n",
       "        \n",
       "    \n",
       "    \n",
       "            var circle_marker_0d82343618a9f87f28c628271af65cdb = L.circleMarker(\n",
       "                [8.1, -1.2],\n",
       "                {&quot;bubblingMouseEvents&quot;: true, &quot;color&quot;: &quot;blue&quot;, &quot;dashArray&quot;: null, &quot;dashOffset&quot;: null, &quot;fill&quot;: true, &quot;fillColor&quot;: &quot;blue&quot;, &quot;fillOpacity&quot;: 0.2, &quot;fillRule&quot;: &quot;evenodd&quot;, &quot;lineCap&quot;: &quot;round&quot;, &quot;lineJoin&quot;: &quot;round&quot;, &quot;opacity&quot;: 1.0, &quot;radius&quot;: 15.016869987417403, &quot;stroke&quot;: true, &quot;weight&quot;: 3}\n",
       "            ).addTo(map_44e3e96609660dbcbcb47f957ff20567);\n",
       "        \n",
       "    \n",
       "        var popup_026e12193c033f22227e19ef52f5b4f8 = L.popup({&quot;maxWidth&quot;: &quot;100%&quot;});\n",
       "\n",
       "        \n",
       "            \n",
       "                var html_947fa2a271a46543ece59a20ec71573a = $(`&lt;div id=&quot;html_947fa2a271a46543ece59a20ec71573a&quot; style=&quot;width: 100.0%; height: 100.0%;&quot;&gt;Ghana&lt;/div&gt;`)[0];\n",
       "                popup_026e12193c033f22227e19ef52f5b4f8.setContent(html_947fa2a271a46543ece59a20ec71573a);\n",
       "            \n",
       "        \n",
       "\n",
       "        circle_marker_0d82343618a9f87f28c628271af65cdb.bindPopup(popup_026e12193c033f22227e19ef52f5b4f8)\n",
       "        ;\n",
       "\n",
       "        \n",
       "    \n",
       "    \n",
       "            var circle_marker_8a24b73878eaa7f2d822597c41230fcc = L.circleMarker(\n",
       "                [10.83333, -10.66667],\n",
       "                {&quot;bubblingMouseEvents&quot;: true, &quot;color&quot;: &quot;blue&quot;, &quot;dashArray&quot;: null, &quot;dashOffset&quot;: null, &quot;fill&quot;: true, &quot;fillColor&quot;: &quot;blue&quot;, &quot;fillOpacity&quot;: 0.2, &quot;fillRule&quot;: &quot;evenodd&quot;, &quot;lineCap&quot;: &quot;round&quot;, &quot;lineJoin&quot;: &quot;round&quot;, &quot;opacity&quot;: 1.0, &quot;radius&quot;: 11.514913134644747, &quot;stroke&quot;: true, &quot;weight&quot;: 3}\n",
       "            ).addTo(map_44e3e96609660dbcbcb47f957ff20567);\n",
       "        \n",
       "    \n",
       "        var popup_de246fe6a2e23432e72dc89f7631d838 = L.popup({&quot;maxWidth&quot;: &quot;100%&quot;});\n",
       "\n",
       "        \n",
       "            \n",
       "                var html_91315086a468bdab8eb6f0008c875d61 = $(`&lt;div id=&quot;html_91315086a468bdab8eb6f0008c875d61&quot; style=&quot;width: 100.0%; height: 100.0%;&quot;&gt;Guinea&lt;/div&gt;`)[0];\n",
       "                popup_de246fe6a2e23432e72dc89f7631d838.setContent(html_91315086a468bdab8eb6f0008c875d61);\n",
       "            \n",
       "        \n",
       "\n",
       "        circle_marker_8a24b73878eaa7f2d822597c41230fcc.bindPopup(popup_de246fe6a2e23432e72dc89f7631d838)\n",
       "        ;\n",
       "\n",
       "        \n",
       "    \n",
       "    \n",
       "            var circle_marker_fc0006ca5eb2f7542733a98d3335c57c = L.circleMarker(\n",
       "                [13.5, -15.5],\n",
       "                {&quot;bubblingMouseEvents&quot;: true, &quot;color&quot;: &quot;blue&quot;, &quot;dashArray&quot;: null, &quot;dashOffset&quot;: null, &quot;fill&quot;: true, &quot;fillColor&quot;: &quot;blue&quot;, &quot;fillOpacity&quot;: 0.2, &quot;fillRule&quot;: &quot;evenodd&quot;, &quot;lineCap&quot;: &quot;round&quot;, &quot;lineJoin&quot;: &quot;round&quot;, &quot;opacity&quot;: 1.0, &quot;radius&quot;: 4.381298115773378, &quot;stroke&quot;: true, &quot;weight&quot;: 3}\n",
       "            ).addTo(map_44e3e96609660dbcbcb47f957ff20567);\n",
       "        \n",
       "    \n",
       "        var popup_ffe7de91d12cf32f728dd5ed55a61487 = L.popup({&quot;maxWidth&quot;: &quot;100%&quot;});\n",
       "\n",
       "        \n",
       "            \n",
       "                var html_d98377455bb14b7f3e5eddce1b468369 = $(`&lt;div id=&quot;html_d98377455bb14b7f3e5eddce1b468369&quot; style=&quot;width: 100.0%; height: 100.0%;&quot;&gt;Gambia&lt;/div&gt;`)[0];\n",
       "                popup_ffe7de91d12cf32f728dd5ed55a61487.setContent(html_d98377455bb14b7f3e5eddce1b468369);\n",
       "            \n",
       "        \n",
       "\n",
       "        circle_marker_fc0006ca5eb2f7542733a98d3335c57c.bindPopup(popup_ffe7de91d12cf32f728dd5ed55a61487)\n",
       "        ;\n",
       "\n",
       "        \n",
       "    \n",
       "    \n",
       "            var circle_marker_069528b525b674ed256011d1bea06455 = L.circleMarker(\n",
       "                [12.0, -15.0],\n",
       "                {&quot;bubblingMouseEvents&quot;: true, &quot;color&quot;: &quot;blue&quot;, &quot;dashArray&quot;: null, &quot;dashOffset&quot;: null, &quot;fill&quot;: true, &quot;fillColor&quot;: &quot;blue&quot;, &quot;fillOpacity&quot;: 0.2, &quot;fillRule&quot;: &quot;evenodd&quot;, &quot;lineCap&quot;: &quot;round&quot;, &quot;lineJoin&quot;: &quot;round&quot;, &quot;opacity&quot;: 1.0, &quot;radius&quot;: 4.868250000644995, &quot;stroke&quot;: true, &quot;weight&quot;: 3}\n",
       "            ).addTo(map_44e3e96609660dbcbcb47f957ff20567);\n",
       "        \n",
       "    \n",
       "        var popup_f15aaf6d864684b9358bd4ea5d3ec10b = L.popup({&quot;maxWidth&quot;: &quot;100%&quot;});\n",
       "\n",
       "        \n",
       "            \n",
       "                var html_56b1f31d339a6bc08398c7be41f92f0e = $(`&lt;div id=&quot;html_56b1f31d339a6bc08398c7be41f92f0e&quot; style=&quot;width: 100.0%; height: 100.0%;&quot;&gt;Guinea-Bissau&lt;/div&gt;`)[0];\n",
       "                popup_f15aaf6d864684b9358bd4ea5d3ec10b.setContent(html_56b1f31d339a6bc08398c7be41f92f0e);\n",
       "            \n",
       "        \n",
       "\n",
       "        circle_marker_069528b525b674ed256011d1bea06455.bindPopup(popup_f15aaf6d864684b9358bd4ea5d3ec10b)\n",
       "        ;\n",
       "\n",
       "        \n",
       "    \n",
       "    \n",
       "            var circle_marker_01f3537980b5e9562aaac39d19545373 = L.circleMarker(\n",
       "                [39.0, 22.0],\n",
       "                {&quot;bubblingMouseEvents&quot;: true, &quot;color&quot;: &quot;black&quot;, &quot;dashArray&quot;: null, &quot;dashOffset&quot;: null, &quot;fill&quot;: true, &quot;fillColor&quot;: &quot;black&quot;, &quot;fillOpacity&quot;: 0.2, &quot;fillRule&quot;: &quot;evenodd&quot;, &quot;lineCap&quot;: &quot;round&quot;, &quot;lineJoin&quot;: &quot;round&quot;, &quot;opacity&quot;: 1.0, &quot;radius&quot;: 2.178977304449507, &quot;stroke&quot;: true, &quot;weight&quot;: 3}\n",
       "            ).addTo(map_44e3e96609660dbcbcb47f957ff20567);\n",
       "        \n",
       "    \n",
       "        var popup_c47a224fff6bbb7f0febb1ba41b25c3a = L.popup({&quot;maxWidth&quot;: &quot;100%&quot;});\n",
       "\n",
       "        \n",
       "            \n",
       "                var html_fd7d91069cff2aa0054858f5ae4ff477 = $(`&lt;div id=&quot;html_fd7d91069cff2aa0054858f5ae4ff477&quot; style=&quot;width: 100.0%; height: 100.0%;&quot;&gt;Greece&lt;/div&gt;`)[0];\n",
       "                popup_c47a224fff6bbb7f0febb1ba41b25c3a.setContent(html_fd7d91069cff2aa0054858f5ae4ff477);\n",
       "            \n",
       "        \n",
       "\n",
       "        circle_marker_01f3537980b5e9562aaac39d19545373.bindPopup(popup_c47a224fff6bbb7f0febb1ba41b25c3a)\n",
       "        ;\n",
       "\n",
       "        \n",
       "    \n",
       "    \n",
       "            var circle_marker_94f0a1612af385a09b4b96678c2cbf78 = L.circleMarker(\n",
       "                [14.64072, -90.51327],\n",
       "                {&quot;bubblingMouseEvents&quot;: true, &quot;color&quot;: &quot;green&quot;, &quot;dashArray&quot;: null, &quot;dashOffset&quot;: null, &quot;fill&quot;: true, &quot;fillColor&quot;: &quot;green&quot;, &quot;fillOpacity&quot;: 0.2, &quot;fillRule&quot;: &quot;evenodd&quot;, &quot;lineCap&quot;: &quot;round&quot;, &quot;lineJoin&quot;: &quot;round&quot;, &quot;opacity&quot;: 1.0, &quot;radius&quot;: 7.987553755377376, &quot;stroke&quot;: true, &quot;weight&quot;: 3}\n",
       "            ).addTo(map_44e3e96609660dbcbcb47f957ff20567);\n",
       "        \n",
       "    \n",
       "        var popup_d644d46c49654ceab6bfd9880b143855 = L.popup({&quot;maxWidth&quot;: &quot;100%&quot;});\n",
       "\n",
       "        \n",
       "            \n",
       "                var html_37b2bdb292a2c09da88a98329b1d9c65 = $(`&lt;div id=&quot;html_37b2bdb292a2c09da88a98329b1d9c65&quot; style=&quot;width: 100.0%; height: 100.0%;&quot;&gt;Guatemala&lt;/div&gt;`)[0];\n",
       "                popup_d644d46c49654ceab6bfd9880b143855.setContent(html_37b2bdb292a2c09da88a98329b1d9c65);\n",
       "            \n",
       "        \n",
       "\n",
       "        circle_marker_94f0a1612af385a09b4b96678c2cbf78.bindPopup(popup_d644d46c49654ceab6bfd9880b143855)\n",
       "        ;\n",
       "\n",
       "        \n",
       "    \n",
       "    \n",
       "            var circle_marker_0a8d2515b8e4a780a7029d01caadebfc = L.circleMarker(\n",
       "                [5.0, -59.0],\n",
       "                {&quot;bubblingMouseEvents&quot;: true, &quot;color&quot;: &quot;green&quot;, &quot;dashArray&quot;: null, &quot;dashOffset&quot;: null, &quot;fill&quot;: true, &quot;fillColor&quot;: &quot;green&quot;, &quot;fillOpacity&quot;: 0.2, &quot;fillRule&quot;: &quot;evenodd&quot;, &quot;lineCap&quot;: &quot;round&quot;, &quot;lineJoin&quot;: &quot;round&quot;, &quot;opacity&quot;: 1.0, &quot;radius&quot;: 1.4406180819073164, &quot;stroke&quot;: true, &quot;weight&quot;: 3}\n",
       "            ).addTo(map_44e3e96609660dbcbcb47f957ff20567);\n",
       "        \n",
       "    \n",
       "        var popup_d646a11a196e876ddeb1cfaeba516052 = L.popup({&quot;maxWidth&quot;: &quot;100%&quot;});\n",
       "\n",
       "        \n",
       "            \n",
       "                var html_4f177f2ec0d2f5aef5d9c8a4c1dec0c2 = $(`&lt;div id=&quot;html_4f177f2ec0d2f5aef5d9c8a4c1dec0c2&quot; style=&quot;width: 100.0%; height: 100.0%;&quot;&gt;Guyana&lt;/div&gt;`)[0];\n",
       "                popup_d646a11a196e876ddeb1cfaeba516052.setContent(html_4f177f2ec0d2f5aef5d9c8a4c1dec0c2);\n",
       "            \n",
       "        \n",
       "\n",
       "        circle_marker_0a8d2515b8e4a780a7029d01caadebfc.bindPopup(popup_d646a11a196e876ddeb1cfaeba516052)\n",
       "        ;\n",
       "\n",
       "        \n",
       "    \n",
       "    \n",
       "            var circle_marker_ec982e8471000bfef76847895f5e234d = L.circleMarker(\n",
       "                [15.0, -86.5],\n",
       "                {&quot;bubblingMouseEvents&quot;: true, &quot;color&quot;: &quot;green&quot;, &quot;dashArray&quot;: null, &quot;dashOffset&quot;: null, &quot;fill&quot;: true, &quot;fillColor&quot;: &quot;green&quot;, &quot;fillOpacity&quot;: 0.2, &quot;fillRule&quot;: &quot;evenodd&quot;, &quot;lineCap&quot;: &quot;round&quot;, &quot;lineJoin&quot;: &quot;round&quot;, &quot;opacity&quot;: 1.0, &quot;radius&quot;: 6.605402401670616, &quot;stroke&quot;: true, &quot;weight&quot;: 3}\n",
       "            ).addTo(map_44e3e96609660dbcbcb47f957ff20567);\n",
       "        \n",
       "    \n",
       "        var popup_dcc2836874c981eaf83fa3ffdd9cd5cb = L.popup({&quot;maxWidth&quot;: &quot;100%&quot;});\n",
       "\n",
       "        \n",
       "            \n",
       "                var html_855afcda119590eecc35355d55cd69bb = $(`&lt;div id=&quot;html_855afcda119590eecc35355d55cd69bb&quot; style=&quot;width: 100.0%; height: 100.0%;&quot;&gt;Honduras&lt;/div&gt;`)[0];\n",
       "                popup_dcc2836874c981eaf83fa3ffdd9cd5cb.setContent(html_855afcda119590eecc35355d55cd69bb);\n",
       "            \n",
       "        \n",
       "\n",
       "        circle_marker_ec982e8471000bfef76847895f5e234d.bindPopup(popup_dcc2836874c981eaf83fa3ffdd9cd5cb)\n",
       "        ;\n",
       "\n",
       "        \n",
       "    \n",
       "    \n",
       "            var circle_marker_fca6d7471aea2f71e3d2facf90bf1636 = L.circleMarker(\n",
       "                [45.16667, 15.5],\n",
       "                {&quot;bubblingMouseEvents&quot;: true, &quot;color&quot;: &quot;black&quot;, &quot;dashArray&quot;: null, &quot;dashOffset&quot;: null, &quot;fill&quot;: true, &quot;fillColor&quot;: &quot;black&quot;, &quot;fillOpacity&quot;: 0.2, &quot;fillRule&quot;: &quot;evenodd&quot;, &quot;lineCap&quot;: &quot;round&quot;, &quot;lineJoin&quot;: &quot;round&quot;, &quot;opacity&quot;: 1.0, &quot;stroke&quot;: true, &quot;weight&quot;: 3}\n",
       "            ).addTo(map_44e3e96609660dbcbcb47f957ff20567);\n",
       "        \n",
       "    \n",
       "        var popup_8e00ac6b2976b4de7259567a860462f6 = L.popup({&quot;maxWidth&quot;: &quot;100%&quot;});\n",
       "\n",
       "        \n",
       "            \n",
       "                var html_1a84cb4db9436c1c58012cddb2d720b7 = $(`&lt;div id=&quot;html_1a84cb4db9436c1c58012cddb2d720b7&quot; style=&quot;width: 100.0%; height: 100.0%;&quot;&gt;Croatia&lt;/div&gt;`)[0];\n",
       "                popup_8e00ac6b2976b4de7259567a860462f6.setContent(html_1a84cb4db9436c1c58012cddb2d720b7);\n",
       "            \n",
       "        \n",
       "\n",
       "        circle_marker_fca6d7471aea2f71e3d2facf90bf1636.bindPopup(popup_8e00ac6b2976b4de7259567a860462f6)\n",
       "        ;\n",
       "\n",
       "        \n",
       "    \n",
       "    \n",
       "            var circle_marker_73d5477eff2f8126f88decd996aef880 = L.circleMarker(\n",
       "                [19.0, -72.41667],\n",
       "                {&quot;bubblingMouseEvents&quot;: true, &quot;color&quot;: &quot;green&quot;, &quot;dashArray&quot;: null, &quot;dashOffset&quot;: null, &quot;fill&quot;: true, &quot;fillColor&quot;: &quot;green&quot;, &quot;fillOpacity&quot;: 0.2, &quot;fillRule&quot;: &quot;evenodd&quot;, &quot;lineCap&quot;: &quot;round&quot;, &quot;lineJoin&quot;: &quot;round&quot;, &quot;opacity&quot;: 1.0, &quot;radius&quot;: 13.979752671774591, &quot;stroke&quot;: true, &quot;weight&quot;: 3}\n",
       "            ).addTo(map_44e3e96609660dbcbcb47f957ff20567);\n",
       "        \n",
       "    \n",
       "        var popup_1ef62fddf24d2f04edfaf2dfd7de7bbd = L.popup({&quot;maxWidth&quot;: &quot;100%&quot;});\n",
       "\n",
       "        \n",
       "            \n",
       "                var html_666fa980ab6176cfcb25bf06c4821a64 = $(`&lt;div id=&quot;html_666fa980ab6176cfcb25bf06c4821a64&quot; style=&quot;width: 100.0%; height: 100.0%;&quot;&gt;Haiti&lt;/div&gt;`)[0];\n",
       "                popup_1ef62fddf24d2f04edfaf2dfd7de7bbd.setContent(html_666fa980ab6176cfcb25bf06c4821a64);\n",
       "            \n",
       "        \n",
       "\n",
       "        circle_marker_73d5477eff2f8126f88decd996aef880.bindPopup(popup_1ef62fddf24d2f04edfaf2dfd7de7bbd)\n",
       "        ;\n",
       "\n",
       "        \n",
       "    \n",
       "    \n",
       "            var circle_marker_e433755e75a69453bab941959cd4f945 = L.circleMarker(\n",
       "                [47.0, 20.0],\n",
       "                {&quot;bubblingMouseEvents&quot;: true, &quot;color&quot;: &quot;black&quot;, &quot;dashArray&quot;: null, &quot;dashOffset&quot;: null, &quot;fill&quot;: true, &quot;fillColor&quot;: &quot;black&quot;, &quot;fillOpacity&quot;: 0.2, &quot;fillRule&quot;: &quot;evenodd&quot;, &quot;lineCap&quot;: &quot;round&quot;, &quot;lineJoin&quot;: &quot;round&quot;, &quot;opacity&quot;: 1.0, &quot;radius&quot;: 0.39750349369739346, &quot;stroke&quot;: true, &quot;weight&quot;: 3}\n",
       "            ).addTo(map_44e3e96609660dbcbcb47f957ff20567);\n",
       "        \n",
       "    \n",
       "        var popup_041b537730d92334c7ebc5d47e219f9d = L.popup({&quot;maxWidth&quot;: &quot;100%&quot;});\n",
       "\n",
       "        \n",
       "            \n",
       "                var html_5a64c86b2f11887df0577673396feacf = $(`&lt;div id=&quot;html_5a64c86b2f11887df0577673396feacf&quot; style=&quot;width: 100.0%; height: 100.0%;&quot;&gt;Hungary&lt;/div&gt;`)[0];\n",
       "                popup_041b537730d92334c7ebc5d47e219f9d.setContent(html_5a64c86b2f11887df0577673396feacf);\n",
       "            \n",
       "        \n",
       "\n",
       "        circle_marker_e433755e75a69453bab941959cd4f945.bindPopup(popup_041b537730d92334c7ebc5d47e219f9d)\n",
       "        ;\n",
       "\n",
       "        \n",
       "    \n",
       "    \n",
       "            var circle_marker_d58f23ff5922b1ff17b01fdb6f53f3e4 = L.circleMarker(\n",
       "                [-5.0, 120.0],\n",
       "                {&quot;bubblingMouseEvents&quot;: true, &quot;color&quot;: &quot;red&quot;, &quot;dashArray&quot;: null, &quot;dashOffset&quot;: null, &quot;fill&quot;: true, &quot;fillColor&quot;: &quot;red&quot;, &quot;fillOpacity&quot;: 0.2, &quot;fillRule&quot;: &quot;evenodd&quot;, &quot;lineCap&quot;: &quot;round&quot;, &quot;lineJoin&quot;: &quot;round&quot;, &quot;opacity&quot;: 1.0, &quot;radius&quot;: 35.313556272281424, &quot;stroke&quot;: true, &quot;weight&quot;: 3}\n",
       "            ).addTo(map_44e3e96609660dbcbcb47f957ff20567);\n",
       "        \n",
       "    \n",
       "        var popup_33fb06cf1742450ac9f07a5a21c84789 = L.popup({&quot;maxWidth&quot;: &quot;100%&quot;});\n",
       "\n",
       "        \n",
       "            \n",
       "                var html_b380e0a815591fbeac0e3b6fbd819b2c = $(`&lt;div id=&quot;html_b380e0a815591fbeac0e3b6fbd819b2c&quot; style=&quot;width: 100.0%; height: 100.0%;&quot;&gt;Indonesia&lt;/div&gt;`)[0];\n",
       "                popup_33fb06cf1742450ac9f07a5a21c84789.setContent(html_b380e0a815591fbeac0e3b6fbd819b2c);\n",
       "            \n",
       "        \n",
       "\n",
       "        circle_marker_d58f23ff5922b1ff17b01fdb6f53f3e4.bindPopup(popup_33fb06cf1742450ac9f07a5a21c84789)\n",
       "        ;\n",
       "\n",
       "        \n",
       "    \n",
       "    \n",
       "            var circle_marker_21262b1ddba3d947de998a5a2afda716 = L.circleMarker(\n",
       "                [22.0, 79.0],\n",
       "                {&quot;bubblingMouseEvents&quot;: true, &quot;color&quot;: &quot;red&quot;, &quot;dashArray&quot;: null, &quot;dashOffset&quot;: null, &quot;fill&quot;: true, &quot;fillColor&quot;: &quot;red&quot;, &quot;fillOpacity&quot;: 0.2, &quot;fillRule&quot;: &quot;evenodd&quot;, &quot;lineCap&quot;: &quot;round&quot;, &quot;lineJoin&quot;: &quot;round&quot;, &quot;opacity&quot;: 1.0, &quot;radius&quot;: 96.35271911284168, &quot;stroke&quot;: true, &quot;weight&quot;: 3}\n",
       "            ).addTo(map_44e3e96609660dbcbcb47f957ff20567);\n",
       "        \n",
       "    \n",
       "        var popup_7ce25b68ca7d44506c19b844e7ca4955 = L.popup({&quot;maxWidth&quot;: &quot;100%&quot;});\n",
       "\n",
       "        \n",
       "            \n",
       "                var html_db12e6ece4e658be352e72aa9253d842 = $(`&lt;div id=&quot;html_db12e6ece4e658be352e72aa9253d842&quot; style=&quot;width: 100.0%; height: 100.0%;&quot;&gt;India&lt;/div&gt;`)[0];\n",
       "                popup_7ce25b68ca7d44506c19b844e7ca4955.setContent(html_db12e6ece4e658be352e72aa9253d842);\n",
       "            \n",
       "        \n",
       "\n",
       "        circle_marker_21262b1ddba3d947de998a5a2afda716.bindPopup(popup_7ce25b68ca7d44506c19b844e7ca4955)\n",
       "        ;\n",
       "\n",
       "        \n",
       "    \n",
       "    \n",
       "            var circle_marker_1ce3eb4bab5e93a44aaae4c5ab0604b0 = L.circleMarker(\n",
       "                [53.0, -8.0],\n",
       "                {&quot;bubblingMouseEvents&quot;: true, &quot;color&quot;: &quot;black&quot;, &quot;dashArray&quot;: null, &quot;dashOffset&quot;: null, &quot;fill&quot;: true, &quot;fillColor&quot;: &quot;black&quot;, &quot;fillOpacity&quot;: 0.2, &quot;fillRule&quot;: &quot;evenodd&quot;, &quot;lineCap&quot;: &quot;round&quot;, &quot;lineJoin&quot;: &quot;round&quot;, &quot;opacity&quot;: 1.0, &quot;radius&quot;: 0.7224270824013612, &quot;stroke&quot;: true, &quot;weight&quot;: 3}\n",
       "            ).addTo(map_44e3e96609660dbcbcb47f957ff20567);\n",
       "        \n",
       "    \n",
       "        var popup_286d1d83683f1c6aa877d2891e2d2a41 = L.popup({&quot;maxWidth&quot;: &quot;100%&quot;});\n",
       "\n",
       "        \n",
       "            \n",
       "                var html_982093f848556ff9fba0510bdb8c9fa3 = $(`&lt;div id=&quot;html_982093f848556ff9fba0510bdb8c9fa3&quot; style=&quot;width: 100.0%; height: 100.0%;&quot;&gt;Ireland&lt;/div&gt;`)[0];\n",
       "                popup_286d1d83683f1c6aa877d2891e2d2a41.setContent(html_982093f848556ff9fba0510bdb8c9fa3);\n",
       "            \n",
       "        \n",
       "\n",
       "        circle_marker_1ce3eb4bab5e93a44aaae4c5ab0604b0.bindPopup(popup_286d1d83683f1c6aa877d2891e2d2a41)\n",
       "        ;\n",
       "\n",
       "        \n",
       "    \n",
       "    \n",
       "            var circle_marker_f344328001f447511786fff820b7e939 = L.circleMarker(\n",
       "                [32.0, 53.0],\n",
       "                {&quot;bubblingMouseEvents&quot;: true, &quot;color&quot;: &quot;red&quot;, &quot;dashArray&quot;: null, &quot;dashOffset&quot;: null, &quot;fill&quot;: true, &quot;fillColor&quot;: &quot;red&quot;, &quot;fillOpacity&quot;: 0.2, &quot;fillRule&quot;: &quot;evenodd&quot;, &quot;lineCap&quot;: &quot;round&quot;, &quot;lineJoin&quot;: &quot;round&quot;, &quot;opacity&quot;: 1.0, &quot;radius&quot;: 5.834814195302852, &quot;stroke&quot;: true, &quot;weight&quot;: 3}\n",
       "            ).addTo(map_44e3e96609660dbcbcb47f957ff20567);\n",
       "        \n",
       "    \n",
       "        var popup_166939bbfe0e84c51136a1256b277c87 = L.popup({&quot;maxWidth&quot;: &quot;100%&quot;});\n",
       "\n",
       "        \n",
       "            \n",
       "                var html_ddadc20a74659cc37c4fd8ac8d66f164 = $(`&lt;div id=&quot;html_ddadc20a74659cc37c4fd8ac8d66f164&quot; style=&quot;width: 100.0%; height: 100.0%;&quot;&gt;Iran&lt;/div&gt;`)[0];\n",
       "                popup_166939bbfe0e84c51136a1256b277c87.setContent(html_ddadc20a74659cc37c4fd8ac8d66f164);\n",
       "            \n",
       "        \n",
       "\n",
       "        circle_marker_f344328001f447511786fff820b7e939.bindPopup(popup_166939bbfe0e84c51136a1256b277c87)\n",
       "        ;\n",
       "\n",
       "        \n",
       "    \n",
       "    \n",
       "            var circle_marker_557096b27ac25edb0e9b10e103d5c7a6 = L.circleMarker(\n",
       "                [33.0, 44.0],\n",
       "                {&quot;bubblingMouseEvents&quot;: true, &quot;color&quot;: &quot;red&quot;, &quot;dashArray&quot;: null, &quot;dashOffset&quot;: null, &quot;fill&quot;: true, &quot;fillColor&quot;: &quot;red&quot;, &quot;fillOpacity&quot;: 0.2, &quot;fillRule&quot;: &quot;evenodd&quot;, &quot;lineCap&quot;: &quot;round&quot;, &quot;lineJoin&quot;: &quot;round&quot;, &quot;opacity&quot;: 1.0, &quot;radius&quot;: 6.084127448138132, &quot;stroke&quot;: true, &quot;weight&quot;: 3}\n",
       "            ).addTo(map_44e3e96609660dbcbcb47f957ff20567);\n",
       "        \n",
       "    \n",
       "        var popup_fc5b167491b075d8b3eb786beafc9dc0 = L.popup({&quot;maxWidth&quot;: &quot;100%&quot;});\n",
       "\n",
       "        \n",
       "            \n",
       "                var html_eb670d2aad8f9c83c62a504c6d1b6d1e = $(`&lt;div id=&quot;html_eb670d2aad8f9c83c62a504c6d1b6d1e&quot; style=&quot;width: 100.0%; height: 100.0%;&quot;&gt;Iraq&lt;/div&gt;`)[0];\n",
       "                popup_fc5b167491b075d8b3eb786beafc9dc0.setContent(html_eb670d2aad8f9c83c62a504c6d1b6d1e);\n",
       "            \n",
       "        \n",
       "\n",
       "        circle_marker_557096b27ac25edb0e9b10e103d5c7a6.bindPopup(popup_fc5b167491b075d8b3eb786beafc9dc0)\n",
       "        ;\n",
       "\n",
       "        \n",
       "    \n",
       "    \n",
       "            var circle_marker_187d69076e4c748dffb97a8bfa4c41f1 = L.circleMarker(\n",
       "                [31.5, 34.75],\n",
       "                {&quot;bubblingMouseEvents&quot;: true, &quot;color&quot;: &quot;red&quot;, &quot;dashArray&quot;: null, &quot;dashOffset&quot;: null, &quot;fill&quot;: true, &quot;fillColor&quot;: &quot;red&quot;, &quot;fillOpacity&quot;: 0.2, &quot;fillRule&quot;: &quot;evenodd&quot;, &quot;lineCap&quot;: &quot;round&quot;, &quot;lineJoin&quot;: &quot;round&quot;, &quot;opacity&quot;: 1.0, &quot;radius&quot;: 0.9549814945354589, &quot;stroke&quot;: true, &quot;weight&quot;: 3}\n",
       "            ).addTo(map_44e3e96609660dbcbcb47f957ff20567);\n",
       "        \n",
       "    \n",
       "        var popup_8eecce361aae3eeaaf7187a105f920b2 = L.popup({&quot;maxWidth&quot;: &quot;100%&quot;});\n",
       "\n",
       "        \n",
       "            \n",
       "                var html_a4afd9b6b58ba1c5439343193d335473 = $(`&lt;div id=&quot;html_a4afd9b6b58ba1c5439343193d335473&quot; style=&quot;width: 100.0%; height: 100.0%;&quot;&gt;Israel&lt;/div&gt;`)[0];\n",
       "                popup_8eecce361aae3eeaaf7187a105f920b2.setContent(html_a4afd9b6b58ba1c5439343193d335473);\n",
       "            \n",
       "        \n",
       "\n",
       "        circle_marker_187d69076e4c748dffb97a8bfa4c41f1.bindPopup(popup_8eecce361aae3eeaaf7187a105f920b2)\n",
       "        ;\n",
       "\n",
       "        \n",
       "    \n",
       "    \n",
       "            var circle_marker_a389a485881ea3c427d7fe4a1878707f = L.circleMarker(\n",
       "                [42.83333, 12.83333],\n",
       "                {&quot;bubblingMouseEvents&quot;: true, &quot;color&quot;: &quot;black&quot;, &quot;dashArray&quot;: null, &quot;dashOffset&quot;: null, &quot;fill&quot;: true, &quot;fillColor&quot;: &quot;black&quot;, &quot;fillOpacity&quot;: 0.2, &quot;fillRule&quot;: &quot;evenodd&quot;, &quot;lineCap&quot;: &quot;round&quot;, &quot;lineJoin&quot;: &quot;round&quot;, &quot;opacity&quot;: 1.0, &quot;radius&quot;: 5.049074400874107, &quot;stroke&quot;: true, &quot;weight&quot;: 3}\n",
       "            ).addTo(map_44e3e96609660dbcbcb47f957ff20567);\n",
       "        \n",
       "    \n",
       "        var popup_17f4a489813f2ee6f22fcb9ecdf002ae = L.popup({&quot;maxWidth&quot;: &quot;100%&quot;});\n",
       "\n",
       "        \n",
       "            \n",
       "                var html_45a7fdbe414b8fe47ebf81a678fdc05c = $(`&lt;div id=&quot;html_45a7fdbe414b8fe47ebf81a678fdc05c&quot; style=&quot;width: 100.0%; height: 100.0%;&quot;&gt;Italy&lt;/div&gt;`)[0];\n",
       "                popup_17f4a489813f2ee6f22fcb9ecdf002ae.setContent(html_45a7fdbe414b8fe47ebf81a678fdc05c);\n",
       "            \n",
       "        \n",
       "\n",
       "        circle_marker_a389a485881ea3c427d7fe4a1878707f.bindPopup(popup_17f4a489813f2ee6f22fcb9ecdf002ae)\n",
       "        ;\n",
       "\n",
       "        \n",
       "    \n",
       "    \n",
       "            var circle_marker_1460fb833f9caabec837fb62ca469520 = L.circleMarker(\n",
       "                [18.16667, -77.25],\n",
       "                {&quot;bubblingMouseEvents&quot;: true, &quot;color&quot;: &quot;green&quot;, &quot;dashArray&quot;: null, &quot;dashOffset&quot;: null, &quot;fill&quot;: true, &quot;fillColor&quot;: &quot;green&quot;, &quot;fillOpacity&quot;: 0.2, &quot;fillRule&quot;: &quot;evenodd&quot;, &quot;lineCap&quot;: &quot;round&quot;, &quot;lineJoin&quot;: &quot;round&quot;, &quot;opacity&quot;: 1.0, &quot;radius&quot;: 0.4633573332008104, &quot;stroke&quot;: true, &quot;weight&quot;: 3}\n",
       "            ).addTo(map_44e3e96609660dbcbcb47f957ff20567);\n",
       "        \n",
       "    \n",
       "        var popup_82364998f4901607e996da6355d6121c = L.popup({&quot;maxWidth&quot;: &quot;100%&quot;});\n",
       "\n",
       "        \n",
       "            \n",
       "                var html_01b3c50a974f2d4b845ee10ad41b5b35 = $(`&lt;div id=&quot;html_01b3c50a974f2d4b845ee10ad41b5b35&quot; style=&quot;width: 100.0%; height: 100.0%;&quot;&gt;Jamaica&lt;/div&gt;`)[0];\n",
       "                popup_82364998f4901607e996da6355d6121c.setContent(html_01b3c50a974f2d4b845ee10ad41b5b35);\n",
       "            \n",
       "        \n",
       "\n",
       "        circle_marker_1460fb833f9caabec837fb62ca469520.bindPopup(popup_82364998f4901607e996da6355d6121c)\n",
       "        ;\n",
       "\n",
       "        \n",
       "    \n",
       "    \n",
       "            var circle_marker_c25ff665b678f552b552de6c35eed69a = L.circleMarker(\n",
       "                [31.0, 36.0],\n",
       "                {&quot;bubblingMouseEvents&quot;: true, &quot;color&quot;: &quot;red&quot;, &quot;dashArray&quot;: null, &quot;dashOffset&quot;: null, &quot;fill&quot;: true, &quot;fillColor&quot;: &quot;red&quot;, &quot;fillOpacity&quot;: 0.2, &quot;fillRule&quot;: &quot;evenodd&quot;, &quot;lineCap&quot;: &quot;round&quot;, &quot;lineJoin&quot;: &quot;round&quot;, &quot;opacity&quot;: 1.0, &quot;radius&quot;: 0.4300072242232263, &quot;stroke&quot;: true, &quot;weight&quot;: 3}\n",
       "            ).addTo(map_44e3e96609660dbcbcb47f957ff20567);\n",
       "        \n",
       "    \n",
       "        var popup_f86487684b1527fb2f79ed6a03a0d9d3 = L.popup({&quot;maxWidth&quot;: &quot;100%&quot;});\n",
       "\n",
       "        \n",
       "            \n",
       "                var html_52d85f4295057106efd03ee14c22d709 = $(`&lt;div id=&quot;html_52d85f4295057106efd03ee14c22d709&quot; style=&quot;width: 100.0%; height: 100.0%;&quot;&gt;Jordan&lt;/div&gt;`)[0];\n",
       "                popup_f86487684b1527fb2f79ed6a03a0d9d3.setContent(html_52d85f4295057106efd03ee14c22d709);\n",
       "            \n",
       "        \n",
       "\n",
       "        circle_marker_c25ff665b678f552b552de6c35eed69a.bindPopup(popup_f86487684b1527fb2f79ed6a03a0d9d3)\n",
       "        ;\n",
       "\n",
       "        \n",
       "    \n",
       "    \n",
       "            var circle_marker_46075574d3a7e1280e52a51bf72e0e75 = L.circleMarker(\n",
       "                [35.68536, 139.75309],\n",
       "                {&quot;bubblingMouseEvents&quot;: true, &quot;color&quot;: &quot;red&quot;, &quot;dashArray&quot;: null, &quot;dashOffset&quot;: null, &quot;fill&quot;: true, &quot;fillColor&quot;: &quot;red&quot;, &quot;fillOpacity&quot;: 0.2, &quot;fillRule&quot;: &quot;evenodd&quot;, &quot;lineCap&quot;: &quot;round&quot;, &quot;lineJoin&quot;: &quot;round&quot;, &quot;opacity&quot;: 1.0, &quot;radius&quot;: 3.784269826192565, &quot;stroke&quot;: true, &quot;weight&quot;: 3}\n",
       "            ).addTo(map_44e3e96609660dbcbcb47f957ff20567);\n",
       "        \n",
       "    \n",
       "        var popup_111c8a426573b7d7f2b95c4d6ca357c7 = L.popup({&quot;maxWidth&quot;: &quot;100%&quot;});\n",
       "\n",
       "        \n",
       "            \n",
       "                var html_7a2569f45748ac2f2c58b85b0dc4c532 = $(`&lt;div id=&quot;html_7a2569f45748ac2f2c58b85b0dc4c532&quot; style=&quot;width: 100.0%; height: 100.0%;&quot;&gt;Japan&lt;/div&gt;`)[0];\n",
       "                popup_111c8a426573b7d7f2b95c4d6ca357c7.setContent(html_7a2569f45748ac2f2c58b85b0dc4c532);\n",
       "            \n",
       "        \n",
       "\n",
       "        circle_marker_46075574d3a7e1280e52a51bf72e0e75.bindPopup(popup_111c8a426573b7d7f2b95c4d6ca357c7)\n",
       "        ;\n",
       "\n",
       "        \n",
       "    \n",
       "    \n",
       "            var circle_marker_95ff57e3e243864c8a9e4699a34f0a9b = L.circleMarker(\n",
       "                [48.0, 68.0],\n",
       "                {&quot;bubblingMouseEvents&quot;: true, &quot;color&quot;: &quot;red&quot;, &quot;dashArray&quot;: null, &quot;dashOffset&quot;: null, &quot;fill&quot;: true, &quot;fillColor&quot;: &quot;red&quot;, &quot;fillOpacity&quot;: 0.2, &quot;fillRule&quot;: &quot;evenodd&quot;, &quot;lineCap&quot;: &quot;round&quot;, &quot;lineJoin&quot;: &quot;round&quot;, &quot;opacity&quot;: 1.0, &quot;radius&quot;: 0.5571211448310092, &quot;stroke&quot;: true, &quot;weight&quot;: 3}\n",
       "            ).addTo(map_44e3e96609660dbcbcb47f957ff20567);\n",
       "        \n",
       "    \n",
       "        var popup_75214c3001f712532ba87de11e17d7ea = L.popup({&quot;maxWidth&quot;: &quot;100%&quot;});\n",
       "\n",
       "        \n",
       "            \n",
       "                var html_4092236a40df9c1800970147a997564f = $(`&lt;div id=&quot;html_4092236a40df9c1800970147a997564f&quot; style=&quot;width: 100.0%; height: 100.0%;&quot;&gt;Kazakhstan&lt;/div&gt;`)[0];\n",
       "                popup_75214c3001f712532ba87de11e17d7ea.setContent(html_4092236a40df9c1800970147a997564f);\n",
       "            \n",
       "        \n",
       "\n",
       "        circle_marker_95ff57e3e243864c8a9e4699a34f0a9b.bindPopup(popup_75214c3001f712532ba87de11e17d7ea)\n",
       "        ;\n",
       "\n",
       "        \n",
       "    \n",
       "    \n",
       "            var circle_marker_716c6a61a7cab13702df5988b3664e99 = L.circleMarker(\n",
       "                [1.0, 38.0],\n",
       "                {&quot;bubblingMouseEvents&quot;: true, &quot;color&quot;: &quot;blue&quot;, &quot;dashArray&quot;: null, &quot;dashOffset&quot;: null, &quot;fill&quot;: true, &quot;fillColor&quot;: &quot;blue&quot;, &quot;fillOpacity&quot;: 0.2, &quot;fillRule&quot;: &quot;evenodd&quot;, &quot;lineCap&quot;: &quot;round&quot;, &quot;lineJoin&quot;: &quot;round&quot;, &quot;opacity&quot;: 1.0, &quot;radius&quot;: 24.088125640567295, &quot;stroke&quot;: true, &quot;weight&quot;: 3}\n",
       "            ).addTo(map_44e3e96609660dbcbcb47f957ff20567);\n",
       "        \n",
       "    \n",
       "        var popup_0b36aa697269c83f3c08c7e83a6e5116 = L.popup({&quot;maxWidth&quot;: &quot;100%&quot;});\n",
       "\n",
       "        \n",
       "            \n",
       "                var html_19858a234dcd1874e84b3c1eaee8c791 = $(`&lt;div id=&quot;html_19858a234dcd1874e84b3c1eaee8c791&quot; style=&quot;width: 100.0%; height: 100.0%;&quot;&gt;Kenya&lt;/div&gt;`)[0];\n",
       "                popup_0b36aa697269c83f3c08c7e83a6e5116.setContent(html_19858a234dcd1874e84b3c1eaee8c791);\n",
       "            \n",
       "        \n",
       "\n",
       "        circle_marker_716c6a61a7cab13702df5988b3664e99.bindPopup(popup_0b36aa697269c83f3c08c7e83a6e5116)\n",
       "        ;\n",
       "\n",
       "        \n",
       "    \n",
       "    \n",
       "            var circle_marker_3001bc31b65ec38b2e6c8ef4afdf3674 = L.circleMarker(\n",
       "                [41.5, 75.0],\n",
       "                {&quot;bubblingMouseEvents&quot;: true, &quot;color&quot;: &quot;red&quot;, &quot;dashArray&quot;: null, &quot;dashOffset&quot;: null, &quot;fill&quot;: true, &quot;fillColor&quot;: &quot;red&quot;, &quot;fillOpacity&quot;: 0.2, &quot;fillRule&quot;: &quot;evenodd&quot;, &quot;lineCap&quot;: &quot;round&quot;, &quot;lineJoin&quot;: &quot;round&quot;, &quot;opacity&quot;: 1.0, &quot;radius&quot;: 2.9697977196085015, &quot;stroke&quot;: true, &quot;weight&quot;: 3}\n",
       "            ).addTo(map_44e3e96609660dbcbcb47f957ff20567);\n",
       "        \n",
       "    \n",
       "        var popup_8e9710bddc4511fc99646b455bbd7ddb = L.popup({&quot;maxWidth&quot;: &quot;100%&quot;});\n",
       "\n",
       "        \n",
       "            \n",
       "                var html_05f97f0bcc027639db42a512c088ef73 = $(`&lt;div id=&quot;html_05f97f0bcc027639db42a512c088ef73&quot; style=&quot;width: 100.0%; height: 100.0%;&quot;&gt;Kyrgyz Republic&lt;/div&gt;`)[0];\n",
       "                popup_8e9710bddc4511fc99646b455bbd7ddb.setContent(html_05f97f0bcc027639db42a512c088ef73);\n",
       "            \n",
       "        \n",
       "\n",
       "        circle_marker_3001bc31b65ec38b2e6c8ef4afdf3674.bindPopup(popup_8e9710bddc4511fc99646b455bbd7ddb)\n",
       "        ;\n",
       "\n",
       "        \n",
       "    \n",
       "    \n",
       "            var circle_marker_8a959e711312e36272c4af06d0072238 = L.circleMarker(\n",
       "                [13.0, 105.0],\n",
       "                {&quot;bubblingMouseEvents&quot;: true, &quot;color&quot;: &quot;red&quot;, &quot;dashArray&quot;: null, &quot;dashOffset&quot;: null, &quot;fill&quot;: true, &quot;fillColor&quot;: &quot;red&quot;, &quot;fillOpacity&quot;: 0.2, &quot;fillRule&quot;: &quot;evenodd&quot;, &quot;lineCap&quot;: &quot;round&quot;, &quot;lineJoin&quot;: &quot;round&quot;, &quot;opacity&quot;: 1.0, &quot;radius&quot;: 6.766458594858778, &quot;stroke&quot;: true, &quot;weight&quot;: 3}\n",
       "            ).addTo(map_44e3e96609660dbcbcb47f957ff20567);\n",
       "        \n",
       "    \n",
       "        var popup_c29856327f83502146ce5a5efa653a10 = L.popup({&quot;maxWidth&quot;: &quot;100%&quot;});\n",
       "\n",
       "        \n",
       "            \n",
       "                var html_5508211bb55747003622518e8e9e3b35 = $(`&lt;div id=&quot;html_5508211bb55747003622518e8e9e3b35&quot; style=&quot;width: 100.0%; height: 100.0%;&quot;&gt;Cambodia&lt;/div&gt;`)[0];\n",
       "                popup_c29856327f83502146ce5a5efa653a10.setContent(html_5508211bb55747003622518e8e9e3b35);\n",
       "            \n",
       "        \n",
       "\n",
       "        circle_marker_8a959e711312e36272c4af06d0072238.bindPopup(popup_c29856327f83502146ce5a5efa653a10)\n",
       "        ;\n",
       "\n",
       "        \n",
       "    \n",
       "    \n",
       "            var circle_marker_2fc819fde3e2e553a4a5f5db4774d4a1 = L.circleMarker(\n",
       "                [18.0, 105.0],\n",
       "                {&quot;bubblingMouseEvents&quot;: true, &quot;color&quot;: &quot;red&quot;, &quot;dashArray&quot;: null, &quot;dashOffset&quot;: null, &quot;fill&quot;: true, &quot;fillColor&quot;: &quot;red&quot;, &quot;fillOpacity&quot;: 0.2, &quot;fillRule&quot;: &quot;evenodd&quot;, &quot;lineCap&quot;: &quot;round&quot;, &quot;lineJoin&quot;: &quot;round&quot;, &quot;opacity&quot;: 1.0, &quot;radius&quot;: 7.758371982276796, &quot;stroke&quot;: true, &quot;weight&quot;: 3}\n",
       "            ).addTo(map_44e3e96609660dbcbcb47f957ff20567);\n",
       "        \n",
       "    \n",
       "        var popup_93a3de41ac0d3fe8c477566e931e96a3 = L.popup({&quot;maxWidth&quot;: &quot;100%&quot;});\n",
       "\n",
       "        \n",
       "            \n",
       "                var html_eeb537e301024ac60ca5d09d938896c0 = $(`&lt;div id=&quot;html_eeb537e301024ac60ca5d09d938896c0&quot; style=&quot;width: 100.0%; height: 100.0%;&quot;&gt;Lao&lt;/div&gt;`)[0];\n",
       "                popup_93a3de41ac0d3fe8c477566e931e96a3.setContent(html_eeb537e301024ac60ca5d09d938896c0);\n",
       "            \n",
       "        \n",
       "\n",
       "        circle_marker_2fc819fde3e2e553a4a5f5db4774d4a1.bindPopup(popup_93a3de41ac0d3fe8c477566e931e96a3)\n",
       "        ;\n",
       "\n",
       "        \n",
       "    \n",
       "    \n",
       "            var circle_marker_1322f39c8d846ce9d784f470b2c641d6 = L.circleMarker(\n",
       "                [6.5, -9.5],\n",
       "                {&quot;bubblingMouseEvents&quot;: true, &quot;color&quot;: &quot;blue&quot;, &quot;dashArray&quot;: null, &quot;dashOffset&quot;: null, &quot;fill&quot;: true, &quot;fillColor&quot;: &quot;blue&quot;, &quot;fillOpacity&quot;: 0.2, &quot;fillRule&quot;: &quot;evenodd&quot;, &quot;lineCap&quot;: &quot;round&quot;, &quot;lineJoin&quot;: &quot;round&quot;, &quot;opacity&quot;: 1.0, &quot;radius&quot;: 10.185772240421114, &quot;stroke&quot;: true, &quot;weight&quot;: 3}\n",
       "            ).addTo(map_44e3e96609660dbcbcb47f957ff20567);\n",
       "        \n",
       "    \n",
       "        var popup_03185480504717ef1acfcdeea177f860 = L.popup({&quot;maxWidth&quot;: &quot;100%&quot;});\n",
       "\n",
       "        \n",
       "            \n",
       "                var html_4168e61f2a4bac82c6378f7d060abfb9 = $(`&lt;div id=&quot;html_4168e61f2a4bac82c6378f7d060abfb9&quot; style=&quot;width: 100.0%; height: 100.0%;&quot;&gt;Liberia&lt;/div&gt;`)[0];\n",
       "                popup_03185480504717ef1acfcdeea177f860.setContent(html_4168e61f2a4bac82c6378f7d060abfb9);\n",
       "            \n",
       "        \n",
       "\n",
       "        circle_marker_1322f39c8d846ce9d784f470b2c641d6.bindPopup(popup_03185480504717ef1acfcdeea177f860)\n",
       "        ;\n",
       "\n",
       "        \n",
       "    \n",
       "    \n",
       "            var circle_marker_6cfb7e3bbc0148aa81960ea34fedbc43 = L.circleMarker(\n",
       "                [13.88333, -60.96667],\n",
       "                {&quot;bubblingMouseEvents&quot;: true, &quot;color&quot;: &quot;green&quot;, &quot;dashArray&quot;: null, &quot;dashOffset&quot;: null, &quot;fill&quot;: true, &quot;fillColor&quot;: &quot;green&quot;, &quot;fillOpacity&quot;: 0.2, &quot;fillRule&quot;: &quot;evenodd&quot;, &quot;lineCap&quot;: &quot;round&quot;, &quot;lineJoin&quot;: &quot;round&quot;, &quot;opacity&quot;: 1.0, &quot;radius&quot;: 1.0777350206264305, &quot;stroke&quot;: true, &quot;weight&quot;: 3}\n",
       "            ).addTo(map_44e3e96609660dbcbcb47f957ff20567);\n",
       "        \n",
       "    \n",
       "        var popup_0e4ebb0ad1e3017ef8fc9f6080d29061 = L.popup({&quot;maxWidth&quot;: &quot;100%&quot;});\n",
       "\n",
       "        \n",
       "            \n",
       "                var html_cadaf2a4c9a5d010d67b44ab360eaef4 = $(`&lt;div id=&quot;html_cadaf2a4c9a5d010d67b44ab360eaef4&quot; style=&quot;width: 100.0%; height: 100.0%;&quot;&gt;St. Lucia&lt;/div&gt;`)[0];\n",
       "                popup_0e4ebb0ad1e3017ef8fc9f6080d29061.setContent(html_cadaf2a4c9a5d010d67b44ab360eaef4);\n",
       "            \n",
       "        \n",
       "\n",
       "        circle_marker_6cfb7e3bbc0148aa81960ea34fedbc43.bindPopup(popup_0e4ebb0ad1e3017ef8fc9f6080d29061)\n",
       "        ;\n",
       "\n",
       "        \n",
       "    \n",
       "    \n",
       "            var circle_marker_db26702ec45be6c3ebc12920447dc225 = L.circleMarker(\n",
       "                [7.75, 80.75],\n",
       "                {&quot;bubblingMouseEvents&quot;: true, &quot;color&quot;: &quot;red&quot;, &quot;dashArray&quot;: null, &quot;dashOffset&quot;: null, &quot;fill&quot;: true, &quot;fillColor&quot;: &quot;red&quot;, &quot;fillOpacity&quot;: 0.2, &quot;fillRule&quot;: &quot;evenodd&quot;, &quot;lineCap&quot;: &quot;round&quot;, &quot;lineJoin&quot;: &quot;round&quot;, &quot;opacity&quot;: 1.0, &quot;radius&quot;: 5.148541404016821, &quot;stroke&quot;: true, &quot;weight&quot;: 3}\n",
       "            ).addTo(map_44e3e96609660dbcbcb47f957ff20567);\n",
       "        \n",
       "    \n",
       "        var popup_36535c04bf5096bb24451309834bfdee = L.popup({&quot;maxWidth&quot;: &quot;100%&quot;});\n",
       "\n",
       "        \n",
       "            \n",
       "                var html_1fa339b89aed2de2f9ed7d43244f3384 = $(`&lt;div id=&quot;html_1fa339b89aed2de2f9ed7d43244f3384&quot; style=&quot;width: 100.0%; height: 100.0%;&quot;&gt;Sri Lanka&lt;/div&gt;`)[0];\n",
       "                popup_36535c04bf5096bb24451309834bfdee.setContent(html_1fa339b89aed2de2f9ed7d43244f3384);\n",
       "            \n",
       "        \n",
       "\n",
       "        circle_marker_db26702ec45be6c3ebc12920447dc225.bindPopup(popup_36535c04bf5096bb24451309834bfdee)\n",
       "        ;\n",
       "\n",
       "        \n",
       "    \n",
       "    \n",
       "            var circle_marker_a7a3635407d90e5bdc6ca8b66b5e33a1 = L.circleMarker(\n",
       "                [-29.5, 28.25],\n",
       "                {&quot;bubblingMouseEvents&quot;: true, &quot;color&quot;: &quot;blue&quot;, &quot;dashArray&quot;: null, &quot;dashOffset&quot;: null, &quot;fill&quot;: true, &quot;fillColor&quot;: &quot;blue&quot;, &quot;fillOpacity&quot;: 0.2, &quot;fillRule&quot;: &quot;evenodd&quot;, &quot;lineCap&quot;: &quot;round&quot;, &quot;lineJoin&quot;: &quot;round&quot;, &quot;opacity&quot;: 1.0, &quot;radius&quot;: 5.97591567065859, &quot;stroke&quot;: true, &quot;weight&quot;: 3}\n",
       "            ).addTo(map_44e3e96609660dbcbcb47f957ff20567);\n",
       "        \n",
       "    \n",
       "        var popup_45eb60470b798c5408891a8f02eff011 = L.popup({&quot;maxWidth&quot;: &quot;100%&quot;});\n",
       "\n",
       "        \n",
       "            \n",
       "                var html_d88104fd327a59886774408a3d8c31e4 = $(`&lt;div id=&quot;html_d88104fd327a59886774408a3d8c31e4&quot; style=&quot;width: 100.0%; height: 100.0%;&quot;&gt;Lesotho&lt;/div&gt;`)[0];\n",
       "                popup_45eb60470b798c5408891a8f02eff011.setContent(html_d88104fd327a59886774408a3d8c31e4);\n",
       "            \n",
       "        \n",
       "\n",
       "        circle_marker_a7a3635407d90e5bdc6ca8b66b5e33a1.bindPopup(popup_45eb60470b798c5408891a8f02eff011)\n",
       "        ;\n",
       "\n",
       "        \n",
       "    \n",
       "    \n",
       "            var circle_marker_e40240eebab0d6038940393a13c0f3c9 = L.circleMarker(\n",
       "                [55.41667, 24.0],\n",
       "                {&quot;bubblingMouseEvents&quot;: true, &quot;color&quot;: &quot;black&quot;, &quot;dashArray&quot;: null, &quot;dashOffset&quot;: null, &quot;fill&quot;: true, &quot;fillColor&quot;: &quot;black&quot;, &quot;fillOpacity&quot;: 0.2, &quot;fillRule&quot;: &quot;evenodd&quot;, &quot;lineCap&quot;: &quot;round&quot;, &quot;lineJoin&quot;: &quot;round&quot;, &quot;opacity&quot;: 1.0, &quot;radius&quot;: 0.9084678711420302, &quot;stroke&quot;: true, &quot;weight&quot;: 3}\n",
       "            ).addTo(map_44e3e96609660dbcbcb47f957ff20567);\n",
       "        \n",
       "    \n",
       "        var popup_fb2ca9193bf1c9de2c80818b74b83719 = L.popup({&quot;maxWidth&quot;: &quot;100%&quot;});\n",
       "\n",
       "        \n",
       "            \n",
       "                var html_4c43fdbd7c9412c07d6fe6ffcfa129c1 = $(`&lt;div id=&quot;html_4c43fdbd7c9412c07d6fe6ffcfa129c1&quot; style=&quot;width: 100.0%; height: 100.0%;&quot;&gt;Lithuania&lt;/div&gt;`)[0];\n",
       "                popup_fb2ca9193bf1c9de2c80818b74b83719.setContent(html_4c43fdbd7c9412c07d6fe6ffcfa129c1);\n",
       "            \n",
       "        \n",
       "\n",
       "        circle_marker_e40240eebab0d6038940393a13c0f3c9.bindPopup(popup_fb2ca9193bf1c9de2c80818b74b83719)\n",
       "        ;\n",
       "\n",
       "        \n",
       "    \n",
       "    \n",
       "            var circle_marker_7bc45ed795b3aa152a27060e3de66348 = L.circleMarker(\n",
       "                [57.0, 25.0],\n",
       "                {&quot;bubblingMouseEvents&quot;: true, &quot;color&quot;: &quot;black&quot;, &quot;dashArray&quot;: null, &quot;dashOffset&quot;: null, &quot;fill&quot;: true, &quot;fillColor&quot;: &quot;black&quot;, &quot;fillOpacity&quot;: 0.2, &quot;fillRule&quot;: &quot;evenodd&quot;, &quot;lineCap&quot;: &quot;round&quot;, &quot;lineJoin&quot;: &quot;round&quot;, &quot;opacity&quot;: 1.0, &quot;radius&quot;: 0.8495129039372447, &quot;stroke&quot;: true, &quot;weight&quot;: 3}\n",
       "            ).addTo(map_44e3e96609660dbcbcb47f957ff20567);\n",
       "        \n",
       "    \n",
       "        var popup_bcab49a742db759b15360e29f785010b = L.popup({&quot;maxWidth&quot;: &quot;100%&quot;});\n",
       "\n",
       "        \n",
       "            \n",
       "                var html_fb2a5efffbf00d036c2aa8dc57706068 = $(`&lt;div id=&quot;html_fb2a5efffbf00d036c2aa8dc57706068&quot; style=&quot;width: 100.0%; height: 100.0%;&quot;&gt;Latvia&lt;/div&gt;`)[0];\n",
       "                popup_bcab49a742db759b15360e29f785010b.setContent(html_fb2a5efffbf00d036c2aa8dc57706068);\n",
       "            \n",
       "        \n",
       "\n",
       "        circle_marker_7bc45ed795b3aa152a27060e3de66348.bindPopup(popup_bcab49a742db759b15360e29f785010b)\n",
       "        ;\n",
       "\n",
       "        \n",
       "    \n",
       "    \n",
       "            var circle_marker_e79aee15a141710d53696a8350fc291a = L.circleMarker(\n",
       "                [32.0, -6.0],\n",
       "                {&quot;bubblingMouseEvents&quot;: true, &quot;color&quot;: &quot;blue&quot;, &quot;dashArray&quot;: null, &quot;dashOffset&quot;: null, &quot;fill&quot;: true, &quot;fillColor&quot;: &quot;blue&quot;, &quot;fillOpacity&quot;: 0.2, &quot;fillRule&quot;: &quot;evenodd&quot;, &quot;lineCap&quot;: &quot;round&quot;, &quot;lineJoin&quot;: &quot;round&quot;, &quot;opacity&quot;: 1.0, &quot;radius&quot;: 5.143803409376387, &quot;stroke&quot;: true, &quot;weight&quot;: 3}\n",
       "            ).addTo(map_44e3e96609660dbcbcb47f957ff20567);\n",
       "        \n",
       "    \n",
       "        var popup_3c8d5f4c1424bb0e9384795734921be7 = L.popup({&quot;maxWidth&quot;: &quot;100%&quot;});\n",
       "\n",
       "        \n",
       "            \n",
       "                var html_a77d8a727c1f7122fc033f336d914da7 = $(`&lt;div id=&quot;html_a77d8a727c1f7122fc033f336d914da7&quot; style=&quot;width: 100.0%; height: 100.0%;&quot;&gt;Morocco&lt;/div&gt;`)[0];\n",
       "                popup_3c8d5f4c1424bb0e9384795734921be7.setContent(html_a77d8a727c1f7122fc033f336d914da7);\n",
       "            \n",
       "        \n",
       "\n",
       "        circle_marker_e79aee15a141710d53696a8350fc291a.bindPopup(popup_3c8d5f4c1424bb0e9384795734921be7)\n",
       "        ;\n",
       "\n",
       "        \n",
       "    \n",
       "    \n",
       "            var circle_marker_15417743c4bd9773d6248737855210c1 = L.circleMarker(\n",
       "                [47.25, 28.58333],\n",
       "                {&quot;bubblingMouseEvents&quot;: true, &quot;color&quot;: &quot;black&quot;, &quot;dashArray&quot;: null, &quot;dashOffset&quot;: null, &quot;fill&quot;: true, &quot;fillColor&quot;: &quot;black&quot;, &quot;fillOpacity&quot;: 0.2, &quot;fillRule&quot;: &quot;evenodd&quot;, &quot;lineCap&quot;: &quot;round&quot;, &quot;lineJoin&quot;: &quot;round&quot;, &quot;opacity&quot;: 1.0, &quot;radius&quot;: 0.5469439011777409, &quot;stroke&quot;: true, &quot;weight&quot;: 3}\n",
       "            ).addTo(map_44e3e96609660dbcbcb47f957ff20567);\n",
       "        \n",
       "    \n",
       "        var popup_945cd4c46f5a78185d2806e6ca0bbb38 = L.popup({&quot;maxWidth&quot;: &quot;100%&quot;});\n",
       "\n",
       "        \n",
       "            \n",
       "                var html_a461a28fc7c9927b320e238595053ea3 = $(`&lt;div id=&quot;html_a461a28fc7c9927b320e238595053ea3&quot; style=&quot;width: 100.0%; height: 100.0%;&quot;&gt;Moldova&lt;/div&gt;`)[0];\n",
       "                popup_945cd4c46f5a78185d2806e6ca0bbb38.setContent(html_a461a28fc7c9927b320e238595053ea3);\n",
       "            \n",
       "        \n",
       "\n",
       "        circle_marker_15417743c4bd9773d6248737855210c1.bindPopup(popup_945cd4c46f5a78185d2806e6ca0bbb38)\n",
       "        ;\n",
       "\n",
       "        \n",
       "    \n",
       "    \n",
       "            var circle_marker_e5957eefed9aa0f6f169f2cdede69d88 = L.circleMarker(\n",
       "                [-20.0, 47.0],\n",
       "                {&quot;bubblingMouseEvents&quot;: true, &quot;color&quot;: &quot;blue&quot;, &quot;dashArray&quot;: null, &quot;dashOffset&quot;: null, &quot;fill&quot;: true, &quot;fillColor&quot;: &quot;blue&quot;, &quot;fillOpacity&quot;: 0.2, &quot;fillRule&quot;: &quot;evenodd&quot;, &quot;lineCap&quot;: &quot;round&quot;, &quot;lineJoin&quot;: &quot;round&quot;, &quot;opacity&quot;: 1.0, &quot;radius&quot;: 24.295318258386423, &quot;stroke&quot;: true, &quot;weight&quot;: 3}\n",
       "            ).addTo(map_44e3e96609660dbcbcb47f957ff20567);\n",
       "        \n",
       "    \n",
       "        var popup_18e814d1456e5caf2966ac56419e5f80 = L.popup({&quot;maxWidth&quot;: &quot;100%&quot;});\n",
       "\n",
       "        \n",
       "            \n",
       "                var html_699ced5a1ef70986f72d3656b906fba5 = $(`&lt;div id=&quot;html_699ced5a1ef70986f72d3656b906fba5&quot; style=&quot;width: 100.0%; height: 100.0%;&quot;&gt;Madagascar&lt;/div&gt;`)[0];\n",
       "                popup_18e814d1456e5caf2966ac56419e5f80.setContent(html_699ced5a1ef70986f72d3656b906fba5);\n",
       "            \n",
       "        \n",
       "\n",
       "        circle_marker_e5957eefed9aa0f6f169f2cdede69d88.bindPopup(popup_18e814d1456e5caf2966ac56419e5f80)\n",
       "        ;\n",
       "\n",
       "        \n",
       "    \n",
       "    \n",
       "            var circle_marker_fd0d631b6910391923ed2e25b370f296 = L.circleMarker(\n",
       "                [3.2, 73.0],\n",
       "                {&quot;bubblingMouseEvents&quot;: true, &quot;color&quot;: &quot;red&quot;, &quot;dashArray&quot;: null, &quot;dashOffset&quot;: null, &quot;fill&quot;: true, &quot;fillColor&quot;: &quot;red&quot;, &quot;fillOpacity&quot;: 0.2, &quot;fillRule&quot;: &quot;evenodd&quot;, &quot;lineCap&quot;: &quot;round&quot;, &quot;lineJoin&quot;: &quot;round&quot;, &quot;opacity&quot;: 1.0, &quot;radius&quot;: 0.4150917264789626, &quot;stroke&quot;: true, &quot;weight&quot;: 3}\n",
       "            ).addTo(map_44e3e96609660dbcbcb47f957ff20567);\n",
       "        \n",
       "    \n",
       "        var popup_c826a57321985d62d84e526556b218c6 = L.popup({&quot;maxWidth&quot;: &quot;100%&quot;});\n",
       "\n",
       "        \n",
       "            \n",
       "                var html_e8188ab8272d1706dd1ad6a0bc233e48 = $(`&lt;div id=&quot;html_e8188ab8272d1706dd1ad6a0bc233e48&quot; style=&quot;width: 100.0%; height: 100.0%;&quot;&gt;Maldives&lt;/div&gt;`)[0];\n",
       "                popup_c826a57321985d62d84e526556b218c6.setContent(html_e8188ab8272d1706dd1ad6a0bc233e48);\n",
       "            \n",
       "        \n",
       "\n",
       "        circle_marker_fd0d631b6910391923ed2e25b370f296.bindPopup(popup_c826a57321985d62d84e526556b218c6)\n",
       "        ;\n",
       "\n",
       "        \n",
       "    \n",
       "    \n",
       "            var circle_marker_bd68c9729b8591ecd4808f84f97c217f = L.circleMarker(\n",
       "                [19.42847, -99.12766],\n",
       "                {&quot;bubblingMouseEvents&quot;: true, &quot;color&quot;: &quot;green&quot;, &quot;dashArray&quot;: null, &quot;dashOffset&quot;: null, &quot;fill&quot;: true, &quot;fillColor&quot;: &quot;green&quot;, &quot;fillOpacity&quot;: 0.2, &quot;fillRule&quot;: &quot;evenodd&quot;, &quot;lineCap&quot;: &quot;round&quot;, &quot;lineJoin&quot;: &quot;round&quot;, &quot;opacity&quot;: 1.0, &quot;radius&quot;: 6.116077917408222, &quot;stroke&quot;: true, &quot;weight&quot;: 3}\n",
       "            ).addTo(map_44e3e96609660dbcbcb47f957ff20567);\n",
       "        \n",
       "    \n",
       "        var popup_237b205aa4f1fd64cd988eb26589ead0 = L.popup({&quot;maxWidth&quot;: &quot;100%&quot;});\n",
       "\n",
       "        \n",
       "            \n",
       "                var html_4dde9a0d5d2d5455c82a77fd7766ecae = $(`&lt;div id=&quot;html_4dde9a0d5d2d5455c82a77fd7766ecae&quot; style=&quot;width: 100.0%; height: 100.0%;&quot;&gt;Mexico&lt;/div&gt;`)[0];\n",
       "                popup_237b205aa4f1fd64cd988eb26589ead0.setContent(html_4dde9a0d5d2d5455c82a77fd7766ecae);\n",
       "            \n",
       "        \n",
       "\n",
       "        circle_marker_bd68c9729b8591ecd4808f84f97c217f.bindPopup(popup_237b205aa4f1fd64cd988eb26589ead0)\n",
       "        ;\n",
       "\n",
       "        \n",
       "    \n",
       "    \n",
       "            var circle_marker_3bb4d4e9801a0c46d4e5c1980517ce9c = L.circleMarker(\n",
       "                [41.66667, 21.75],\n",
       "                {&quot;bubblingMouseEvents&quot;: true, &quot;color&quot;: &quot;black&quot;, &quot;dashArray&quot;: null, &quot;dashOffset&quot;: null, &quot;fill&quot;: true, &quot;fillColor&quot;: &quot;black&quot;, &quot;fillOpacity&quot;: 0.2, &quot;fillRule&quot;: &quot;evenodd&quot;, &quot;lineCap&quot;: &quot;round&quot;, &quot;lineJoin&quot;: &quot;round&quot;, &quot;opacity&quot;: 1.0, &quot;radius&quot;: 0.42959989759002715, &quot;stroke&quot;: true, &quot;weight&quot;: 3}\n",
       "            ).addTo(map_44e3e96609660dbcbcb47f957ff20567);\n",
       "        \n",
       "    \n",
       "        var popup_01e8066565e1c2275ff68fced95317d3 = L.popup({&quot;maxWidth&quot;: &quot;100%&quot;});\n",
       "\n",
       "        \n",
       "            \n",
       "                var html_49c9914863496bd7e0dd139f2f83f124 = $(`&lt;div id=&quot;html_49c9914863496bd7e0dd139f2f83f124&quot; style=&quot;width: 100.0%; height: 100.0%;&quot;&gt;North Macedonia&lt;/div&gt;`)[0];\n",
       "                popup_01e8066565e1c2275ff68fced95317d3.setContent(html_49c9914863496bd7e0dd139f2f83f124);\n",
       "            \n",
       "        \n",
       "\n",
       "        circle_marker_3bb4d4e9801a0c46d4e5c1980517ce9c.bindPopup(popup_01e8066565e1c2275ff68fced95317d3)\n",
       "        ;\n",
       "\n",
       "        \n",
       "    \n",
       "    \n",
       "            var circle_marker_1eb07b082aa3c924b3ce95fe838f58b1 = L.circleMarker(\n",
       "                [18.0, -2.0],\n",
       "                {&quot;bubblingMouseEvents&quot;: true, &quot;color&quot;: &quot;blue&quot;, &quot;dashArray&quot;: null, &quot;dashOffset&quot;: null, &quot;fill&quot;: true, &quot;fillColor&quot;: &quot;blue&quot;, &quot;fillOpacity&quot;: 0.2, &quot;fillRule&quot;: &quot;evenodd&quot;, &quot;lineCap&quot;: &quot;round&quot;, &quot;lineJoin&quot;: &quot;round&quot;, &quot;opacity&quot;: 1.0, &quot;radius&quot;: 15.570484664876235, &quot;stroke&quot;: true, &quot;weight&quot;: 3}\n",
       "            ).addTo(map_44e3e96609660dbcbcb47f957ff20567);\n",
       "        \n",
       "    \n",
       "        var popup_0c8125757a119d754c2ac990edd5afa5 = L.popup({&quot;maxWidth&quot;: &quot;100%&quot;});\n",
       "\n",
       "        \n",
       "            \n",
       "                var html_8ad891aaae2232b9455e77733dee807c = $(`&lt;div id=&quot;html_8ad891aaae2232b9455e77733dee807c&quot; style=&quot;width: 100.0%; height: 100.0%;&quot;&gt;Mali&lt;/div&gt;`)[0];\n",
       "                popup_0c8125757a119d754c2ac990edd5afa5.setContent(html_8ad891aaae2232b9455e77733dee807c);\n",
       "            \n",
       "        \n",
       "\n",
       "        circle_marker_1eb07b082aa3c924b3ce95fe838f58b1.bindPopup(popup_0c8125757a119d754c2ac990edd5afa5)\n",
       "        ;\n",
       "\n",
       "        \n",
       "    \n",
       "    \n",
       "            var circle_marker_5a6b973d124bef38568ece04f1b95627 = L.circleMarker(\n",
       "                [42.75, 19.25],\n",
       "                {&quot;bubblingMouseEvents&quot;: true, &quot;color&quot;: &quot;black&quot;, &quot;dashArray&quot;: null, &quot;dashOffset&quot;: null, &quot;fill&quot;: true, &quot;fillColor&quot;: &quot;black&quot;, &quot;fillOpacity&quot;: 0.2, &quot;fillRule&quot;: &quot;evenodd&quot;, &quot;lineCap&quot;: &quot;round&quot;, &quot;lineJoin&quot;: &quot;round&quot;, &quot;opacity&quot;: 1.0, &quot;radius&quot;: 0.2042802635564556, &quot;stroke&quot;: true, &quot;weight&quot;: 3}\n",
       "            ).addTo(map_44e3e96609660dbcbcb47f957ff20567);\n",
       "        \n",
       "    \n",
       "        var popup_60a33c571632bc3373e6e87a6949cd9f = L.popup({&quot;maxWidth&quot;: &quot;100%&quot;});\n",
       "\n",
       "        \n",
       "            \n",
       "                var html_4f25b2624ee94ed989e259219a47d5ff = $(`&lt;div id=&quot;html_4f25b2624ee94ed989e259219a47d5ff&quot; style=&quot;width: 100.0%; height: 100.0%;&quot;&gt;Montenegro&lt;/div&gt;`)[0];\n",
       "                popup_60a33c571632bc3373e6e87a6949cd9f.setContent(html_4f25b2624ee94ed989e259219a47d5ff);\n",
       "            \n",
       "        \n",
       "\n",
       "        circle_marker_5a6b973d124bef38568ece04f1b95627.bindPopup(popup_60a33c571632bc3373e6e87a6949cd9f)\n",
       "        ;\n",
       "\n",
       "        \n",
       "    \n",
       "    \n",
       "            var circle_marker_e1f48dfe9f0e81adcfb77ad186bf8b66 = L.circleMarker(\n",
       "                [-18.25, 35.0],\n",
       "                {&quot;bubblingMouseEvents&quot;: true, &quot;color&quot;: &quot;blue&quot;, &quot;dashArray&quot;: null, &quot;dashOffset&quot;: null, &quot;fill&quot;: true, &quot;fillColor&quot;: &quot;blue&quot;, &quot;fillOpacity&quot;: 0.2, &quot;fillRule&quot;: &quot;evenodd&quot;, &quot;lineCap&quot;: &quot;round&quot;, &quot;lineJoin&quot;: &quot;round&quot;, &quot;opacity&quot;: 1.0, &quot;radius&quot;: 21.32458555367499, &quot;stroke&quot;: true, &quot;weight&quot;: 3}\n",
       "            ).addTo(map_44e3e96609660dbcbcb47f957ff20567);\n",
       "        \n",
       "    \n",
       "        var popup_79ea628935c2668dacfcd780320f688b = L.popup({&quot;maxWidth&quot;: &quot;100%&quot;});\n",
       "\n",
       "        \n",
       "            \n",
       "                var html_faa9947aafbb9944e565770e5fdb6fbb = $(`&lt;div id=&quot;html_faa9947aafbb9944e565770e5fdb6fbb&quot; style=&quot;width: 100.0%; height: 100.0%;&quot;&gt;Mozambique&lt;/div&gt;`)[0];\n",
       "                popup_79ea628935c2668dacfcd780320f688b.setContent(html_faa9947aafbb9944e565770e5fdb6fbb);\n",
       "            \n",
       "        \n",
       "\n",
       "        circle_marker_e1f48dfe9f0e81adcfb77ad186bf8b66.bindPopup(popup_79ea628935c2668dacfcd780320f688b)\n",
       "        ;\n",
       "\n",
       "        \n",
       "    \n",
       "    \n",
       "            var circle_marker_2301a8f2d3e17c0015c0261e8dc32a61 = L.circleMarker(\n",
       "                [20.25, -10.5],\n",
       "                {&quot;bubblingMouseEvents&quot;: true, &quot;color&quot;: &quot;blue&quot;, &quot;dashArray&quot;: null, &quot;dashOffset&quot;: null, &quot;fill&quot;: true, &quot;fillColor&quot;: &quot;blue&quot;, &quot;fillOpacity&quot;: 0.2, &quot;fillRule&quot;: &quot;evenodd&quot;, &quot;lineCap&quot;: &quot;round&quot;, &quot;lineJoin&quot;: &quot;round&quot;, &quot;opacity&quot;: 1.0, &quot;radius&quot;: 5.104874523724298, &quot;stroke&quot;: true, &quot;weight&quot;: 3}\n",
       "            ).addTo(map_44e3e96609660dbcbcb47f957ff20567);\n",
       "        \n",
       "    \n",
       "        var popup_64c05d99cb29f56a1bd62e4990b60d90 = L.popup({&quot;maxWidth&quot;: &quot;100%&quot;});\n",
       "\n",
       "        \n",
       "            \n",
       "                var html_e66d3b33dde6d888f81fc3c40d859237 = $(`&lt;div id=&quot;html_e66d3b33dde6d888f81fc3c40d859237&quot; style=&quot;width: 100.0%; height: 100.0%;&quot;&gt;Mauritania&lt;/div&gt;`)[0];\n",
       "                popup_64c05d99cb29f56a1bd62e4990b60d90.setContent(html_e66d3b33dde6d888f81fc3c40d859237);\n",
       "            \n",
       "        \n",
       "\n",
       "        circle_marker_2301a8f2d3e17c0015c0261e8dc32a61.bindPopup(popup_64c05d99cb29f56a1bd62e4990b60d90)\n",
       "        ;\n",
       "\n",
       "        \n",
       "    \n",
       "    \n",
       "            var circle_marker_3b671762c4bd71fa8a4ce69c6a39c3ab = L.circleMarker(\n",
       "                [-13.5, 34.0],\n",
       "                {&quot;bubblingMouseEvents&quot;: true, &quot;color&quot;: &quot;blue&quot;, &quot;dashArray&quot;: null, &quot;dashOffset&quot;: null, &quot;fill&quot;: true, &quot;fillColor&quot;: &quot;blue&quot;, &quot;fillOpacity&quot;: 0.2, &quot;fillRule&quot;: &quot;evenodd&quot;, &quot;lineCap&quot;: &quot;round&quot;, &quot;lineJoin&quot;: &quot;round&quot;, &quot;opacity&quot;: 1.0, &quot;radius&quot;: 18.27467628792681, &quot;stroke&quot;: true, &quot;weight&quot;: 3}\n",
       "            ).addTo(map_44e3e96609660dbcbcb47f957ff20567);\n",
       "        \n",
       "    \n",
       "        var popup_bb2bbcacb0a3cdd89e241c365ee306a4 = L.popup({&quot;maxWidth&quot;: &quot;100%&quot;});\n",
       "\n",
       "        \n",
       "            \n",
       "                var html_af9fcc41535f768786325026b76bc26d = $(`&lt;div id=&quot;html_af9fcc41535f768786325026b76bc26d&quot; style=&quot;width: 100.0%; height: 100.0%;&quot;&gt;Malawi&lt;/div&gt;`)[0];\n",
       "                popup_bb2bbcacb0a3cdd89e241c365ee306a4.setContent(html_af9fcc41535f768786325026b76bc26d);\n",
       "            \n",
       "        \n",
       "\n",
       "        circle_marker_3b671762c4bd71fa8a4ce69c6a39c3ab.bindPopup(popup_bb2bbcacb0a3cdd89e241c365ee306a4)\n",
       "        ;\n",
       "\n",
       "        \n",
       "    \n",
       "    \n",
       "            var circle_marker_f5af05391d412e457eca17c35083828c = L.circleMarker(\n",
       "                [2.5, 112.5],\n",
       "                {&quot;bubblingMouseEvents&quot;: true, &quot;color&quot;: &quot;red&quot;, &quot;dashArray&quot;: null, &quot;dashOffset&quot;: null, &quot;fill&quot;: true, &quot;fillColor&quot;: &quot;red&quot;, &quot;fillOpacity&quot;: 0.2, &quot;fillRule&quot;: &quot;evenodd&quot;, &quot;lineCap&quot;: &quot;round&quot;, &quot;lineJoin&quot;: &quot;round&quot;, &quot;opacity&quot;: 1.0, &quot;stroke&quot;: true, &quot;weight&quot;: 3}\n",
       "            ).addTo(map_44e3e96609660dbcbcb47f957ff20567);\n",
       "        \n",
       "    \n",
       "        var popup_51e4d580d1caed3f0faadc5b2cdf45ca = L.popup({&quot;maxWidth&quot;: &quot;100%&quot;});\n",
       "\n",
       "        \n",
       "            \n",
       "                var html_e723700aac75e858fc0bbe2d343f5b94 = $(`&lt;div id=&quot;html_e723700aac75e858fc0bbe2d343f5b94&quot; style=&quot;width: 100.0%; height: 100.0%;&quot;&gt;Malaysia&lt;/div&gt;`)[0];\n",
       "                popup_51e4d580d1caed3f0faadc5b2cdf45ca.setContent(html_e723700aac75e858fc0bbe2d343f5b94);\n",
       "            \n",
       "        \n",
       "\n",
       "        circle_marker_f5af05391d412e457eca17c35083828c.bindPopup(popup_51e4d580d1caed3f0faadc5b2cdf45ca)\n",
       "        ;\n",
       "\n",
       "        \n",
       "    \n",
       "    \n",
       "            var circle_marker_0b7725b46ac125df9aa4a59193374a5d = L.circleMarker(\n",
       "                [-22.0, 17.0],\n",
       "                {&quot;bubblingMouseEvents&quot;: true, &quot;color&quot;: &quot;blue&quot;, &quot;dashArray&quot;: null, &quot;dashOffset&quot;: null, &quot;fill&quot;: true, &quot;fillColor&quot;: &quot;blue&quot;, &quot;fillOpacity&quot;: 0.2, &quot;fillRule&quot;: &quot;evenodd&quot;, &quot;lineCap&quot;: &quot;round&quot;, &quot;lineJoin&quot;: &quot;round&quot;, &quot;opacity&quot;: 1.0, &quot;radius&quot;: 3.9845687128006193, &quot;stroke&quot;: true, &quot;weight&quot;: 3}\n",
       "            ).addTo(map_44e3e96609660dbcbcb47f957ff20567);\n",
       "        \n",
       "    \n",
       "        var popup_a28a7eedfc82d5c1846ee37065b6aa5b = L.popup({&quot;maxWidth&quot;: &quot;100%&quot;});\n",
       "\n",
       "        \n",
       "            \n",
       "                var html_d2a04e00f46cdaf6e521b7a782a58208 = $(`&lt;div id=&quot;html_d2a04e00f46cdaf6e521b7a782a58208&quot; style=&quot;width: 100.0%; height: 100.0%;&quot;&gt;Namibia&lt;/div&gt;`)[0];\n",
       "                popup_a28a7eedfc82d5c1846ee37065b6aa5b.setContent(html_d2a04e00f46cdaf6e521b7a782a58208);\n",
       "            \n",
       "        \n",
       "\n",
       "        circle_marker_0b7725b46ac125df9aa4a59193374a5d.bindPopup(popup_a28a7eedfc82d5c1846ee37065b6aa5b)\n",
       "        ;\n",
       "\n",
       "        \n",
       "    \n",
       "    \n",
       "            var circle_marker_5682df3a180a0be4dcb1e04c1c6f580f = L.circleMarker(\n",
       "                [18.0, 9.0],\n",
       "                {&quot;bubblingMouseEvents&quot;: true, &quot;color&quot;: &quot;blue&quot;, &quot;dashArray&quot;: null, &quot;dashOffset&quot;: null, &quot;fill&quot;: true, &quot;fillColor&quot;: &quot;blue&quot;, &quot;fillOpacity&quot;: 0.2, &quot;fillRule&quot;: &quot;evenodd&quot;, &quot;lineCap&quot;: &quot;round&quot;, &quot;lineJoin&quot;: &quot;round&quot;, &quot;opacity&quot;: 1.0, &quot;radius&quot;: 14.624343601209656, &quot;stroke&quot;: true, &quot;weight&quot;: 3}\n",
       "            ).addTo(map_44e3e96609660dbcbcb47f957ff20567);\n",
       "        \n",
       "    \n",
       "        var popup_2ecd211c945ef62f68a92eb72dc06d56 = L.popup({&quot;maxWidth&quot;: &quot;100%&quot;});\n",
       "\n",
       "        \n",
       "            \n",
       "                var html_72dffa7b10f6a2a0369ffdade67bf220 = $(`&lt;div id=&quot;html_72dffa7b10f6a2a0369ffdade67bf220&quot; style=&quot;width: 100.0%; height: 100.0%;&quot;&gt;Niger&lt;/div&gt;`)[0];\n",
       "                popup_2ecd211c945ef62f68a92eb72dc06d56.setContent(html_72dffa7b10f6a2a0369ffdade67bf220);\n",
       "            \n",
       "        \n",
       "\n",
       "        circle_marker_5682df3a180a0be4dcb1e04c1c6f580f.bindPopup(popup_2ecd211c945ef62f68a92eb72dc06d56)\n",
       "        ;\n",
       "\n",
       "        \n",
       "    \n",
       "    \n",
       "            var circle_marker_999c33f604a0c400fabe68d7c8716df4 = L.circleMarker(\n",
       "                [10.0, 8.0],\n",
       "                {&quot;bubblingMouseEvents&quot;: true, &quot;color&quot;: &quot;blue&quot;, &quot;dashArray&quot;: null, &quot;dashOffset&quot;: null, &quot;fill&quot;: true, &quot;fillColor&quot;: &quot;blue&quot;, &quot;fillOpacity&quot;: 0.2, &quot;fillRule&quot;: &quot;evenodd&quot;, &quot;lineCap&quot;: &quot;round&quot;, &quot;lineJoin&quot;: &quot;round&quot;, &quot;opacity&quot;: 1.0, &quot;radius&quot;: 55.94290002503713, &quot;stroke&quot;: true, &quot;weight&quot;: 3}\n",
       "            ).addTo(map_44e3e96609660dbcbcb47f957ff20567);\n",
       "        \n",
       "    \n",
       "        var popup_b42a1a9d28af86f93bd9b3d77697d799 = L.popup({&quot;maxWidth&quot;: &quot;100%&quot;});\n",
       "\n",
       "        \n",
       "            \n",
       "                var html_2cb3c537eb1f41752a68025d93e74eed = $(`&lt;div id=&quot;html_2cb3c537eb1f41752a68025d93e74eed&quot; style=&quot;width: 100.0%; height: 100.0%;&quot;&gt;Nigeria&lt;/div&gt;`)[0];\n",
       "                popup_b42a1a9d28af86f93bd9b3d77697d799.setContent(html_2cb3c537eb1f41752a68025d93e74eed);\n",
       "            \n",
       "        \n",
       "\n",
       "        circle_marker_999c33f604a0c400fabe68d7c8716df4.bindPopup(popup_b42a1a9d28af86f93bd9b3d77697d799)\n",
       "        ;\n",
       "\n",
       "        \n",
       "    \n",
       "    \n",
       "            var circle_marker_34b28ebc88ebdcbd56c80824a79b90fd = L.circleMarker(\n",
       "                [13.0, -85.0],\n",
       "                {&quot;bubblingMouseEvents&quot;: true, &quot;color&quot;: &quot;green&quot;, &quot;dashArray&quot;: null, &quot;dashOffset&quot;: null, &quot;fill&quot;: true, &quot;fillColor&quot;: &quot;green&quot;, &quot;fillOpacity&quot;: 0.2, &quot;fillRule&quot;: &quot;evenodd&quot;, &quot;lineCap&quot;: &quot;round&quot;, &quot;lineJoin&quot;: &quot;round&quot;, &quot;opacity&quot;: 1.0, &quot;radius&quot;: 3.9789367881465885, &quot;stroke&quot;: true, &quot;weight&quot;: 3}\n",
       "            ).addTo(map_44e3e96609660dbcbcb47f957ff20567);\n",
       "        \n",
       "    \n",
       "        var popup_a79561627dce10eb06b0351a57be8f86 = L.popup({&quot;maxWidth&quot;: &quot;100%&quot;});\n",
       "\n",
       "        \n",
       "            \n",
       "                var html_34471e2bdad132d42d3acb58870af434 = $(`&lt;div id=&quot;html_34471e2bdad132d42d3acb58870af434&quot; style=&quot;width: 100.0%; height: 100.0%;&quot;&gt;Nicaragua&lt;/div&gt;`)[0];\n",
       "                popup_a79561627dce10eb06b0351a57be8f86.setContent(html_34471e2bdad132d42d3acb58870af434);\n",
       "            \n",
       "        \n",
       "\n",
       "        circle_marker_34b28ebc88ebdcbd56c80824a79b90fd.bindPopup(popup_a79561627dce10eb06b0351a57be8f86)\n",
       "        ;\n",
       "\n",
       "        \n",
       "    \n",
       "    \n",
       "            var circle_marker_31fc1384a9b08ccb61e8e3cfc5113554 = L.circleMarker(\n",
       "                [52.25, 5.75],\n",
       "                {&quot;bubblingMouseEvents&quot;: true, &quot;color&quot;: &quot;black&quot;, &quot;dashArray&quot;: null, &quot;dashOffset&quot;: null, &quot;fill&quot;: true, &quot;fillColor&quot;: &quot;black&quot;, &quot;fillOpacity&quot;: 0.2, &quot;fillRule&quot;: &quot;evenodd&quot;, &quot;lineCap&quot;: &quot;round&quot;, &quot;lineJoin&quot;: &quot;round&quot;, &quot;opacity&quot;: 1.0, &quot;radius&quot;: 1.363308998513233, &quot;stroke&quot;: true, &quot;weight&quot;: 3}\n",
       "            ).addTo(map_44e3e96609660dbcbcb47f957ff20567);\n",
       "        \n",
       "    \n",
       "        var popup_88f09bd24c2eac2ffd06d64b957da992 = L.popup({&quot;maxWidth&quot;: &quot;100%&quot;});\n",
       "\n",
       "        \n",
       "            \n",
       "                var html_c1b6cbb304bc74ba400e258fc0196fca = $(`&lt;div id=&quot;html_c1b6cbb304bc74ba400e258fc0196fca&quot; style=&quot;width: 100.0%; height: 100.0%;&quot;&gt;Netherlands&lt;/div&gt;`)[0];\n",
       "                popup_88f09bd24c2eac2ffd06d64b957da992.setContent(html_c1b6cbb304bc74ba400e258fc0196fca);\n",
       "            \n",
       "        \n",
       "\n",
       "        circle_marker_31fc1384a9b08ccb61e8e3cfc5113554.bindPopup(popup_88f09bd24c2eac2ffd06d64b957da992)\n",
       "        ;\n",
       "\n",
       "        \n",
       "    \n",
       "    \n",
       "            var circle_marker_7b063a1be5ae87a4c3c78b6b84491bf7 = L.circleMarker(\n",
       "                [62.0, 10.0],\n",
       "                {&quot;bubblingMouseEvents&quot;: true, &quot;color&quot;: &quot;black&quot;, &quot;dashArray&quot;: null, &quot;dashOffset&quot;: null, &quot;fill&quot;: true, &quot;fillColor&quot;: &quot;black&quot;, &quot;fillOpacity&quot;: 0.2, &quot;fillRule&quot;: &quot;evenodd&quot;, &quot;lineCap&quot;: &quot;round&quot;, &quot;lineJoin&quot;: &quot;round&quot;, &quot;opacity&quot;: 1.0, &quot;radius&quot;: 1.0207778467534643, &quot;stroke&quot;: true, &quot;weight&quot;: 3}\n",
       "            ).addTo(map_44e3e96609660dbcbcb47f957ff20567);\n",
       "        \n",
       "    \n",
       "        var popup_19c62c28b0edb42614aac83d38548bac = L.popup({&quot;maxWidth&quot;: &quot;100%&quot;});\n",
       "\n",
       "        \n",
       "            \n",
       "                var html_1c2fab9bc0790f0dad999b9003d1fa71 = $(`&lt;div id=&quot;html_1c2fab9bc0790f0dad999b9003d1fa71&quot; style=&quot;width: 100.0%; height: 100.0%;&quot;&gt;Norway&lt;/div&gt;`)[0];\n",
       "                popup_19c62c28b0edb42614aac83d38548bac.setContent(html_1c2fab9bc0790f0dad999b9003d1fa71);\n",
       "            \n",
       "        \n",
       "\n",
       "        circle_marker_7b063a1be5ae87a4c3c78b6b84491bf7.bindPopup(popup_19c62c28b0edb42614aac83d38548bac)\n",
       "        ;\n",
       "\n",
       "        \n",
       "    \n",
       "    \n",
       "            var circle_marker_fdcfac9e13a967f53c5a86a1913448ca = L.circleMarker(\n",
       "                [28.0, 84.0],\n",
       "                {&quot;bubblingMouseEvents&quot;: true, &quot;color&quot;: &quot;red&quot;, &quot;dashArray&quot;: null, &quot;dashOffset&quot;: null, &quot;fill&quot;: true, &quot;fillColor&quot;: &quot;red&quot;, &quot;fillOpacity&quot;: 0.2, &quot;fillRule&quot;: &quot;evenodd&quot;, &quot;lineCap&quot;: &quot;round&quot;, &quot;lineJoin&quot;: &quot;round&quot;, &quot;opacity&quot;: 1.0, &quot;radius&quot;: 14.287409177153314, &quot;stroke&quot;: true, &quot;weight&quot;: 3}\n",
       "            ).addTo(map_44e3e96609660dbcbcb47f957ff20567);\n",
       "        \n",
       "    \n",
       "        var popup_7ee9c060c7f4d840ded72805fd5d7626 = L.popup({&quot;maxWidth&quot;: &quot;100%&quot;});\n",
       "\n",
       "        \n",
       "            \n",
       "                var html_722adabb46203219bd4df2c8d3e5e7dd = $(`&lt;div id=&quot;html_722adabb46203219bd4df2c8d3e5e7dd&quot; style=&quot;width: 100.0%; height: 100.0%;&quot;&gt;Nepal&lt;/div&gt;`)[0];\n",
       "                popup_7ee9c060c7f4d840ded72805fd5d7626.setContent(html_722adabb46203219bd4df2c8d3e5e7dd);\n",
       "            \n",
       "        \n",
       "\n",
       "        circle_marker_fdcfac9e13a967f53c5a86a1913448ca.bindPopup(popup_7ee9c060c7f4d840ded72805fd5d7626)\n",
       "        ;\n",
       "\n",
       "        \n",
       "    \n",
       "    \n",
       "            var circle_marker_f64504c072f652ca05455aeeefdcbf25 = L.circleMarker(\n",
       "                [30.0, 70.0],\n",
       "                {&quot;bubblingMouseEvents&quot;: true, &quot;color&quot;: &quot;red&quot;, &quot;dashArray&quot;: null, &quot;dashOffset&quot;: null, &quot;fill&quot;: true, &quot;fillColor&quot;: &quot;red&quot;, &quot;fillOpacity&quot;: 0.2, &quot;fillRule&quot;: &quot;evenodd&quot;, &quot;lineCap&quot;: &quot;round&quot;, &quot;lineJoin&quot;: &quot;round&quot;, &quot;opacity&quot;: 1.0, &quot;radius&quot;: 26.974340020303398, &quot;stroke&quot;: true, &quot;weight&quot;: 3}\n",
       "            ).addTo(map_44e3e96609660dbcbcb47f957ff20567);\n",
       "        \n",
       "    \n",
       "        var popup_b4df23878acd6de2e2ffb61613f475b0 = L.popup({&quot;maxWidth&quot;: &quot;100%&quot;});\n",
       "\n",
       "        \n",
       "            \n",
       "                var html_d60d4888be6203a2c7bd488aec121931 = $(`&lt;div id=&quot;html_d60d4888be6203a2c7bd488aec121931&quot; style=&quot;width: 100.0%; height: 100.0%;&quot;&gt;Pakistan&lt;/div&gt;`)[0];\n",
       "                popup_b4df23878acd6de2e2ffb61613f475b0.setContent(html_d60d4888be6203a2c7bd488aec121931);\n",
       "            \n",
       "        \n",
       "\n",
       "        circle_marker_f64504c072f652ca05455aeeefdcbf25.bindPopup(popup_b4df23878acd6de2e2ffb61613f475b0)\n",
       "        ;\n",
       "\n",
       "        \n",
       "    \n",
       "    \n",
       "            var circle_marker_0cbe973013d967a8f65530dcc8912efd = L.circleMarker(\n",
       "                [8.9936, -79.51973],\n",
       "                {&quot;bubblingMouseEvents&quot;: true, &quot;color&quot;: &quot;green&quot;, &quot;dashArray&quot;: null, &quot;dashOffset&quot;: null, &quot;fill&quot;: true, &quot;fillColor&quot;: &quot;green&quot;, &quot;fillOpacity&quot;: 0.2, &quot;fillRule&quot;: &quot;evenodd&quot;, &quot;lineCap&quot;: &quot;round&quot;, &quot;lineJoin&quot;: &quot;round&quot;, &quot;opacity&quot;: 1.0, &quot;radius&quot;: 2.15090943062721, &quot;stroke&quot;: true, &quot;weight&quot;: 3}\n",
       "            ).addTo(map_44e3e96609660dbcbcb47f957ff20567);\n",
       "        \n",
       "    \n",
       "        var popup_5371cfb2d820d3f07067e9d2a9b6c86f = L.popup({&quot;maxWidth&quot;: &quot;100%&quot;});\n",
       "\n",
       "        \n",
       "            \n",
       "                var html_77c2111d432a75925d086cfdeb5b6f46 = $(`&lt;div id=&quot;html_77c2111d432a75925d086cfdeb5b6f46&quot; style=&quot;width: 100.0%; height: 100.0%;&quot;&gt;Panama&lt;/div&gt;`)[0];\n",
       "                popup_5371cfb2d820d3f07067e9d2a9b6c86f.setContent(html_77c2111d432a75925d086cfdeb5b6f46);\n",
       "            \n",
       "        \n",
       "\n",
       "        circle_marker_0cbe973013d967a8f65530dcc8912efd.bindPopup(popup_5371cfb2d820d3f07067e9d2a9b6c86f)\n",
       "        ;\n",
       "\n",
       "        \n",
       "    \n",
       "    \n",
       "            var circle_marker_ba07f0a89d42d05d3fe39bd205665cf9 = L.circleMarker(\n",
       "                [-10.0, -75.25],\n",
       "                {&quot;bubblingMouseEvents&quot;: true, &quot;color&quot;: &quot;green&quot;, &quot;dashArray&quot;: null, &quot;dashOffset&quot;: null, &quot;fill&quot;: true, &quot;fillColor&quot;: &quot;green&quot;, &quot;fillOpacity&quot;: 0.2, &quot;fillRule&quot;: &quot;evenodd&quot;, &quot;lineCap&quot;: &quot;round&quot;, &quot;lineJoin&quot;: &quot;round&quot;, &quot;opacity&quot;: 1.0, &quot;radius&quot;: 5.167496139520397, &quot;stroke&quot;: true, &quot;weight&quot;: 3}\n",
       "            ).addTo(map_44e3e96609660dbcbcb47f957ff20567);\n",
       "        \n",
       "    \n",
       "        var popup_3d1e84105042e5f16a9ee88ae4ff9c29 = L.popup({&quot;maxWidth&quot;: &quot;100%&quot;});\n",
       "\n",
       "        \n",
       "            \n",
       "                var html_69124bbf2eb1e4afa402e77b8133e1ab = $(`&lt;div id=&quot;html_69124bbf2eb1e4afa402e77b8133e1ab&quot; style=&quot;width: 100.0%; height: 100.0%;&quot;&gt;Peru&lt;/div&gt;`)[0];\n",
       "                popup_3d1e84105042e5f16a9ee88ae4ff9c29.setContent(html_69124bbf2eb1e4afa402e77b8133e1ab);\n",
       "            \n",
       "        \n",
       "\n",
       "        circle_marker_ba07f0a89d42d05d3fe39bd205665cf9.bindPopup(popup_3d1e84105042e5f16a9ee88ae4ff9c29)\n",
       "        ;\n",
       "\n",
       "        \n",
       "    \n",
       "    \n",
       "            var circle_marker_0db086c4ae0a6fc180851ed1162a7d2f = L.circleMarker(\n",
       "                [13.0, 122.0],\n",
       "                {&quot;bubblingMouseEvents&quot;: true, &quot;color&quot;: &quot;red&quot;, &quot;dashArray&quot;: null, &quot;dashOffset&quot;: null, &quot;fill&quot;: true, &quot;fillColor&quot;: &quot;red&quot;, &quot;fillOpacity&quot;: 0.2, &quot;fillRule&quot;: &quot;evenodd&quot;, &quot;lineCap&quot;: &quot;round&quot;, &quot;lineJoin&quot;: &quot;round&quot;, &quot;opacity&quot;: 1.0, &quot;radius&quot;: 23.813948433342183, &quot;stroke&quot;: true, &quot;weight&quot;: 3}\n",
       "            ).addTo(map_44e3e96609660dbcbcb47f957ff20567);\n",
       "        \n",
       "    \n",
       "        var popup_4168e2f4dcaf9a4ad30b8c2e3aa47e3c = L.popup({&quot;maxWidth&quot;: &quot;100%&quot;});\n",
       "\n",
       "        \n",
       "            \n",
       "                var html_6072b575d1accc0b8d53cc075590b5c3 = $(`&lt;div id=&quot;html_6072b575d1accc0b8d53cc075590b5c3&quot; style=&quot;width: 100.0%; height: 100.0%;&quot;&gt;Philippines&lt;/div&gt;`)[0];\n",
       "                popup_4168e2f4dcaf9a4ad30b8c2e3aa47e3c.setContent(html_6072b575d1accc0b8d53cc075590b5c3);\n",
       "            \n",
       "        \n",
       "\n",
       "        circle_marker_0db086c4ae0a6fc180851ed1162a7d2f.bindPopup(popup_4168e2f4dcaf9a4ad30b8c2e3aa47e3c)\n",
       "        ;\n",
       "\n",
       "        \n",
       "    \n",
       "    \n",
       "            var circle_marker_ecfdad6dbaa83ffef1f24e7534046f1c = L.circleMarker(\n",
       "                [-6.0, 147.0],\n",
       "                {&quot;bubblingMouseEvents&quot;: true, &quot;color&quot;: &quot;red&quot;, &quot;dashArray&quot;: null, &quot;dashOffset&quot;: null, &quot;fill&quot;: true, &quot;fillColor&quot;: &quot;red&quot;, &quot;fillOpacity&quot;: 0.2, &quot;fillRule&quot;: &quot;evenodd&quot;, &quot;lineCap&quot;: &quot;round&quot;, &quot;lineJoin&quot;: &quot;round&quot;, &quot;opacity&quot;: 1.0, &quot;radius&quot;: 9.125985821420215, &quot;stroke&quot;: true, &quot;weight&quot;: 3}\n",
       "            ).addTo(map_44e3e96609660dbcbcb47f957ff20567);\n",
       "        \n",
       "    \n",
       "        var popup_28fec8428b05a896596254f3a3d7c1b9 = L.popup({&quot;maxWidth&quot;: &quot;100%&quot;});\n",
       "\n",
       "        \n",
       "            \n",
       "                var html_73e70258448d651265784f9e87ac848f = $(`&lt;div id=&quot;html_73e70258448d651265784f9e87ac848f&quot; style=&quot;width: 100.0%; height: 100.0%;&quot;&gt;Papua New Guinea&lt;/div&gt;`)[0];\n",
       "                popup_28fec8428b05a896596254f3a3d7c1b9.setContent(html_73e70258448d651265784f9e87ac848f);\n",
       "            \n",
       "        \n",
       "\n",
       "        circle_marker_ecfdad6dbaa83ffef1f24e7534046f1c.bindPopup(popup_28fec8428b05a896596254f3a3d7c1b9)\n",
       "        ;\n",
       "\n",
       "        \n",
       "    \n",
       "    \n",
       "            var circle_marker_e4988ae4a58dc6fdc63429e5762b0147 = L.circleMarker(\n",
       "                [52.0, 20.0],\n",
       "                {&quot;bubblingMouseEvents&quot;: true, &quot;color&quot;: &quot;black&quot;, &quot;dashArray&quot;: null, &quot;dashOffset&quot;: null, &quot;fill&quot;: true, &quot;fillColor&quot;: &quot;black&quot;, &quot;fillOpacity&quot;: 0.2, &quot;fillRule&quot;: &quot;evenodd&quot;, &quot;lineCap&quot;: &quot;round&quot;, &quot;lineJoin&quot;: &quot;round&quot;, &quot;opacity&quot;: 1.0, &quot;stroke&quot;: true, &quot;weight&quot;: 3}\n",
       "            ).addTo(map_44e3e96609660dbcbcb47f957ff20567);\n",
       "        \n",
       "    \n",
       "        var popup_9b35a9e2678fbcc11e0877019dafcf52 = L.popup({&quot;maxWidth&quot;: &quot;100%&quot;});\n",
       "\n",
       "        \n",
       "            \n",
       "                var html_6f428e2257381a8d171d731ac2480b01 = $(`&lt;div id=&quot;html_6f428e2257381a8d171d731ac2480b01&quot; style=&quot;width: 100.0%; height: 100.0%;&quot;&gt;Poland&lt;/div&gt;`)[0];\n",
       "                popup_9b35a9e2678fbcc11e0877019dafcf52.setContent(html_6f428e2257381a8d171d731ac2480b01);\n",
       "            \n",
       "        \n",
       "\n",
       "        circle_marker_e4988ae4a58dc6fdc63429e5762b0147.bindPopup(popup_9b35a9e2678fbcc11e0877019dafcf52)\n",
       "        ;\n",
       "\n",
       "        \n",
       "    \n",
       "    \n",
       "            var circle_marker_aa5a2d3887df8b719a3999012e9cc74f = L.circleMarker(\n",
       "                [-23.33333, -58.0],\n",
       "                {&quot;bubblingMouseEvents&quot;: true, &quot;color&quot;: &quot;green&quot;, &quot;dashArray&quot;: null, &quot;dashOffset&quot;: null, &quot;fill&quot;: true, &quot;fillColor&quot;: &quot;green&quot;, &quot;fillOpacity&quot;: 0.2, &quot;fillRule&quot;: &quot;evenodd&quot;, &quot;lineCap&quot;: &quot;round&quot;, &quot;lineJoin&quot;: &quot;round&quot;, &quot;opacity&quot;: 1.0, &quot;radius&quot;: 2.454808263447154, &quot;stroke&quot;: true, &quot;weight&quot;: 3}\n",
       "            ).addTo(map_44e3e96609660dbcbcb47f957ff20567);\n",
       "        \n",
       "    \n",
       "        var popup_3a9c8a0690364eb01c54627cde6736b6 = L.popup({&quot;maxWidth&quot;: &quot;100%&quot;});\n",
       "\n",
       "        \n",
       "            \n",
       "                var html_1d2860d286a5be4bb0df984eacde95c0 = $(`&lt;div id=&quot;html_1d2860d286a5be4bb0df984eacde95c0&quot; style=&quot;width: 100.0%; height: 100.0%;&quot;&gt;Paraguay&lt;/div&gt;`)[0];\n",
       "                popup_3a9c8a0690364eb01c54627cde6736b6.setContent(html_1d2860d286a5be4bb0df984eacde95c0);\n",
       "            \n",
       "        \n",
       "\n",
       "        circle_marker_aa5a2d3887df8b719a3999012e9cc74f.bindPopup(popup_3a9c8a0690364eb01c54627cde6736b6)\n",
       "        ;\n",
       "\n",
       "        \n",
       "    \n",
       "    \n",
       "            var circle_marker_56c2649de1dbcd72db55e18a896741bd = L.circleMarker(\n",
       "                [31.92157, 35.20329],\n",
       "                {&quot;bubblingMouseEvents&quot;: true, &quot;color&quot;: &quot;red&quot;, &quot;dashArray&quot;: null, &quot;dashOffset&quot;: null, &quot;fill&quot;: true, &quot;fillColor&quot;: &quot;red&quot;, &quot;fillOpacity&quot;: 0.2, &quot;fillRule&quot;: &quot;evenodd&quot;, &quot;lineCap&quot;: &quot;round&quot;, &quot;lineJoin&quot;: &quot;round&quot;, &quot;opacity&quot;: 1.0, &quot;radius&quot;: 0.3213900403973964, &quot;stroke&quot;: true, &quot;weight&quot;: 3}\n",
       "            ).addTo(map_44e3e96609660dbcbcb47f957ff20567);\n",
       "        \n",
       "    \n",
       "        var popup_fc06be9315be8125cdc62f41597a1207 = L.popup({&quot;maxWidth&quot;: &quot;100%&quot;});\n",
       "\n",
       "        \n",
       "            \n",
       "                var html_bd004cd87b84cec2c2f9ce2b2c52c47e = $(`&lt;div id=&quot;html_bd004cd87b84cec2c2f9ce2b2c52c47e&quot; style=&quot;width: 100.0%; height: 100.0%;&quot;&gt;Palestine&lt;/div&gt;`)[0];\n",
       "                popup_fc06be9315be8125cdc62f41597a1207.setContent(html_bd004cd87b84cec2c2f9ce2b2c52c47e);\n",
       "            \n",
       "        \n",
       "\n",
       "        circle_marker_56c2649de1dbcd72db55e18a896741bd.bindPopup(popup_fc06be9315be8125cdc62f41597a1207)\n",
       "        ;\n",
       "\n",
       "        \n",
       "    \n",
       "    \n",
       "            var circle_marker_49d1881e9e684b8527f28619370b5075 = L.circleMarker(\n",
       "                [46.0, 25.0],\n",
       "                {&quot;bubblingMouseEvents&quot;: true, &quot;color&quot;: &quot;black&quot;, &quot;dashArray&quot;: null, &quot;dashOffset&quot;: null, &quot;fill&quot;: true, &quot;fillColor&quot;: &quot;black&quot;, &quot;fillOpacity&quot;: 0.2, &quot;fillRule&quot;: &quot;evenodd&quot;, &quot;lineCap&quot;: &quot;round&quot;, &quot;lineJoin&quot;: &quot;round&quot;, &quot;opacity&quot;: 1.0, &quot;stroke&quot;: true, &quot;weight&quot;: 3}\n",
       "            ).addTo(map_44e3e96609660dbcbcb47f957ff20567);\n",
       "        \n",
       "    \n",
       "        var popup_f45fdcacb310561d29299591bd7f960b = L.popup({&quot;maxWidth&quot;: &quot;100%&quot;});\n",
       "\n",
       "        \n",
       "            \n",
       "                var html_167f79f9758fb34abc59f08fba0bffde = $(`&lt;div id=&quot;html_167f79f9758fb34abc59f08fba0bffde&quot; style=&quot;width: 100.0%; height: 100.0%;&quot;&gt;Romania&lt;/div&gt;`)[0];\n",
       "                popup_f45fdcacb310561d29299591bd7f960b.setContent(html_167f79f9758fb34abc59f08fba0bffde);\n",
       "            \n",
       "        \n",
       "\n",
       "        circle_marker_49d1881e9e684b8527f28619370b5075.bindPopup(popup_f45fdcacb310561d29299591bd7f960b)\n",
       "        ;\n",
       "\n",
       "        \n",
       "    \n",
       "    \n",
       "            var circle_marker_4cd09e659bb26a0aa9d84dc945fcf325 = L.circleMarker(\n",
       "                [60.0, 100.0],\n",
       "                {&quot;bubblingMouseEvents&quot;: true, &quot;color&quot;: &quot;black&quot;, &quot;dashArray&quot;: null, &quot;dashOffset&quot;: null, &quot;fill&quot;: true, &quot;fillColor&quot;: &quot;black&quot;, &quot;fillOpacity&quot;: 0.2, &quot;fillRule&quot;: &quot;evenodd&quot;, &quot;lineCap&quot;: &quot;round&quot;, &quot;lineJoin&quot;: &quot;round&quot;, &quot;opacity&quot;: 1.0, &quot;radius&quot;: 1.1705268361253016, &quot;stroke&quot;: true, &quot;weight&quot;: 3}\n",
       "            ).addTo(map_44e3e96609660dbcbcb47f957ff20567);\n",
       "        \n",
       "    \n",
       "        var popup_e05cd4c5faaeeddbbe49e9b05a876003 = L.popup({&quot;maxWidth&quot;: &quot;100%&quot;});\n",
       "\n",
       "        \n",
       "            \n",
       "                var html_62574a050b248b6c11adc552cfbcd700 = $(`&lt;div id=&quot;html_62574a050b248b6c11adc552cfbcd700&quot; style=&quot;width: 100.0%; height: 100.0%;&quot;&gt;Russia&lt;/div&gt;`)[0];\n",
       "                popup_e05cd4c5faaeeddbbe49e9b05a876003.setContent(html_62574a050b248b6c11adc552cfbcd700);\n",
       "            \n",
       "        \n",
       "\n",
       "        circle_marker_4cd09e659bb26a0aa9d84dc945fcf325.bindPopup(popup_e05cd4c5faaeeddbbe49e9b05a876003)\n",
       "        ;\n",
       "\n",
       "        \n",
       "    \n",
       "    \n",
       "            var circle_marker_03e4a1d1bc5d81f9c71d5c9744d615bb = L.circleMarker(\n",
       "                [-2.0, 30.0],\n",
       "                {&quot;bubblingMouseEvents&quot;: true, &quot;color&quot;: &quot;blue&quot;, &quot;dashArray&quot;: null, &quot;dashOffset&quot;: null, &quot;fill&quot;: true, &quot;fillColor&quot;: &quot;blue&quot;, &quot;fillOpacity&quot;: 0.2, &quot;fillRule&quot;: &quot;evenodd&quot;, &quot;lineCap&quot;: &quot;round&quot;, &quot;lineJoin&quot;: &quot;round&quot;, &quot;opacity&quot;: 1.0, &quot;radius&quot;: 14.191124420279852, &quot;stroke&quot;: true, &quot;weight&quot;: 3}\n",
       "            ).addTo(map_44e3e96609660dbcbcb47f957ff20567);\n",
       "        \n",
       "    \n",
       "        var popup_6bf5df81c826165332c0ec62c8e7a0da = L.popup({&quot;maxWidth&quot;: &quot;100%&quot;});\n",
       "\n",
       "        \n",
       "            \n",
       "                var html_4ad2799ba7dcbb94baa46743508fc4d3 = $(`&lt;div id=&quot;html_4ad2799ba7dcbb94baa46743508fc4d3&quot; style=&quot;width: 100.0%; height: 100.0%;&quot;&gt;Rwanda&lt;/div&gt;`)[0];\n",
       "                popup_6bf5df81c826165332c0ec62c8e7a0da.setContent(html_4ad2799ba7dcbb94baa46743508fc4d3);\n",
       "            \n",
       "        \n",
       "\n",
       "        circle_marker_03e4a1d1bc5d81f9c71d5c9744d615bb.bindPopup(popup_6bf5df81c826165332c0ec62c8e7a0da)\n",
       "        ;\n",
       "\n",
       "        \n",
       "    \n",
       "    \n",
       "            var circle_marker_7ce1be70365900ba9b9a51204f946d54 = L.circleMarker(\n",
       "                [16.0, 30.0],\n",
       "                {&quot;bubblingMouseEvents&quot;: true, &quot;color&quot;: &quot;blue&quot;, &quot;dashArray&quot;: null, &quot;dashOffset&quot;: null, &quot;fill&quot;: true, &quot;fillColor&quot;: &quot;blue&quot;, &quot;fillOpacity&quot;: 0.2, &quot;fillRule&quot;: &quot;evenodd&quot;, &quot;lineCap&quot;: &quot;round&quot;, &quot;lineJoin&quot;: &quot;round&quot;, &quot;opacity&quot;: 1.0, &quot;radius&quot;: 14.75537843817308, &quot;stroke&quot;: true, &quot;weight&quot;: 3}\n",
       "            ).addTo(map_44e3e96609660dbcbcb47f957ff20567);\n",
       "        \n",
       "    \n",
       "        var popup_19c13ae913e496756f98bc8f25f15c78 = L.popup({&quot;maxWidth&quot;: &quot;100%&quot;});\n",
       "\n",
       "        \n",
       "            \n",
       "                var html_ae6ce845c6e71992f921bd994779a88c = $(`&lt;div id=&quot;html_ae6ce845c6e71992f921bd994779a88c&quot; style=&quot;width: 100.0%; height: 100.0%;&quot;&gt;Sudan&lt;/div&gt;`)[0];\n",
       "                popup_19c13ae913e496756f98bc8f25f15c78.setContent(html_ae6ce845c6e71992f921bd994779a88c);\n",
       "            \n",
       "        \n",
       "\n",
       "        circle_marker_7ce1be70365900ba9b9a51204f946d54.bindPopup(popup_19c13ae913e496756f98bc8f25f15c78)\n",
       "        ;\n",
       "\n",
       "        \n",
       "    \n",
       "    \n",
       "            var circle_marker_91df304ce2a3eed4c87a202d5757cc3f = L.circleMarker(\n",
       "                [14.5, -14.25],\n",
       "                {&quot;bubblingMouseEvents&quot;: true, &quot;color&quot;: &quot;blue&quot;, &quot;dashArray&quot;: null, &quot;dashOffset&quot;: null, &quot;fill&quot;: true, &quot;fillColor&quot;: &quot;blue&quot;, &quot;fillOpacity&quot;: 0.2, &quot;fillRule&quot;: &quot;evenodd&quot;, &quot;lineCap&quot;: &quot;round&quot;, &quot;lineJoin&quot;: &quot;round&quot;, &quot;opacity&quot;: 1.0, &quot;radius&quot;: 11.723984438242729, &quot;stroke&quot;: true, &quot;weight&quot;: 3}\n",
       "            ).addTo(map_44e3e96609660dbcbcb47f957ff20567);\n",
       "        \n",
       "    \n",
       "        var popup_f402ce8790f999770e38f1ede65d9e13 = L.popup({&quot;maxWidth&quot;: &quot;100%&quot;});\n",
       "\n",
       "        \n",
       "            \n",
       "                var html_33bd4bbe1efc50d7eeeb1d4d0ff3bcf4 = $(`&lt;div id=&quot;html_33bd4bbe1efc50d7eeeb1d4d0ff3bcf4&quot; style=&quot;width: 100.0%; height: 100.0%;&quot;&gt;Senegal&lt;/div&gt;`)[0];\n",
       "                popup_f402ce8790f999770e38f1ede65d9e13.setContent(html_33bd4bbe1efc50d7eeeb1d4d0ff3bcf4);\n",
       "            \n",
       "        \n",
       "\n",
       "        circle_marker_91df304ce2a3eed4c87a202d5757cc3f.bindPopup(popup_f402ce8790f999770e38f1ede65d9e13)\n",
       "        ;\n",
       "\n",
       "        \n",
       "    \n",
       "    \n",
       "            var circle_marker_daf8a6b4294b441983febc830ea6dfe5 = L.circleMarker(\n",
       "                [8.5, -11.5],\n",
       "                {&quot;bubblingMouseEvents&quot;: true, &quot;color&quot;: &quot;blue&quot;, &quot;dashArray&quot;: null, &quot;dashOffset&quot;: null, &quot;fill&quot;: true, &quot;fillColor&quot;: &quot;blue&quot;, &quot;fillOpacity&quot;: 0.2, &quot;fillRule&quot;: &quot;evenodd&quot;, &quot;lineCap&quot;: &quot;round&quot;, &quot;lineJoin&quot;: &quot;round&quot;, &quot;opacity&quot;: 1.0, &quot;radius&quot;: 10.75395518279574, &quot;stroke&quot;: true, &quot;weight&quot;: 3}\n",
       "            ).addTo(map_44e3e96609660dbcbcb47f957ff20567);\n",
       "        \n",
       "    \n",
       "        var popup_aab66e7b580314747d37e2f2a9d7d1e4 = L.popup({&quot;maxWidth&quot;: &quot;100%&quot;});\n",
       "\n",
       "        \n",
       "            \n",
       "                var html_b7e843425abb249e941e2f797a7f64da = $(`&lt;div id=&quot;html_b7e843425abb249e941e2f797a7f64da&quot; style=&quot;width: 100.0%; height: 100.0%;&quot;&gt;Sierra Leone&lt;/div&gt;`)[0];\n",
       "                popup_aab66e7b580314747d37e2f2a9d7d1e4.setContent(html_b7e843425abb249e941e2f797a7f64da);\n",
       "            \n",
       "        \n",
       "\n",
       "        circle_marker_daf8a6b4294b441983febc830ea6dfe5.bindPopup(popup_aab66e7b580314747d37e2f2a9d7d1e4)\n",
       "        ;\n",
       "\n",
       "        \n",
       "    \n",
       "    \n",
       "            var circle_marker_170d3101b5a1a472387359f5a4312fe8 = L.circleMarker(\n",
       "                [13.83333, -88.91667],\n",
       "                {&quot;bubblingMouseEvents&quot;: true, &quot;color&quot;: &quot;green&quot;, &quot;dashArray&quot;: null, &quot;dashOffset&quot;: null, &quot;fill&quot;: true, &quot;fillColor&quot;: &quot;green&quot;, &quot;fillOpacity&quot;: 0.2, &quot;fillRule&quot;: &quot;evenodd&quot;, &quot;lineCap&quot;: &quot;round&quot;, &quot;lineJoin&quot;: &quot;round&quot;, &quot;opacity&quot;: 1.0, &quot;radius&quot;: 2.231596251861578, &quot;stroke&quot;: true, &quot;weight&quot;: 3}\n",
       "            ).addTo(map_44e3e96609660dbcbcb47f957ff20567);\n",
       "        \n",
       "    \n",
       "        var popup_518c44e9f82279dd9ffa009154eb96fa = L.popup({&quot;maxWidth&quot;: &quot;100%&quot;});\n",
       "\n",
       "        \n",
       "            \n",
       "                var html_482df56361ed4835d46d2f18306119f5 = $(`&lt;div id=&quot;html_482df56361ed4835d46d2f18306119f5&quot; style=&quot;width: 100.0%; height: 100.0%;&quot;&gt;El Salvador&lt;/div&gt;`)[0];\n",
       "                popup_518c44e9f82279dd9ffa009154eb96fa.setContent(html_482df56361ed4835d46d2f18306119f5);\n",
       "            \n",
       "        \n",
       "\n",
       "        circle_marker_170d3101b5a1a472387359f5a4312fe8.bindPopup(popup_518c44e9f82279dd9ffa009154eb96fa)\n",
       "        ;\n",
       "\n",
       "        \n",
       "    \n",
       "    \n",
       "            var circle_marker_6e2125c70943731aeec7d2096f4aaf1d = L.circleMarker(\n",
       "                [44.81892, 20.45998],\n",
       "                {&quot;bubblingMouseEvents&quot;: true, &quot;color&quot;: &quot;black&quot;, &quot;dashArray&quot;: null, &quot;dashOffset&quot;: null, &quot;fill&quot;: true, &quot;fillColor&quot;: &quot;black&quot;, &quot;fillOpacity&quot;: 0.2, &quot;fillRule&quot;: &quot;evenodd&quot;, &quot;lineCap&quot;: &quot;round&quot;, &quot;lineJoin&quot;: &quot;round&quot;, &quot;opacity&quot;: 1.0, &quot;radius&quot;: 0.37830163207185913, &quot;stroke&quot;: true, &quot;weight&quot;: 3}\n",
       "            ).addTo(map_44e3e96609660dbcbcb47f957ff20567);\n",
       "        \n",
       "    \n",
       "        var popup_f74b57b86dba61113265dcfca587f844 = L.popup({&quot;maxWidth&quot;: &quot;100%&quot;});\n",
       "\n",
       "        \n",
       "            \n",
       "                var html_ea876f08a26955a3d7dcb0794d8623b4 = $(`&lt;div id=&quot;html_ea876f08a26955a3d7dcb0794d8623b4&quot; style=&quot;width: 100.0%; height: 100.0%;&quot;&gt;Serbia&lt;/div&gt;`)[0];\n",
       "                popup_f74b57b86dba61113265dcfca587f844.setContent(html_ea876f08a26955a3d7dcb0794d8623b4);\n",
       "            \n",
       "        \n",
       "\n",
       "        circle_marker_6e2125c70943731aeec7d2096f4aaf1d.bindPopup(popup_f74b57b86dba61113265dcfca587f844)\n",
       "        ;\n",
       "\n",
       "        \n",
       "    \n",
       "    \n",
       "            var circle_marker_86b0de4cc8f500011df37c656abbbf5e = L.circleMarker(\n",
       "                [1.0, 7.0],\n",
       "                {&quot;bubblingMouseEvents&quot;: true, &quot;color&quot;: &quot;blue&quot;, &quot;dashArray&quot;: null, &quot;dashOffset&quot;: null, &quot;fill&quot;: true, &quot;fillColor&quot;: &quot;blue&quot;, &quot;fillOpacity&quot;: 0.2, &quot;fillRule&quot;: &quot;evenodd&quot;, &quot;lineCap&quot;: &quot;round&quot;, &quot;lineJoin&quot;: &quot;round&quot;, &quot;opacity&quot;: 1.0, &quot;radius&quot;: 1.5808990803845295, &quot;stroke&quot;: true, &quot;weight&quot;: 3}\n",
       "            ).addTo(map_44e3e96609660dbcbcb47f957ff20567);\n",
       "        \n",
       "    \n",
       "        var popup_a379b841b8e4e4cc0686baec66d2aecc = L.popup({&quot;maxWidth&quot;: &quot;100%&quot;});\n",
       "\n",
       "        \n",
       "            \n",
       "                var html_5b41e70a2db9d54592eca8b0c674e4c0 = $(`&lt;div id=&quot;html_5b41e70a2db9d54592eca8b0c674e4c0&quot; style=&quot;width: 100.0%; height: 100.0%;&quot;&gt;Sao Tome and Principe&lt;/div&gt;`)[0];\n",
       "                popup_a379b841b8e4e4cc0686baec66d2aecc.setContent(html_5b41e70a2db9d54592eca8b0c674e4c0);\n",
       "            \n",
       "        \n",
       "\n",
       "        circle_marker_86b0de4cc8f500011df37c656abbbf5e.bindPopup(popup_a379b841b8e4e4cc0686baec66d2aecc)\n",
       "        ;\n",
       "\n",
       "        \n",
       "    \n",
       "    \n",
       "            var circle_marker_6bbf54dae8ca10c96e00faf6d6f27ed7 = L.circleMarker(\n",
       "                [4.0, -56.0],\n",
       "                {&quot;bubblingMouseEvents&quot;: true, &quot;color&quot;: &quot;green&quot;, &quot;dashArray&quot;: null, &quot;dashOffset&quot;: null, &quot;fill&quot;: true, &quot;fillColor&quot;: &quot;green&quot;, &quot;fillOpacity&quot;: 0.2, &quot;fillRule&quot;: &quot;evenodd&quot;, &quot;lineCap&quot;: &quot;round&quot;, &quot;lineJoin&quot;: &quot;round&quot;, &quot;opacity&quot;: 1.0, &quot;radius&quot;: 1.6178179347920572, &quot;stroke&quot;: true, &quot;weight&quot;: 3}\n",
       "            ).addTo(map_44e3e96609660dbcbcb47f957ff20567);\n",
       "        \n",
       "    \n",
       "        var popup_1f7f91b7d337504672a92c4f772deb34 = L.popup({&quot;maxWidth&quot;: &quot;100%&quot;});\n",
       "\n",
       "        \n",
       "            \n",
       "                var html_17aa777573e2df90f43fcc2faa9341d3 = $(`&lt;div id=&quot;html_17aa777573e2df90f43fcc2faa9341d3&quot; style=&quot;width: 100.0%; height: 100.0%;&quot;&gt;Suriname&lt;/div&gt;`)[0];\n",
       "                popup_1f7f91b7d337504672a92c4f772deb34.setContent(html_17aa777573e2df90f43fcc2faa9341d3);\n",
       "            \n",
       "        \n",
       "\n",
       "        circle_marker_6bbf54dae8ca10c96e00faf6d6f27ed7.bindPopup(popup_1f7f91b7d337504672a92c4f772deb34)\n",
       "        ;\n",
       "\n",
       "        \n",
       "    \n",
       "    \n",
       "            var circle_marker_f8a7a362034e7870e37934d8a0a9a18b = L.circleMarker(\n",
       "                [48.66667, 19.5],\n",
       "                {&quot;bubblingMouseEvents&quot;: true, &quot;color&quot;: &quot;black&quot;, &quot;dashArray&quot;: null, &quot;dashOffset&quot;: null, &quot;fill&quot;: true, &quot;fillColor&quot;: &quot;black&quot;, &quot;fillOpacity&quot;: 0.2, &quot;fillRule&quot;: &quot;evenodd&quot;, &quot;lineCap&quot;: &quot;round&quot;, &quot;lineJoin&quot;: &quot;round&quot;, &quot;opacity&quot;: 1.0, &quot;radius&quot;: 0.7183841719231987, &quot;stroke&quot;: true, &quot;weight&quot;: 3}\n",
       "            ).addTo(map_44e3e96609660dbcbcb47f957ff20567);\n",
       "        \n",
       "    \n",
       "        var popup_5e6feaa4691f50cf27a9c2c403c89714 = L.popup({&quot;maxWidth&quot;: &quot;100%&quot;});\n",
       "\n",
       "        \n",
       "            \n",
       "                var html_4aa98a2ea86487bd73b42d7707fed674 = $(`&lt;div id=&quot;html_4aa98a2ea86487bd73b42d7707fed674&quot; style=&quot;width: 100.0%; height: 100.0%;&quot;&gt;Slovak Republic&lt;/div&gt;`)[0];\n",
       "                popup_5e6feaa4691f50cf27a9c2c403c89714.setContent(html_4aa98a2ea86487bd73b42d7707fed674);\n",
       "            \n",
       "        \n",
       "\n",
       "        circle_marker_f8a7a362034e7870e37934d8a0a9a18b.bindPopup(popup_5e6feaa4691f50cf27a9c2c403c89714)\n",
       "        ;\n",
       "\n",
       "        \n",
       "    \n",
       "    \n",
       "            var circle_marker_e906b582cc7de7b5a056f61d666f45c4 = L.circleMarker(\n",
       "                [46.08333, 15.0],\n",
       "                {&quot;bubblingMouseEvents&quot;: true, &quot;color&quot;: &quot;black&quot;, &quot;dashArray&quot;: null, &quot;dashOffset&quot;: null, &quot;fill&quot;: true, &quot;fillColor&quot;: &quot;black&quot;, &quot;fillOpacity&quot;: 0.2, &quot;fillRule&quot;: &quot;evenodd&quot;, &quot;lineCap&quot;: &quot;round&quot;, &quot;lineJoin&quot;: &quot;round&quot;, &quot;opacity&quot;: 1.0, &quot;stroke&quot;: true, &quot;weight&quot;: 3}\n",
       "            ).addTo(map_44e3e96609660dbcbcb47f957ff20567);\n",
       "        \n",
       "    \n",
       "        var popup_80acd59752ae2c5beed485f120c52d91 = L.popup({&quot;maxWidth&quot;: &quot;100%&quot;});\n",
       "\n",
       "        \n",
       "            \n",
       "                var html_0fb5284b1c92f04d440e0cf9a1d8e920 = $(`&lt;div id=&quot;html_0fb5284b1c92f04d440e0cf9a1d8e920&quot; style=&quot;width: 100.0%; height: 100.0%;&quot;&gt;Slovenia&lt;/div&gt;`)[0];\n",
       "                popup_80acd59752ae2c5beed485f120c52d91.setContent(html_0fb5284b1c92f04d440e0cf9a1d8e920);\n",
       "            \n",
       "        \n",
       "\n",
       "        circle_marker_e906b582cc7de7b5a056f61d666f45c4.bindPopup(popup_80acd59752ae2c5beed485f120c52d91)\n",
       "        ;\n",
       "\n",
       "        \n",
       "    \n",
       "    \n",
       "            var circle_marker_65ea6c9ebef5a432123d8aa24404612c = L.circleMarker(\n",
       "                [62.0, 15.0],\n",
       "                {&quot;bubblingMouseEvents&quot;: true, &quot;color&quot;: &quot;black&quot;, &quot;dashArray&quot;: null, &quot;dashOffset&quot;: null, &quot;fill&quot;: true, &quot;fillColor&quot;: &quot;black&quot;, &quot;fillOpacity&quot;: 0.2, &quot;fillRule&quot;: &quot;evenodd&quot;, &quot;lineCap&quot;: &quot;round&quot;, &quot;lineJoin&quot;: &quot;round&quot;, &quot;opacity&quot;: 1.0, &quot;radius&quot;: 1.0228182985905399, &quot;stroke&quot;: true, &quot;weight&quot;: 3}\n",
       "            ).addTo(map_44e3e96609660dbcbcb47f957ff20567);\n",
       "        \n",
       "    \n",
       "        var popup_1e8529392636296f22ceee4214547385 = L.popup({&quot;maxWidth&quot;: &quot;100%&quot;});\n",
       "\n",
       "        \n",
       "            \n",
       "                var html_e4f87d95490856d6df47bc162fac6845 = $(`&lt;div id=&quot;html_e4f87d95490856d6df47bc162fac6845&quot; style=&quot;width: 100.0%; height: 100.0%;&quot;&gt;Sweden&lt;/div&gt;`)[0];\n",
       "                popup_1e8529392636296f22ceee4214547385.setContent(html_e4f87d95490856d6df47bc162fac6845);\n",
       "            \n",
       "        \n",
       "\n",
       "        circle_marker_65ea6c9ebef5a432123d8aa24404612c.bindPopup(popup_1e8529392636296f22ceee4214547385)\n",
       "        ;\n",
       "\n",
       "        \n",
       "    \n",
       "    \n",
       "            var circle_marker_a27d892d57e158e6635017386a00ceb8 = L.circleMarker(\n",
       "                [-26.5, 31.5],\n",
       "                {&quot;bubblingMouseEvents&quot;: true, &quot;color&quot;: &quot;blue&quot;, &quot;dashArray&quot;: null, &quot;dashOffset&quot;: null, &quot;fill&quot;: true, &quot;fillColor&quot;: &quot;blue&quot;, &quot;fillOpacity&quot;: 0.2, &quot;fillRule&quot;: &quot;evenodd&quot;, &quot;lineCap&quot;: &quot;round&quot;, &quot;lineJoin&quot;: &quot;round&quot;, &quot;opacity&quot;: 1.0, &quot;radius&quot;: 3.6497571987716015, &quot;stroke&quot;: true, &quot;weight&quot;: 3}\n",
       "            ).addTo(map_44e3e96609660dbcbcb47f957ff20567);\n",
       "        \n",
       "    \n",
       "        var popup_4fbf27f79987eea144b7f07496dfe858 = L.popup({&quot;maxWidth&quot;: &quot;100%&quot;});\n",
       "\n",
       "        \n",
       "            \n",
       "                var html_3d97c5abd1de1a656e835bdb9fcefc2b = $(`&lt;div id=&quot;html_3d97c5abd1de1a656e835bdb9fcefc2b&quot; style=&quot;width: 100.0%; height: 100.0%;&quot;&gt;Swaziland&lt;/div&gt;`)[0];\n",
       "                popup_4fbf27f79987eea144b7f07496dfe858.setContent(html_3d97c5abd1de1a656e835bdb9fcefc2b);\n",
       "            \n",
       "        \n",
       "\n",
       "        circle_marker_a27d892d57e158e6635017386a00ceb8.bindPopup(popup_4fbf27f79987eea144b7f07496dfe858)\n",
       "        ;\n",
       "\n",
       "        \n",
       "    \n",
       "    \n",
       "            var circle_marker_3aec3763e6f900a3626321ff5ffbf7c3 = L.circleMarker(\n",
       "                [-4.58333, 55.66667],\n",
       "                {&quot;bubblingMouseEvents&quot;: true, &quot;color&quot;: &quot;blue&quot;, &quot;dashArray&quot;: null, &quot;dashOffset&quot;: null, &quot;fill&quot;: true, &quot;fillColor&quot;: &quot;blue&quot;, &quot;fillOpacity&quot;: 0.2, &quot;fillRule&quot;: &quot;evenodd&quot;, &quot;lineCap&quot;: &quot;round&quot;, &quot;lineJoin&quot;: &quot;round&quot;, &quot;opacity&quot;: 1.0, &quot;radius&quot;: 0.08519075891779829, &quot;stroke&quot;: true, &quot;weight&quot;: 3}\n",
       "            ).addTo(map_44e3e96609660dbcbcb47f957ff20567);\n",
       "        \n",
       "    \n",
       "        var popup_99083f73412eccd7629ec2a33440cc20 = L.popup({&quot;maxWidth&quot;: &quot;100%&quot;});\n",
       "\n",
       "        \n",
       "            \n",
       "                var html_d5c175fdfc58ffde53e76ba2c1d0d43b = $(`&lt;div id=&quot;html_d5c175fdfc58ffde53e76ba2c1d0d43b&quot; style=&quot;width: 100.0%; height: 100.0%;&quot;&gt;Seychelles&lt;/div&gt;`)[0];\n",
       "                popup_99083f73412eccd7629ec2a33440cc20.setContent(html_d5c175fdfc58ffde53e76ba2c1d0d43b);\n",
       "            \n",
       "        \n",
       "\n",
       "        circle_marker_3aec3763e6f900a3626321ff5ffbf7c3.bindPopup(popup_99083f73412eccd7629ec2a33440cc20)\n",
       "        ;\n",
       "\n",
       "        \n",
       "    \n",
       "    \n",
       "            var circle_marker_ceb22d045ef3cd1301598df77bd1c3ac = L.circleMarker(\n",
       "                [35.0, 38.0],\n",
       "                {&quot;bubblingMouseEvents&quot;: true, &quot;color&quot;: &quot;red&quot;, &quot;dashArray&quot;: null, &quot;dashOffset&quot;: null, &quot;fill&quot;: true, &quot;fillColor&quot;: &quot;red&quot;, &quot;fillOpacity&quot;: 0.2, &quot;fillRule&quot;: &quot;evenodd&quot;, &quot;lineCap&quot;: &quot;round&quot;, &quot;lineJoin&quot;: &quot;round&quot;, &quot;opacity&quot;: 1.0, &quot;radius&quot;: 3.4099601627152856, &quot;stroke&quot;: true, &quot;weight&quot;: 3}\n",
       "            ).addTo(map_44e3e96609660dbcbcb47f957ff20567);\n",
       "        \n",
       "    \n",
       "        var popup_61476d9bb0c35cd9cd77c729cb690bbb = L.popup({&quot;maxWidth&quot;: &quot;100%&quot;});\n",
       "\n",
       "        \n",
       "            \n",
       "                var html_ca468e53508c779fc474e2e21edb2fc2 = $(`&lt;div id=&quot;html_ca468e53508c779fc474e2e21edb2fc2&quot; style=&quot;width: 100.0%; height: 100.0%;&quot;&gt;Syria&lt;/div&gt;`)[0];\n",
       "                popup_61476d9bb0c35cd9cd77c729cb690bbb.setContent(html_ca468e53508c779fc474e2e21edb2fc2);\n",
       "            \n",
       "        \n",
       "\n",
       "        circle_marker_ceb22d045ef3cd1301598df77bd1c3ac.bindPopup(popup_61476d9bb0c35cd9cd77c729cb690bbb)\n",
       "        ;\n",
       "\n",
       "        \n",
       "    \n",
       "    \n",
       "            var circle_marker_2c657da8024f1c3a1a6169df12550415 = L.circleMarker(\n",
       "                [15.0, 19.0],\n",
       "                {&quot;bubblingMouseEvents&quot;: true, &quot;color&quot;: &quot;blue&quot;, &quot;dashArray&quot;: null, &quot;dashOffset&quot;: null, &quot;fill&quot;: true, &quot;fillColor&quot;: &quot;blue&quot;, &quot;fillOpacity&quot;: 0.2, &quot;fillRule&quot;: &quot;evenodd&quot;, &quot;lineCap&quot;: &quot;round&quot;, &quot;lineJoin&quot;: &quot;round&quot;, &quot;opacity&quot;: 1.0, &quot;radius&quot;: 11.78726800446764, &quot;stroke&quot;: true, &quot;weight&quot;: 3}\n",
       "            ).addTo(map_44e3e96609660dbcbcb47f957ff20567);\n",
       "        \n",
       "    \n",
       "        var popup_6cb5c137e860616d96d64695816c1dcb = L.popup({&quot;maxWidth&quot;: &quot;100%&quot;});\n",
       "\n",
       "        \n",
       "            \n",
       "                var html_c47b383dbc2e5204ec73a649022df41d = $(`&lt;div id=&quot;html_c47b383dbc2e5204ec73a649022df41d&quot; style=&quot;width: 100.0%; height: 100.0%;&quot;&gt;Chad&lt;/div&gt;`)[0];\n",
       "                popup_6cb5c137e860616d96d64695816c1dcb.setContent(html_c47b383dbc2e5204ec73a649022df41d);\n",
       "            \n",
       "        \n",
       "\n",
       "        circle_marker_2c657da8024f1c3a1a6169df12550415.bindPopup(popup_6cb5c137e860616d96d64695816c1dcb)\n",
       "        ;\n",
       "\n",
       "        \n",
       "    \n",
       "    \n",
       "            var circle_marker_b763df52e9f078b9afb4eba9a128536e = L.circleMarker(\n",
       "                [8.66667, 1.08333],\n",
       "                {&quot;bubblingMouseEvents&quot;: true, &quot;color&quot;: &quot;blue&quot;, &quot;dashArray&quot;: null, &quot;dashOffset&quot;: null, &quot;fill&quot;: true, &quot;fillColor&quot;: &quot;blue&quot;, &quot;fillOpacity&quot;: 0.2, &quot;fillRule&quot;: &quot;evenodd&quot;, &quot;lineCap&quot;: &quot;round&quot;, &quot;lineJoin&quot;: &quot;round&quot;, &quot;opacity&quot;: 1.0, &quot;radius&quot;: 10.35531519401904, &quot;stroke&quot;: true, &quot;weight&quot;: 3}\n",
       "            ).addTo(map_44e3e96609660dbcbcb47f957ff20567);\n",
       "        \n",
       "    \n",
       "        var popup_7c479721cacc4a0ad1a68de9e2fbf51e = L.popup({&quot;maxWidth&quot;: &quot;100%&quot;});\n",
       "\n",
       "        \n",
       "            \n",
       "                var html_d5e58c81441d00e7ddd632ed85b04947 = $(`&lt;div id=&quot;html_d5e58c81441d00e7ddd632ed85b04947&quot; style=&quot;width: 100.0%; height: 100.0%;&quot;&gt;Togo&lt;/div&gt;`)[0];\n",
       "                popup_7c479721cacc4a0ad1a68de9e2fbf51e.setContent(html_d5e58c81441d00e7ddd632ed85b04947);\n",
       "            \n",
       "        \n",
       "\n",
       "        circle_marker_b763df52e9f078b9afb4eba9a128536e.bindPopup(popup_7c479721cacc4a0ad1a68de9e2fbf51e)\n",
       "        ;\n",
       "\n",
       "        \n",
       "    \n",
       "    \n",
       "            var circle_marker_3ff651db7eb83a7a28cc609fbfeff21c = L.circleMarker(\n",
       "                [15.5, 101.0],\n",
       "                {&quot;bubblingMouseEvents&quot;: true, &quot;color&quot;: &quot;red&quot;, &quot;dashArray&quot;: null, &quot;dashOffset&quot;: null, &quot;fill&quot;: true, &quot;fillColor&quot;: &quot;red&quot;, &quot;fillOpacity&quot;: 0.2, &quot;fillRule&quot;: &quot;evenodd&quot;, &quot;lineCap&quot;: &quot;round&quot;, &quot;lineJoin&quot;: &quot;round&quot;, &quot;opacity&quot;: 1.0, &quot;radius&quot;: 2.574986229895502, &quot;stroke&quot;: true, &quot;weight&quot;: 3}\n",
       "            ).addTo(map_44e3e96609660dbcbcb47f957ff20567);\n",
       "        \n",
       "    \n",
       "        var popup_d4672de593de2f9eb1879ac22b63e2a0 = L.popup({&quot;maxWidth&quot;: &quot;100%&quot;});\n",
       "\n",
       "        \n",
       "            \n",
       "                var html_55e44a1bab5edbeed33a4372c651d7bd = $(`&lt;div id=&quot;html_55e44a1bab5edbeed33a4372c651d7bd&quot; style=&quot;width: 100.0%; height: 100.0%;&quot;&gt;Thailand&lt;/div&gt;`)[0];\n",
       "                popup_d4672de593de2f9eb1879ac22b63e2a0.setContent(html_55e44a1bab5edbeed33a4372c651d7bd);\n",
       "            \n",
       "        \n",
       "\n",
       "        circle_marker_3ff651db7eb83a7a28cc609fbfeff21c.bindPopup(popup_d4672de593de2f9eb1879ac22b63e2a0)\n",
       "        ;\n",
       "\n",
       "        \n",
       "    \n",
       "    \n",
       "            var circle_marker_66c13d047b04d16a7b38a04626a0e9ed = L.circleMarker(\n",
       "                [39.0, 71.0],\n",
       "                {&quot;bubblingMouseEvents&quot;: true, &quot;color&quot;: &quot;red&quot;, &quot;dashArray&quot;: null, &quot;dashOffset&quot;: null, &quot;fill&quot;: true, &quot;fillColor&quot;: &quot;red&quot;, &quot;fillOpacity&quot;: 0.2, &quot;fillRule&quot;: &quot;evenodd&quot;, &quot;lineCap&quot;: &quot;round&quot;, &quot;lineJoin&quot;: &quot;round&quot;, &quot;opacity&quot;: 1.0, &quot;radius&quot;: 3.937311718658916, &quot;stroke&quot;: true, &quot;weight&quot;: 3}\n",
       "            ).addTo(map_44e3e96609660dbcbcb47f957ff20567);\n",
       "        \n",
       "    \n",
       "        var popup_06fba46010490c52451bbaf62c2665eb = L.popup({&quot;maxWidth&quot;: &quot;100%&quot;});\n",
       "\n",
       "        \n",
       "            \n",
       "                var html_58aeb9f982760ece9d247b5840905958 = $(`&lt;div id=&quot;html_58aeb9f982760ece9d247b5840905958&quot; style=&quot;width: 100.0%; height: 100.0%;&quot;&gt;Tajikistan&lt;/div&gt;`)[0];\n",
       "                popup_06fba46010490c52451bbaf62c2665eb.setContent(html_58aeb9f982760ece9d247b5840905958);\n",
       "            \n",
       "        \n",
       "\n",
       "        circle_marker_66c13d047b04d16a7b38a04626a0e9ed.bindPopup(popup_06fba46010490c52451bbaf62c2665eb)\n",
       "        ;\n",
       "\n",
       "        \n",
       "    \n",
       "    \n",
       "            var circle_marker_9a63d5dfc28ba1613ac870ae70f017df = L.circleMarker(\n",
       "                [39.75, 59.66667],\n",
       "                {&quot;bubblingMouseEvents&quot;: true, &quot;color&quot;: &quot;red&quot;, &quot;dashArray&quot;: null, &quot;dashOffset&quot;: null, &quot;fill&quot;: true, &quot;fillColor&quot;: &quot;red&quot;, &quot;fillOpacity&quot;: 0.2, &quot;fillRule&quot;: &quot;evenodd&quot;, &quot;lineCap&quot;: &quot;round&quot;, &quot;lineJoin&quot;: &quot;round&quot;, &quot;opacity&quot;: 1.0, &quot;radius&quot;: 6.339658544041773, &quot;stroke&quot;: true, &quot;weight&quot;: 3}\n",
       "            ).addTo(map_44e3e96609660dbcbcb47f957ff20567);\n",
       "        \n",
       "    \n",
       "        var popup_af5ff846be06aceeae1cfbfa4952a199 = L.popup({&quot;maxWidth&quot;: &quot;100%&quot;});\n",
       "\n",
       "        \n",
       "            \n",
       "                var html_294b68aa9aec650f7b92c9e752b34900 = $(`&lt;div id=&quot;html_294b68aa9aec650f7b92c9e752b34900&quot; style=&quot;width: 100.0%; height: 100.0%;&quot;&gt;Turkmenistan&lt;/div&gt;`)[0];\n",
       "                popup_af5ff846be06aceeae1cfbfa4952a199.setContent(html_294b68aa9aec650f7b92c9e752b34900);\n",
       "            \n",
       "        \n",
       "\n",
       "        circle_marker_9a63d5dfc28ba1613ac870ae70f017df.bindPopup(popup_af5ff846be06aceeae1cfbfa4952a199)\n",
       "        ;\n",
       "\n",
       "        \n",
       "    \n",
       "    \n",
       "            var circle_marker_9dcaf74ef0ba2de10f2e5209b73d5a78 = L.circleMarker(\n",
       "                [-8.83333, 125.75],\n",
       "                {&quot;bubblingMouseEvents&quot;: true, &quot;color&quot;: &quot;red&quot;, &quot;dashArray&quot;: null, &quot;dashOffset&quot;: null, &quot;fill&quot;: true, &quot;fillColor&quot;: &quot;red&quot;, &quot;fillOpacity&quot;: 0.2, &quot;fillRule&quot;: &quot;evenodd&quot;, &quot;lineCap&quot;: &quot;round&quot;, &quot;lineJoin&quot;: &quot;round&quot;, &quot;opacity&quot;: 1.0, &quot;radius&quot;: 3.4838832413106937, &quot;stroke&quot;: true, &quot;weight&quot;: 3}\n",
       "            ).addTo(map_44e3e96609660dbcbcb47f957ff20567);\n",
       "        \n",
       "    \n",
       "        var popup_7916f5081a27915f569f7e990c14527e = L.popup({&quot;maxWidth&quot;: &quot;100%&quot;});\n",
       "\n",
       "        \n",
       "            \n",
       "                var html_a6c1f5809e0f6ed0d529b672db4ec002 = $(`&lt;div id=&quot;html_a6c1f5809e0f6ed0d529b672db4ec002&quot; style=&quot;width: 100.0%; height: 100.0%;&quot;&gt;Timor-Leste&lt;/div&gt;`)[0];\n",
       "                popup_7916f5081a27915f569f7e990c14527e.setContent(html_a6c1f5809e0f6ed0d529b672db4ec002);\n",
       "            \n",
       "        \n",
       "\n",
       "        circle_marker_9dcaf74ef0ba2de10f2e5209b73d5a78.bindPopup(popup_7916f5081a27915f569f7e990c14527e)\n",
       "        ;\n",
       "\n",
       "        \n",
       "    \n",
       "    \n",
       "            var circle_marker_50e411afd46f281bf2d6dbd5c772840f = L.circleMarker(\n",
       "                [11.0, -61.0],\n",
       "                {&quot;bubblingMouseEvents&quot;: true, &quot;color&quot;: &quot;green&quot;, &quot;dashArray&quot;: null, &quot;dashOffset&quot;: null, &quot;fill&quot;: true, &quot;fillColor&quot;: &quot;green&quot;, &quot;fillOpacity&quot;: 0.2, &quot;fillRule&quot;: &quot;evenodd&quot;, &quot;lineCap&quot;: &quot;round&quot;, &quot;lineJoin&quot;: &quot;round&quot;, &quot;opacity&quot;: 1.0, &quot;radius&quot;: 1.3261575894870345, &quot;stroke&quot;: true, &quot;weight&quot;: 3}\n",
       "            ).addTo(map_44e3e96609660dbcbcb47f957ff20567);\n",
       "        \n",
       "    \n",
       "        var popup_d0b9fcfdc869159d77067b31e3caeeae = L.popup({&quot;maxWidth&quot;: &quot;100%&quot;});\n",
       "\n",
       "        \n",
       "            \n",
       "                var html_c44c53e1f86155662dceffd495fef65a = $(`&lt;div id=&quot;html_c44c53e1f86155662dceffd495fef65a&quot; style=&quot;width: 100.0%; height: 100.0%;&quot;&gt;Trinidad and Tobago&lt;/div&gt;`)[0];\n",
       "                popup_d0b9fcfdc869159d77067b31e3caeeae.setContent(html_c44c53e1f86155662dceffd495fef65a);\n",
       "            \n",
       "        \n",
       "\n",
       "        circle_marker_50e411afd46f281bf2d6dbd5c772840f.bindPopup(popup_d0b9fcfdc869159d77067b31e3caeeae)\n",
       "        ;\n",
       "\n",
       "        \n",
       "    \n",
       "    \n",
       "            var circle_marker_1005212b8aa80d5e5e27ab3dc2bf87da = L.circleMarker(\n",
       "                [34.0, 9.0],\n",
       "                {&quot;bubblingMouseEvents&quot;: true, &quot;color&quot;: &quot;blue&quot;, &quot;dashArray&quot;: null, &quot;dashOffset&quot;: null, &quot;fill&quot;: true, &quot;fillColor&quot;: &quot;blue&quot;, &quot;fillOpacity&quot;: 0.2, &quot;fillRule&quot;: &quot;evenodd&quot;, &quot;lineCap&quot;: &quot;round&quot;, &quot;lineJoin&quot;: &quot;round&quot;, &quot;opacity&quot;: 1.0, &quot;radius&quot;: 1.5827604478426454, &quot;stroke&quot;: true, &quot;weight&quot;: 3}\n",
       "            ).addTo(map_44e3e96609660dbcbcb47f957ff20567);\n",
       "        \n",
       "    \n",
       "        var popup_b22657cab5a893030a71ac405b06d437 = L.popup({&quot;maxWidth&quot;: &quot;100%&quot;});\n",
       "\n",
       "        \n",
       "            \n",
       "                var html_7a18b03a7c981e1e7c0b3afd9416e446 = $(`&lt;div id=&quot;html_7a18b03a7c981e1e7c0b3afd9416e446&quot; style=&quot;width: 100.0%; height: 100.0%;&quot;&gt;Tunisia&lt;/div&gt;`)[0];\n",
       "                popup_b22657cab5a893030a71ac405b06d437.setContent(html_7a18b03a7c981e1e7c0b3afd9416e446);\n",
       "            \n",
       "        \n",
       "\n",
       "        circle_marker_1005212b8aa80d5e5e27ab3dc2bf87da.bindPopup(popup_b22657cab5a893030a71ac405b06d437)\n",
       "        ;\n",
       "\n",
       "        \n",
       "    \n",
       "    \n",
       "            var circle_marker_283e40edcdbe8782c8a619f929f05649 = L.circleMarker(\n",
       "                [39.0, 35.0],\n",
       "                {&quot;bubblingMouseEvents&quot;: true, &quot;color&quot;: &quot;black&quot;, &quot;dashArray&quot;: null, &quot;dashOffset&quot;: null, &quot;fill&quot;: true, &quot;fillColor&quot;: &quot;black&quot;, &quot;fillOpacity&quot;: 0.2, &quot;fillRule&quot;: &quot;evenodd&quot;, &quot;lineCap&quot;: &quot;round&quot;, &quot;lineJoin&quot;: &quot;round&quot;, &quot;opacity&quot;: 1.0, &quot;radius&quot;: 1.3571310413650737, &quot;stroke&quot;: true, &quot;weight&quot;: 3}\n",
       "            ).addTo(map_44e3e96609660dbcbcb47f957ff20567);\n",
       "        \n",
       "    \n",
       "        var popup_6b71e9f6f66e3d4a2a86d4de8b48aaa0 = L.popup({&quot;maxWidth&quot;: &quot;100%&quot;});\n",
       "\n",
       "        \n",
       "            \n",
       "                var html_19aa3a12fbc251bced03f41675d037bc = $(`&lt;div id=&quot;html_19aa3a12fbc251bced03f41675d037bc&quot; style=&quot;width: 100.0%; height: 100.0%;&quot;&gt;Turkey&lt;/div&gt;`)[0];\n",
       "                popup_6b71e9f6f66e3d4a2a86d4de8b48aaa0.setContent(html_19aa3a12fbc251bced03f41675d037bc);\n",
       "            \n",
       "        \n",
       "\n",
       "        circle_marker_283e40edcdbe8782c8a619f929f05649.bindPopup(popup_6b71e9f6f66e3d4a2a86d4de8b48aaa0)\n",
       "        ;\n",
       "\n",
       "        \n",
       "    \n",
       "    \n",
       "            var circle_marker_0d1fdd4f2445a7483dbd057ea1e725f1 = L.circleMarker(\n",
       "                [-6.0, 35.0],\n",
       "                {&quot;bubblingMouseEvents&quot;: true, &quot;color&quot;: &quot;blue&quot;, &quot;dashArray&quot;: null, &quot;dashOffset&quot;: null, &quot;fill&quot;: true, &quot;fillColor&quot;: &quot;blue&quot;, &quot;fillOpacity&quot;: 0.2, &quot;fillRule&quot;: &quot;evenodd&quot;, &quot;lineCap&quot;: &quot;round&quot;, &quot;lineJoin&quot;: &quot;round&quot;, &quot;opacity&quot;: 1.0, &quot;radius&quot;: 24.774201262059734, &quot;stroke&quot;: true, &quot;weight&quot;: 3}\n",
       "            ).addTo(map_44e3e96609660dbcbcb47f957ff20567);\n",
       "        \n",
       "    \n",
       "        var popup_b595def62a16d31679a7875bf4b47f60 = L.popup({&quot;maxWidth&quot;: &quot;100%&quot;});\n",
       "\n",
       "        \n",
       "            \n",
       "                var html_aaa8af0f177a5b8b0a42b7b1c296142e = $(`&lt;div id=&quot;html_aaa8af0f177a5b8b0a42b7b1c296142e&quot; style=&quot;width: 100.0%; height: 100.0%;&quot;&gt;Tanzania&lt;/div&gt;`)[0];\n",
       "                popup_b595def62a16d31679a7875bf4b47f60.setContent(html_aaa8af0f177a5b8b0a42b7b1c296142e);\n",
       "            \n",
       "        \n",
       "\n",
       "        circle_marker_0d1fdd4f2445a7483dbd057ea1e725f1.bindPopup(popup_b595def62a16d31679a7875bf4b47f60)\n",
       "        ;\n",
       "\n",
       "        \n",
       "    \n",
       "    \n",
       "            var circle_marker_b191e167ab8605939061d8e3b6299007 = L.circleMarker(\n",
       "                [1.25, 32.5],\n",
       "                {&quot;bubblingMouseEvents&quot;: true, &quot;color&quot;: &quot;blue&quot;, &quot;dashArray&quot;: null, &quot;dashOffset&quot;: null, &quot;fill&quot;: true, &quot;fillColor&quot;: &quot;blue&quot;, &quot;fillOpacity&quot;: 0.2, &quot;fillRule&quot;: &quot;evenodd&quot;, &quot;lineCap&quot;: &quot;round&quot;, &quot;lineJoin&quot;: &quot;round&quot;, &quot;opacity&quot;: 1.0, &quot;radius&quot;: 19.74773153351201, &quot;stroke&quot;: true, &quot;weight&quot;: 3}\n",
       "            ).addTo(map_44e3e96609660dbcbcb47f957ff20567);\n",
       "        \n",
       "    \n",
       "        var popup_5ce757c1f32848b910b727999e1a38b3 = L.popup({&quot;maxWidth&quot;: &quot;100%&quot;});\n",
       "\n",
       "        \n",
       "            \n",
       "                var html_c3d60883a4190428abe8a2ee0d0c1698 = $(`&lt;div id=&quot;html_c3d60883a4190428abe8a2ee0d0c1698&quot; style=&quot;width: 100.0%; height: 100.0%;&quot;&gt;Uganda&lt;/div&gt;`)[0];\n",
       "                popup_5ce757c1f32848b910b727999e1a38b3.setContent(html_c3d60883a4190428abe8a2ee0d0c1698);\n",
       "            \n",
       "        \n",
       "\n",
       "        circle_marker_b191e167ab8605939061d8e3b6299007.bindPopup(popup_5ce757c1f32848b910b727999e1a38b3)\n",
       "        ;\n",
       "\n",
       "        \n",
       "    \n",
       "    \n",
       "            var circle_marker_ee21c9eeea2eaed10f52267c5bff09d1 = L.circleMarker(\n",
       "                [49.0, 32.0],\n",
       "                {&quot;bubblingMouseEvents&quot;: true, &quot;color&quot;: &quot;black&quot;, &quot;dashArray&quot;: null, &quot;dashOffset&quot;: null, &quot;fill&quot;: true, &quot;fillColor&quot;: &quot;black&quot;, &quot;fillOpacity&quot;: 0.2, &quot;fillRule&quot;: &quot;evenodd&quot;, &quot;lineCap&quot;: &quot;round&quot;, &quot;lineJoin&quot;: &quot;round&quot;, &quot;opacity&quot;: 1.0, &quot;stroke&quot;: true, &quot;weight&quot;: 3}\n",
       "            ).addTo(map_44e3e96609660dbcbcb47f957ff20567);\n",
       "        \n",
       "    \n",
       "        var popup_e64a1966e8fe478a55c93df9c0a9317b = L.popup({&quot;maxWidth&quot;: &quot;100%&quot;});\n",
       "\n",
       "        \n",
       "            \n",
       "                var html_522cecba38a2a4165f776becd1871f79 = $(`&lt;div id=&quot;html_522cecba38a2a4165f776becd1871f79&quot; style=&quot;width: 100.0%; height: 100.0%;&quot;&gt;Ukraine&lt;/div&gt;`)[0];\n",
       "                popup_e64a1966e8fe478a55c93df9c0a9317b.setContent(html_522cecba38a2a4165f776becd1871f79);\n",
       "            \n",
       "        \n",
       "\n",
       "        circle_marker_ee21c9eeea2eaed10f52267c5bff09d1.bindPopup(popup_e64a1966e8fe478a55c93df9c0a9317b)\n",
       "        ;\n",
       "\n",
       "        \n",
       "    \n",
       "    \n",
       "            var circle_marker_974ffb02c6d95e2921a2ff782566de30 = L.circleMarker(\n",
       "                [-33.0, -56.0],\n",
       "                {&quot;bubblingMouseEvents&quot;: true, &quot;color&quot;: &quot;green&quot;, &quot;dashArray&quot;: null, &quot;dashOffset&quot;: null, &quot;fill&quot;: true, &quot;fillColor&quot;: &quot;green&quot;, &quot;fillOpacity&quot;: 0.2, &quot;fillRule&quot;: &quot;evenodd&quot;, &quot;lineCap&quot;: &quot;round&quot;, &quot;lineJoin&quot;: &quot;round&quot;, &quot;opacity&quot;: 1.0, &quot;radius&quot;: 0.5757498723159213, &quot;stroke&quot;: true, &quot;weight&quot;: 3}\n",
       "            ).addTo(map_44e3e96609660dbcbcb47f957ff20567);\n",
       "        \n",
       "    \n",
       "        var popup_986e10f4754bd887bdf8e392ddf900be = L.popup({&quot;maxWidth&quot;: &quot;100%&quot;});\n",
       "\n",
       "        \n",
       "            \n",
       "                var html_b7fb497bf9c2e640aa351a9231e79831 = $(`&lt;div id=&quot;html_b7fb497bf9c2e640aa351a9231e79831&quot; style=&quot;width: 100.0%; height: 100.0%;&quot;&gt;Uruguay&lt;/div&gt;`)[0];\n",
       "                popup_986e10f4754bd887bdf8e392ddf900be.setContent(html_b7fb497bf9c2e640aa351a9231e79831);\n",
       "            \n",
       "        \n",
       "\n",
       "        circle_marker_974ffb02c6d95e2921a2ff782566de30.bindPopup(popup_986e10f4754bd887bdf8e392ddf900be)\n",
       "        ;\n",
       "\n",
       "        \n",
       "    \n",
       "    \n",
       "            var circle_marker_81cabee777df87ed54912ea36d926b65 = L.circleMarker(\n",
       "                [39.76, -98.5],\n",
       "                {&quot;bubblingMouseEvents&quot;: true, &quot;color&quot;: &quot;green&quot;, &quot;dashArray&quot;: null, &quot;dashOffset&quot;: null, &quot;fill&quot;: true, &quot;fillColor&quot;: &quot;green&quot;, &quot;fillOpacity&quot;: 0.2, &quot;fillRule&quot;: &quot;evenodd&quot;, &quot;lineCap&quot;: &quot;round&quot;, &quot;lineJoin&quot;: &quot;round&quot;, &quot;opacity&quot;: 1.0, &quot;radius&quot;: 12.816534715641207, &quot;stroke&quot;: true, &quot;weight&quot;: 3}\n",
       "            ).addTo(map_44e3e96609660dbcbcb47f957ff20567);\n",
       "        \n",
       "    \n",
       "        var popup_8c6c8a9646111d67e77643a37eb26cbc = L.popup({&quot;maxWidth&quot;: &quot;100%&quot;});\n",
       "\n",
       "        \n",
       "            \n",
       "                var html_a90619126a6e30184b7839a184995eb1 = $(`&lt;div id=&quot;html_a90619126a6e30184b7839a184995eb1&quot; style=&quot;width: 100.0%; height: 100.0%;&quot;&gt;United States&lt;/div&gt;`)[0];\n",
       "                popup_8c6c8a9646111d67e77643a37eb26cbc.setContent(html_a90619126a6e30184b7839a184995eb1);\n",
       "            \n",
       "        \n",
       "\n",
       "        circle_marker_81cabee777df87ed54912ea36d926b65.bindPopup(popup_8c6c8a9646111d67e77643a37eb26cbc)\n",
       "        ;\n",
       "\n",
       "        \n",
       "    \n",
       "    \n",
       "            var circle_marker_a04a21c99656f234373466736e3d3b8b = L.circleMarker(\n",
       "                [8.0, -66.0],\n",
       "                {&quot;bubblingMouseEvents&quot;: true, &quot;color&quot;: &quot;green&quot;, &quot;dashArray&quot;: null, &quot;dashOffset&quot;: null, &quot;fill&quot;: true, &quot;fillColor&quot;: &quot;green&quot;, &quot;fillOpacity&quot;: 0.2, &quot;fillRule&quot;: &quot;evenodd&quot;, &quot;lineCap&quot;: &quot;round&quot;, &quot;lineJoin&quot;: &quot;round&quot;, &quot;opacity&quot;: 1.0, &quot;radius&quot;: 7.747224893287904, &quot;stroke&quot;: true, &quot;weight&quot;: 3}\n",
       "            ).addTo(map_44e3e96609660dbcbcb47f957ff20567);\n",
       "        \n",
       "    \n",
       "        var popup_77114c646a4ad0ba826a82117a38e06f = L.popup({&quot;maxWidth&quot;: &quot;100%&quot;});\n",
       "\n",
       "        \n",
       "            \n",
       "                var html_d5d05843e02237a352e0ccc0762f18bf = $(`&lt;div id=&quot;html_d5d05843e02237a352e0ccc0762f18bf&quot; style=&quot;width: 100.0%; height: 100.0%;&quot;&gt;Venezuela&lt;/div&gt;`)[0];\n",
       "                popup_77114c646a4ad0ba826a82117a38e06f.setContent(html_d5d05843e02237a352e0ccc0762f18bf);\n",
       "            \n",
       "        \n",
       "\n",
       "        circle_marker_a04a21c99656f234373466736e3d3b8b.bindPopup(popup_77114c646a4ad0ba826a82117a38e06f)\n",
       "        ;\n",
       "\n",
       "        \n",
       "    \n",
       "    \n",
       "            var circle_marker_d66e0270b9f37c6ccd145a53c8993202 = L.circleMarker(\n",
       "                [16.16667, 107.83333],\n",
       "                {&quot;bubblingMouseEvents&quot;: true, &quot;color&quot;: &quot;red&quot;, &quot;dashArray&quot;: null, &quot;dashOffset&quot;: null, &quot;fill&quot;: true, &quot;fillColor&quot;: &quot;red&quot;, &quot;fillOpacity&quot;: 0.2, &quot;fillRule&quot;: &quot;evenodd&quot;, &quot;lineCap&quot;: &quot;round&quot;, &quot;lineJoin&quot;: &quot;round&quot;, &quot;opacity&quot;: 1.0, &quot;radius&quot;: 8.265735545694868, &quot;stroke&quot;: true, &quot;weight&quot;: 3}\n",
       "            ).addTo(map_44e3e96609660dbcbcb47f957ff20567);\n",
       "        \n",
       "    \n",
       "        var popup_e8e0d649528413d6c7d7c746e8b2e946 = L.popup({&quot;maxWidth&quot;: &quot;100%&quot;});\n",
       "\n",
       "        \n",
       "            \n",
       "                var html_4ca8752383032097616f6c60d4fe7207 = $(`&lt;div id=&quot;html_4ca8752383032097616f6c60d4fe7207&quot; style=&quot;width: 100.0%; height: 100.0%;&quot;&gt;Vietnam&lt;/div&gt;`)[0];\n",
       "                popup_e8e0d649528413d6c7d7c746e8b2e946.setContent(html_4ca8752383032097616f6c60d4fe7207);\n",
       "            \n",
       "        \n",
       "\n",
       "        circle_marker_d66e0270b9f37c6ccd145a53c8993202.bindPopup(popup_e8e0d649528413d6c7d7c746e8b2e946)\n",
       "        ;\n",
       "\n",
       "        \n",
       "    \n",
       "    \n",
       "            var circle_marker_93402750e29fa03a1c0e5c75e99b16d1 = L.circleMarker(\n",
       "                [15.5, 47.5],\n",
       "                {&quot;bubblingMouseEvents&quot;: true, &quot;color&quot;: &quot;red&quot;, &quot;dashArray&quot;: null, &quot;dashOffset&quot;: null, &quot;fill&quot;: true, &quot;fillColor&quot;: &quot;red&quot;, &quot;fillOpacity&quot;: 0.2, &quot;fillRule&quot;: &quot;evenodd&quot;, &quot;lineCap&quot;: &quot;round&quot;, &quot;lineJoin&quot;: &quot;round&quot;, &quot;opacity&quot;: 1.0, &quot;radius&quot;: 8.490153480403475, &quot;stroke&quot;: true, &quot;weight&quot;: 3}\n",
       "            ).addTo(map_44e3e96609660dbcbcb47f957ff20567);\n",
       "        \n",
       "    \n",
       "        var popup_ccdce4848b3df8c17f163173298d25fe = L.popup({&quot;maxWidth&quot;: &quot;100%&quot;});\n",
       "\n",
       "        \n",
       "            \n",
       "                var html_215c5006e6410924b46c89f01c6ec11e = $(`&lt;div id=&quot;html_215c5006e6410924b46c89f01c6ec11e&quot; style=&quot;width: 100.0%; height: 100.0%;&quot;&gt;Yemen&lt;/div&gt;`)[0];\n",
       "                popup_ccdce4848b3df8c17f163173298d25fe.setContent(html_215c5006e6410924b46c89f01c6ec11e);\n",
       "            \n",
       "        \n",
       "\n",
       "        circle_marker_93402750e29fa03a1c0e5c75e99b16d1.bindPopup(popup_ccdce4848b3df8c17f163173298d25fe)\n",
       "        ;\n",
       "\n",
       "        \n",
       "    \n",
       "    \n",
       "            var circle_marker_fa50c03d1c5e6c8af159cdb374f3fc46 = L.circleMarker(\n",
       "                [-29.0, 24.0],\n",
       "                {&quot;bubblingMouseEvents&quot;: true, &quot;color&quot;: &quot;blue&quot;, &quot;dashArray&quot;: null, &quot;dashOffset&quot;: null, &quot;fill&quot;: true, &quot;fillColor&quot;: &quot;blue&quot;, &quot;fillOpacity&quot;: 0.2, &quot;fillRule&quot;: &quot;evenodd&quot;, &quot;lineCap&quot;: &quot;round&quot;, &quot;lineJoin&quot;: &quot;round&quot;, &quot;opacity&quot;: 1.0, &quot;radius&quot;: 12.392457273107668, &quot;stroke&quot;: true, &quot;weight&quot;: 3}\n",
       "            ).addTo(map_44e3e96609660dbcbcb47f957ff20567);\n",
       "        \n",
       "    \n",
       "        var popup_9f275f1b3734e884df9aa5fdc61b2c50 = L.popup({&quot;maxWidth&quot;: &quot;100%&quot;});\n",
       "\n",
       "        \n",
       "            \n",
       "                var html_63728422c36b9b0012e49d1680d0d20e = $(`&lt;div id=&quot;html_63728422c36b9b0012e49d1680d0d20e&quot; style=&quot;width: 100.0%; height: 100.0%;&quot;&gt;South Africa&lt;/div&gt;`)[0];\n",
       "                popup_9f275f1b3734e884df9aa5fdc61b2c50.setContent(html_63728422c36b9b0012e49d1680d0d20e);\n",
       "            \n",
       "        \n",
       "\n",
       "        circle_marker_fa50c03d1c5e6c8af159cdb374f3fc46.bindPopup(popup_9f275f1b3734e884df9aa5fdc61b2c50)\n",
       "        ;\n",
       "\n",
       "        \n",
       "    \n",
       "    \n",
       "            var circle_marker_6c190198e236ec736ab96188d23391a9 = L.circleMarker(\n",
       "                [-14.33333, 28.5],\n",
       "                {&quot;bubblingMouseEvents&quot;: true, &quot;color&quot;: &quot;blue&quot;, &quot;dashArray&quot;: null, &quot;dashOffset&quot;: null, &quot;fill&quot;: true, &quot;fillColor&quot;: &quot;blue&quot;, &quot;fillOpacity&quot;: 0.2, &quot;fillRule&quot;: &quot;evenodd&quot;, &quot;lineCap&quot;: &quot;round&quot;, &quot;lineJoin&quot;: &quot;round&quot;, &quot;opacity&quot;: 1.0, &quot;radius&quot;: 17.940846416721868, &quot;stroke&quot;: true, &quot;weight&quot;: 3}\n",
       "            ).addTo(map_44e3e96609660dbcbcb47f957ff20567);\n",
       "        \n",
       "    \n",
       "        var popup_086d6d4ce1f87d5796225e2e309ef0f3 = L.popup({&quot;maxWidth&quot;: &quot;100%&quot;});\n",
       "\n",
       "        \n",
       "            \n",
       "                var html_c453a158b8f5b4d5f0743761a37aa32d = $(`&lt;div id=&quot;html_c453a158b8f5b4d5f0743761a37aa32d&quot; style=&quot;width: 100.0%; height: 100.0%;&quot;&gt;Zambia&lt;/div&gt;`)[0];\n",
       "                popup_086d6d4ce1f87d5796225e2e309ef0f3.setContent(html_c453a158b8f5b4d5f0743761a37aa32d);\n",
       "            \n",
       "        \n",
       "\n",
       "        circle_marker_6c190198e236ec736ab96188d23391a9.bindPopup(popup_086d6d4ce1f87d5796225e2e309ef0f3)\n",
       "        ;\n",
       "\n",
       "        \n",
       "    \n",
       "&lt;/script&gt;\n",
       "&lt;/html&gt;\" style=\"position:absolute;width:100%;height:100%;left:0;top:0;border:none !important;\" allowfullscreen webkitallowfullscreen mozallowfullscreen></iframe></div></div>"
      ],
      "text/plain": [
       "<datascience.maps.Map at 0x23b75912190>"
      ]
     },
     "execution_count": 52,
     "metadata": {},
     "output_type": "execute_result"
    }
   ],
   "source": [
    "# It may take a few seconds to generate this map.\n",
    "colors = {'africa': 'blue', 'europe': 'black', 'asia': 'red', 'americas': 'green'}\n",
    "scaled = poverty_map.with_columns(\n",
    "    'labels', poverty_map.column('name'),\n",
    "    'colors', poverty_map.apply(colors.get, 'region'),\n",
    "    'areas', 1e-4 * poverty_map.column('poverty_total')\n",
    ").drop('name', 'region', 'poverty_total')\n",
    "\n",
    "Circle.map_table(scaled)"
   ]
  },
  {
   "cell_type": "markdown",
   "id": "47012f18",
   "metadata": {
    "deletable": false,
    "editable": false
   },
   "source": [
    "Although people lived in extreme poverty throughout the world in 2010 (with more than 5 million in the United States), the largest numbers were in Asia and Africa."
   ]
  },
  {
   "cell_type": "markdown",
   "id": "93d9d789",
   "metadata": {},
   "source": [
    "**Question 5.** Assign `largest` to a two-column table with the `name` (not the 3-letter code) and `poverty_total` of the 10 countries with the largest number of people living in extreme poverty.\n",
    "\n",
    "*Hint*: How can we use `take` and `np.arange` in conjunction with each other?\n"
   ]
  },
  {
   "cell_type": "code",
   "execution_count": 54,
   "id": "da401e05",
   "metadata": {
    "deletable": false,
    "tags": []
   },
   "outputs": [
    {
     "data": {
      "text/html": [
       "<table border=\"1\" class=\"dataframe\">\n",
       "    <thead>\n",
       "        <tr>\n",
       "            <th>name</th> <th>poverty_total</th>\n",
       "        </tr>\n",
       "    </thead>\n",
       "    <tbody>\n",
       "        <tr>\n",
       "            <td>India           </td> <td>291,660,639.00</td>\n",
       "        </tr>\n",
       "        <tr>\n",
       "            <td>Nigeria         </td> <td>98,319,537.00 </td>\n",
       "        </tr>\n",
       "        <tr>\n",
       "            <td>China           </td> <td>85,687,544.00 </td>\n",
       "        </tr>\n",
       "        <tr>\n",
       "            <td>Bangladesh      </td> <td>63,826,375.00 </td>\n",
       "        </tr>\n",
       "        <tr>\n",
       "            <td>Congo, Dem. Rep.</td> <td>56,635,412.00 </td>\n",
       "        </tr>\n",
       "        <tr>\n",
       "            <td>Indonesia       </td> <td>39,177,145.00 </td>\n",
       "        </tr>\n",
       "        <tr>\n",
       "            <td>Ethiopia        </td> <td>32,242,742.00 </td>\n",
       "        </tr>\n",
       "        <tr>\n",
       "            <td>Pakistan        </td> <td>22,858,700.00 </td>\n",
       "        </tr>\n",
       "        <tr>\n",
       "            <td>Tanzania        </td> <td>19,281,872.00 </td>\n",
       "        </tr>\n",
       "        <tr>\n",
       "            <td>Madagascar      </td> <td>18,543,643.00 </td>\n",
       "        </tr>\n",
       "    </tbody>\n",
       "</table>"
      ],
      "text/plain": [
       "name             | poverty_total\n",
       "India            | 291,660,639.00\n",
       "Nigeria          | 98,319,537.00\n",
       "China            | 85,687,544.00\n",
       "Bangladesh       | 63,826,375.00\n",
       "Congo, Dem. Rep. | 56,635,412.00\n",
       "Indonesia        | 39,177,145.00\n",
       "Ethiopia         | 32,242,742.00\n",
       "Pakistan         | 22,858,700.00\n",
       "Tanzania         | 19,281,872.00\n",
       "Madagascar       | 18,543,643.00"
      ]
     },
     "execution_count": 54,
     "metadata": {},
     "output_type": "execute_result"
    }
   ],
   "source": [
    "largest = poverty_map.select('name', 'poverty_total').sort('poverty_total', True).take(np.arange(10))\n",
    "largest.set_format('poverty_total', NumberFormatter)"
   ]
  },
  {
   "cell_type": "code",
   "execution_count": 55,
   "id": "8785d77c",
   "metadata": {
    "deletable": false,
    "editable": false
   },
   "outputs": [
    {
     "data": {
      "text/html": [
       "<p><strong><pre style='display: inline;'>q2_5</pre></strong> passed! 🙌</p>"
      ],
      "text/plain": [
       "q2_5 results: All test cases passed!"
      ]
     },
     "execution_count": 55,
     "metadata": {},
     "output_type": "execute_result"
    }
   ],
   "source": [
    "grader.check(\"q2_5\")"
   ]
  },
  {
   "cell_type": "markdown",
   "id": "0e6a859f",
   "metadata": {},
   "source": [
    "<!-- BEGIN QUESTION -->\n",
    "\n",
    "**Question 6.** It is important to study the absolute number of people living in poverty, not just the percent. The absolute number is an important factor in determining the amount of resources needed to support people living in poverty. In the next two questions you will explore this.\n",
    "\n",
    "In Question 7, you will be asked to write a function called `poverty_timeline` that takes **the name of a country** as its argument  (not the Alpha-3 country code). It should draw a line plot of the number of people living in poverty in that country with time on the horizontal axis. The line plot should have a point for each row in the `poverty` table for that country. To compute the population living in poverty from a poverty percentage, multiply by the population of the country **in that year**.\n",
    "\n",
    "For this question, write out a generalized process for Question 7. What should this function output, and what steps will you take within the function?\n"
   ]
  },
  {
   "cell_type": "markdown",
   "id": "1f66c425",
   "metadata": {},
   "source": [
    "_Type your answer here, replacing this text._"
   ]
  },
  {
   "cell_type": "markdown",
   "id": "b76c418e",
   "metadata": {
    "deletable": false
   },
   "source": [
    "<!-- END QUESTION -->\n",
    "\n",
    "**Question 7.** Now, we'll actually write the function called `poverty_timeline`. Recall that `poverty_timeline` takes **the name of a country** as its argument (not the Alpha-3 country code). It should draw a line plot of the number of people living in poverty in that country with time on the horizontal axis. The line plot should have a point for each row in the `poverty` table for that country. To compute the population living in poverty from a poverty percentage, multiply by the population of the country **in that year**.\n",
    "\n",
    "*Hint:* This question is long. Feel free to create cells and experiment. You can create cells by going to the toolbar and hitting the `+` button, or by going to the `Insert` tab."
   ]
  },
  {
   "cell_type": "markdown",
   "id": "f9fdf47f",
   "metadata": {},
   "source": [
    "_Type your answer here, replacing this text._"
   ]
  },
  {
   "cell_type": "code",
   "execution_count": 84,
   "id": "3244423b-f5d6-4239-a641-dbcfd0455142",
   "metadata": {},
   "outputs": [],
   "source": [
    "def func(time, pop, base):\n",
    "    res = np.arange(0)\n",
    "    for i in range(len(pop)):\n",
    "        index = time.item(i) - base\n",
    "        res = np.append(res, pop[i].item(index))\n",
    "    return res\n",
    "    \n",
    "table = poverty.join('geo', population.where('time', lambda x: x in poverty.column('time'))).join('geo', countries.select('country', 'name'), 'country').drop('geo')"
   ]
  },
  {
   "cell_type": "code",
   "execution_count": 85,
   "id": "36c810f7",
   "metadata": {
    "tags": []
   },
   "outputs": [],
   "source": [
    "def poverty_timeline(country):\n",
    "    '''Draw a timeline of people living in extreme poverty in a country.'''\n",
    "    geo = table.where('name', country).group('time', lambda x: x).relabeled('extreme_poverty_percent_people_below_125_a_day', 'percent')\n",
    "    t = geo.select('time').with_columns('poverty', \\\n",
    "        func(geo.column('time'), geo.column('percent') * geo.column('population_total'), geo.column('time_2').item(0)))\n",
    "    t.plot('time')\n",
    "    # This solution will take multiple lines of code. Use as many as you need\n",
    "\n",
    "    # Don't change anything below this line. \n",
    "    plots.title(country)\n",
    "    plots.ylim(bottom=0)\n",
    "    plots.show() # This should be the last line of your function. "
   ]
  },
  {
   "cell_type": "code",
   "execution_count": 83,
   "id": "8b592b60",
   "metadata": {
    "deletable": false,
    "tags": []
   },
   "outputs": [
    {
     "data": {
      "image/png": "[encoded data removed]",
      "text/plain": [
       "<Figure size 600x600 with 1 Axes>"
      ]
     },
     "metadata": {},
     "output_type": "display_data"
    },
    {
     "data": {
      "image/png": "[encoded data removed]",
      "text/plain": [
       "<Figure size 600x600 with 1 Axes>"
      ]
     },
     "metadata": {},
     "output_type": "display_data"
    },
    {
     "data": {
      "image/png": "[encoded data removed]",
      "text/plain": [
       "<Figure size 600x600 with 1 Axes>"
      ]
     },
     "metadata": {},
     "output_type": "display_data"
    },
    {
     "data": {
      "image/png": "[encoded data removed]",
      "text/plain": [
       "<Figure size 600x600 with 1 Axes>"
      ]
     },
     "metadata": {},
     "output_type": "display_data"
    },
    {
     "data": {
      "image/png": "[encoded data removed]",
      "text/plain": [
       "<Figure size 600x600 with 1 Axes>"
      ]
     },
     "metadata": {},
     "output_type": "display_data"
    }
   ],
   "source": [
    "poverty_timeline('India')\n",
    "poverty_timeline('Nigeria')\n",
    "poverty_timeline('China')\n",
    "poverty_timeline('Colombia')\n",
    "poverty_timeline('United States')"
   ]
  },
  {
   "cell_type": "markdown",
   "id": "bb77acb4",
   "metadata": {
    "deletable": false
   },
   "source": [
    "Although the number of people living in extreme poverty increased in some countries including Nigeria and the United States, the decreases in other countries, most notably the massive decreases in China and India, have shaped the overall trend that extreme poverty is decreasing worldwide, both in percentage and in absolute number. \n",
    "\n",
    "To learn more, watch [Hans Rosling in a 2015 film](https://www.gapminder.org/videos/dont-panic-end-poverty/) about the UN goal of eradicating extreme poverty from the world. \n",
    "\n",
    "Below, we've also added an interactive dropdown menu for you to visualize `poverty_timeline` graphs for other countries. Note that each dropdown menu selection may take a few seconds to run."
   ]
  },
  {
   "cell_type": "code",
   "execution_count": 86,
   "id": "ba3aac50",
   "metadata": {
    "deletable": false,
    "editable": false
   },
   "outputs": [
    {
     "data": {
      "application/vnd.jupyter.widget-view+json": {
       "model_id": "707fda12c9d444b1abb421ea61146e1d",
       "version_major": 2,
       "version_minor": 0
      },
      "text/plain": [
       "interactive(children=(Dropdown(description='country', options=('Angola', 'Albania', 'Argentina', 'Armenia', 'A…"
      ]
     },
     "metadata": {},
     "output_type": "display_data"
    }
   ],
   "source": [
    "# Just run this cell\n",
    "\n",
    "all_countries = poverty_map.column('name')\n",
    "_ = widgets.interact(poverty_timeline, country=list(all_countries))"
   ]
  },
  {
   "cell_type": "markdown",
   "id": "b883153b",
   "metadata": {
    "deletable": false
   },
   "source": [
    "\n",
    "\n",
    "<img src=\"mochi.jpg\" alt=\"drawing\" width=\"300\"/>\n",
    "\n",
    "**Mochi wants to tell you, you're finished!** Congratulations on discovering many important facts about global poverty and demonstrating your mastery of table manipulation and data visualization. Time to submit.\n",
    "\n",
    "**Important submission steps:** \n",
    "1. Run the tests and verify that they all pass.\n",
    "2. Choose **Save Notebook** from the **File** menu, then **run the final cell**. \n",
    "3. Click the link to download the zip file.\n",
    "4. Then submit the zip file to the corresponding assignment according to your instructor's directions. \n",
    "\n",
    "**It is your responsibility to make sure your work is saved before running the last cell.**"
   ]
  },
  {
   "cell_type": "markdown",
   "id": "e2dc7a46",
   "metadata": {
    "deletable": false,
    "editable": false
   },
   "source": [
    "## Submission\n",
    "\n",
    "Make sure you have run all cells in your notebook in order before running the cell below, so that all images/graphs appear in the output. The cell below will generate a zip file for you to submit. **Please save before exporting!**"
   ]
  },
  {
   "cell_type": "code",
   "execution_count": null,
   "id": "a963a3a3",
   "metadata": {
    "deletable": false,
    "editable": false
   },
   "outputs": [],
   "source": [
    "# Save your notebook first, then run this cell to export your submission.\n",
    "grader.export(pdf=False, run_tests=True)"
   ]
  },
  {
   "cell_type": "markdown",
   "id": "78028c24",
   "metadata": {},
   "source": [
    " "
   ]
  }
 ],
 "metadata": {
  "kernelspec": {
   "display_name": "Python 3 (ipykernel)",
   "language": "python",
   "name": "python3"
  },
  "language_info": {
   "codemirror_mode": {
    "name": "ipython",
    "version": 3
   },
   "file_extension": ".py",
   "mimetype": "text/x-python",
   "name": "python",
   "nbconvert_exporter": "python",
   "pygments_lexer": "ipython3",
   "version": "3.11.4"
  },
  "otter": {
   "OK_FORMAT": true,
   "tests": {
    "q1_1": {
     "name": "q1_1",
     "points": [
      0,
      0
     ],
     "suites": [
      {
       "cases": [
        {
         "code": ">>> # Check your column labels and spelling\n>>> b_pop.labels == ('time', 'population_total')\nTrue",
         "hidden": false,
         "locked": false
        },
        {
         "code": ">>> # Times should range from 1970 through 2020\n>>> all(b_pop.sort(\"time\").column(\"time\") == np.arange(1970, 2021))\nTrue",
         "hidden": false,
         "locked": false
        }
       ],
       "scored": true,
       "setup": "",
       "teardown": "",
       "type": "doctest"
      }
     ]
    },
    "q1_11": {
     "name": "q1_11",
     "points": [
      0,
      0,
      0,
      4
     ],
     "suites": [
      {
       "cases": [
        {
         "code": ">>> # Incorrect labels for columns\n>>> t = stats_for_year(1990)\n>>> t.labels == ('geo', 'population_total', 'children_per_woman_total_fertility', 'child_mortality_under_5_per_1000_born')\nTrue",
         "hidden": false,
         "locked": false
        },
        {
         "code": ">>> # Incorrect number of rows\n>>> t = stats_for_year(1990)\n>>> t.num_rows\n50",
         "hidden": false,
         "locked": false
        },
        {
         "code": ">>> print(stats_for_year(1960).sort('geo').take(np.arange(5, 50, 5)))\ngeo  | population_total | children_per_woman_total_fertility | child_mortality_under_5_per_1000_born\ncan  | 17847404         | 3.88                               | 32.6\ndza  | 11057864         | 7.52                               | 242.54\ngbr  | 52370595         | 2.69                               | 26.56\nirq  | 7289753          | 6.25                               | 191.93\nmar  | 12328532         | 7.04                               | 237.06\nnga  | 45138460         | 6.35                               | 339.85\npol  | 29614201         | 3.11                               | 65.03\ntur  | 27472339         | 6.37                               | 258.29\nuzb  | 8526299          | 6.26                               | 169.4\n",
         "hidden": false,
         "locked": false
        },
        {
         "code": ">>> print(stats_for_year(2010).sort('geo').take(np.arange(3, 50, 5)))\ngeo  | population_total | children_per_woman_total_fertility | child_mortality_under_5_per_1000_born\nbgd  | 147575433        | 2.28                               | 49.1\ncol  | 45222699         | 2.01                               | 18.47\neth  | 87639962         | 4.92                               | 82.94\nind  | 1234281163       | 2.6                                | 58.23\nken  | 42030684         | 4.37                               | 56.54\nmoz  | 23531567         | 5.56                               | 104.53\nper  | 29027680         | 2.55                               | 20.13\nsdn  | 34545014         | 4.88                               | 75.92\nukr  | 45792086         | 1.45                               | 11.72\nyem  | 23154854         | 4.67                               | 55.96\n",
         "hidden": false,
         "locked": false
        }
       ],
       "scored": true,
       "setup": "",
       "teardown": "",
       "type": "doctest"
      }
     ]
    },
    "q1_12": {
     "name": "q1_12",
     "points": [
      0,
      0
     ],
     "suites": [
      {
       "cases": [
        {
         "code": ">>> # Check your column labels and spelling\n>>> pop_by_decade.labels == ('decade', 'population')\nTrue",
         "hidden": false,
         "locked": false
        },
        {
         "code": ">>> # The first year of the 1960's is 1960.\n>>> pop_by_decade.column(0).item(0) == 1960\nTrue",
         "hidden": false,
         "locked": false
        }
       ],
       "scored": true,
       "setup": "",
       "teardown": "",
       "type": "doctest"
      }
     ]
    },
    "q1_12_0": {
     "name": "q1_12_0",
     "points": [
      0,
      0,
      0,
      0
     ],
     "suites": [
      {
       "cases": [
        {
         "code": ">>> pop_for_year(1972) == 3355562066\nTrue",
         "hidden": false,
         "locked": false
        },
        {
         "code": ">>> pop_for_year(2020) == 6765161289\nTrue",
         "hidden": false,
         "locked": false
        },
        {
         "code": ">>> pop_for_year(1989) == 4576679948\nTrue",
         "hidden": false,
         "locked": false
        },
        {
         "code": ">>> pop_for_year(2002) == 5514129422\nTrue",
         "hidden": false,
         "locked": false
        }
       ],
       "scored": true,
       "setup": "",
       "teardown": "",
       "type": "doctest"
      }
     ]
    },
    "q1_13": {
     "name": "q1_13",
     "points": [
      0,
      0
     ],
     "suites": [
      {
       "cases": [
        {
         "code": ">>> # Check your column labels and spelling\n>>> region_counts.labels == ('region', 'count')\nTrue",
         "hidden": false,
         "locked": false
        },
        {
         "code": ">>> # Counts must sum to 50\n>>> sum(region_counts.column('count')) == 50\nTrue",
         "hidden": false,
         "locked": false
        }
       ],
       "scored": true,
       "setup": "",
       "teardown": "",
       "type": "doctest"
      }
     ]
    },
    "q1_14": {
     "name": "q1_14",
     "points": [
      0
     ],
     "suites": [
      {
       "cases": [
        {
         "code": ">>> # Please use a list of integers from 1 to 5\n>>> all(x in range(1, 6) for x in set(scatter_statements))\nTrue",
         "hidden": false,
         "locked": false
        }
       ],
       "scored": true,
       "setup": "",
       "teardown": "",
       "type": "doctest"
      }
     ]
    },
    "q1_2": {
     "name": "q1_2",
     "points": [
      0,
      0
     ],
     "suites": [
      {
       "cases": [
        {
         "code": ">>> first = round(b_five_growth.sort(0).column(2).item(0), 8)\n>>> 0.005 <= first <= 0.5\nTrue",
         "hidden": false,
         "locked": false
        },
        {
         "code": ">>> # Compute the annual exponential growth rate\n>>> max(b_five_growth.column(2)) < 0.03\nTrue",
         "hidden": false,
         "locked": false
        }
       ],
       "scored": true,
       "setup": "",
       "teardown": "",
       "type": "doctest"
      }
     ]
    },
    "q1_5": {
     "name": "q1_5",
     "points": [
      0,
      0,
      0
     ],
     "suites": [
      {
       "cases": [
        {
         "code": ">>> # Check your column labels and spelling\n>>> fertility_over_time('usa', 2010).labels == ('Year', 'Children per woman')\nTrue",
         "hidden": false,
         "locked": false
        },
        {
         "code": ">>> # Check that you use the start year to determine the data range.\n>>> all(fertility_over_time('usa', 2010).column('Year') == np.arange(2010, 2021))\nTrue",
         "hidden": false,
         "locked": false
        },
        {
         "code": ">>> # Check that you use the start year to determine the data range.\n>>> all(fertility_over_time('usa', 2005).column('Year') == np.arange(2005, 2021))\nTrue",
         "hidden": false,
         "locked": false
        }
       ],
       "scored": true,
       "setup": "",
       "teardown": "",
       "type": "doctest"
      }
     ]
    },
    "q1_7": {
     "name": "q1_7",
     "points": [
      0,
      0
     ],
     "suites": [
      {
       "cases": [
        {
         "code": ">>> # Make sure you are using the date range 1970-2020\n>>> post_1969_fertility_and_child_mortality.num_rows\n51",
         "hidden": false,
         "locked": false
        },
        {
         "code": ">>> # Check your column labels and spelling\n>>> all([label in post_1969_fertility_and_child_mortality.labels for label in ['Children per woman', 'Child deaths per 1000 born']])\nTrue",
         "hidden": false,
         "locked": false
        }
       ],
       "scored": true,
       "setup": "",
       "teardown": "",
       "type": "doctest"
      }
     ]
    },
    "q1_9": {
     "name": "q1_9",
     "points": [
      0
     ],
     "suites": [
      {
       "cases": [
        {
         "code": ">>> # Please use a list of integers from 1 to 6\n>>> all(x in range(1, 7) for x in set(fertility_statements))\nTrue",
         "hidden": false,
         "locked": false
        }
       ],
       "scored": true,
       "setup": "",
       "teardown": "",
       "type": "doctest"
      }
     ]
    },
    "q2_1": {
     "name": "q2_1",
     "points": [
      0,
      0
     ],
     "suites": [
      {
       "cases": [
        {
         "code": ">>> # Please don't edit the last line.\n>>> latest_poverty.labels == ('geo', 'time', 'poverty_percent')\nTrue",
         "hidden": false,
         "locked": false
        },
        {
         "code": ">>> # The result should have one row per country.\n>>> latest_poverty.num_rows\n145",
         "hidden": false,
         "locked": false
        }
       ],
       "scored": true,
       "setup": "",
       "teardown": "",
       "type": "doctest"
      }
     ]
    },
    "q2_2": {
     "name": "q2_2",
     "points": [
      0,
      0,
      0
     ],
     "suites": [
      {
       "cases": [
        {
         "code": ">>> # Check your column labels and spelling\n>>> recent_poverty_total.labels == ('geo', 'poverty_percent', 'population_total', 'poverty_total')\nTrue",
         "hidden": false,
         "locked": false
        },
        {
         "code": ">>> # Careful, the population of Australia in 2010 was 22,154,687\n>>> recent_poverty_total.where('geo', 'aus').column(2).item(0)\n22154687",
         "hidden": false,
         "locked": false
        },
        {
         "code": ">>> # The number of people estimated to be living in extreme poverty\n>>> # in Australia should be 301,304. That's 22,154,687 * 0.0136\n>>> # rounded to the nearest integer.\n>>> float(recent_poverty_total.where('geo', 'aus').column(3).item(0))\n301304.0",
         "hidden": false,
         "locked": false
        }
       ],
       "scored": true,
       "setup": "",
       "teardown": "",
       "type": "doctest"
      }
     ]
    },
    "q2_3": {
     "name": "q2_3",
     "points": [
      0
     ],
     "suites": [
      {
       "cases": [
        {
         "code": ">>> 10 <= poverty_percent <= 20\nTrue",
         "hidden": false,
         "locked": false
        }
       ],
       "scored": true,
       "setup": "",
       "teardown": "",
       "type": "doctest"
      }
     ]
    },
    "q2_4": {
     "name": "q2_4",
     "points": [
      0,
      0
     ],
     "suites": [
      {
       "cases": [
        {
         "code": ">>> # Check your column labels and spelling\n>>> poverty_map.labels == ('latitude', 'longitude', 'name', 'region', 'poverty_total')\nTrue",
         "hidden": false,
         "locked": false
        },
        {
         "code": ">>> # Something is wrong with your region column.\n>>> list(np.sort(np.unique(poverty_map.column('region'))))\n['africa', 'americas', 'asia', 'europe']",
         "hidden": false,
         "locked": false
        }
       ],
       "scored": true,
       "setup": "",
       "teardown": "",
       "type": "doctest"
      }
     ]
    },
    "q2_5": {
     "name": "q2_5",
     "points": [
      0,
      0,
      0
     ],
     "suites": [
      {
       "cases": [
        {
         "code": ">>> # Check your column labels and spelling\n>>> largest.labels == ('name', 'poverty_total')\nTrue",
         "hidden": false,
         "locked": false
        },
        {
         "code": ">>> # India is the country with the largest number of people living\n>>> # in extreme poverty.\n>>> largest.column(0).item(0)\n'India'",
         "hidden": false,
         "locked": false
        },
        {
         "code": ">>> # The table should contain exactly 10 rows.\n>>> largest.num_rows\n10",
         "hidden": false,
         "locked": false
        }
       ],
       "scored": true,
       "setup": "",
       "teardown": "",
       "type": "doctest"
      }
     ]
    }
   }
  }
 },
 "nbformat": 4,
 "nbformat_minor": 5
}
