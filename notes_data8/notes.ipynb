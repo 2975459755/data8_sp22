{
 "cells": [
  {
   "cell_type": "markdown",
   "id": "4261a16c-8d30-464d-b602-54b59ec04023",
   "metadata": {},
   "source": [
    "environment setup:\n",
    "\n",
    "pip install:\n",
    "\n",
    "    notebook\n",
    "    otter-grader\n",
    "    datascience\n",
    "    scipy\n",
    "    pandas\n",
    "    matplotlib\n",
    "    ipywidgets\n",
    "\n",
    "    optional:\n",
    "\n",
    "        jupyterlab\n",
    "install:\n",
    "\n",
    "    OpenSSL 1.1.1 or higher"
   ]
  },
  {
   "cell_type": "code",
   "execution_count": 1,
   "id": "b2c4f930-c89e-4a9b-8369-5310432b2507",
   "metadata": {},
   "outputs": [],
   "source": [
    "from datascience import *\n",
    "from math import *\n",
    "import numpy as np\n",
    "\n",
    "import d8error"
   ]
  },
  {
   "cell_type": "markdown",
   "id": "33e51a39-9562-41e7-adf1-d0609f5d5e84",
   "metadata": {},
   "source": [
    ">References:"
   ]
  },
  {
   "cell_type": "markdown",
   "id": "cf83261e-2ebc-4103-8398-f954f1b27f88",
   "metadata": {},
   "source": [
    "https://inferentialthinking.com/chapters/07/Visualization.html\n",
    "\n",
    "http://www.data8.org/sp22/python-reference.html"
   ]
  },
  {
   "cell_type": "markdown",
   "id": "ccbcc230-02a5-4b1e-b1d2-00331360f625",
   "metadata": {},
   "source": [
    "# Tables: "
   ]
  },
  {
   "cell_type": "markdown",
   "id": "c796fa21-eaea-405b-ab18-5d7c58c29939",
   "metadata": {},
   "source": [
    ">Table Operations:"
   ]
  },
  {
   "cell_type": "markdown",
   "id": "49aa4045-5314-429c-bd2d-72b5b74fd187",
   "metadata": {},
   "source": [
    "<> table.show(n)\n",
    "\n",
    "    shows the first n rows of table\n",
    "    !!not creating or mutating any table"
   ]
  },
  {
   "cell_type": "markdown",
   "id": "6b5ae836-d830-4015-93de-8c744db53575",
   "metadata": {},
   "source": [
    "<> table.apply(function, col0, (col1), (col2)...)\n",
    "\n",
    "    returns an npArray; works similar to map\n",
    "\n",
    "    - table.apply(function)\n",
    "        acts on all rows"
   ]
  },
  {
   "cell_type": "markdown",
   "id": "5d53c843-59c1-48a3-a06f-0c32949ef14c",
   "metadata": {},
   "source": [
    ">>Create new tables out of existing tables:"
   ]
  },
  {
   "cell_type": "markdown",
   "id": "4b32134f-faa8-49ef-a511-60fdde44e972",
   "metadata": {},
   "source": [
    "<> table.select(columns)\n",
    "\n",
    "    returns a new table out of selected columns\n",
    "    order of columns of the new table is manageable\n",
    "    columns could be either column labels or column indices"
   ]
  },
  {
   "cell_type": "markdown",
   "id": "847affe4-91ae-4d8a-afd9-ba93d3b7e711",
   "metadata": {},
   "source": [
    "<> table.drop(columns)\n",
    "\n",
    "    inverse version of .select(\n",
    "    creates a new table without selected columns"
   ]
  },
  {
   "cell_type": "markdown",
   "id": "c861f5a7-2521-4c32-8126-cbde52f11235",
   "metadata": {},
   "source": [
    "<> table.where(column, condition)\n",
    "\n",
    "    returns a new table with rows meeting the condition\n",
    "    example: cones.where('Flavor', 'chocolate')\n",
    "\n",
    "    condition can be a function!\n",
    "    example: imdb.where('Year', lambda x: x > 2000)"
   ]
  },
  {
   "cell_type": "markdown",
   "id": "f0110ec7-20e4-4c54-9fc4-aedf5dc261a4",
   "metadata": {},
   "source": [
    "some of the CONDITIOINS:\n",
    "\n",
    "|Predicate|Example|Result|\n",
    "|-|-|-|\n",
    "|`are.equal_to`|`are.equal_to(50)`|Find rows with values equal to 50|\n",
    "|`are.not_equal_to`|`are.not_equal_to(50)`|Find rows with values not equal to 50|\n",
    "|`are.above`|`are.above(50)`|Find rows with values above (and not equal to) 50|\n",
    "|`are.above_or_equal_to`|`are.above_or_equal_to(50)`|Find rows with values above 50 or equal to 50|\n",
    "|`are.below`|`are.below(50)`|Find rows with values below 50|\n",
    "|`are.between`|`are.between(2, 10)`|Find rows with values above or equal to 2 and below 10|\n",
    "|`are.between_or_equal_to`|`are.between_or_equal_to(2, 10)`|Find rows with values above or equal to 2 and below or equal to 10|"
   ]
  },
  {
   "cell_type": "markdown",
   "id": "12cab4a0-cde0-46ba-8c4e-4cc54ef131f9",
   "metadata": {},
   "source": [
    "<> table.sort(column, descending = True/False)\n",
    "\n",
    "    returns a new table with order\n",
    "    descending is optional"
   ]
  },
  {
   "cell_type": "markdown",
   "id": "9eed8f1f-8e92-4675-97ee-78dcf8eda18e",
   "metadata": {},
   "source": [
    "<> table.take(row_indices)\n",
    "\n",
    "    returns a new table containing selected rows\n",
    "    example: table.take(0, 3, 1)\n",
    "    \n",
    "    also: \n",
    "    table.take(np.arange(...))"
   ]
  },
  {
   "cell_type": "markdown",
   "id": "d8d6cc82-2d02-4d97-ae95-218e000ae724",
   "metadata": {},
   "source": [
    "<> table.exclude(row_indices)\n",
    "\n",
    "    return a new table without selected rows"
   ]
  },
  {
   "cell_type": "markdown",
   "id": "57eb6d3f-4847-49ab-b9d7-9fb8d03ee7d9",
   "metadata": {},
   "source": [
    "<> table.column(column)\n",
    "\n",
    "    returns an array of selected column\n",
    "    args could be either column label or index"
   ]
  },
  {
   "cell_type": "markdown",
   "id": "0f65fbcd-b1b9-46b3-8d4d-39df7f6bb909",
   "metadata": {},
   "source": [
    "<> table.relabeled(column, new_label)\n",
    "\n",
    "    returns a new table with column label changed"
   ]
  },
  {
   "cell_type": "markdown",
   "id": "93b35595-9ca7-409c-8ddd-b699797a5582",
   "metadata": {},
   "source": [
    ">>> Methods related to visulization"
   ]
  },
  {
   "cell_type": "markdown",
   "id": "cdf10304-a181-4589-a87d-36d00042ffa1",
   "metadata": {},
   "source": [
    "<> table.bin(column, bins = some_random_equal_bins)\n",
    "\n",
    "    similar to group(see below), but groups by bins"
   ]
  },
  {
   "cell_type": "markdown",
   "id": "775bc5ea-a714-42bc-ae3a-e908fa194a5b",
   "metadata": {},
   "source": [
    "<> table.join(column_for_joining, table2, table2_col_for_joining)"
   ]
  },
  {
   "cell_type": "markdown",
   "id": "72a1827a-1903-4586-b741-aef9a0a92382",
   "metadata": {},
   "source": [
    "<> table.group(column, function = len)\n",
    "\n",
    "demo:\n",
    "https://www.youtube.com/watch?v=HLoYTCUP0fc&t=16s\n",
    "\n",
    "    If function not specified, group only returns a table with selected column and an augmented column of the row counts of categories;\n",
    "    Otherwise, all other columns could be inherited with columns processed by that function.\n",
    "\n",
    "    Additional to that, <column> could be a list of columns, by which we do \"cross-classifying\" (or \"multi-classifying\"?), one row for each combination;\n",
    "    It's notable that after grouping, the rest columns' names will be a bit different. (exp: 'Rating' --> 'Rating average')"
   ]
  },
  {
   "cell_type": "markdown",
   "id": "caf9daa3-fec2-43f2-9efc-25939524dabc",
   "metadata": {},
   "source": [
    "<> table.pivot(col1, col2, values = column_name, function = len)\n",
    "\n",
    "demo:\n",
    "https://www.youtube.com/watch?v=4WzXo8eKLAg&t=15s\n",
    "\n",
    "    Another idea in cross-classifying: .group uses two cols to repersent classifiers, while .pivot uses the grid approach--the first row and the first col serves as classifiers!\n",
    "    After this, col1 beecomes the row and col2 becomes the column.\n",
    "\n",
    "    <values> specifies the which col's values to aggragate by; <function> is the same as it is in .group"
   ]
  },
  {
   "cell_type": "markdown",
   "id": "52bf3cae-bcbb-4559-8a55-b0832211af63",
   "metadata": {},
   "source": [
    ">Table Properties:"
   ]
  },
  {
   "cell_type": "markdown",
   "id": "2d5529e2-9be5-43c9-af0e-c14db928436d",
   "metadata": {},
   "source": [
    "<> table.num_rows\n",
    "    \n",
    "    And:\n",
    "    \n",
    "    table.num_columns"
   ]
  },
  {
   "cell_type": "markdown",
   "id": "31fc22bb-bd8e-494b-8c42-2fa806cd8230",
   "metadata": {},
   "source": [
    "<> table.labels\n",
    "\n",
    "    returns a list containing all labels of the columns"
   ]
  },
  {
   "cell_type": "markdown",
   "id": "df1084c3-e06d-422b-8d9a-e30264bd7fea",
   "metadata": {},
   "source": [
    ">Create A Table:"
   ]
  },
  {
   "cell_type": "markdown",
   "id": "62ab8c92-d3d4-45e9-8c28-7a4b21948faf",
   "metadata": {},
   "source": [
    "<> Table.read_table('path')"
   ]
  },
  {
   "cell_type": "markdown",
   "id": "95e41316-2018-479e-89f6-fa7858fd166e",
   "metadata": {},
   "source": [
    "<> with_column and with_columns methods"
   ]
  },
  {
   "cell_type": "code",
   "execution_count": null,
   "id": "bec3e63b-b842-48a9-af34-ed83c18b47bc",
   "metadata": {},
   "outputs": [],
   "source": [
    "t = Table()"
   ]
  },
  {
   "cell_type": "code",
   "execution_count": null,
   "id": "439c8ec3-60fd-484b-8de2-9812776a74a4",
   "metadata": {},
   "outputs": [],
   "source": [
    "streets = make_array('Bancroft', 'Durant', 'Channing', 'Haste')\n",
    "southside = t.with_column('Street name', streets)\n",
    "southside"
   ]
  },
  {
   "cell_type": "code",
   "execution_count": null,
   "id": "42dfa530-3b44-4958-8123-405c5d0c5c56",
   "metadata": {},
   "outputs": [],
   "source": [
    "# with_column doesn't mutate the table\n",
    "t"
   ]
  },
  {
   "cell_type": "code",
   "execution_count": null,
   "id": "5e0f33a6-f8e0-4a8d-aca4-36d6c33d3672",
   "metadata": {},
   "outputs": [],
   "source": [
    "southside.with_column('City', 'Berkeley')"
   ]
  },
  {
   "cell_type": "raw",
   "id": "2fc6bb05-b67e-4163-b96e-5e58cf5291fb",
   "metadata": {},
   "source": [
    "'''\n",
    "however this will error; \n",
    "lengths will have to match\n",
    "'''\n",
    "\n",
    "southside = t.with_columns(\n",
    "    'Street name', 'streets',\n",
    "    'Blocks from campus', np.arange(4)\n",
    ")\n",
    "southside"
   ]
  },
  {
   "cell_type": "code",
   "execution_count": null,
   "id": "69f2f42a-18c6-4173-8d14-7f3d7fb81ce5",
   "metadata": {},
   "outputs": [],
   "source": [
    "t.with_columns(\n",
    "    'Street name', streets,\n",
    "    'Blocks from campus', np.arange(4),\n",
    "    'Time to get there', np.arange(1, 8, 2)\n",
    "    )"
   ]
  },
  {
   "cell_type": "markdown",
   "id": "70087df3-359a-491f-960e-f08f87053b64",
   "metadata": {},
   "source": [
    "<> with_row / with_rows(list)"
   ]
  },
  {
   "cell_type": "markdown",
   "id": "765ed96f-7fe3-4934-8d8e-0f649d9a3cba",
   "metadata": {},
   "source": [
    "> Others:"
   ]
  },
  {
   "cell_type": "markdown",
   "id": "383f18a5-9f34-499e-8e24-f20e05d14d36",
   "metadata": {},
   "source": [
    "`table.sample(n"
   ]
  },
  {
   "cell_type": "markdown",
   "id": "923cff87-b140-41dc-b1b6-a21d5135765d",
   "metadata": {},
   "source": [
    "# Numpy Arrays:"
   ]
  },
  {
   "cell_type": "markdown",
   "id": "44408e1b-0461-4fc3-a79a-424399f3739b",
   "metadata": {},
   "source": [
    "an array is a list of values of the same type"
   ]
  },
  {
   "cell_type": "markdown",
   "id": "92c73bb2-e1f6-4627-9315-ff15c66d4f9b",
   "metadata": {
    "jp-MarkdownHeadingCollapsed": true
   },
   "source": [
    "## Creating an array:"
   ]
  },
  {
   "cell_type": "code",
   "execution_count": 2,
   "id": "06b27392-1f5d-4661-bf6a-7237feba015f",
   "metadata": {},
   "outputs": [
    {
     "data": {
      "text/plain": [
       "array([1, 2, 3, 4], dtype=int64)"
      ]
     },
     "execution_count": 2,
     "metadata": {},
     "output_type": "execute_result"
    }
   ],
   "source": [
    "# make an array:\n",
    "first_four = make_array(1, 2, 3, 4)\n",
    "first_four"
   ]
  },
  {
   "cell_type": "code",
   "execution_count": null,
   "id": "56cfdb7f-b32e-4004-919f-684c8109898a",
   "metadata": {},
   "outputs": [],
   "source": [
    "type(first_four)"
   ]
  },
  {
   "cell_type": "markdown",
   "id": "694c4bc0-e8b7-4e3f-a7d5-dacdaac92859",
   "metadata": {},
   "source": [
    "make an array using RANGES:\n",
    "\n",
    "`np.arange((start), end, (step))`"
   ]
  },
  {
   "cell_type": "code",
   "execution_count": null,
   "id": "17b3bc5a-7be4-4f7c-899b-cc758d72fd2e",
   "metadata": {},
   "outputs": [],
   "source": [
    "np.arange(6)"
   ]
  },
  {
   "cell_type": "code",
   "execution_count": null,
   "id": "d1622215-2829-416d-b615-839c8627ad14",
   "metadata": {},
   "outputs": [],
   "source": [
    "np.arange(1, 11, 2)"
   ]
  },
  {
   "cell_type": "code",
   "execution_count": null,
   "id": "c0d24c4a-84b7-44d5-a3ae-c3bd1cc36c67",
   "metadata": {},
   "outputs": [],
   "source": [
    "np.arange(0, 1, 0.1)"
   ]
  },
  {
   "cell_type": "markdown",
   "id": "1e9d1858-de7c-4684-9351-ce339ef900dc",
   "metadata": {},
   "source": [
    "## Array Operations: "
   ]
  },
  {
   "cell_type": "code",
   "execution_count": null,
   "id": "c1b68902-b71b-4199-9178-eefd25e49555",
   "metadata": {},
   "outputs": [],
   "source": [
    "np.average(first_four)"
   ]
  },
  {
   "cell_type": "code",
   "execution_count": null,
   "id": "ffd26838-4496-40dc-8e7e-eeefacb0e712",
   "metadata": {},
   "outputs": [],
   "source": [
    "np.sum(first_four)"
   ]
  },
  {
   "cell_type": "code",
   "execution_count": null,
   "id": "093b903e-d3e4-4cc3-b769-ad5f918d3b34",
   "metadata": {},
   "outputs": [],
   "source": [
    "# builtin fuctions works in many times\n",
    "sum(first_four)"
   ]
  },
  {
   "cell_type": "code",
   "execution_count": null,
   "id": "0919f590-996d-425a-b4be-08282acbdce0",
   "metadata": {},
   "outputs": [],
   "source": [
    "first_four.item(0)"
   ]
  },
  {
   "cell_type": "code",
   "execution_count": null,
   "id": "8a2b7e74-74ff-498b-b366-7129d553db15",
   "metadata": {},
   "outputs": [],
   "source": [
    "# list operations\n",
    "first_four[0]"
   ]
  },
  {
   "cell_type": "code",
   "execution_count": 3,
   "id": "cb5f1493-1484-4b10-807d-05b5288811c8",
   "metadata": {},
   "outputs": [
    {
     "data": {
      "text/plain": [
       "(int, numpy.int64)"
      ]
     },
     "execution_count": 3,
     "metadata": {},
     "output_type": "execute_result"
    }
   ],
   "source": [
    "# note that the data types are different\n",
    "type(first_four.item(0)), type(first_four[0])"
   ]
  },
  {
   "cell_type": "code",
   "execution_count": null,
   "id": "229c2fdf-57e9-44e3-98a5-8b66e971a30c",
   "metadata": {},
   "outputs": [],
   "source": [
    "[n + 1 for n in first_four]"
   ]
  },
  {
   "cell_type": "code",
   "execution_count": null,
   "id": "03f76125-2878-4e32-8245-b2d26209a5cf",
   "metadata": {},
   "outputs": [],
   "source": [
    "len(first_four)"
   ]
  },
  {
   "cell_type": "markdown",
   "id": "81ba6e2d-5e43-4bb9-9ac6-a4a5b90fd6bf",
   "metadata": {},
   "source": [
    "`np.append(npArr, item)`\n",
    "\n",
    "is to append `item` to the end of `npArr`.\n",
    "\n",
    "_**This does not mutate `np.array` !!**_ You might want to do assignment."
   ]
  },
  {
   "cell_type": "markdown",
   "id": "0c55e5a7-a255-4ca8-8784-d66d2ae2aa37",
   "metadata": {},
   "source": [
    "`np.random.choice(npArr, n = 1)`\n",
    "\n",
    "The default 1 is to randomly return an item of `npArr`. Otherwise it returns an array of random choices at `n` times."
   ]
  },
  {
   "cell_type": "markdown",
   "id": "b5c8a8dd-215e-44d5-90fe-286ec3642034",
   "metadata": {},
   "source": [
    ">Arithmetic Operations: "
   ]
  },
  {
   "cell_type": "code",
   "execution_count": null,
   "id": "baf49e53-3afa-45bc-ada8-c4b3d39bb8cc",
   "metadata": {},
   "outputs": [],
   "source": [
    "next_four = make_array(5, 6, 7, 8)\n",
    "next_four"
   ]
  },
  {
   "cell_type": "code",
   "execution_count": null,
   "id": "2d6e69d1-46a6-4a31-ae4b-a9a9992cf998",
   "metadata": {},
   "outputs": [],
   "source": [
    "first_four + next_four"
   ]
  },
  {
   "cell_type": "code",
   "execution_count": null,
   "id": "90e0603d-daf3-4f47-9827-276e2676171d",
   "metadata": {},
   "outputs": [],
   "source": [
    "first_four * next_four"
   ]
  },
  {
   "cell_type": "code",
   "execution_count": null,
   "id": "518c5c9d-11ce-4e80-9bdb-8789f84fe87f",
   "metadata": {},
   "outputs": [],
   "source": [
    "first_four * 4"
   ]
  },
  {
   "cell_type": "code",
   "execution_count": null,
   "id": "2e3b2f4e-27b9-4687-bf18-7b983f42b601",
   "metadata": {},
   "outputs": [],
   "source": [
    "first_four + 4 == next_four"
   ]
  },
  {
   "cell_type": "raw",
   "id": "c6927386-6e39-4eb5-8f88-ceb0b9e3f033",
   "metadata": {},
   "source": [
    "'''\n",
    "this will error\n",
    "the length will have to match\n",
    "'''\n",
    "\n",
    "first_two = make_array(1, 2)\n",
    "first_two + first_four"
   ]
  },
  {
   "cell_type": "markdown",
   "id": "c34c46b2-c177-41a3-b19d-eb3ac90174a5",
   "metadata": {},
   "source": [
    "> Boolean operation\n",
    "\n",
    "`npArr = ...` gives an _array_ of `True`s and `False`s.\n",
    "\n",
    "Bools are actually 1 and 0 in python. For example, operation `np.sum(npArr == ...)` will return the number of how many items in `npArr` are `...`."
   ]
  },
  {
   "cell_type": "markdown",
   "id": "bc502e58-fd5b-46e1-9eff-e9d8680ecc50",
   "metadata": {},
   "source": [
    "# Visulizations:"
   ]
  },
  {
   "cell_type": "markdown",
   "id": "9d8e75ea-8463-441b-ba01-91bc90992001",
   "metadata": {},
   "source": [
    "Line Plot>>>\n",
    "\n",
    "    table.plot(column_for_x_axis, column(s)_for_y_axis = all_other_cols)\n"
   ]
  },
  {
   "cell_type": "markdown",
   "id": "524d2ae7-3a1e-47cc-8d41-030816feaa35",
   "metadata": {},
   "source": [
    "Bar Chart>>>\n",
    "\n",
    "    table.barh(column_name_of_categories, values = column_name_to_aggragate)"
   ]
  },
  {
   "cell_type": "markdown",
   "id": "25550d66-3dcd-49fa-a66e-24240959ed6a",
   "metadata": {},
   "source": [
    "Histogram>>>\n",
    "\n",
    "    table.hist(column_for_x_axis, unit = 'Unit', bins = random_equal_bins)"
   ]
  },
  {
   "cell_type": "markdown",
   "id": "9cf8c6a2-127b-4125-8255-93d039a4cfe3",
   "metadata": {},
   "source": [
    "\"bin\" is created using npArray"
   ]
  },
  {
   "cell_type": "markdown",
   "id": "5c0796dc-30a4-4bcc-8a90-cb31ce554617",
   "metadata": {},
   "source": [
    "Scatter Plot>>>\n",
    "\n",
    "    table.scatter(column_for_x_axis)"
   ]
  },
  {
   "cell_type": "markdown",
   "id": "759cfaa0-40d1-4c1e-a55f-d81052b72853",
   "metadata": {},
   "source": [
    "# Others:"
   ]
  },
  {
   "cell_type": "markdown",
   "id": "5d6477c1-818c-4365-913c-93c2c2e8bb6f",
   "metadata": {},
   "source": [
    "_ = interact(function_name, function_inputs_in_npArray)\n",
    "\n",
    "    creates an interactive mode of a function"
   ]
  },
  {
   "cell_type": "markdown",
   "id": "242391cc-0a75-4112-81a7-3c202f610865",
   "metadata": {},
   "source": [
    "type function_name? (adding the question mark) to see the docstring\n",
    "    \n",
    "    do the same by Shift + Tab after clicking on a name"
   ]
  }
 ],
 "metadata": {
  "kernelspec": {
   "display_name": "Python 3 (ipykernel)",
   "language": "python",
   "name": "python3"
  },
  "language_info": {
   "codemirror_mode": {
    "name": "ipython",
    "version": 3
   },
   "file_extension": ".py",
   "mimetype": "text/x-python",
   "name": "python",
   "nbconvert_exporter": "python",
   "pygments_lexer": "ipython3",
   "version": "3.11.4"
  }
 },
 "nbformat": 4,
 "nbformat_minor": 5
}
