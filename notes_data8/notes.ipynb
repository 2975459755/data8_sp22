{
 "cells": [
  {
   "cell_type": "markdown",
   "id": "4261a16c-8d30-464d-b602-54b59ec04023",
   "metadata": {},
   "source": [
    "environment setup:\n",
    "\n",
    "pip install:\n",
    "\n",
    "    notebook\n",
    "    otter-grader\n",
    "    datascience\n",
    "    scipy\n",
    "    pandas\n",
    "    matplotlib\n",
    "    ipywidgets\n",
    "\n",
    "    optional:\n",
    "\n",
    "        jupyterlab\n",
    "install:\n",
    "\n",
    "    OpenSSL 1.1.1 or higher"
   ]
  },
  {
   "cell_type": "raw",
   "id": "f52a274e-6402-43c1-8e48-0e45b959da10",
   "metadata": {},
   "source": [
    "plot\n",
    "scatter\n",
    "barh\n",
    ".group\n",
    "bin\n",
    ".bin"
   ]
  },
  {
   "cell_type": "code",
   "execution_count": 2,
   "id": "b2c4f930-c89e-4a9b-8369-5310432b2507",
   "metadata": {},
   "outputs": [],
   "source": [
    "from datascience import *\n",
    "from math import *\n",
    "import numpy as np\n",
    "\n",
    "import d8error"
   ]
  },
  {
   "cell_type": "markdown",
   "id": "ccbcc230-02a5-4b1e-b1d2-00331360f625",
   "metadata": {},
   "source": [
    "## Tables: "
   ]
  },
  {
   "cell_type": "markdown",
   "id": "c796fa21-eaea-405b-ab18-5d7c58c29939",
   "metadata": {},
   "source": [
    ">Table Operations:"
   ]
  },
  {
   "cell_type": "markdown",
   "id": "49aa4045-5314-429c-bd2d-72b5b74fd187",
   "metadata": {},
   "source": [
    "<1> table.show(n)\n",
    "\n",
    "    shows the first n rows of table\n",
    "    !!not creating or mutating any table"
   ]
  },
  {
   "cell_type": "markdown",
   "id": "5d53c843-59c1-48a3-a06f-0c32949ef14c",
   "metadata": {},
   "source": [
    ">>Create new tables out of existing tables:"
   ]
  },
  {
   "cell_type": "markdown",
   "id": "4b32134f-faa8-49ef-a511-60fdde44e972",
   "metadata": {},
   "source": [
    "<2> table.select(columns)\n",
    "\n",
    "    returns a new table out of selected columns\n",
    "    order of columns of the new table is manageable\n",
    "    columns could be either column labels or column indices"
   ]
  },
  {
   "cell_type": "markdown",
   "id": "847affe4-91ae-4d8a-afd9-ba93d3b7e711",
   "metadata": {},
   "source": [
    "<3> table.drop(columns)\n",
    "\n",
    "    inverse version of .select(\n",
    "    creates a new table without selected columns"
   ]
  },
  {
   "cell_type": "markdown",
   "id": "c861f5a7-2521-4c32-8126-cbde52f11235",
   "metadata": {},
   "source": [
    "<4> table.where(column, condition)\n",
    "\n",
    "    returns a new table with rows meeting the condition\n",
    "    example: cones.where('Flavor', 'chocolate')\n",
    "\n",
    "    condition can be a function!\n",
    "    example: imdb.where('Year', lambda x: x > 2000)"
   ]
  },
  {
   "cell_type": "markdown",
   "id": "f0110ec7-20e4-4c54-9fc4-aedf5dc261a4",
   "metadata": {},
   "source": [
    "some of the CONDITIOINS:\n",
    "\n",
    "|Predicate|Example|Result|\n",
    "|-|-|-|\n",
    "|`are.equal_to`|`are.equal_to(50)`|Find rows with values equal to 50|\n",
    "|`are.not_equal_to`|`are.not_equal_to(50)`|Find rows with values not equal to 50|\n",
    "|`are.above`|`are.above(50)`|Find rows with values above (and not equal to) 50|\n",
    "|`are.above_or_equal_to`|`are.above_or_equal_to(50)`|Find rows with values above 50 or equal to 50|\n",
    "|`are.below`|`are.below(50)`|Find rows with values below 50|\n",
    "|`are.between`|`are.between(2, 10)`|Find rows with values above or equal to 2 and below 10|\n",
    "|`are.between_or_equal_to`|`are.between_or_equal_to(2, 10)`|Find rows with values above or equal to 2 and below or equal to 10|"
   ]
  },
  {
   "cell_type": "markdown",
   "id": "12cab4a0-cde0-46ba-8c4e-4cc54ef131f9",
   "metadata": {},
   "source": [
    "<5> table.sort(column, (descending = True/False))\n",
    "\n",
    "    returns a new table with order\n",
    "    descending is optional"
   ]
  },
  {
   "cell_type": "markdown",
   "id": "9eed8f1f-8e92-4675-97ee-78dcf8eda18e",
   "metadata": {},
   "source": [
    "<6> table.take(row_indices)\n",
    "\n",
    "    returns a new table containing selected rows\n",
    "    example: table.take(0, 3, 1)\n",
    "    \n",
    "    also: \n",
    "    table.take(np.arange(...))"
   ]
  },
  {
   "cell_type": "markdown",
   "id": "57eb6d3f-4847-49ab-b9d7-9fb8d03ee7d9",
   "metadata": {},
   "source": [
    "<7> table.column(column)\n",
    "\n",
    "    returns an array of selected column\n",
    "    args could be either column label or index"
   ]
  },
  {
   "cell_type": "markdown",
   "id": "0f65fbcd-b1b9-46b3-8d4d-39df7f6bb909",
   "metadata": {},
   "source": [
    "<8> table.relabeled(column, new_label)\n",
    "\n",
    "    returns a new table with column label changed"
   ]
  },
  {
   "cell_type": "markdown",
   "id": "52bf3cae-bcbb-4559-8a55-b0832211af63",
   "metadata": {},
   "source": [
    ">Table Properties:"
   ]
  },
  {
   "cell_type": "markdown",
   "id": "2d5529e2-9be5-43c9-af0e-c14db928436d",
   "metadata": {},
   "source": [
    "<1> table.num_rows\n",
    "    \n",
    "    And:\n",
    "    \n",
    "    table.num_columns"
   ]
  },
  {
   "cell_type": "markdown",
   "id": "31fc22bb-bd8e-494b-8c42-2fa806cd8230",
   "metadata": {},
   "source": [
    "<2> table.labels\n",
    "\n",
    "    returns a list containing all labels of the columns"
   ]
  },
  {
   "cell_type": "markdown",
   "id": "df1084c3-e06d-422b-8d9a-e30264bd7fea",
   "metadata": {},
   "source": [
    ">Create A Table From Scratch:"
   ]
  },
  {
   "cell_type": "markdown",
   "id": "62ab8c92-d3d4-45e9-8c28-7a4b21948faf",
   "metadata": {},
   "source": [
    "<1> Table.read_table('path')"
   ]
  },
  {
   "cell_type": "markdown",
   "id": "95e41316-2018-479e-89f6-fa7858fd166e",
   "metadata": {},
   "source": [
    "<2> with_column and with_columns methods"
   ]
  },
  {
   "cell_type": "code",
   "execution_count": 15,
   "id": "bec3e63b-b842-48a9-af34-ed83c18b47bc",
   "metadata": {},
   "outputs": [],
   "source": [
    "t = Table()"
   ]
  },
  {
   "cell_type": "code",
   "execution_count": 16,
   "id": "439c8ec3-60fd-484b-8de2-9812776a74a4",
   "metadata": {},
   "outputs": [
    {
     "data": {
      "text/html": [
       "<table border=\"1\" class=\"dataframe\">\n",
       "    <thead>\n",
       "        <tr>\n",
       "            <th>Street name</th>\n",
       "        </tr>\n",
       "    </thead>\n",
       "    <tbody>\n",
       "        <tr>\n",
       "            <td>Bancroft   </td>\n",
       "        </tr>\n",
       "        <tr>\n",
       "            <td>Durant     </td>\n",
       "        </tr>\n",
       "        <tr>\n",
       "            <td>Channing   </td>\n",
       "        </tr>\n",
       "        <tr>\n",
       "            <td>Haste      </td>\n",
       "        </tr>\n",
       "    </tbody>\n",
       "</table>"
      ],
      "text/plain": [
       "Street name\n",
       "Bancroft\n",
       "Durant\n",
       "Channing\n",
       "Haste"
      ]
     },
     "execution_count": 16,
     "metadata": {},
     "output_type": "execute_result"
    }
   ],
   "source": [
    "streets = make_array('Bancroft', 'Durant', 'Channing', 'Haste')\n",
    "southside = t.with_column('Street name', streets)\n",
    "southside"
   ]
  },
  {
   "cell_type": "code",
   "execution_count": null,
   "id": "42dfa530-3b44-4958-8123-405c5d0c5c56",
   "metadata": {},
   "outputs": [],
   "source": [
    "# with_column doesn't mutate the table\n",
    "t"
   ]
  },
  {
   "cell_type": "code",
   "execution_count": null,
   "id": "5e0f33a6-f8e0-4a8d-aca4-36d6c33d3672",
   "metadata": {},
   "outputs": [],
   "source": [
    "southside.with_column('City', 'Berkeley')"
   ]
  },
  {
   "cell_type": "raw",
   "id": "2fc6bb05-b67e-4163-b96e-5e58cf5291fb",
   "metadata": {},
   "source": [
    "'''\n",
    "however this will error; \n",
    "lengths will have to match\n",
    "'''\n",
    "\n",
    "southside = t.with_columns(\n",
    "    'Street name', 'streets',\n",
    "    'Blocks from campus', np.arange(4)\n",
    ")\n",
    "southside"
   ]
  },
  {
   "cell_type": "code",
   "execution_count": null,
   "id": "69f2f42a-18c6-4173-8d14-7f3d7fb81ce5",
   "metadata": {},
   "outputs": [],
   "source": [
    "t.with_columns(\n",
    "    'Street name', streets,\n",
    "    'Blocks from campus', np.arange(4),\n",
    "    'Time to get there', np.arange(1, 8, 2)\n",
    "    )"
   ]
  },
  {
   "cell_type": "markdown",
   "id": "923cff87-b140-41dc-b1b6-a21d5135765d",
   "metadata": {},
   "source": [
    "## Numpy Arrays:"
   ]
  },
  {
   "cell_type": "markdown",
   "id": "44408e1b-0461-4fc3-a79a-424399f3739b",
   "metadata": {},
   "source": [
    "an array is a list of values of the same type"
   ]
  },
  {
   "cell_type": "code",
   "execution_count": 4,
   "id": "06b27392-1f5d-4661-bf6a-7237feba015f",
   "metadata": {},
   "outputs": [
    {
     "data": {
      "text/plain": [
       "array([1, 2, 3, 4], dtype=int64)"
      ]
     },
     "execution_count": 4,
     "metadata": {},
     "output_type": "execute_result"
    }
   ],
   "source": [
    "# make an array:\n",
    "first_four = make_array(1, 2, 3, 4)\n",
    "first_four"
   ]
  },
  {
   "cell_type": "code",
   "execution_count": null,
   "id": "56cfdb7f-b32e-4004-919f-684c8109898a",
   "metadata": {},
   "outputs": [],
   "source": [
    "type(first_four)"
   ]
  },
  {
   "cell_type": "markdown",
   "id": "694c4bc0-e8b7-4e3f-a7d5-dacdaac92859",
   "metadata": {},
   "source": [
    "make an array using RANGES:\n",
    "\n",
    "np.arange((start), end, (step))"
   ]
  },
  {
   "cell_type": "code",
   "execution_count": null,
   "id": "17b3bc5a-7be4-4f7c-899b-cc758d72fd2e",
   "metadata": {},
   "outputs": [],
   "source": [
    "np.arange(6)"
   ]
  },
  {
   "cell_type": "code",
   "execution_count": null,
   "id": "d1622215-2829-416d-b615-839c8627ad14",
   "metadata": {},
   "outputs": [],
   "source": [
    "np.arange(1, 11, 2)"
   ]
  },
  {
   "cell_type": "code",
   "execution_count": null,
   "id": "c0d24c4a-84b7-44d5-a3ae-c3bd1cc36c67",
   "metadata": {},
   "outputs": [],
   "source": [
    "np.arange(0, 1, 0.1)"
   ]
  },
  {
   "cell_type": "markdown",
   "id": "1e9d1858-de7c-4684-9351-ce339ef900dc",
   "metadata": {},
   "source": [
    "## Array Operations: "
   ]
  },
  {
   "cell_type": "code",
   "execution_count": 5,
   "id": "c1b68902-b71b-4199-9178-eefd25e49555",
   "metadata": {},
   "outputs": [
    {
     "data": {
      "text/plain": [
       "2.5"
      ]
     },
     "execution_count": 5,
     "metadata": {},
     "output_type": "execute_result"
    }
   ],
   "source": [
    "np.average(first_four)"
   ]
  },
  {
   "cell_type": "code",
   "execution_count": 6,
   "id": "ffd26838-4496-40dc-8e7e-eeefacb0e712",
   "metadata": {},
   "outputs": [
    {
     "data": {
      "text/plain": [
       "10"
      ]
     },
     "execution_count": 6,
     "metadata": {},
     "output_type": "execute_result"
    }
   ],
   "source": [
    "np.sum(first_four)"
   ]
  },
  {
   "cell_type": "code",
   "execution_count": 8,
   "id": "093b903e-d3e4-4cc3-b769-ad5f918d3b34",
   "metadata": {},
   "outputs": [
    {
     "data": {
      "text/plain": [
       "10"
      ]
     },
     "execution_count": 8,
     "metadata": {},
     "output_type": "execute_result"
    }
   ],
   "source": [
    "# builtin fuctions works in many times\n",
    "sum(first_four)"
   ]
  },
  {
   "cell_type": "code",
   "execution_count": 9,
   "id": "0919f590-996d-425a-b4be-08282acbdce0",
   "metadata": {},
   "outputs": [
    {
     "data": {
      "text/plain": [
       "1"
      ]
     },
     "execution_count": 9,
     "metadata": {},
     "output_type": "execute_result"
    }
   ],
   "source": [
    "first_four.item(0)"
   ]
  },
  {
   "cell_type": "code",
   "execution_count": 11,
   "id": "8a2b7e74-74ff-498b-b366-7129d553db15",
   "metadata": {},
   "outputs": [
    {
     "data": {
      "text/plain": [
       "1"
      ]
     },
     "execution_count": 11,
     "metadata": {},
     "output_type": "execute_result"
    }
   ],
   "source": [
    "# list operations\n",
    "first_four[0]"
   ]
  },
  {
   "cell_type": "code",
   "execution_count": 23,
   "id": "cb5f1493-1484-4b10-807d-05b5288811c8",
   "metadata": {},
   "outputs": [
    {
     "data": {
      "text/plain": [
       "(int, numpy.int64)"
      ]
     },
     "execution_count": 23,
     "metadata": {},
     "output_type": "execute_result"
    }
   ],
   "source": [
    "# note that the data types are different\n",
    "(type(first_four.item(0)), type(first_four[0]))"
   ]
  },
  {
   "cell_type": "code",
   "execution_count": 13,
   "id": "229c2fdf-57e9-44e3-98a5-8b66e971a30c",
   "metadata": {},
   "outputs": [
    {
     "data": {
      "text/plain": [
       "[2, 3, 4, 5]"
      ]
     },
     "execution_count": 13,
     "metadata": {},
     "output_type": "execute_result"
    }
   ],
   "source": [
    "[n + 1 for n in first_four]"
   ]
  },
  {
   "cell_type": "code",
   "execution_count": null,
   "id": "03f76125-2878-4e32-8245-b2d26209a5cf",
   "metadata": {},
   "outputs": [],
   "source": [
    "len(first_four)"
   ]
  },
  {
   "cell_type": "markdown",
   "id": "b5c8a8dd-215e-44d5-90fe-286ec3642034",
   "metadata": {},
   "source": [
    ">Arithmetic Operations: "
   ]
  },
  {
   "cell_type": "code",
   "execution_count": null,
   "id": "baf49e53-3afa-45bc-ada8-c4b3d39bb8cc",
   "metadata": {},
   "outputs": [],
   "source": [
    "next_four = make_array(5, 6, 7, 8)\n",
    "next_four"
   ]
  },
  {
   "cell_type": "code",
   "execution_count": null,
   "id": "2d6e69d1-46a6-4a31-ae4b-a9a9992cf998",
   "metadata": {},
   "outputs": [],
   "source": [
    "first_four + next_four"
   ]
  },
  {
   "cell_type": "code",
   "execution_count": null,
   "id": "90e0603d-daf3-4f47-9827-276e2676171d",
   "metadata": {},
   "outputs": [],
   "source": [
    "first_four * next_four"
   ]
  },
  {
   "cell_type": "code",
   "execution_count": null,
   "id": "518c5c9d-11ce-4e80-9bdb-8789f84fe87f",
   "metadata": {},
   "outputs": [],
   "source": [
    "first_four * 4"
   ]
  },
  {
   "cell_type": "code",
   "execution_count": null,
   "id": "2e3b2f4e-27b9-4687-bf18-7b983f42b601",
   "metadata": {},
   "outputs": [],
   "source": [
    "first_four + 4 == next_four"
   ]
  },
  {
   "cell_type": "raw",
   "id": "53325235-5ba7-4a0d-9007-de27ee8b9d3d",
   "metadata": {},
   "source": [
    "'''\n",
    "this will error\n",
    "the length will have to match\n",
    "'''\n",
    "\n",
    "first_two = make_array(1, 2)\n",
    "first_two + first_four"
   ]
  },
  {
   "cell_type": "code",
   "execution_count": null,
   "id": "77c00536-ac45-4384-b420-a0e099db52ec",
   "metadata": {},
   "outputs": [],
   "source": []
  }
 ],
 "metadata": {
  "kernelspec": {
   "display_name": "Python 3 (ipykernel)",
   "language": "python",
   "name": "python3"
  },
  "language_info": {
   "codemirror_mode": {
    "name": "ipython",
    "version": 3
   },
   "file_extension": ".py",
   "mimetype": "text/x-python",
   "name": "python",
   "nbconvert_exporter": "python",
   "pygments_lexer": "ipython3",
   "version": "3.11.4"
  }
 },
 "nbformat": 4,
 "nbformat_minor": 5
}
