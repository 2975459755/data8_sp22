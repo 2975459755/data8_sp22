{
 "cells": [
  {
   "cell_type": "code",
   "execution_count": 1,
   "id": "575ae229",
   "metadata": {
    "deletable": false,
    "editable": false
   },
   "outputs": [],
   "source": [
    "# Initialize Otter\n",
    "import otter\n",
    "grader = otter.Notebook(\"lab04.ipynb\")"
   ]
  },
  {
   "cell_type": "markdown",
   "id": "f5907e3f",
   "metadata": {},
   "source": [
    "# Lab 4: Functions and Visualizations"
   ]
  },
  {
   "cell_type": "markdown",
   "id": "a4592a67",
   "metadata": {},
   "source": [
    "Welcome to Lab 4! This week, we'll learn about functions, table methods such as `apply`, and how to generate visualizations! \n",
    "\n",
    "Recommended Reading:\n",
    "\n",
    "* [Applying a Function to a Column](https://inferentialthinking.com/chapters/08/1/Applying_a_Function_to_a_Column.html)\n",
    "* [Visualizations](https://inferentialthinking.com/chapters/07/Visualization.html)\n",
    "* [Python Reference](http://data8.org/sp22/python-reference.html)\n",
    "\n",
    "**Submission**: Once you’re finished, run all cells besides the last one, select File > Save Notebook, and then execute the final cell. Then submit the downloaded zip file, that includes your notebook,  according to your instructor's directions."
   ]
  },
  {
   "cell_type": "markdown",
   "id": "b72fd237",
   "metadata": {},
   "source": [
    "First, set up the notebook by running the cell below."
   ]
  },
  {
   "cell_type": "code",
   "execution_count": 2,
   "id": "63d80307",
   "metadata": {},
   "outputs": [],
   "source": [
    "import numpy as np\n",
    "from datascience import *\n",
    "\n",
    "# These lines set up graphing capabilities.\n",
    "import matplotlib\n",
    "%matplotlib inline\n",
    "import matplotlib.pyplot as plt\n",
    "plt.style.use('fivethirtyeight')\n",
    "import warnings\n",
    "warnings.simplefilter('ignore', FutureWarning)\n",
    "\n",
    "from ipywidgets import interact, interactive, fixed, interact_manual\n",
    "import ipywidgets as widgets\n",
    "\n",
    "import d8error"
   ]
  },
  {
   "cell_type": "markdown",
   "id": "6713909d",
   "metadata": {},
   "source": [
    "## 1. Defining functions\n",
    "\n",
    "Let's write a very simple function that converts a proportion to a percentage by multiplying it by 100.  For example, the value of `to_percentage(.5)` should be the number 50 (no percent sign).\n",
    "\n",
    "A function definition has a few parts."
   ]
  },
  {
   "cell_type": "markdown",
   "id": "6b23a6e0",
   "metadata": {},
   "source": [
    "##### `def`\n",
    "It always starts with `def` (short for **def**ine):\n",
    "\n",
    "    def"
   ]
  },
  {
   "cell_type": "markdown",
   "id": "1dfe70c3",
   "metadata": {},
   "source": [
    "##### Name\n",
    "Next comes the name of the function.  Like other names we've defined, it can't start with a number or contain spaces. Let's call our function `to_percentage`:\n",
    "    \n",
    "    def to_percentage"
   ]
  },
  {
   "cell_type": "markdown",
   "id": "0398da6c",
   "metadata": {},
   "source": [
    "##### Signature\n",
    "Next comes something called the *signature* of the function.  This tells Python how many arguments your function should have, and what names you'll use to refer to those arguments in the function's code.  A function can have any number of arguments (including 0!). \n",
    "\n",
    "`to_percentage` should take one argument, and we'll call that argument `proportion` since it should be a proportion.\n",
    "\n",
    "    def to_percentage(proportion)\n",
    "    \n",
    "If we want our function to take more than one argument, we add a comma between each argument name. Note that if we had zero arguments, we'd still place the parentheses () after that name. \n",
    "\n",
    "We put a **colon** after the signature to tell Python that the next indented lines are the body of the function. If you're getting a syntax error after defining a function, check to make sure you remembered the colon!\n",
    "\n",
    "    def to_percentage(proportion):"
   ]
  },
  {
   "cell_type": "markdown",
   "id": "60ff4284",
   "metadata": {},
   "source": [
    "##### Documentation\n",
    "Functions can do complicated things, so you should write an explanation of what your function does.  For small functions, this is less important, but it's a good habit to learn from the start.  Conventionally, Python functions are documented by writing an **indented** triple-quoted string:\n",
    "\n",
    "    def to_percentage(proportion):\n",
    "        \"\"\"Converts a proportion to a percentage.\"\"\""
   ]
  },
  {
   "cell_type": "markdown",
   "id": "825b12e1",
   "metadata": {},
   "source": [
    "##### Body\n",
    "Now we start writing code that runs when the function is called.  This is called the *body* of the function and every line **must be indented with a tab**.  Any lines that are *not* indented and left-aligned with the def statement is considered outside the function. \n",
    "\n",
    "Some notes about the body of the function:\n",
    "- We can write code that we would write anywhere else.  \n",
    "- We use the arguments defined in the function signature. We can do this because we assume that when we call the function, values are already assigned to those arguments.\n",
    "- We generally avoid referencing variables defined *outside* the function. If you would like to reference variables outside of the function, pass them through as arguments!\n",
    "\n",
    "\n",
    "Now, let's give a name to the number we multiply a proportion by to get a percentage:\n",
    "\n",
    "    def to_percentage(proportion):\n",
    "        \"\"\"Converts a proportion to a percentage.\"\"\"\n",
    "        factor = 100"
   ]
  },
  {
   "cell_type": "markdown",
   "id": "ca9e2da4",
   "metadata": {},
   "source": [
    "##### `return`\n",
    "The special instruction `return` is part of the function's body and tells Python to make the value of the function call equal to whatever comes right after `return`.  We want the value of `to_percentage(.5)` to be the proportion .5 times the factor 100, so we write:\n",
    "\n",
    "    def to_percentage(proportion):\n",
    "        \"\"\"Converts a proportion to a percentage.\"\"\"\n",
    "        factor = 100\n",
    "        return proportion * factor\n",
    "        \n",
    "`return` only makes sense in the context of a function, and **can never be used outside of a function**. `return` is always the last line of the function because Python stops executing the body of a function once it hits a `return` statement. If a function does not have a return statement, it will not return anything; if you expect a value back from the function, make sure to include a return statement. \n",
    "\n",
    "*Note:*  `return` inside a function tells Python what value the function evaluates to. However, there are other functions, like `print`, that have no `return` value. For example, `print` simply prints a certain value out to the console. \n",
    "\n",
    "In short, `return` is used when you want to tell the *computer* what the value of some variable is, while `print` is used to tell you, a *human*, its value."
   ]
  },
  {
   "cell_type": "markdown",
   "id": "dd3f0348",
   "metadata": {},
   "source": [
    "**Question 1.1.** Define `to_percentage` in the cell below.  Call your function to convert the proportion .2 to a percentage.  Name that percentage `twenty_percent`.\n"
   ]
  },
  {
   "cell_type": "code",
   "execution_count": 4,
   "id": "f5ecfd69",
   "metadata": {
    "tags": []
   },
   "outputs": [
    {
     "data": {
      "text/plain": [
       "20.0"
      ]
     },
     "execution_count": 4,
     "metadata": {},
     "output_type": "execute_result"
    }
   ],
   "source": [
    "def to_percentage(x):\n",
    "    return x * 100\n",
    "\n",
    "twenty_percent = to_percentage(.2)\n",
    "twenty_percent"
   ]
  },
  {
   "cell_type": "code",
   "execution_count": 5,
   "id": "c9371e65",
   "metadata": {
    "deletable": false,
    "editable": false
   },
   "outputs": [
    {
     "data": {
      "text/html": [
       "<p><strong><pre style='display: inline;'>q11</pre></strong> passed! 🌟</p>"
      ],
      "text/plain": [
       "q11 results: All test cases passed!"
      ]
     },
     "execution_count": 5,
     "metadata": {},
     "output_type": "execute_result"
    }
   ],
   "source": [
    "grader.check(\"q11\")"
   ]
  },
  {
   "cell_type": "markdown",
   "id": "9e272d14",
   "metadata": {},
   "source": [
    "Here's something important about functions: the names assigned *within* a function body are only accessible within the function body. Once the function has returned, those names are gone.  So even if you created a variable called `factor` and defined `factor = 100` inside of the body of the `to_percentage` function and then called `to_percentage`, `factor` would not have a value assigned to it outside of the body of `to_percentage`:\n",
    "\n",
    "**Note**: Below, you should see an error message starting with \"Uh-o\", along with the official error from Python under it. The first message that you see is specifically from Data 8 Staff to provide extra debugging help. It will not appear if you run into Python errors outside of Data 8."
   ]
  },
  {
   "cell_type": "code",
   "execution_count": 6,
   "id": "586d1254",
   "metadata": {
    "deletable": false,
    "tags": [
     "raises-exception"
    ]
   },
   "outputs": [
    {
     "data": {
      "text/markdown": [
       "## **Uh-o it seems we have an error!**"
      ],
      "text/plain": [
       "<IPython.core.display.Markdown object>"
      ]
     },
     "metadata": {},
     "output_type": "display_data"
    },
    {
     "data": {
      "text/markdown": [
       "It seems we have a NameError. NameErrors are usually because of:"
      ],
      "text/plain": [
       "<IPython.core.display.Markdown object>"
      ]
     },
     "metadata": {},
     "output_type": "display_data"
    },
    {
     "data": {
      "text/markdown": [
       "1. Misspelling a variable, function, or method name "
      ],
      "text/plain": [
       "<IPython.core.display.Markdown object>"
      ]
     },
     "metadata": {},
     "output_type": "display_data"
    },
    {
     "data": {
      "text/markdown": [
       "2. Not importing required libraries, i.e not running the cell with `import numpy as np`"
      ],
      "text/plain": [
       "<IPython.core.display.Markdown object>"
      ]
     },
     "metadata": {},
     "output_type": "display_data"
    },
    {
     "data": {
      "text/markdown": [
       "3. Kernel died. You might need to re-run cells to redefine variables"
      ],
      "text/plain": [
       "<IPython.core.display.Markdown object>"
      ]
     },
     "metadata": {},
     "output_type": "display_data"
    },
    {
     "data": {
      "text/markdown": [
       "The Data 8 Reference might be helpful to look over for examples and usage: [Data 8 Reference](http://data8.org/sp22/python-reference.html)"
      ],
      "text/plain": [
       "<IPython.core.display.Markdown object>"
      ]
     },
     "metadata": {},
     "output_type": "display_data"
    },
    {
     "data": {
      "text/markdown": [
       "If you are having more trouble please feel free to consult a staff member                         \n",
       " or see the error message below "
      ],
      "text/plain": [
       "<IPython.core.display.Markdown object>"
      ]
     },
     "metadata": {},
     "output_type": "display_data"
    },
    {
     "data": {
      "application/vnd.jupyter.widget-view+json": {
       "model_id": "f23365d23e394ac0ac82dd3e0fac2eb5",
       "version_major": 2,
       "version_minor": 0
      },
      "text/plain": [
       "Accordion(children=(VBox(children=(VBox(children=(Label(value='Was the message you saw useful?'), Dropdown(opt…"
      ]
     },
     "metadata": {},
     "output_type": "display_data"
    },
    {
     "ename": "NameError",
     "evalue": "name 'factor' is not defined",
     "output_type": "error",
     "traceback": [
      "\u001b[1;31m---------------------------------------------------------------------------\u001b[0m",
      "\u001b[1;31mNameError\u001b[0m                                 Traceback (most recent call last)",
      "Cell \u001b[1;32mIn[6], line 3\u001b[0m\n\u001b[0;32m      1\u001b[0m \u001b[38;5;66;03m# You should get an error when you run this.  (If you don't, \u001b[39;00m\n\u001b[0;32m      2\u001b[0m \u001b[38;5;66;03m# you might have defined factor somewhere above.)\u001b[39;00m\n\u001b[1;32m----> 3\u001b[0m \u001b[43mfactor\u001b[49m\n",
      "\u001b[1;31mNameError\u001b[0m: name 'factor' is not defined"
     ]
    }
   ],
   "source": [
    "# You should get an error when you run this.  (If you don't, \n",
    "# you might have defined factor somewhere above.)\n",
    "factor"
   ]
  },
  {
   "cell_type": "markdown",
   "id": "745bfb02",
   "metadata": {},
   "source": [
    "Like you’ve done with built-in functions in previous labs (max, abs, etc.), you can pass in named values as arguments to your function.\n",
    "\n",
    "**Question 1.2.** Use `to_percentage` again to convert the proportion named `a_proportion` (defined below) to a percentage called `a_percentage`.\n",
    "\n",
    "*Note:* You don't need to define `to_percentage` again!  Like other named values, functions stick around after you define them.\n"
   ]
  },
  {
   "cell_type": "code",
   "execution_count": 9,
   "id": "9269ed58",
   "metadata": {
    "tags": []
   },
   "outputs": [
    {
     "data": {
      "text/plain": [
       "70.71067811865476"
      ]
     },
     "execution_count": 9,
     "metadata": {},
     "output_type": "execute_result"
    }
   ],
   "source": [
    "a_proportion = 2**(0.5) / 2\n",
    "a_percentage = to_percentage(a_proportion)\n",
    "a_percentage"
   ]
  },
  {
   "cell_type": "code",
   "execution_count": 10,
   "id": "74667fb1",
   "metadata": {},
   "outputs": [
    {
     "data": {
      "text/plain": [
       "True"
      ]
     },
     "execution_count": 10,
     "metadata": {},
     "output_type": "execute_result"
    }
   ],
   "source": [
    "np.isclose(a_percentage, 70.71067811865476)"
   ]
  },
  {
   "cell_type": "markdown",
   "id": "aa6b736f",
   "metadata": {},
   "source": [
    "As we've seen with built-in functions, functions can also take strings (or arrays, or tables) as arguments, and they can return those things, too.\n",
    "\n",
    "In the following cell, we will define a function called `disemvowel`.  It takes in a single string as its argument. It returns a copy of that string, but with all the characters that are vowels removed.  (In English, the vowels are the characters \"a\", \"e\", \"i\", \"o\", and \"u\".) \n",
    "\n",
    "To remove all the \"a\"s from a string, we used `a_string.replace(\"a\", \"\")`.  The `.replace` method for strings returns a new string, so we can call `replace` multiple times, one after the other. "
   ]
  },
  {
   "cell_type": "code",
   "execution_count": 11,
   "id": "3296a78f",
   "metadata": {},
   "outputs": [
    {
     "data": {
      "text/plain": [
       "'Cn y rd ths wtht vwls?'"
      ]
     },
     "execution_count": 11,
     "metadata": {},
     "output_type": "execute_result"
    }
   ],
   "source": [
    "def disemvowel(a_string):\n",
    "    \"\"\"Removes all vowels from a string.\"\"\"\n",
    "    return a_string.replace(\"a\", \"\").replace(\"e\", \"\").replace(\"i\", \"\").replace(\"o\", \"\").replace(\"u\", \"\")\n",
    "\n",
    "# An example call to the function.  (It's often helpful to run\n",
    "# an example call from time to time while we're writing a function,\n",
    "# to see how it currently works.)\n",
    "disemvowel(\"Can you read this without vowels?\")"
   ]
  },
  {
   "cell_type": "markdown",
   "id": "daf66f9b",
   "metadata": {},
   "source": [
    "##### Calls on calls on calls\n",
    "Just as you write a series of lines to build up a complex computation, it's useful to define a series of small functions that build on each other.  Since you can write any code inside a function's body, you can call other functions you've written.\n",
    "\n",
    "If a function is a like a recipe, defining a function in terms of other functions is like having a recipe for cake telling you to follow another recipe to make the frosting, and another to make the jam filling.  This makes the cake recipe shorter and clearer, and it avoids having a bunch of duplicated frosting recipes.  It's a foundation of productive programming.\n",
    "\n",
    "For example, suppose you want to count the number of characters *that aren't vowels* in a piece of text.  One way to do that is this to remove all the vowels and count the size of the remaining string.\n",
    "\n",
    "**Question 1.3.** Write a function called `num_non_vowels`.  It should take a string as its argument and return a number.  That number should be the number of characters in the argument string that aren't vowels. You should use the `disemvowel` function we provided above inside of the `num_non_vowels` function.\n",
    "\n",
    "*Hint:* The function `len` takes a string as its argument and returns the number of characters in it.\n"
   ]
  },
  {
   "cell_type": "code",
   "execution_count": 18,
   "id": "403de4f9",
   "metadata": {
    "tags": []
   },
   "outputs": [],
   "source": [
    "def num_non_vowels(a_string):\n",
    "    \"\"\"The number of characters in a string, minus the vowels.\"\"\"\n",
    "    vowels = ['a', 'e', 'i', 'o', 'u']\n",
    "    if a_string == '':\n",
    "        return 0\n",
    "    elif a_string[0] in vowels:\n",
    "        return num_non_vowels(a_string[1:])\n",
    "    else:\n",
    "        return 1 + num_non_vowels(a_string[1:])\n",
    "\n",
    "# Try calling your function yourself to make sure the output is what\n",
    "# you expect. "
   ]
  },
  {
   "cell_type": "code",
   "execution_count": 19,
   "id": "5be41887",
   "metadata": {
    "deletable": false,
    "editable": false
   },
   "outputs": [
    {
     "data": {
      "text/html": [
       "<p><strong><pre style='display: inline;'>q13</pre></strong> passed! 🌈</p>"
      ],
      "text/plain": [
       "q13 results: All test cases passed!"
      ]
     },
     "execution_count": 19,
     "metadata": {},
     "output_type": "execute_result"
    }
   ],
   "source": [
    "grader.check(\"q13\")"
   ]
  },
  {
   "cell_type": "markdown",
   "id": "429824ed",
   "metadata": {},
   "source": [
    "Functions can also encapsulate code that *displays output* instead of computing a value. For example, if you call `print` inside a function, and then call that function, something will get printed.\n",
    "\n",
    "The `movies_by_year` dataset in the textbook has information about movie sales in recent years.  Suppose you'd like to display the year with the 5th-highest total gross movie sales, printed within a sentence.  You might do this:"
   ]
  },
  {
   "cell_type": "code",
   "execution_count": 21,
   "id": "c27c971b",
   "metadata": {},
   "outputs": [
    {
     "name": "stdout",
     "output_type": "stream",
     "text": [
      "Year number 5 for total gross movie sales was: 2010\n"
     ]
    },
    {
     "data": {
      "text/html": [
       "<table border=\"1\" class=\"dataframe\">\n",
       "    <thead>\n",
       "        <tr>\n",
       "            <th>Year</th> <th>Total Gross</th> <th>Number of Movies</th> <th>#1 Movie</th>\n",
       "        </tr>\n",
       "    </thead>\n",
       "    <tbody>\n",
       "        <tr>\n",
       "            <td>2015</td> <td>11128.5    </td> <td>702             </td> <td>Star Wars: The Force Awakens       </td>\n",
       "        </tr>\n",
       "        <tr>\n",
       "            <td>2014</td> <td>10360.8    </td> <td>702             </td> <td>American Sniper                    </td>\n",
       "        </tr>\n",
       "        <tr>\n",
       "            <td>2013</td> <td>10923.6    </td> <td>688             </td> <td>Catching Fire                      </td>\n",
       "        </tr>\n",
       "        <tr>\n",
       "            <td>2012</td> <td>10837.4    </td> <td>667             </td> <td>The Avengers                       </td>\n",
       "        </tr>\n",
       "        <tr>\n",
       "            <td>2011</td> <td>10174.3    </td> <td>602             </td> <td>Harry Potter / Deathly Hallows (P2)</td>\n",
       "        </tr>\n",
       "        <tr>\n",
       "            <td>2010</td> <td>10565.6    </td> <td>536             </td> <td>Toy Story 3                        </td>\n",
       "        </tr>\n",
       "        <tr>\n",
       "            <td>2009</td> <td>10595.5    </td> <td>521             </td> <td>Avatar                             </td>\n",
       "        </tr>\n",
       "        <tr>\n",
       "            <td>2008</td> <td>9630.7     </td> <td>608             </td> <td>The Dark Knight                    </td>\n",
       "        </tr>\n",
       "        <tr>\n",
       "            <td>2007</td> <td>9663.8     </td> <td>631             </td> <td>Spider-Man 3                       </td>\n",
       "        </tr>\n",
       "        <tr>\n",
       "            <td>2006</td> <td>9209.5     </td> <td>608             </td> <td>Dead Man's Chest                   </td>\n",
       "        </tr>\n",
       "    </tbody>\n",
       "</table>\n",
       "<p>... (26 rows omitted)</p>"
      ],
      "text/plain": [
       "Year | Total Gross | Number of Movies | #1 Movie\n",
       "2015 | 11128.5     | 702              | Star Wars: The Force Awakens\n",
       "2014 | 10360.8     | 702              | American Sniper\n",
       "2013 | 10923.6     | 688              | Catching Fire\n",
       "2012 | 10837.4     | 667              | The Avengers\n",
       "2011 | 10174.3     | 602              | Harry Potter / Deathly Hallows (P2)\n",
       "2010 | 10565.6     | 536              | Toy Story 3\n",
       "2009 | 10595.5     | 521              | Avatar\n",
       "2008 | 9630.7      | 608              | The Dark Knight\n",
       "2007 | 9663.8      | 631              | Spider-Man 3\n",
       "2006 | 9209.5      | 608              | Dead Man's Chest\n",
       "... (26 rows omitted)"
      ]
     },
     "execution_count": 21,
     "metadata": {},
     "output_type": "execute_result"
    }
   ],
   "source": [
    "movies_by_year = Table.read_table(\"movies_by_year.csv\")\n",
    "rank = 5\n",
    "fifth_from_top_movie_year = movies_by_year.sort(\"Total Gross\", descending=True).column(\"Year\").item(rank-1)\n",
    "print(\"Year number\", rank, \"for total gross movie sales was:\", fifth_from_top_movie_year)\n",
    "movies_by_year"
   ]
  },
  {
   "cell_type": "markdown",
   "id": "dcf17f7e",
   "metadata": {},
   "source": [
    "After writing this, you realize you also wanted to print out the 2nd and 3rd-highest years.  Instead of copying your code, you decide to put it in a function.  Since the rank varies, you make that an argument to your function.\n",
    "\n",
    "**Question 1.4.** Write a function called `print_kth_top_movie_year`.  It should take a single argument, the rank of the year (like 2, 3, or 5 in the above examples) and should use the table `movies_by_year`. It should print out a message like the one above.  \n",
    "\n",
    "*Note:* Your function shouldn't have a `return` statement.\n"
   ]
  },
  {
   "cell_type": "code",
   "execution_count": 30,
   "id": "66c847e8",
   "metadata": {
    "tags": []
   },
   "outputs": [
    {
     "name": "stdout",
     "output_type": "stream",
     "text": [
      "Year number 2 for total gross movie sales was: 2013\n",
      "Year number 3 for total gross movie sales was: 2012\n"
     ]
    }
   ],
   "source": [
    "def print_kth_top_movie_year(k):\n",
    "    res = movies_by_year.sort('Total Gross', True).column('Year')[k - 1]\n",
    "    print('Year number {} for total gross movie sales was: {}'.format(k, res))\n",
    "\n",
    "# Example calls to your function:\n",
    "print_kth_top_movie_year(2)\n",
    "print_kth_top_movie_year(3)"
   ]
  },
  {
   "cell_type": "code",
   "execution_count": 31,
   "id": "ecf687e8",
   "metadata": {
    "deletable": false,
    "editable": false
   },
   "outputs": [
    {
     "data": {
      "text/html": [
       "<p><strong><pre style='display: inline;'>q14</pre></strong> passed! 🌈</p>"
      ],
      "text/plain": [
       "q14 results: All test cases passed!"
      ]
     },
     "execution_count": 31,
     "metadata": {},
     "output_type": "execute_result"
    }
   ],
   "source": [
    "grader.check(\"q14\")"
   ]
  },
  {
   "cell_type": "code",
   "execution_count": 32,
   "id": "3e3c5cff",
   "metadata": {},
   "outputs": [
    {
     "data": {
      "application/vnd.jupyter.widget-view+json": {
       "model_id": "21468e55d2d846f5af888cf6dd55bd08",
       "version_major": 2,
       "version_minor": 0
      },
      "text/plain": [
       "interactive(children=(Dropdown(description='k', options=(1, 2, 3, 4, 5, 6, 7, 8, 9), value=1), Output()), _dom…"
      ]
     },
     "metadata": {},
     "output_type": "display_data"
    }
   ],
   "source": [
    "# interact also allows you to pass in an array for a function argument. It will\n",
    "# then present a dropdown menu of options.\n",
    "_ = interact(print_kth_top_movie_year, k=np.arange(1, 10))"
   ]
  },
  {
   "cell_type": "markdown",
   "id": "15f62027",
   "metadata": {},
   "source": [
    "### `print` is not the same as `return`\n",
    "The `print_kth_top_movie_year(k)` function prints the total gross movie sales for the year that was provided! However, since we did not return any value in this function, we can not use it after we call it. Let's look at an example of another function that prints a value but does not return it."
   ]
  },
  {
   "cell_type": "code",
   "execution_count": 33,
   "id": "f129a991",
   "metadata": {},
   "outputs": [],
   "source": [
    "def print_number_five():\n",
    "    print(5)"
   ]
  },
  {
   "cell_type": "code",
   "execution_count": 34,
   "id": "d32b029c",
   "metadata": {},
   "outputs": [
    {
     "name": "stdout",
     "output_type": "stream",
     "text": [
      "5\n"
     ]
    }
   ],
   "source": [
    "print_number_five()"
   ]
  },
  {
   "cell_type": "markdown",
   "id": "dc05f366",
   "metadata": {},
   "source": [
    "However, if we try to use the output of `print_number_five()`, we see that the value `5` is printed but we get a TypeError when we try to add the number 2 to it!"
   ]
  },
  {
   "cell_type": "code",
   "execution_count": null,
   "id": "02f3ac28",
   "metadata": {
    "tags": [
     "raises-exception"
    ]
   },
   "outputs": [],
   "source": [
    "print_number_five_output = print_number_five()\n",
    "print_number_five_output + 2"
   ]
  },
  {
   "cell_type": "markdown",
   "id": "33e0cec2",
   "metadata": {},
   "source": [
    "It may seem that `print_number_five()` is returning a value, 5. In reality, it just displays the number 5 to you without giving you the actual value! If your function prints out a value **without returning it** and you try to use that value, you will run into errors, so be careful!\n",
    "\n",
    "Explain to your neighbor or a staff member how you might add a line of code to the `print_number_five` function (after `print(5)`) so that the code `print_number_five_output + 5` would result in the value `10`, rather than an error."
   ]
  },
  {
   "cell_type": "markdown",
   "id": "968fe1ee",
   "metadata": {},
   "source": [
    "## 2. Functions and CEO Incomes\n",
    "\n",
    "In this question, we'll look at the 2015 compensation of CEOs at the 100 largest companies in California. The data was compiled from a [Los Angeles Times analysis](http://spreadsheets.latimes.com/california-ceo-compensation/), and ultimately came from [filings](https://www.sec.gov/answers/proxyhtf.htm) mandated by the SEC from all publicly-traded companies. Two companies have two CEOs, so there are 102 CEOs in the dataset.\n",
    "\n",
    "We've copied the raw data from the LA Times page into a file called `raw_compensation.csv`. (The page notes that all dollar amounts are in **millions of dollars**.)"
   ]
  },
  {
   "cell_type": "code",
   "execution_count": 35,
   "id": "e916d935",
   "metadata": {},
   "outputs": [
    {
     "data": {
      "text/html": [
       "<table border=\"1\" class=\"dataframe\">\n",
       "    <thead>\n",
       "        <tr>\n",
       "            <th>Rank</th> <th>Name</th> <th>Company (Headquarters)</th> <th>Total Pay</th> <th>% Change</th> <th>Cash Pay</th> <th>Equity Pay</th> <th>Other Pay</th> <th>Ratio of CEO pay to average industry worker pay</th>\n",
       "        </tr>\n",
       "    </thead>\n",
       "    <tbody>\n",
       "        <tr>\n",
       "            <td>1   </td> <td>Mark V. Hurd*     </td> <td>Oracle (Redwood City)         </td> <td>$53.25   </td> <td>(No previous year)</td> <td>$0.95   </td> <td>$52.27    </td> <td>$0.02    </td> <td>362                                            </td>\n",
       "        </tr>\n",
       "        <tr>\n",
       "            <td>2   </td> <td>Safra A. Catz*    </td> <td>Oracle (Redwood City)         </td> <td>$53.24   </td> <td>(No previous year)</td> <td>$0.95   </td> <td>$52.27    </td> <td>$0.02    </td> <td>362                                            </td>\n",
       "        </tr>\n",
       "        <tr>\n",
       "            <td>3   </td> <td>Robert A. Iger    </td> <td>Walt Disney (Burbank)         </td> <td>$44.91   </td> <td>-3%               </td> <td>$24.89  </td> <td>$17.28    </td> <td>$2.74    </td> <td>477                                            </td>\n",
       "        </tr>\n",
       "        <tr>\n",
       "            <td>4   </td> <td>Marissa A. Mayer  </td> <td>Yahoo! (Sunnyvale)            </td> <td>$35.98   </td> <td>-15%              </td> <td>$1.00   </td> <td>$34.43    </td> <td>$0.55    </td> <td>342                                            </td>\n",
       "        </tr>\n",
       "        <tr>\n",
       "            <td>5   </td> <td>Marc Benioff      </td> <td>salesforce.com (San Francisco)</td> <td>$33.36   </td> <td>-16%              </td> <td>$4.65   </td> <td>$27.26    </td> <td>$1.45    </td> <td>338                                            </td>\n",
       "        </tr>\n",
       "        <tr>\n",
       "            <td>6   </td> <td>John H. Hammergren</td> <td>McKesson (San Francisco)      </td> <td>$24.84   </td> <td>-4%               </td> <td>$12.10  </td> <td>$12.37    </td> <td>$0.37    </td> <td>222                                            </td>\n",
       "        </tr>\n",
       "        <tr>\n",
       "            <td>7   </td> <td>John S. Watson    </td> <td>Chevron (San Ramon)           </td> <td>$22.04   </td> <td>-15%              </td> <td>$4.31   </td> <td>$14.68    </td> <td>$3.05    </td> <td>183                                            </td>\n",
       "        </tr>\n",
       "        <tr>\n",
       "            <td>8   </td> <td>Jeffrey Weiner    </td> <td>LinkedIn (Mountain View)      </td> <td>$19.86   </td> <td>27%               </td> <td>$2.47   </td> <td>$17.26    </td> <td>$0.13    </td> <td>182                                            </td>\n",
       "        </tr>\n",
       "        <tr>\n",
       "            <td>9   </td> <td>John T. Chambers**</td> <td>Cisco Systems (San Jose)      </td> <td>$19.62   </td> <td>19%               </td> <td>$5.10   </td> <td>$14.51    </td> <td>$0.01    </td> <td>170                                            </td>\n",
       "        </tr>\n",
       "        <tr>\n",
       "            <td>10  </td> <td>John G. Stumpf    </td> <td>Wells Fargo  (San Francisco)  </td> <td>$19.32   </td> <td>-10%              </td> <td>$6.80   </td> <td>$12.50    </td> <td>$0.02    </td> <td>256                                            </td>\n",
       "        </tr>\n",
       "    </tbody>\n",
       "</table>\n",
       "<p>... (91 rows omitted)</p>"
      ],
      "text/plain": [
       "Rank | Name               | Company (Headquarters)         | Total Pay | % Change           | Cash Pay | Equity Pay | Other Pay | Ratio of CEO pay to average industry worker pay\n",
       "1    | Mark V. Hurd*      | Oracle (Redwood City)          | $53.25    | (No previous year) | $0.95    | $52.27     | $0.02     | 362\n",
       "2    | Safra A. Catz*     | Oracle (Redwood City)          | $53.24    | (No previous year) | $0.95    | $52.27     | $0.02     | 362\n",
       "3    | Robert A. Iger     | Walt Disney (Burbank)          | $44.91    | -3%                | $24.89   | $17.28     | $2.74     | 477\n",
       "4    | Marissa A. Mayer   | Yahoo! (Sunnyvale)             | $35.98    | -15%               | $1.00    | $34.43     | $0.55     | 342\n",
       "5    | Marc Benioff       | salesforce.com (San Francisco) | $33.36    | -16%               | $4.65    | $27.26     | $1.45     | 338\n",
       "6    | John H. Hammergren | McKesson (San Francisco)       | $24.84    | -4%                | $12.10   | $12.37     | $0.37     | 222\n",
       "7    | John S. Watson     | Chevron (San Ramon)            | $22.04    | -15%               | $4.31    | $14.68     | $3.05     | 183\n",
       "8    | Jeffrey Weiner     | LinkedIn (Mountain View)       | $19.86    | 27%                | $2.47    | $17.26     | $0.13     | 182\n",
       "9    | John T. Chambers** | Cisco Systems (San Jose)       | $19.62    | 19%                | $5.10    | $14.51     | $0.01     | 170\n",
       "10   | John G. Stumpf     | Wells Fargo  (San Francisco)   | $19.32    | -10%               | $6.80    | $12.50     | $0.02     | 256\n",
       "... (91 rows omitted)"
      ]
     },
     "execution_count": 35,
     "metadata": {},
     "output_type": "execute_result"
    }
   ],
   "source": [
    "raw_compensation = Table.read_table('raw_compensation.csv')\n",
    "raw_compensation"
   ]
  },
  {
   "cell_type": "markdown",
   "id": "9de695f4",
   "metadata": {},
   "source": [
    "We want to compute the average of the CEOs' pay. Try running the cell below."
   ]
  },
  {
   "cell_type": "code",
   "execution_count": null,
   "id": "d70676fd",
   "metadata": {
    "tags": [
     "raises-exception"
    ]
   },
   "outputs": [],
   "source": [
    "np.average(raw_compensation.column(\"Total Pay\"))"
   ]
  },
  {
   "cell_type": "markdown",
   "id": "cdf734bd",
   "metadata": {},
   "source": [
    "You should see a `TypeError`. Let's examine why this error occurred by looking at the values in the `Total Pay` column. To do so, we can use the `type` function. This function tells us the data type of the object that we pass into it. Run the following cell to see what happens when we pass in `23` to the `type` function. Does the result make sense?"
   ]
  },
  {
   "cell_type": "code",
   "execution_count": 37,
   "id": "eac6dd47",
   "metadata": {},
   "outputs": [
    {
     "data": {
      "text/plain": [
       "int"
      ]
     },
     "execution_count": 37,
     "metadata": {},
     "output_type": "execute_result"
    }
   ],
   "source": [
    "type(23)"
   ]
  },
  {
   "cell_type": "markdown",
   "id": "5a8796d8",
   "metadata": {},
   "source": [
    "**Question 2.1.** Use the `type` function and set `total_pay_type` to the type of the first value in the \"Total Pay\" column.\n"
   ]
  },
  {
   "cell_type": "code",
   "execution_count": 39,
   "id": "796f09e5",
   "metadata": {
    "tags": []
   },
   "outputs": [
    {
     "data": {
      "text/plain": [
       "numpy.str_"
      ]
     },
     "execution_count": 39,
     "metadata": {},
     "output_type": "execute_result"
    }
   ],
   "source": [
    "total_pay_type = type(raw_compensation.column('Total Pay')[0])\n",
    "total_pay_type"
   ]
  },
  {
   "cell_type": "code",
   "execution_count": 40,
   "id": "28dea953",
   "metadata": {
    "deletable": false,
    "editable": false
   },
   "outputs": [
    {
     "data": {
      "text/html": [
       "<p><strong><pre style='display: inline;'>q21</pre></strong> passed! 🌈</p>"
      ],
      "text/plain": [
       "q21 results: All test cases passed!"
      ]
     },
     "execution_count": 40,
     "metadata": {},
     "output_type": "execute_result"
    }
   ],
   "source": [
    "grader.check(\"q21\")"
   ]
  },
  {
   "cell_type": "markdown",
   "id": "41e4c59e",
   "metadata": {},
   "source": [
    "**Question 2.2.** You should have found that the values in the `Total Pay` column are strings. It doesn't make sense to take the average of string values, so we need to convert them to numbers if we want to do this. Extract the first value in `Total Pay`.  It's Mark Hurd's pay in 2015, in *millions* of dollars.  Call it `mark_hurd_pay_string`.\n"
   ]
  },
  {
   "cell_type": "code",
   "execution_count": 42,
   "id": "98362f72",
   "metadata": {
    "tags": []
   },
   "outputs": [
    {
     "data": {
      "text/plain": [
       "'$53.25 '"
      ]
     },
     "execution_count": 42,
     "metadata": {},
     "output_type": "execute_result"
    }
   ],
   "source": [
    "mark_hurd_pay_string = raw_compensation.column('Total Pay')[0]\n",
    "mark_hurd_pay_string"
   ]
  },
  {
   "cell_type": "code",
   "execution_count": 43,
   "id": "e5e32fc1",
   "metadata": {
    "deletable": false,
    "editable": false
   },
   "outputs": [
    {
     "data": {
      "text/html": [
       "<p><strong><pre style='display: inline;'>q22</pre></strong> passed! 🍀</p>"
      ],
      "text/plain": [
       "q22 results: All test cases passed!"
      ]
     },
     "execution_count": 43,
     "metadata": {},
     "output_type": "execute_result"
    }
   ],
   "source": [
    "grader.check(\"q22\")"
   ]
  },
  {
   "cell_type": "markdown",
   "id": "55b1b89c",
   "metadata": {},
   "source": [
    "**Question 2.3.** Convert `mark_hurd_pay_string` to a number of *dollars*. \n",
    "\n",
    "Some hints, as this question requires multiple steps:\n",
    "- The string method `strip` will be useful for removing the dollar sign; it removes a specified character from the start or end of a string.  For example, the value of `\"100%\".strip(\"%\")` is the string `\"100\"`.  \n",
    "- You'll also need the function `float`, which converts a string that looks like a number to an actual number. Don't worry about the whitespace at the end of the string; the `float` function will ignore this.\n",
    "- Finally, remember that the answer should be in dollars, not millions of dollars.\n"
   ]
  },
  {
   "cell_type": "code",
   "execution_count": 48,
   "id": "6295b9bf",
   "metadata": {
    "tags": []
   },
   "outputs": [
    {
     "data": {
      "text/plain": [
       "53250000.0"
      ]
     },
     "execution_count": 48,
     "metadata": {},
     "output_type": "execute_result"
    }
   ],
   "source": [
    "mark_hurd_pay = float(mark_hurd_pay_string.strip('$')) * 1000000\n",
    "mark_hurd_pay"
   ]
  },
  {
   "cell_type": "code",
   "execution_count": 49,
   "id": "e32885b6",
   "metadata": {
    "deletable": false,
    "editable": false
   },
   "outputs": [
    {
     "data": {
      "text/html": [
       "<p><strong><pre style='display: inline;'>q23</pre></strong> passed! 🌟</p>"
      ],
      "text/plain": [
       "q23 results: All test cases passed!"
      ]
     },
     "execution_count": 49,
     "metadata": {},
     "output_type": "execute_result"
    }
   ],
   "source": [
    "grader.check(\"q23\")"
   ]
  },
  {
   "cell_type": "markdown",
   "id": "0b63a68f",
   "metadata": {},
   "source": [
    "To compute the average pay, we need to do this for every CEO.  But that looks like it would involve copying this code 102 times.\n",
    "\n",
    "This is where functions come in.  First, we'll define a new function, giving a name to the expression that converts \"total pay\" strings to numeric values.  Later in this lab, we'll see the payoff: we can call that function on every pay string in the dataset at once.\n",
    "\n",
    "The next section of this lab we will get some more practice on defining functions. For this part, just fill in the ellipses in the cell below.\n",
    "\n",
    "**Question 2.4.** Copy the expression you used to compute `mark_hurd_pay`, and use it as the return expression of the function below. But make sure you replace the specific `mark_hurd_pay_string` with the generic `pay_string` name specified in the first line in the `def` statement.\n",
    "\n",
    "*Hint*: When dealing with functions, you should generally not be referencing any variable outside of the function. Usually, you want to be working with the arguments that are passed into it, such as `pay_string` for this function. If you're using `mark_hurd_pay_string` within your function, you're referencing an outside variable!\n"
   ]
  },
  {
   "cell_type": "code",
   "execution_count": 50,
   "id": "af0010b1",
   "metadata": {
    "tags": []
   },
   "outputs": [],
   "source": [
    "def convert_pay_string_to_number(pay_string):\n",
    "    \"\"\"Converts a pay string like '$100' (in millions) to a number of dollars.\"\"\"\n",
    "    return float(pay_string.strip('$')) * 1000000"
   ]
  },
  {
   "cell_type": "code",
   "execution_count": 51,
   "id": "2b101a6a",
   "metadata": {
    "deletable": false,
    "editable": false
   },
   "outputs": [
    {
     "data": {
      "text/html": [
       "<p><strong><pre style='display: inline;'>q24</pre></strong> passed! 🙌</p>"
      ],
      "text/plain": [
       "q24 results: All test cases passed!"
      ]
     },
     "execution_count": 51,
     "metadata": {},
     "output_type": "execute_result"
    }
   ],
   "source": [
    "grader.check(\"q24\")"
   ]
  },
  {
   "cell_type": "markdown",
   "id": "bb58bab0",
   "metadata": {},
   "source": [
    "Running that cell doesn't convert any particular pay string. Instead, it creates a function called `convert_pay_string_to_number` that can convert *any* string with the right format to a number representing millions of dollars.\n",
    "\n",
    "We can call our function just like we call the built-in functions we've seen. It takes one argument, *a string*, and it returns a float."
   ]
  },
  {
   "cell_type": "code",
   "execution_count": 52,
   "id": "c807760a",
   "metadata": {},
   "outputs": [
    {
     "data": {
      "text/plain": [
       "42000000.0"
      ]
     },
     "execution_count": 52,
     "metadata": {},
     "output_type": "execute_result"
    }
   ],
   "source": [
    "convert_pay_string_to_number('$42')"
   ]
  },
  {
   "cell_type": "code",
   "execution_count": 53,
   "id": "6e5a4a41",
   "metadata": {},
   "outputs": [
    {
     "data": {
      "text/plain": [
       "53250000.0"
      ]
     },
     "execution_count": 53,
     "metadata": {},
     "output_type": "execute_result"
    }
   ],
   "source": [
    "convert_pay_string_to_number(mark_hurd_pay_string)"
   ]
  },
  {
   "cell_type": "code",
   "execution_count": 54,
   "id": "a3b37213",
   "metadata": {},
   "outputs": [
    {
     "data": {
      "text/plain": [
       "53240000.0"
      ]
     },
     "execution_count": 54,
     "metadata": {},
     "output_type": "execute_result"
    }
   ],
   "source": [
    "# We can also compute Safra Catz's pay in the same way:\n",
    "convert_pay_string_to_number(raw_compensation.where(\"Name\", are.containing(\"Safra\")).column(\"Total Pay\").item(0))"
   ]
  },
  {
   "cell_type": "markdown",
   "id": "eb498526",
   "metadata": {},
   "source": [
    "So, what have we gained by defining the `convert_pay_string_to_number` function? \n",
    "Well, without it, we'd have to copy the code `10**6 * float(some_pay_string.strip(\"$\"))` each time we wanted to convert a pay string.  Now we just call a function whose name says exactly what it's doing."
   ]
  },
  {
   "cell_type": "markdown",
   "id": "2b183186",
   "metadata": {},
   "source": [
    "## 3. `apply`ing functions\n",
    "\n",
    "Defining a function is a lot like giving a name to a value with `=`.  In fact, a function is a value just like the number 1 or the text \"data\"!\n",
    "\n",
    "For example, we can make a new name for the built-in function `max` if we want:"
   ]
  },
  {
   "cell_type": "code",
   "execution_count": 55,
   "id": "6755017d",
   "metadata": {},
   "outputs": [
    {
     "data": {
      "text/plain": [
       "6"
      ]
     },
     "execution_count": 55,
     "metadata": {},
     "output_type": "execute_result"
    }
   ],
   "source": [
    "our_name_for_max = max\n",
    "our_name_for_max(2, 6)"
   ]
  },
  {
   "cell_type": "markdown",
   "id": "dd5bdcd9",
   "metadata": {},
   "source": [
    "The old name for `max` is still around:"
   ]
  },
  {
   "cell_type": "code",
   "execution_count": 56,
   "id": "03d59e40",
   "metadata": {},
   "outputs": [
    {
     "data": {
      "text/plain": [
       "6"
      ]
     },
     "execution_count": 56,
     "metadata": {},
     "output_type": "execute_result"
    }
   ],
   "source": [
    "max(2, 6)"
   ]
  },
  {
   "cell_type": "markdown",
   "id": "46bb9228",
   "metadata": {},
   "source": [
    "Try just writing `max` or `our_name_for_max` (or the name of any other function) in a cell, and run that cell.  Python will print out a (very brief) description of the function."
   ]
  },
  {
   "cell_type": "code",
   "execution_count": 57,
   "id": "42ca3b34",
   "metadata": {},
   "outputs": [
    {
     "data": {
      "text/plain": [
       "<function max>"
      ]
     },
     "execution_count": 57,
     "metadata": {},
     "output_type": "execute_result"
    }
   ],
   "source": [
    "max"
   ]
  },
  {
   "cell_type": "markdown",
   "id": "70bbc518",
   "metadata": {},
   "source": [
    "Now try writing `max?` or `our_name_for_max?` (or the name of any other function) in a cell, and run that cell.  A information box should show up at the bottom of your screen a longer description of the function\n",
    "\n",
    "*Note: You can also press Shift+Tab after clicking on a name to see similar information!*"
   ]
  },
  {
   "cell_type": "code",
   "execution_count": 58,
   "id": "3aafbb2c",
   "metadata": {},
   "outputs": [
    {
     "data": {
      "text/plain": [
       "\u001b[1;31mDocstring:\u001b[0m\n",
       "max(iterable, *[, default=obj, key=func]) -> value\n",
       "max(arg1, arg2, *args, *[, key=func]) -> value\n",
       "\n",
       "With a single iterable argument, return its biggest item. The\n",
       "default keyword-only argument specifies an object to return if\n",
       "the provided iterable is empty.\n",
       "With two or more arguments, return the largest argument.\n",
       "\u001b[1;31mType:\u001b[0m      builtin_function_or_method"
      ]
     },
     "metadata": {},
     "output_type": "display_data"
    }
   ],
   "source": [
    "our_name_for_max?"
   ]
  },
  {
   "cell_type": "markdown",
   "id": "ab3bccc2",
   "metadata": {},
   "source": [
    "Let's look at what happens when we set `max`to a non-function value. You'll notice that a TypeError will occur when you try calling `max`. Things like integers and strings are not callable like this: `\"hello\"(2)`, which is calling a string and will error. Look out for any functions that might have been renamed when you encounter this type of error"
   ]
  },
  {
   "cell_type": "code",
   "execution_count": null,
   "id": "698e6811",
   "metadata": {
    "tags": [
     "raises-exception"
    ]
   },
   "outputs": [],
   "source": [
    "max = 6\n",
    "max(2, 6)"
   ]
  },
  {
   "cell_type": "code",
   "execution_count": 60,
   "id": "8cdbaff6",
   "metadata": {},
   "outputs": [],
   "source": [
    "# This cell resets max to the built-in function. Just run this cell, don't change its contents\n",
    "import builtins\n",
    "max = builtins.max"
   ]
  },
  {
   "cell_type": "markdown",
   "id": "4c29f8fe",
   "metadata": {},
   "source": [
    "Why is this useful?  Since functions are just values, it's possible to pass them as arguments to other functions.  Here's a simple but not-so-practical example: we can make an array of functions."
   ]
  },
  {
   "cell_type": "code",
   "execution_count": 61,
   "id": "acbcfe19",
   "metadata": {},
   "outputs": [
    {
     "data": {
      "text/plain": [
       "array([<built-in function max>, <function average at 0x000001D6622BC470>,\n",
       "       <function are.equal_to at 0x000001D67FDFB100>], dtype=object)"
      ]
     },
     "execution_count": 61,
     "metadata": {},
     "output_type": "execute_result"
    }
   ],
   "source": [
    "make_array(max, np.average, are.equal_to)"
   ]
  },
  {
   "cell_type": "markdown",
   "id": "45094bc0",
   "metadata": {},
   "source": [
    "**Question 3.1.** Make an array containing any 3 other functions you've seen.  Call it `some_functions`.\n"
   ]
  },
  {
   "cell_type": "code",
   "execution_count": 69,
   "id": "bb2a95b2",
   "metadata": {
    "tags": []
   },
   "outputs": [
    {
     "data": {
      "text/plain": [
       "array([<function mean at 0x000001D662246D70>,\n",
       "       <method 'split' of 'str' objects>, <method 'join' of 'str' objects>], dtype=object)"
      ]
     },
     "execution_count": 69,
     "metadata": {},
     "output_type": "execute_result"
    }
   ],
   "source": [
    "some_functions = make_array(np.mean, str.split, str.join)\n",
    "some_functions"
   ]
  },
  {
   "cell_type": "code",
   "execution_count": 70,
   "id": "d0cac8a6",
   "metadata": {
    "deletable": false,
    "editable": false
   },
   "outputs": [
    {
     "data": {
      "text/html": [
       "<p><strong><pre style='display: inline;'>q31</pre></strong> passed! 🎉</p>"
      ],
      "text/plain": [
       "q31 results: All test cases passed!"
      ]
     },
     "execution_count": 70,
     "metadata": {},
     "output_type": "execute_result"
    }
   ],
   "source": [
    "grader.check(\"q31\")"
   ]
  },
  {
   "cell_type": "markdown",
   "id": "c98a513d",
   "metadata": {},
   "source": [
    "Working with functions as values can lead to some funny-looking code. For example, see if you can figure out why the following code works. Check your explanation with a peer or a staff member."
   ]
  },
  {
   "cell_type": "code",
   "execution_count": 71,
   "id": "df5e58be",
   "metadata": {},
   "outputs": [
    {
     "data": {
      "text/plain": [
       "7"
      ]
     },
     "execution_count": 71,
     "metadata": {},
     "output_type": "execute_result"
    }
   ],
   "source": [
    "make_array(max, np.average, are.equal_to).item(0)(4, -2, 7)"
   ]
  },
  {
   "cell_type": "markdown",
   "id": "1214588f",
   "metadata": {},
   "source": [
    "A more useful example of passing functions to other functions as arguments is the table method `apply`.\n",
    "\n",
    "`apply` calls a function many times, once on *each* element in a column of a table.  It produces an *array* of the results.  Here we use `apply` to convert every CEO's pay to a number, using the function you defined:\n",
    "\n",
    "*Note:* You'll see an array of numbers like `5.325e+07`. This is Python's way of representing **scientific notation**. We interpret `5.325e+07` as `5.325 * 10**7`, or `53,250,000`."
   ]
  },
  {
   "cell_type": "code",
   "execution_count": 72,
   "id": "27b776f0",
   "metadata": {},
   "outputs": [
    {
     "data": {
      "text/plain": [
       "array([  5.32500000e+07,   5.32400000e+07,   4.49100000e+07,\n",
       "         3.59800000e+07,   3.33600000e+07,   2.48400000e+07,\n",
       "         2.20400000e+07,   1.98600000e+07,   1.96200000e+07,\n",
       "         1.93200000e+07,   1.87600000e+07,   1.86100000e+07,\n",
       "         1.83600000e+07,   1.80900000e+07,   1.71000000e+07,\n",
       "         1.66300000e+07,   1.63300000e+07,   1.61400000e+07,\n",
       "         1.61000000e+07,   1.60200000e+07,   1.51000000e+07,\n",
       "         1.49800000e+07,   1.46300000e+07,   1.45100000e+07,\n",
       "         1.44400000e+07,   1.43600000e+07,   1.43100000e+07,\n",
       "         1.40900000e+07,   1.40000000e+07,   1.36700000e+07,\n",
       "         1.23400000e+07,   1.22000000e+07,   1.21800000e+07,\n",
       "         1.21300000e+07,   1.20500000e+07,   1.18400000e+07,\n",
       "         1.17100000e+07,   1.16300000e+07,   1.11600000e+07,\n",
       "         1.11100000e+07,   1.11100000e+07,   1.07300000e+07,\n",
       "         1.05000000e+07,   1.04300000e+07,   1.03700000e+07,\n",
       "         1.02800000e+07,   1.02700000e+07,   1.01800000e+07,\n",
       "         1.01600000e+07,   9.97000000e+06,   9.96000000e+06,\n",
       "         9.86000000e+06,   9.74000000e+06,   9.42000000e+06,\n",
       "         9.39000000e+06,   9.22000000e+06,   9.06000000e+06,\n",
       "         9.03000000e+06,   8.86000000e+06,   8.76000000e+06,\n",
       "         8.57000000e+06,   8.38000000e+06,   8.36000000e+06,\n",
       "         8.35000000e+06,   8.23000000e+06,   7.86000000e+06,\n",
       "         7.70000000e+06,   7.58000000e+06,   7.51000000e+06,\n",
       "         7.23000000e+06,   7.21000000e+06,   7.12000000e+06,\n",
       "         6.88000000e+06,   6.77000000e+06,   6.64000000e+06,\n",
       "         6.56000000e+06,   6.14000000e+06,   5.92000000e+06,\n",
       "         5.90000000e+06,   5.89000000e+06,   5.73000000e+06,\n",
       "         5.42000000e+06,   5.04000000e+06,   4.92000000e+06,\n",
       "         4.92000000e+06,   4.47000000e+06,   4.25000000e+06,\n",
       "         4.08000000e+06,   3.93000000e+06,   3.72000000e+06,\n",
       "         2.88000000e+06,   2.83000000e+06,   2.82000000e+06,\n",
       "         2.45000000e+06,   1.79000000e+06,   1.68000000e+06,\n",
       "         1.53000000e+06,   9.40000000e+05,   8.10000000e+05,\n",
       "         7.00000000e+04,   4.00000000e+04])"
      ]
     },
     "execution_count": 72,
     "metadata": {},
     "output_type": "execute_result"
    }
   ],
   "source": [
    "raw_compensation.apply(convert_pay_string_to_number, \"Total Pay\")"
   ]
  },
  {
   "cell_type": "markdown",
   "id": "4ba76854",
   "metadata": {},
   "source": [
    "Here's an illustration of what that did:\n",
    "\n",
    "<img src=\"apply.png\"/>\n",
    "\n",
    "Note that we didn’t write `raw_compensation.apply(convert_pay_string_to_number(), “Total Pay”)` or `raw_compensation.apply(convert_pay_string_to_number(“Total Pay”))`. We just passed the name of the function, with no parentheses, to `apply`, because all we want to do is let `apply` know the name of the function we’d like to use and the name of the column we’d like to use it on. `apply` will then call the function `convert_pay_string_to_number` on each value in the column for us!\n",
    "\n",
    "**Question 3.2.** Using `apply`, make a table that's a copy of `raw_compensation` with one additional column called `Total Pay ($)`.  That column should contain the result of applying `convert_pay_string_to_number` to the `Total Pay` column (as we did above).  Call the new table `compensation`.\n"
   ]
  },
  {
   "cell_type": "code",
   "execution_count": 80,
   "id": "82c98ef6",
   "metadata": {
    "tags": []
   },
   "outputs": [
    {
     "data": {
      "text/html": [
       "<table border=\"1\" class=\"dataframe\">\n",
       "    <thead>\n",
       "        <tr>\n",
       "            <th>Rank</th> <th>Name</th> <th>Company (Headquarters)</th> <th>Total Pay</th> <th>% Change</th> <th>Cash Pay</th> <th>Equity Pay</th> <th>Other Pay</th> <th>Ratio of CEO pay to average industry worker pay</th> <th>Total Pay ($)</th>\n",
       "        </tr>\n",
       "    </thead>\n",
       "    <tbody>\n",
       "        <tr>\n",
       "            <td>1   </td> <td>Mark V. Hurd*     </td> <td>Oracle (Redwood City)         </td> <td>$53.25   </td> <td>(No previous year)</td> <td>$0.95   </td> <td>$52.27    </td> <td>$0.02    </td> <td>362                                            </td> <td>5.325e+07    </td>\n",
       "        </tr>\n",
       "        <tr>\n",
       "            <td>2   </td> <td>Safra A. Catz*    </td> <td>Oracle (Redwood City)         </td> <td>$53.24   </td> <td>(No previous year)</td> <td>$0.95   </td> <td>$52.27    </td> <td>$0.02    </td> <td>362                                            </td> <td>5.324e+07    </td>\n",
       "        </tr>\n",
       "        <tr>\n",
       "            <td>3   </td> <td>Robert A. Iger    </td> <td>Walt Disney (Burbank)         </td> <td>$44.91   </td> <td>-3%               </td> <td>$24.89  </td> <td>$17.28    </td> <td>$2.74    </td> <td>477                                            </td> <td>4.491e+07    </td>\n",
       "        </tr>\n",
       "        <tr>\n",
       "            <td>4   </td> <td>Marissa A. Mayer  </td> <td>Yahoo! (Sunnyvale)            </td> <td>$35.98   </td> <td>-15%              </td> <td>$1.00   </td> <td>$34.43    </td> <td>$0.55    </td> <td>342                                            </td> <td>3.598e+07    </td>\n",
       "        </tr>\n",
       "        <tr>\n",
       "            <td>5   </td> <td>Marc Benioff      </td> <td>salesforce.com (San Francisco)</td> <td>$33.36   </td> <td>-16%              </td> <td>$4.65   </td> <td>$27.26    </td> <td>$1.45    </td> <td>338                                            </td> <td>3.336e+07    </td>\n",
       "        </tr>\n",
       "        <tr>\n",
       "            <td>6   </td> <td>John H. Hammergren</td> <td>McKesson (San Francisco)      </td> <td>$24.84   </td> <td>-4%               </td> <td>$12.10  </td> <td>$12.37    </td> <td>$0.37    </td> <td>222                                            </td> <td>2.484e+07    </td>\n",
       "        </tr>\n",
       "        <tr>\n",
       "            <td>7   </td> <td>John S. Watson    </td> <td>Chevron (San Ramon)           </td> <td>$22.04   </td> <td>-15%              </td> <td>$4.31   </td> <td>$14.68    </td> <td>$3.05    </td> <td>183                                            </td> <td>2.204e+07    </td>\n",
       "        </tr>\n",
       "        <tr>\n",
       "            <td>8   </td> <td>Jeffrey Weiner    </td> <td>LinkedIn (Mountain View)      </td> <td>$19.86   </td> <td>27%               </td> <td>$2.47   </td> <td>$17.26    </td> <td>$0.13    </td> <td>182                                            </td> <td>1.986e+07    </td>\n",
       "        </tr>\n",
       "        <tr>\n",
       "            <td>9   </td> <td>John T. Chambers**</td> <td>Cisco Systems (San Jose)      </td> <td>$19.62   </td> <td>19%               </td> <td>$5.10   </td> <td>$14.51    </td> <td>$0.01    </td> <td>170                                            </td> <td>1.962e+07    </td>\n",
       "        </tr>\n",
       "        <tr>\n",
       "            <td>10  </td> <td>John G. Stumpf    </td> <td>Wells Fargo  (San Francisco)  </td> <td>$19.32   </td> <td>-10%              </td> <td>$6.80   </td> <td>$12.50    </td> <td>$0.02    </td> <td>256                                            </td> <td>1.932e+07    </td>\n",
       "        </tr>\n",
       "    </tbody>\n",
       "</table>\n",
       "<p>... (91 rows omitted)</p>"
      ],
      "text/plain": [
       "Rank | Name               | Company (Headquarters)         | Total Pay | % Change           | Cash Pay | Equity Pay | Other Pay | Ratio of CEO pay to average industry worker pay | Total Pay ($)\n",
       "1    | Mark V. Hurd*      | Oracle (Redwood City)          | $53.25    | (No previous year) | $0.95    | $52.27     | $0.02     | 362                                             | 5.325e+07\n",
       "2    | Safra A. Catz*     | Oracle (Redwood City)          | $53.24    | (No previous year) | $0.95    | $52.27     | $0.02     | 362                                             | 5.324e+07\n",
       "3    | Robert A. Iger     | Walt Disney (Burbank)          | $44.91    | -3%                | $24.89   | $17.28     | $2.74     | 477                                             | 4.491e+07\n",
       "4    | Marissa A. Mayer   | Yahoo! (Sunnyvale)             | $35.98    | -15%               | $1.00    | $34.43     | $0.55     | 342                                             | 3.598e+07\n",
       "5    | Marc Benioff       | salesforce.com (San Francisco) | $33.36    | -16%               | $4.65    | $27.26     | $1.45     | 338                                             | 3.336e+07\n",
       "6    | John H. Hammergren | McKesson (San Francisco)       | $24.84    | -4%                | $12.10   | $12.37     | $0.37     | 222                                             | 2.484e+07\n",
       "7    | John S. Watson     | Chevron (San Ramon)            | $22.04    | -15%               | $4.31    | $14.68     | $3.05     | 183                                             | 2.204e+07\n",
       "8    | Jeffrey Weiner     | LinkedIn (Mountain View)       | $19.86    | 27%                | $2.47    | $17.26     | $0.13     | 182                                             | 1.986e+07\n",
       "9    | John T. Chambers** | Cisco Systems (San Jose)       | $19.62    | 19%                | $5.10    | $14.51     | $0.01     | 170                                             | 1.962e+07\n",
       "10   | John G. Stumpf     | Wells Fargo  (San Francisco)   | $19.32    | -10%               | $6.80    | $12.50     | $0.02     | 256                                             | 1.932e+07\n",
       "... (91 rows omitted)"
      ]
     },
     "execution_count": 80,
     "metadata": {},
     "output_type": "execute_result"
    }
   ],
   "source": [
    "def get_col(label, table = raw_compensation, f = convert_pay_string_to_number):\n",
    "    return table.apply(f, label)\n",
    "compensation = raw_compensation.with_column(\n",
    "    \"Total Pay ($)\",\n",
    "    get_col('Total Pay')\n",
    "    )\n",
    "compensation"
   ]
  },
  {
   "cell_type": "code",
   "execution_count": null,
   "id": "99a2f7b6",
   "metadata": {
    "deletable": false,
    "editable": false
   },
   "outputs": [],
   "source": [
    "grader.check(\"q32\")"
   ]
  },
  {
   "cell_type": "markdown",
   "id": "79a2dfe1",
   "metadata": {},
   "source": [
    "Now that we have all the pays as numbers, we can learn more about them through computation."
   ]
  },
  {
   "cell_type": "markdown",
   "id": "4dc17857",
   "metadata": {},
   "source": [
    "**Question 3.3.** Compute the average total pay of the CEOs in the dataset.\n"
   ]
  },
  {
   "cell_type": "code",
   "execution_count": 82,
   "id": "42c340d3",
   "metadata": {
    "tags": []
   },
   "outputs": [
    {
     "data": {
      "text/plain": [
       "11558613.861386139"
      ]
     },
     "execution_count": 82,
     "metadata": {},
     "output_type": "execute_result"
    }
   ],
   "source": [
    "average_total_pay = np.average(get_col('Total Pay'))\n",
    "average_total_pay"
   ]
  },
  {
   "cell_type": "code",
   "execution_count": 83,
   "id": "a8e8f86e",
   "metadata": {
    "deletable": false,
    "editable": false
   },
   "outputs": [
    {
     "data": {
      "text/html": [
       "<p><strong><pre style='display: inline;'>q33</pre></strong> passed! 💯</p>"
      ],
      "text/plain": [
       "q33 results: All test cases passed!"
      ]
     },
     "execution_count": 83,
     "metadata": {},
     "output_type": "execute_result"
    }
   ],
   "source": [
    "grader.check(\"q33\")"
   ]
  },
  {
   "cell_type": "markdown",
   "id": "659627c6",
   "metadata": {},
   "source": [
    "**Question 3.4** Companies pay executives in a variety of ways: in cash, by granting stock or other equity in the company, or with ancillary benefits (like private jets).  Compute the proportion of each CEO's pay that was cash.  (Your answer should be an array of numbers, one for each CEO in the dataset.)\n",
    "\n",
    "*Hint:* What function have you defined that can convert a string to a number?\n"
   ]
  },
  {
   "cell_type": "code",
   "execution_count": 84,
   "id": "b099b8b0",
   "metadata": {
    "tags": []
   },
   "outputs": [
    {
     "data": {
      "text/plain": [
       "array([ 0.01784038,  0.01784373,  0.55421955,  0.02779322,  0.13938849,\n",
       "        0.48711755,  0.19555354,  0.12437059,  0.25993884,  0.35196687,\n",
       "        0.3075693 ,  0.22138635,  0.13126362,  0.1708126 ,  0.23099415,\n",
       "        0.06734817,  0.13043478,  0.28004957,  0.33229814,  0.15355805,\n",
       "        0.29337748,  0.21829105,  0.31100478,  0.25086147,  0.2299169 ,\n",
       "        0.16991643,  0.31795947,  0.26188786,  0.28357143,  0.15654718,\n",
       "        0.38168558,  0.28934426,  0.20361248,  0.47650453,  0.45643154,\n",
       "        0.36402027,  0.2177626 ,  0.24763543,  0.42562724,  0.2610261 ,\n",
       "        0.18361836,  0.1444548 ,  0.33333333,  0.10834132,  0.20925747,\n",
       "        0.97276265,  0.22979552,  0.22789784,  0.37893701,  0.25175527,\n",
       "        0.73895582,  0.37018256,  0.2412731 ,  0.2133758 ,  0.20553781,\n",
       "        0.23318872,  0.33664459,  0.3875969 ,  0.56094808,  0.11757991,\n",
       "        0.35239207,  0.24463007,  0.25      ,  0.23712575,  0.43377886,\n",
       "        0.31424936,  0.46363636,  0.32585752,  0.24766977,  0.98755187,\n",
       "        0.27184466,  0.96207865,  0.31831395,  0.81979321,  0.23795181,\n",
       "        0.17530488,  0.21172638,  0.37162162,  0.27288136,  0.26994907,\n",
       "        0.55148342,  0.3597786 ,  0.        ,  0.47154472,  0.47154472,\n",
       "        0.29753915,  0.16235294,  0.48529412,  0.46819338,  0.32526882,\n",
       "        0.98958333,  0.61130742,  0.67021277,  0.75510204,  0.50837989,\n",
       "        0.98809524,  0.98039216,  0.9893617 ,  0.87654321,  0.        ,\n",
       "        1.        ])"
      ]
     },
     "execution_count": 84,
     "metadata": {},
     "output_type": "execute_result"
    }
   ],
   "source": [
    "cash_proportion = get_col('Cash Pay') / get_col('Total Pay')\n",
    "cash_proportion"
   ]
  },
  {
   "cell_type": "code",
   "execution_count": 85,
   "id": "f631bdec",
   "metadata": {
    "deletable": false,
    "editable": false
   },
   "outputs": [
    {
     "data": {
      "text/html": [
       "<p><strong><pre style='display: inline;'>q34</pre></strong> passed! 🙌</p>"
      ],
      "text/plain": [
       "q34 results: All test cases passed!"
      ]
     },
     "execution_count": 85,
     "metadata": {},
     "output_type": "execute_result"
    }
   ],
   "source": [
    "grader.check(\"q34\")"
   ]
  },
  {
   "cell_type": "markdown",
   "id": "31f118b4",
   "metadata": {
    "for_assignment_type": "solution"
   },
   "source": [
    "**Why is `apply` useful?**\n",
    "\n",
    "For operations like arithmetic, or the functions in the NumPy library, you don't need to use `apply`, because they automatically work on each element of an array.  But there are many things that don't.  The string manipulation we did in today's lab is one example.  Since you can write any code you want in a function, `apply` gives you total control over how you operate on data."
   ]
  },
  {
   "cell_type": "markdown",
   "id": "f0631fba",
   "metadata": {},
   "source": [
    "Check out the `% Change` column in `compensation`.  It shows the percentage increase in the CEO's pay from the previous year.  For CEOs with no previous year on record, it instead says \"(No previous year)\".  The values in this column are *strings*, not numbers, so like the `Total Pay` column, it's not usable without a bit of extra work.\n",
    "\n",
    "Given your current pay and the percentage increase from the previous year, you can compute your previous year's pay.  For example, if your pay is $\\$120$ this year, and that's an increase of 50% from the previous year, then your previous year's pay was $\\frac{\\$120}{1 + \\frac{50}{100}}$, or \\$80.\n",
    "\n",
    "**Question 3.5** Create a new table called `with_previous_compensation`.  It should be a copy of `compensation`, but with the \"(No previous year)\" CEOs filtered out, and with an extra column called `2014 Total Pay ($)`.  That column should have each CEO's pay in 2014.\n",
    "\n",
    "*Hint 1:* You can print out your results after each step to make sure you're on the right track.\n",
    "\n",
    "*Hint 2:* We've provided a structure that you can use to get to the answer. However, if it's confusing, feel free to delete the current structure and approach the problem your own way!\n"
   ]
  },
  {
   "cell_type": "code",
   "execution_count": 95,
   "id": "e337cd81",
   "metadata": {
    "tags": []
   },
   "outputs": [
    {
     "data": {
      "text/html": [
       "<table border=\"1\" class=\"dataframe\">\n",
       "    <thead>\n",
       "        <tr>\n",
       "            <th>Rank</th> <th>Name</th> <th>Company (Headquarters)</th> <th>Total Pay</th> <th>% Change</th> <th>Cash Pay</th> <th>Equity Pay</th> <th>Other Pay</th> <th>Ratio of CEO pay to average industry worker pay</th> <th>Total Pay ($)</th> <th>2014 Total Pay ($)</th>\n",
       "        </tr>\n",
       "    </thead>\n",
       "    <tbody>\n",
       "        <tr>\n",
       "            <td>3   </td> <td>Robert A. Iger    </td> <td>Walt Disney (Burbank)         </td> <td>$44.91   </td> <td>-3%     </td> <td>$24.89  </td> <td>$17.28    </td> <td>$2.74    </td> <td>477                                            </td> <td>4.491e+07    </td> <td>4.6299e+07        </td>\n",
       "        </tr>\n",
       "        <tr>\n",
       "            <td>4   </td> <td>Marissa A. Mayer  </td> <td>Yahoo! (Sunnyvale)            </td> <td>$35.98   </td> <td>-15%    </td> <td>$1.00   </td> <td>$34.43    </td> <td>$0.55    </td> <td>342                                            </td> <td>3.598e+07    </td> <td>4.23294e+07       </td>\n",
       "        </tr>\n",
       "        <tr>\n",
       "            <td>5   </td> <td>Marc Benioff      </td> <td>salesforce.com (San Francisco)</td> <td>$33.36   </td> <td>-16%    </td> <td>$4.65   </td> <td>$27.26    </td> <td>$1.45    </td> <td>338                                            </td> <td>3.336e+07    </td> <td>3.97143e+07       </td>\n",
       "        </tr>\n",
       "        <tr>\n",
       "            <td>6   </td> <td>John H. Hammergren</td> <td>McKesson (San Francisco)      </td> <td>$24.84   </td> <td>-4%     </td> <td>$12.10  </td> <td>$12.37    </td> <td>$0.37    </td> <td>222                                            </td> <td>2.484e+07    </td> <td>2.5875e+07        </td>\n",
       "        </tr>\n",
       "        <tr>\n",
       "            <td>7   </td> <td>John S. Watson    </td> <td>Chevron (San Ramon)           </td> <td>$22.04   </td> <td>-15%    </td> <td>$4.31   </td> <td>$14.68    </td> <td>$3.05    </td> <td>183                                            </td> <td>2.204e+07    </td> <td>2.59294e+07       </td>\n",
       "        </tr>\n",
       "        <tr>\n",
       "            <td>8   </td> <td>Jeffrey Weiner    </td> <td>LinkedIn (Mountain View)      </td> <td>$19.86   </td> <td>27%     </td> <td>$2.47   </td> <td>$17.26    </td> <td>$0.13    </td> <td>182                                            </td> <td>1.986e+07    </td> <td>1.56378e+07       </td>\n",
       "        </tr>\n",
       "        <tr>\n",
       "            <td>9   </td> <td>John T. Chambers**</td> <td>Cisco Systems (San Jose)      </td> <td>$19.62   </td> <td>19%     </td> <td>$5.10   </td> <td>$14.51    </td> <td>$0.01    </td> <td>170                                            </td> <td>1.962e+07    </td> <td>1.64874e+07       </td>\n",
       "        </tr>\n",
       "        <tr>\n",
       "            <td>10  </td> <td>John G. Stumpf    </td> <td>Wells Fargo  (San Francisco)  </td> <td>$19.32   </td> <td>-10%    </td> <td>$6.80   </td> <td>$12.50    </td> <td>$0.02    </td> <td>256                                            </td> <td>1.932e+07    </td> <td>2.14667e+07       </td>\n",
       "        </tr>\n",
       "        <tr>\n",
       "            <td>11  </td> <td>John C. Martin**  </td> <td>Gilead Sciences (Foster City) </td> <td>$18.76   </td> <td>-1%     </td> <td>$5.77   </td> <td>$12.98    </td> <td>$0.01    </td> <td>117                                            </td> <td>1.876e+07    </td> <td>1.89495e+07       </td>\n",
       "        </tr>\n",
       "        <tr>\n",
       "            <td>13  </td> <td>Shantanu Narayen  </td> <td>Adobe Systems (San Jose)      </td> <td>$18.36   </td> <td>3%      </td> <td>$2.41   </td> <td>$15.85    </td> <td>$0.09    </td> <td>125                                            </td> <td>1.836e+07    </td> <td>1.78252e+07       </td>\n",
       "        </tr>\n",
       "    </tbody>\n",
       "</table>\n",
       "<p>... (70 rows omitted)</p>"
      ],
      "text/plain": [
       "Rank | Name               | Company (Headquarters)         | Total Pay | % Change | Cash Pay | Equity Pay | Other Pay | Ratio of CEO pay to average industry worker pay | Total Pay ($) | 2014 Total Pay ($)\n",
       "3    | Robert A. Iger     | Walt Disney (Burbank)          | $44.91    | -3%      | $24.89   | $17.28     | $2.74     | 477                                             | 4.491e+07     | 4.6299e+07\n",
       "4    | Marissa A. Mayer   | Yahoo! (Sunnyvale)             | $35.98    | -15%     | $1.00    | $34.43     | $0.55     | 342                                             | 3.598e+07     | 4.23294e+07\n",
       "5    | Marc Benioff       | salesforce.com (San Francisco) | $33.36    | -16%     | $4.65    | $27.26     | $1.45     | 338                                             | 3.336e+07     | 3.97143e+07\n",
       "6    | John H. Hammergren | McKesson (San Francisco)       | $24.84    | -4%      | $12.10   | $12.37     | $0.37     | 222                                             | 2.484e+07     | 2.5875e+07\n",
       "7    | John S. Watson     | Chevron (San Ramon)            | $22.04    | -15%     | $4.31    | $14.68     | $3.05     | 183                                             | 2.204e+07     | 2.59294e+07\n",
       "8    | Jeffrey Weiner     | LinkedIn (Mountain View)       | $19.86    | 27%      | $2.47    | $17.26     | $0.13     | 182                                             | 1.986e+07     | 1.56378e+07\n",
       "9    | John T. Chambers** | Cisco Systems (San Jose)       | $19.62    | 19%      | $5.10    | $14.51     | $0.01     | 170                                             | 1.962e+07     | 1.64874e+07\n",
       "10   | John G. Stumpf     | Wells Fargo  (San Francisco)   | $19.32    | -10%     | $6.80    | $12.50     | $0.02     | 256                                             | 1.932e+07     | 2.14667e+07\n",
       "11   | John C. Martin**   | Gilead Sciences (Foster City)  | $18.76    | -1%      | $5.77    | $12.98     | $0.01     | 117                                             | 1.876e+07     | 1.89495e+07\n",
       "13   | Shantanu Narayen   | Adobe Systems (San Jose)       | $18.36    | 3%       | $2.41    | $15.85     | $0.09     | 125                                             | 1.836e+07     | 1.78252e+07\n",
       "... (70 rows omitted)"
      ]
     },
     "execution_count": 95,
     "metadata": {},
     "output_type": "execute_result"
    }
   ],
   "source": [
    "# Definition to turn percent to number\n",
    "def percent_string_to_num(percent_string):\n",
    "    \"\"\"Converts a percentage string to a number.\"\"\"\n",
    "    return float(percent_string.strip('%')) / 100\n",
    "\n",
    "# Compensation table where there is a previous year\n",
    "# having_previous_year = ...\n",
    "\n",
    "# Get the percent changes as numbers instead of strings\n",
    "# We're still working off the table having_previous_year\n",
    "# percent_changes = ...\n",
    "\n",
    "# Calculate the previous year's pay\n",
    "# We're still working off the table having_previous_year\n",
    "# previous_pay = ...\n",
    "t = compensation.where('% Change', lambda s: '%' in s)\n",
    "# Put the previous pay column into the having_previous_year table\n",
    "with_previous_compensation = t.with_columns('2014 Total Pay ($)', get_col('Total Pay', table = t)\\\n",
    "                                            / (1 + get_col('% Change', table = t, f = percent_string_to_num)))\n",
    "\n",
    "with_previous_compensation"
   ]
  },
  {
   "cell_type": "code",
   "execution_count": 96,
   "id": "2c6d2f56",
   "metadata": {
    "deletable": false,
    "editable": false
   },
   "outputs": [
    {
     "data": {
      "text/html": [
       "<p><strong><pre style='display: inline;'>q35</pre></strong> passed! 🎉</p>"
      ],
      "text/plain": [
       "q35 results: All test cases passed!"
      ]
     },
     "execution_count": 96,
     "metadata": {},
     "output_type": "execute_result"
    }
   ],
   "source": [
    "grader.check(\"q35\")"
   ]
  },
  {
   "cell_type": "markdown",
   "id": "f5e67080",
   "metadata": {},
   "source": [
    "**Question 3.6** Determine the average pay in 2014 of the CEOs that appear in the `with_previous_compensation` table. Assign this value to the variable `average_pay_2014`.\n"
   ]
  },
  {
   "cell_type": "code",
   "execution_count": 98,
   "id": "330ffaaf",
   "metadata": {
    "tags": []
   },
   "outputs": [
    {
     "data": {
      "text/plain": [
       "11794790.817048479"
      ]
     },
     "execution_count": 98,
     "metadata": {},
     "output_type": "execute_result"
    }
   ],
   "source": [
    "average_pay_2014 = np.average(get_col('2014 Total Pay ($)', table = with_previous_compensation, f = lambda x: x))\n",
    "average_pay_2014"
   ]
  },
  {
   "cell_type": "code",
   "execution_count": 99,
   "id": "223c76fd",
   "metadata": {
    "deletable": false,
    "editable": false
   },
   "outputs": [
    {
     "data": {
      "text/html": [
       "<p><strong><pre style='display: inline;'>q36</pre></strong> passed! 💯</p>"
      ],
      "text/plain": [
       "q36 results: All test cases passed!"
      ]
     },
     "execution_count": 99,
     "metadata": {},
     "output_type": "execute_result"
    }
   ],
   "source": [
    "grader.check(\"q36\")"
   ]
  },
  {
   "cell_type": "markdown",
   "id": "bc6076e9",
   "metadata": {},
   "source": [
    "## 4. Histograms\n",
    "Earlier, we computed the average pay among the CEOs in our 102-CEO dataset.  The average doesn't tell us everything about the amounts CEOs are paid, though.  Maybe just a few CEOs make the bulk of the money, even among these 102.\n",
    "\n",
    "We can use a *histogram* method to display the *distribution* of a set of numbers.  The table method `hist` takes a single argument, the name of a column of numbers.  It produces a histogram of the numbers in that column.\n",
    "\n",
    "**Question 4.1.** Make a histogram of the total pay of the CEOs in `compensation`. Check with a peer or instructor to make sure you have the right plot. *If you get a warning, ignore it.*\n",
    "\n",
    "*Hint:* If you aren't sure how to create a histogram, refer to the [Python Reference sheet](http://data8.org/fa21/python-reference.html)."
   ]
  },
  {
   "cell_type": "code",
   "execution_count": 100,
   "id": "9337bbfe",
   "metadata": {
    "tags": []
   },
   "outputs": [
    {
     "data": {
      "image/png": "[encoded data removed]",
      "text/plain": [
       "<Figure size 600x400 with 1 Axes>"
      ]
     },
     "metadata": {},
     "output_type": "display_data"
    }
   ],
   "source": [
    "compensation.hist('Total Pay ($)')"
   ]
  },
  {
   "cell_type": "markdown",
   "id": "e49a7452",
   "metadata": {},
   "source": [
    "**Question 4.2.** How many CEOs made more than $30 million in total pay? Find the value using code, then check that the value you found is consistent with what you see in the histogram.\n",
    "\n",
    "*Hint:* Use the table method `where` and the property `num_rows`.\n"
   ]
  },
  {
   "cell_type": "code",
   "execution_count": 103,
   "id": "e5b0925c",
   "metadata": {
    "tags": []
   },
   "outputs": [
    {
     "data": {
      "text/plain": [
       "5"
      ]
     },
     "execution_count": 103,
     "metadata": {},
     "output_type": "execute_result"
    }
   ],
   "source": [
    "num_ceos_more_than_30_million_2 = compensation.where('Total Pay ($)', lambda x: x > 3e7).num_rows\n",
    "num_ceos_more_than_30_million_2"
   ]
  },
  {
   "cell_type": "code",
   "execution_count": 104,
   "id": "de3048bd",
   "metadata": {
    "deletable": false,
    "editable": false
   },
   "outputs": [
    {
     "data": {
      "text/html": [
       "<p><strong><pre style='display: inline;'>q42</pre></strong> passed! 🚀</p>"
      ],
      "text/plain": [
       "q42 results: All test cases passed!"
      ]
     },
     "execution_count": 104,
     "metadata": {},
     "output_type": "execute_result"
    }
   ],
   "source": [
    "grader.check(\"q42\")"
   ]
  },
  {
   "cell_type": "markdown",
   "id": "2da65e6c",
   "metadata": {
    "tags": []
   },
   "source": [
    "<img src=\"bolt.jpg\" alt=\"drawing\" width=\"300\"/>\n",
    "\n",
    "Bolt wants to congratulate you on finishing lab 4! You can now relax like Bolt!\n",
    "\n",
    "## 6. Submission\n",
    "\n",
    "Great job! You're finished with Lab 4!\n",
    "\n",
    "**Important submission steps:** \n",
    "1. Run the tests and verify that they all pass.\n",
    "2. Choose **Save Notebook** from the **File** menu, then **run the final cell**. \n",
    "3. Click the link to download the zip file.\n",
    "4. Then submit the zip file to the corresponding assignment according to your instructor's directions. \n",
    "\n",
    "**It is your responsibility to make sure your work is saved before running the last cell.**"
   ]
  },
  {
   "cell_type": "markdown",
   "id": "4cce5259",
   "metadata": {
    "deletable": false,
    "editable": false
   },
   "source": [
    "## Submission\n",
    "\n",
    "Make sure you have run all cells in your notebook in order before running the cell below, so that all images/graphs appear in the output. The cell below will generate a zip file for you to submit. **Please save before exporting!**"
   ]
  },
  {
   "cell_type": "code",
   "execution_count": null,
   "id": "35494846",
   "metadata": {
    "deletable": false,
    "editable": false
   },
   "outputs": [],
   "source": [
    "# Save your notebook first, then run this cell to export your submission.\n",
    "grader.export(pdf=False, run_tests=True)"
   ]
  },
  {
   "cell_type": "markdown",
   "id": "49926dcf",
   "metadata": {},
   "source": [
    " "
   ]
  }
 ],
 "metadata": {
  "kernelspec": {
   "display_name": "Python 3 (ipykernel)",
   "language": "python",
   "name": "python3"
  },
  "language_info": {
   "codemirror_mode": {
    "name": "ipython",
    "version": 3
   },
   "file_extension": ".py",
   "mimetype": "text/x-python",
   "name": "python",
   "nbconvert_exporter": "python",
   "pygments_lexer": "ipython3",
   "version": "3.11.4"
  },
  "otter": {
   "OK_FORMAT": true,
   "tests": {
    "q11": {
     "name": "q11",
     "points": null,
     "suites": [
      {
       "cases": [
        {
         "code": ">>> # Make sure your function has the proper syntax!\n>>> to_percentage(.35) == 35.0\nTrue",
         "hidden": false,
         "locked": false
        },
        {
         "code": ">>> # Make sure you are passing in the proper argument!\n>>> twenty_percent == 20.0\nTrue",
         "hidden": false,
         "locked": false
        }
       ],
       "scored": true,
       "setup": "",
       "teardown": "",
       "type": "doctest"
      }
     ]
    },
    "q13": {
     "name": "q13",
     "points": null,
     "suites": [
      {
       "cases": [
        {
         "code": ">>> num_non_vowels(\"Go bears!\") == 6\nTrue",
         "hidden": false,
         "locked": false
        }
       ],
       "scored": true,
       "setup": "",
       "teardown": "",
       "type": "doctest"
      }
     ]
    },
    "q14": {
     "name": "q14",
     "points": null,
     "suites": [
      {
       "cases": [
        {
         "code": ">>> print_kth_top_movie_year(4)\nYear number 4 for total gross movie sales was: 2009\n",
         "hidden": false,
         "locked": false
        }
       ],
       "scored": true,
       "setup": "",
       "teardown": "",
       "type": "doctest"
      }
     ]
    },
    "q21": {
     "name": "q21",
     "points": null,
     "suites": [
      {
       "cases": [
        {
         "code": ">>> # Make sure you are examining the values in the column, not the column itself\n>>> import numpy\n>>> total_pay_type != numpy.ndarray\nTrue",
         "hidden": false,
         "locked": false
        },
        {
         "code": ">>> 'str' in str(total_pay_type)\nTrue",
         "hidden": false,
         "locked": false
        },
        {
         "code": ">>> isinstance(total_pay_type, type)\nTrue",
         "hidden": false,
         "locked": false
        },
        {
         "code": ">>> # Make sure to call the type function on a value in the column\n>>> total_pay_type != int\nTrue",
         "hidden": false,
         "locked": false
        }
       ],
       "scored": true,
       "setup": "",
       "teardown": "",
       "type": "doctest"
      }
     ]
    },
    "q22": {
     "name": "q22",
     "points": null,
     "suites": [
      {
       "cases": [
        {
         "code": ">>> str(mark_hurd_pay_string)\n'$53.25 '",
         "hidden": false,
         "locked": false
        }
       ],
       "scored": true,
       "setup": "",
       "teardown": "",
       "type": "doctest"
      }
     ]
    },
    "q23": {
     "name": "q23",
     "points": null,
     "suites": [
      {
       "cases": [
        {
         "code": ">>> # Your answer should be a number\n>>> type(mark_hurd_pay) != str\nTrue",
         "hidden": false,
         "locked": false
        },
        {
         "code": ">>> # Don't forget to give your answer in dollars, not millions of \n>>> # Dollars! \n>>> mark_hurd_pay != 5325\nTrue",
         "hidden": false,
         "locked": false
        },
        {
         "code": ">>> # Don't forget to give your answer in dollars, not millions of \n>>> # Dollars! \n>>> mark_hurd_pay == 53250000\nTrue",
         "hidden": false,
         "locked": false
        }
       ],
       "scored": true,
       "setup": "",
       "teardown": "",
       "type": "doctest"
      }
     ]
    },
    "q24": {
     "name": "q24",
     "points": null,
     "suites": [
      {
       "cases": [
        {
         "code": ">>> convert_pay_string_to_number(\"$100 \") == 100000000.0\nTrue",
         "hidden": false,
         "locked": false
        },
        {
         "code": ">>> convert_pay_string_to_number(\"$23 \") == 23000000.0\nTrue",
         "hidden": false,
         "locked": false
        }
       ],
       "scored": true,
       "setup": "",
       "teardown": "",
       "type": "doctest"
      }
     ]
    },
    "q31": {
     "name": "q31",
     "points": null,
     "suites": [
      {
       "cases": [
        {
         "code": ">>> len(some_functions)\n3",
         "hidden": false,
         "locked": false
        },
        {
         "code": ">>> # The first thing in your array may not be a function\n>>> callable(some_functions.item(0))\nTrue",
         "hidden": false,
         "locked": false
        },
        {
         "code": ">>> # The second thing in your array may not be a function\n>>> callable(some_functions.item(1))\nTrue",
         "hidden": false,
         "locked": false
        },
        {
         "code": ">>> # The third thing in your array may not be a function\n>>> callable(some_functions.item(2))\nTrue",
         "hidden": false,
         "locked": false
        }
       ],
       "scored": true,
       "setup": "",
       "teardown": "",
       "type": "doctest"
      }
     ]
    },
    "q32": {
     "name": "q32",
     "points": null,
     "suites": [
      {
       "cases": [
        {
         "code": ">>> # You either didn't add the 'Total Pay ($)' column, \n>>> # or you mislabeled it\n>>> 'Total Pay ($)' in compensation.column_labels\nTrue",
         "hidden": false,
         "locked": false
        },
        {
         "code": ">>> # You have the column in your table, but the values may be wrong\n>>> t = compensation.sort('Total Pay ($)', descending = True)\n>>> np.isclose(t.column('Total Pay ($)').item(0), 53250000.0)\nTrue",
         "hidden": false,
         "locked": false
        }
       ],
       "scored": true,
       "setup": "",
       "teardown": "",
       "type": "doctest"
      }
     ]
    },
    "q33": {
     "name": "q33",
     "points": null,
     "suites": [
      {
       "cases": [
        {
         "code": ">>> import math\n>>> math.isclose(average_total_pay, 11558613.861386139, rel_tol = 0.1)\nTrue",
         "hidden": false,
         "locked": false
        }
       ],
       "scored": true,
       "setup": "",
       "teardown": "",
       "type": "doctest"
      }
     ]
    },
    "q34": {
     "name": "q34",
     "points": null,
     "suites": [
      {
       "cases": [
        {
         "code": ">>> len(cash_proportion) == 101\nTrue",
         "hidden": false,
         "locked": false
        },
        {
         "code": ">>> import math\n>>> math.isclose(cash_proportion.item(0), 0.01784038, rel_tol = .001)\nTrue",
         "hidden": false,
         "locked": false
        }
       ],
       "scored": true,
       "setup": "",
       "teardown": "",
       "type": "doctest"
      }
     ]
    },
    "q35": {
     "name": "q35",
     "points": null,
     "suites": [
      {
       "cases": [
        {
         "code": ">>> # Make sure to remove the \"(No previous year)\" CEOs \n>>> \"(No previous year)\" not in with_previous_compensation.column(\"% Change\")\nTrue",
         "hidden": false,
         "locked": false
        },
        {
         "code": ">>> import math\n>>> # You have the column, but some of your values may be wrong\n>>> t = with_previous_compensation.sort(\"2014 Total Pay ($)\", descending = True)\n>>> value = t.column(\"2014 Total Pay ($)\").item(0)\n>>> math.isclose(value, 67700000.0, rel_tol = 0.01)\nTrue",
         "hidden": false,
         "locked": false
        },
        {
         "code": ">>> # You have the column, but your number of rows is off\n>>> with_previous_compensation.num_rows == 80\nTrue",
         "hidden": false,
         "locked": false
        }
       ],
       "scored": true,
       "setup": "",
       "teardown": "",
       "type": "doctest"
      }
     ]
    },
    "q36": {
     "name": "q36",
     "points": null,
     "suites": [
      {
       "cases": [
        {
         "code": ">>> import math\n>>> math.isclose(average_pay_2014, 11794790.817048479, rel_tol = 0.01)\nTrue",
         "hidden": false,
         "locked": false
        }
       ],
       "scored": true,
       "setup": "",
       "teardown": "",
       "type": "doctest"
      }
     ]
    },
    "q42": {
     "name": "q42",
     "points": null,
     "suites": [
      {
       "cases": [
        {
         "code": ">>> num_ceos_more_than_30_million_2 == 5\nTrue",
         "hidden": false,
         "locked": false
        }
       ],
       "scored": true,
       "setup": "",
       "teardown": "",
       "type": "doctest"
      }
     ]
    }
   }
  }
 },
 "nbformat": 4,
 "nbformat_minor": 5
}
