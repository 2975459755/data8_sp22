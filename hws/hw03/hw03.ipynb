{
 "cells": [
  {
   "cell_type": "code",
   "execution_count": 1,
   "id": "4954d041",
   "metadata": {
    "deletable": false,
    "editable": false
   },
   "outputs": [],
   "source": [
    "# Initialize Otter\n",
    "import otter\n",
    "grader = otter.Notebook(\"hw03.ipynb\")"
   ]
  },
  {
   "cell_type": "markdown",
   "id": "ae2b7602",
   "metadata": {},
   "source": [
    "# Homework 3: Table Manipulation and Visualization\n",
    "\n",
    "Please complete this notebook by filling in the cells provided. Before you begin, execute the previous cell to load the provided tests."
   ]
  },
  {
   "cell_type": "markdown",
   "id": "be345558",
   "metadata": {},
   "source": [
    "**Helpful Resource:**\n",
    "- [Python Reference](http://data8.org/sp22/python-reference.html): Cheat sheet of helpful array & table methods used in Data 8!\n",
    "\n",
    "**Recommended Reading**: \n",
    "* [Visualization](https://inferentialthinking.com/chapters/07/Visualization.html)"
   ]
  },
  {
   "cell_type": "markdown",
   "id": "e33f032e",
   "metadata": {},
   "source": [
    "For all problems that you must write explanations and sentences for, you **must** provide your answer in the designated space. **Moreover, throughout this homework and all future ones, please be sure to not re-assign variables throughout the notebook!** For example, if you use `max_temperature` in your answer to one question, do not reassign it later on. Otherwise, you will fail tests that you thought you were passing previously!\n",
    "\n",
    "\n",
    "**Note: This homework has hidden tests on it. That means even though tests may say 100% passed, doesn't mean your final grade will be 100%. We will be running more tests for correctness once everyone turns in the homework.**\n",
    "\n",
    "\n",
    "Directly sharing answers is not okay, but discussing problems with the course staff or with other students is encouraged. \n",
    "\n",
    "You should start early so that you have time to get help if you're stuck."
   ]
  },
  {
   "cell_type": "code",
   "execution_count": 2,
   "id": "a791198e",
   "metadata": {},
   "outputs": [],
   "source": [
    "# Don't change this cell; just run it. \n",
    "\n",
    "import numpy as np\n",
    "from datascience import *\n",
    "import d8error\n",
    "import warnings\n",
    "warnings.simplefilter('ignore', FutureWarning)\n",
    "\n",
    "# These lines do some fancy plotting magic.\\n\",\n",
    "import matplotlib\n",
    "%matplotlib inline\n",
    "import matplotlib.pyplot as plots\n",
    "plots.style.use('fivethirtyeight')"
   ]
  },
  {
   "cell_type": "markdown",
   "id": "cf42581e",
   "metadata": {},
   "source": [
    "## 1. Unemployment"
   ]
  },
  {
   "cell_type": "markdown",
   "id": "64b31ec7",
   "metadata": {},
   "source": [
    "The Great Recession of 2008-2009 was a period of economic decline observed globally, with scale and timing varying from country to country. In the United States, it resulted in a rapid rise in unemployment that affected industries and population groups to different extents.\n",
    "\n",
    "The Federal Reserve Bank of St. Louis publishes data about jobs in the US.  Below, we've loaded data on unemployment in the United States. There are many ways of defining unemployment, and our dataset includes two notions of the unemployment rate:\n",
    "\n",
    "1. Among people who are able to work and are looking for a full-time job, the percentage who can't find a job.  This is called the Non-Employment Index, or NEI.\n",
    "2. Among people who are able to work and are looking for a full-time job, the percentage who can't find any job *or* are only working at a part-time job.  The latter group is called \"Part-Time for Economic Reasons\", so the acronym for this index is NEI-PTER.  (Economists are great at marketing.)\n",
    "\n",
    "The source of the data is [here](https://fred.stlouisfed.org/categories/33509)."
   ]
  },
  {
   "cell_type": "markdown",
   "id": "006b4555",
   "metadata": {},
   "source": [
    "**Question 1.** The data are in a CSV file called `unemployment.csv`.  Load that file into a table called `unemployment`. **(4 Points)**\n"
   ]
  },
  {
   "cell_type": "code",
   "execution_count": 3,
   "id": "fdc9f2a7",
   "metadata": {
    "tags": []
   },
   "outputs": [
    {
     "data": {
      "text/html": [
       "<table border=\"1\" class=\"dataframe\">\n",
       "    <thead>\n",
       "        <tr>\n",
       "            <th>Date</th> <th>NEI</th> <th>NEI-PTER</th>\n",
       "        </tr>\n",
       "    </thead>\n",
       "    <tbody>\n",
       "        <tr>\n",
       "            <td>1994-01-01</td> <td>10.0974</td> <td>11.172  </td>\n",
       "        </tr>\n",
       "        <tr>\n",
       "            <td>1994-04-01</td> <td>9.6239 </td> <td>10.7883 </td>\n",
       "        </tr>\n",
       "        <tr>\n",
       "            <td>1994-07-01</td> <td>9.3276 </td> <td>10.4831 </td>\n",
       "        </tr>\n",
       "        <tr>\n",
       "            <td>1994-10-01</td> <td>9.1071 </td> <td>10.2361 </td>\n",
       "        </tr>\n",
       "        <tr>\n",
       "            <td>1995-01-01</td> <td>8.9693 </td> <td>10.1832 </td>\n",
       "        </tr>\n",
       "        <tr>\n",
       "            <td>1995-04-01</td> <td>9.0314 </td> <td>10.1071 </td>\n",
       "        </tr>\n",
       "        <tr>\n",
       "            <td>1995-07-01</td> <td>8.9802 </td> <td>10.1084 </td>\n",
       "        </tr>\n",
       "        <tr>\n",
       "            <td>1995-10-01</td> <td>8.9932 </td> <td>10.1046 </td>\n",
       "        </tr>\n",
       "        <tr>\n",
       "            <td>1996-01-01</td> <td>9.0002 </td> <td>10.0531 </td>\n",
       "        </tr>\n",
       "        <tr>\n",
       "            <td>1996-04-01</td> <td>8.9038 </td> <td>9.9782  </td>\n",
       "        </tr>\n",
       "    </tbody>\n",
       "</table>\n",
       "<p>... (80 rows omitted)</p>"
      ],
      "text/plain": [
       "Date       | NEI     | NEI-PTER\n",
       "1994-01-01 | 10.0974 | 11.172\n",
       "1994-04-01 | 9.6239  | 10.7883\n",
       "1994-07-01 | 9.3276  | 10.4831\n",
       "1994-10-01 | 9.1071  | 10.2361\n",
       "1995-01-01 | 8.9693  | 10.1832\n",
       "1995-04-01 | 9.0314  | 10.1071\n",
       "1995-07-01 | 8.9802  | 10.1084\n",
       "1995-10-01 | 8.9932  | 10.1046\n",
       "1996-01-01 | 9.0002  | 10.0531\n",
       "1996-04-01 | 8.9038  | 9.9782\n",
       "... (80 rows omitted)"
      ]
     },
     "execution_count": 3,
     "metadata": {},
     "output_type": "execute_result"
    }
   ],
   "source": [
    "unemployment = Table.read_table('unemployment.csv')\n",
    "unemployment"
   ]
  },
  {
   "cell_type": "code",
   "execution_count": 4,
   "id": "dc3cf98f",
   "metadata": {
    "deletable": false,
    "editable": false
   },
   "outputs": [
    {
     "data": {
      "text/html": [
       "<p><strong><pre style='display: inline;'>q1_1</pre></strong> passed! 🌟</p>"
      ],
      "text/plain": [
       "q1_1 results: All test cases passed!"
      ]
     },
     "execution_count": 4,
     "metadata": {},
     "output_type": "execute_result"
    }
   ],
   "source": [
    "grader.check(\"q1_1\")"
   ]
  },
  {
   "cell_type": "markdown",
   "id": "b1b41d9b",
   "metadata": {},
   "source": [
    "**Question 2.** Sort the data in descending order by NEI, naming the sorted table `by_nei`.  Create another table called `by_nei_pter` that's sorted in descending order by NEI-PTER instead. **(4 Points)**\n"
   ]
  },
  {
   "cell_type": "code",
   "execution_count": 8,
   "id": "fd74da47",
   "metadata": {
    "tags": []
   },
   "outputs": [],
   "source": [
    "by_nei = unemployment.sort('NEI', True)\n",
    "by_nei_pter = unemployment.sort('NEI-PTER', descending = True)"
   ]
  },
  {
   "cell_type": "code",
   "execution_count": 9,
   "id": "22424b6e",
   "metadata": {
    "deletable": false,
    "editable": false
   },
   "outputs": [
    {
     "data": {
      "text/html": [
       "<p><strong><pre style='display: inline;'>q1_2</pre></strong> passed! 💯</p>"
      ],
      "text/plain": [
       "q1_2 results: All test cases passed!"
      ]
     },
     "execution_count": 9,
     "metadata": {},
     "output_type": "execute_result"
    }
   ],
   "source": [
    "grader.check(\"q1_2\")"
   ]
  },
  {
   "cell_type": "code",
   "execution_count": 10,
   "id": "f3c2fe9e",
   "metadata": {},
   "outputs": [
    {
     "data": {
      "text/html": [
       "<table border=\"1\" class=\"dataframe\">\n",
       "    <thead>\n",
       "        <tr>\n",
       "            <th>Date</th> <th>NEI</th> <th>NEI-PTER</th>\n",
       "        </tr>\n",
       "    </thead>\n",
       "    <tbody>\n",
       "        <tr>\n",
       "            <td>2009-10-01</td> <td>10.9698</td> <td>12.8557 </td>\n",
       "        </tr>\n",
       "        <tr>\n",
       "            <td>2010-01-01</td> <td>10.9054</td> <td>12.7311 </td>\n",
       "        </tr>\n",
       "        <tr>\n",
       "            <td>2009-07-01</td> <td>10.8089</td> <td>12.7404 </td>\n",
       "        </tr>\n",
       "        <tr>\n",
       "            <td>2009-04-01</td> <td>10.7082</td> <td>12.5497 </td>\n",
       "        </tr>\n",
       "        <tr>\n",
       "            <td>2010-04-01</td> <td>10.6597</td> <td>12.5664 </td>\n",
       "        </tr>\n",
       "    </tbody>\n",
       "</table>\n",
       "<p>... (85 rows omitted)</p>"
      ],
      "text/plain": [
       "<IPython.core.display.HTML object>"
      ]
     },
     "metadata": {},
     "output_type": "display_data"
    }
   ],
   "source": [
    "# Run this cell to check your by_nei table. You do not need to change the code.\n",
    "by_nei.show(5)"
   ]
  },
  {
   "cell_type": "code",
   "execution_count": 11,
   "id": "8c634e5d",
   "metadata": {},
   "outputs": [
    {
     "data": {
      "text/html": [
       "<table border=\"1\" class=\"dataframe\">\n",
       "    <thead>\n",
       "        <tr>\n",
       "            <th>Date</th> <th>NEI</th> <th>NEI-PTER</th>\n",
       "        </tr>\n",
       "    </thead>\n",
       "    <tbody>\n",
       "        <tr>\n",
       "            <td>2009-10-01</td> <td>10.9698</td> <td>12.8557 </td>\n",
       "        </tr>\n",
       "        <tr>\n",
       "            <td>2009-07-01</td> <td>10.8089</td> <td>12.7404 </td>\n",
       "        </tr>\n",
       "        <tr>\n",
       "            <td>2010-01-01</td> <td>10.9054</td> <td>12.7311 </td>\n",
       "        </tr>\n",
       "        <tr>\n",
       "            <td>2010-04-01</td> <td>10.6597</td> <td>12.5664 </td>\n",
       "        </tr>\n",
       "        <tr>\n",
       "            <td>2009-04-01</td> <td>10.7082</td> <td>12.5497 </td>\n",
       "        </tr>\n",
       "    </tbody>\n",
       "</table>\n",
       "<p>... (85 rows omitted)</p>"
      ],
      "text/plain": [
       "<IPython.core.display.HTML object>"
      ]
     },
     "metadata": {},
     "output_type": "display_data"
    }
   ],
   "source": [
    "# Run this cell to check your by_nei_pter table. You do not need to change the code.\n",
    "by_nei_pter.show(5)"
   ]
  },
  {
   "cell_type": "markdown",
   "id": "69cbad84",
   "metadata": {},
   "source": [
    "**Question 3.** Use `take` to make a table containing the data for the 11 quarters when NEI was greatest.  Call that table `greatest_nei`.\n",
    "\n",
    "`greatest_nei` should be sorted in descending order of `NEI`. Note that each row of `unemployment` represents a quarter. **(4 Points)**\n"
   ]
  },
  {
   "cell_type": "code",
   "execution_count": 12,
   "id": "1bc796ee",
   "metadata": {
    "tags": []
   },
   "outputs": [
    {
     "data": {
      "text/html": [
       "<table border=\"1\" class=\"dataframe\">\n",
       "    <thead>\n",
       "        <tr>\n",
       "            <th>Date</th> <th>NEI</th> <th>NEI-PTER</th>\n",
       "        </tr>\n",
       "    </thead>\n",
       "    <tbody>\n",
       "        <tr>\n",
       "            <td>2009-10-01</td> <td>10.9698</td> <td>12.8557 </td>\n",
       "        </tr>\n",
       "        <tr>\n",
       "            <td>2010-01-01</td> <td>10.9054</td> <td>12.7311 </td>\n",
       "        </tr>\n",
       "        <tr>\n",
       "            <td>2009-07-01</td> <td>10.8089</td> <td>12.7404 </td>\n",
       "        </tr>\n",
       "        <tr>\n",
       "            <td>2009-04-01</td> <td>10.7082</td> <td>12.5497 </td>\n",
       "        </tr>\n",
       "        <tr>\n",
       "            <td>2010-04-01</td> <td>10.6597</td> <td>12.5664 </td>\n",
       "        </tr>\n",
       "        <tr>\n",
       "            <td>2010-10-01</td> <td>10.5856</td> <td>12.4329 </td>\n",
       "        </tr>\n",
       "        <tr>\n",
       "            <td>2010-07-01</td> <td>10.5521</td> <td>12.3897 </td>\n",
       "        </tr>\n",
       "        <tr>\n",
       "            <td>2011-01-01</td> <td>10.5024</td> <td>12.3017 </td>\n",
       "        </tr>\n",
       "        <tr>\n",
       "            <td>2011-07-01</td> <td>10.4856</td> <td>12.2507 </td>\n",
       "        </tr>\n",
       "        <tr>\n",
       "            <td>2011-04-01</td> <td>10.4409</td> <td>12.247  </td>\n",
       "        </tr>\n",
       "    </tbody>\n",
       "</table>\n",
       "<p>... (1 rows omitted)</p>"
      ],
      "text/plain": [
       "Date       | NEI     | NEI-PTER\n",
       "2009-10-01 | 10.9698 | 12.8557\n",
       "2010-01-01 | 10.9054 | 12.7311\n",
       "2009-07-01 | 10.8089 | 12.7404\n",
       "2009-04-01 | 10.7082 | 12.5497\n",
       "2010-04-01 | 10.6597 | 12.5664\n",
       "2010-10-01 | 10.5856 | 12.4329\n",
       "2010-07-01 | 10.5521 | 12.3897\n",
       "2011-01-01 | 10.5024 | 12.3017\n",
       "2011-07-01 | 10.4856 | 12.2507\n",
       "2011-04-01 | 10.4409 | 12.247\n",
       "... (1 rows omitted)"
      ]
     },
     "execution_count": 12,
     "metadata": {},
     "output_type": "execute_result"
    }
   ],
   "source": [
    "greatest_nei = by_nei.take(np.arange(11))\n",
    "greatest_nei"
   ]
  },
  {
   "cell_type": "code",
   "execution_count": 13,
   "id": "23f019c2",
   "metadata": {
    "deletable": false,
    "editable": false
   },
   "outputs": [
    {
     "data": {
      "text/html": [
       "<p><strong><pre style='display: inline;'>q1_3</pre></strong> passed! 💯</p>"
      ],
      "text/plain": [
       "q1_3 results: All test cases passed!"
      ]
     },
     "execution_count": 13,
     "metadata": {},
     "output_type": "execute_result"
    }
   ],
   "source": [
    "grader.check(\"q1_3\")"
   ]
  },
  {
   "cell_type": "markdown",
   "id": "c75edebb",
   "metadata": {},
   "source": [
    "**Question 4.** It's believed that many people became PTER (recall: \"Part-Time for Economic Reasons\") in the \"Great Recession\" of 2008-2009.  NEI-PTER is the percentage of people who are unemployed (included in the NEI) plus the percentage of people who are PTER.\n",
    "\n",
    "Compute an array containing the percentage of people who were PTER in each quarter.  (The first element of the array should correspond to the first row of `unemployment`, and so on.) **(4 Points)**\n",
    "\n",
    "*Note:* Use the original `unemployment` table for this.\n"
   ]
  },
  {
   "cell_type": "code",
   "execution_count": 14,
   "id": "3fdb066f",
   "metadata": {
    "tags": []
   },
   "outputs": [
    {
     "data": {
      "text/plain": [
       "array([ 1.0746,  1.1644,  1.1555,  1.129 ,  1.2139,  1.0757,  1.1282,\n",
       "        1.1114,  1.0529,  1.0744,  1.1004,  1.0747,  1.0705,  1.0455,\n",
       "        1.008 ,  0.9734,  0.9753,  0.8931,  0.9451,  0.8367,  0.8208,\n",
       "        0.8105,  0.8248,  0.7578,  0.7251,  0.7445,  0.7543,  0.7423,\n",
       "        0.7399,  0.7687,  0.8418,  0.9923,  0.9181,  0.9629,  0.9703,\n",
       "        0.9575,  1.0333,  1.0781,  1.0675,  1.0354,  1.0601,  1.01  ,\n",
       "        1.0042,  1.0368,  0.9704,  0.923 ,  0.9759,  0.93  ,  0.889 ,\n",
       "        0.821 ,  0.9409,  0.955 ,  0.898 ,  0.8948,  0.9523,  0.9579,\n",
       "        1.0149,  1.0762,  1.2873,  1.4335,  1.7446,  1.8415,  1.9315,\n",
       "        1.8859,  1.8257,  1.9067,  1.8376,  1.8473,  1.7993,  1.8061,\n",
       "        1.7651,  1.7927,  1.7286,  1.6387,  1.6808,  1.6805,  1.6629,\n",
       "        1.6253,  1.6477,  1.6298,  1.4796,  1.5131,  1.4866,  1.4345,\n",
       "        1.3675,  1.3097,  1.2319,  1.1735,  1.1844,  1.1746])"
      ]
     },
     "execution_count": 14,
     "metadata": {},
     "output_type": "execute_result"
    }
   ],
   "source": [
    "pter = unemployment.column('NEI-PTER') - unemployment.column('NEI')\n",
    "pter"
   ]
  },
  {
   "cell_type": "code",
   "execution_count": 15,
   "id": "cc7450d7",
   "metadata": {
    "deletable": false,
    "editable": false
   },
   "outputs": [
    {
     "data": {
      "text/html": [
       "<p><strong><pre style='display: inline;'>q1_4</pre></strong> passed! 🌟</p>"
      ],
      "text/plain": [
       "q1_4 results: All test cases passed!"
      ]
     },
     "execution_count": 15,
     "metadata": {},
     "output_type": "execute_result"
    }
   ],
   "source": [
    "grader.check(\"q1_4\")"
   ]
  },
  {
   "cell_type": "markdown",
   "id": "4fb9fb6c",
   "metadata": {},
   "source": [
    "**Question 5.** Add `pter` as a column to `unemployment` (name the column `PTER`) and sort the resulting table by that column in descending order.  Call the resulting table `by_pter`.\n",
    "\n",
    "Try to do this with a single line of code, if you can. **(4 Points)**\n"
   ]
  },
  {
   "cell_type": "code",
   "execution_count": 16,
   "id": "132c8740",
   "metadata": {
    "tags": []
   },
   "outputs": [
    {
     "data": {
      "text/html": [
       "<table border=\"1\" class=\"dataframe\">\n",
       "    <thead>\n",
       "        <tr>\n",
       "            <th>Date</th> <th>NEI</th> <th>NEI-PTER</th> <th>PTER</th>\n",
       "        </tr>\n",
       "    </thead>\n",
       "    <tbody>\n",
       "        <tr>\n",
       "            <td>2009-07-01</td> <td>10.8089</td> <td>12.7404 </td> <td>1.9315</td>\n",
       "        </tr>\n",
       "        <tr>\n",
       "            <td>2010-04-01</td> <td>10.6597</td> <td>12.5664 </td> <td>1.9067</td>\n",
       "        </tr>\n",
       "        <tr>\n",
       "            <td>2009-10-01</td> <td>10.9698</td> <td>12.8557 </td> <td>1.8859</td>\n",
       "        </tr>\n",
       "        <tr>\n",
       "            <td>2010-10-01</td> <td>10.5856</td> <td>12.4329 </td> <td>1.8473</td>\n",
       "        </tr>\n",
       "        <tr>\n",
       "            <td>2009-04-01</td> <td>10.7082</td> <td>12.5497 </td> <td>1.8415</td>\n",
       "        </tr>\n",
       "        <tr>\n",
       "            <td>2010-07-01</td> <td>10.5521</td> <td>12.3897 </td> <td>1.8376</td>\n",
       "        </tr>\n",
       "        <tr>\n",
       "            <td>2010-01-01</td> <td>10.9054</td> <td>12.7311 </td> <td>1.8257</td>\n",
       "        </tr>\n",
       "        <tr>\n",
       "            <td>2011-04-01</td> <td>10.4409</td> <td>12.247  </td> <td>1.8061</td>\n",
       "        </tr>\n",
       "        <tr>\n",
       "            <td>2011-01-01</td> <td>10.5024</td> <td>12.3017 </td> <td>1.7993</td>\n",
       "        </tr>\n",
       "        <tr>\n",
       "            <td>2011-10-01</td> <td>10.3287</td> <td>12.1214 </td> <td>1.7927</td>\n",
       "        </tr>\n",
       "    </tbody>\n",
       "</table>\n",
       "<p>... (80 rows omitted)</p>"
      ],
      "text/plain": [
       "Date       | NEI     | NEI-PTER | PTER\n",
       "2009-07-01 | 10.8089 | 12.7404  | 1.9315\n",
       "2010-04-01 | 10.6597 | 12.5664  | 1.9067\n",
       "2009-10-01 | 10.9698 | 12.8557  | 1.8859\n",
       "2010-10-01 | 10.5856 | 12.4329  | 1.8473\n",
       "2009-04-01 | 10.7082 | 12.5497  | 1.8415\n",
       "2010-07-01 | 10.5521 | 12.3897  | 1.8376\n",
       "2010-01-01 | 10.9054 | 12.7311  | 1.8257\n",
       "2011-04-01 | 10.4409 | 12.247   | 1.8061\n",
       "2011-01-01 | 10.5024 | 12.3017  | 1.7993\n",
       "2011-10-01 | 10.3287 | 12.1214  | 1.7927\n",
       "... (80 rows omitted)"
      ]
     },
     "execution_count": 16,
     "metadata": {},
     "output_type": "execute_result"
    }
   ],
   "source": [
    "by_pter = unemployment.with_column('PTER', pter).sort('PTER', True)\n",
    "by_pter"
   ]
  },
  {
   "cell_type": "code",
   "execution_count": 17,
   "id": "58f7a8c4",
   "metadata": {
    "deletable": false,
    "editable": false
   },
   "outputs": [
    {
     "data": {
      "text/html": [
       "<p><strong><pre style='display: inline;'>q1_5</pre></strong> passed! 🌈</p>"
      ],
      "text/plain": [
       "q1_5 results: All test cases passed!"
      ]
     },
     "execution_count": 17,
     "metadata": {},
     "output_type": "execute_result"
    }
   ],
   "source": [
    "grader.check(\"q1_5\")"
   ]
  },
  {
   "cell_type": "markdown",
   "id": "01d7bccf",
   "metadata": {},
   "source": [
    "**Question 6.** Create a line plot of PTER over time. To do this, create a new table called `pter_over_time` by making a copy of the `unemployment` table and adding two new columns: `Year` and `PTER` using the `year` array and the `pter` array, respectively. Then, generate a line plot using one of the table methods you've learned in class.\n",
    "\n",
    "The order of the columns matter for our correctness tests, so be sure `Year` comes before `PTER`. **(4 Points)**\n",
    "\n",
    "*Note:* When constructing `pter_over_time`, do not just add the `year` column to the `by_pter` table. Please follow the directions in the question above.\n"
   ]
  },
  {
   "cell_type": "code",
   "execution_count": 19,
   "id": "b87f72c7",
   "metadata": {
    "tags": []
   },
   "outputs": [
    {
     "data": {
      "image/png": "[encoded data removed]",
      "text/plain": [
       "<Figure size 600x600 with 1 Axes>"
      ]
     },
     "metadata": {},
     "output_type": "display_data"
    }
   ],
   "source": [
    "year = 1994 + np.arange(by_pter.num_rows)/4\n",
    "pter_over_time = unemployment.with_columns('Year', year, 'PTER', pter) \n",
    "pter_over_time.plot('Year', 'PTER')\n",
    "plots.ylim(0,2); # Do not change this line"
   ]
  },
  {
   "cell_type": "code",
   "execution_count": 20,
   "id": "769a86f5",
   "metadata": {
    "deletable": false,
    "editable": false
   },
   "outputs": [
    {
     "data": {
      "text/html": [
       "<p><strong><pre style='display: inline;'>q1_6</pre></strong> passed! 🙌</p>"
      ],
      "text/plain": [
       "q1_6 results: All test cases passed!"
      ]
     },
     "execution_count": 20,
     "metadata": {},
     "output_type": "execute_result"
    }
   ],
   "source": [
    "grader.check(\"q1_6\")"
   ]
  },
  {
   "cell_type": "markdown",
   "id": "192e3ac2",
   "metadata": {},
   "source": [
    "**Question 7.** Were PTER rates high during the Great Recession (that is to say, were PTER rates particularly high in the years 2008 through 2011)? Assign `highPTER` to `True` if you think PTER rates were high in this period, or `False` if you think they weren't. **(4 Points)**\n"
   ]
  },
  {
   "cell_type": "code",
   "execution_count": 21,
   "id": "c540084e",
   "metadata": {
    "tags": []
   },
   "outputs": [],
   "source": [
    "highPTER = True"
   ]
  },
  {
   "cell_type": "code",
   "execution_count": 22,
   "id": "c93a5bad",
   "metadata": {
    "deletable": false,
    "editable": false
   },
   "outputs": [
    {
     "data": {
      "text/html": [
       "<p><strong><pre style='display: inline;'>q1_7</pre></strong> passed! ✨</p>"
      ],
      "text/plain": [
       "q1_7 results: All test cases passed!"
      ]
     },
     "execution_count": 22,
     "metadata": {},
     "output_type": "execute_result"
    }
   ],
   "source": [
    "grader.check(\"q1_7\")"
   ]
  },
  {
   "cell_type": "markdown",
   "id": "c68280c6",
   "metadata": {},
   "source": [
    "## 2. Birth Rates"
   ]
  },
  {
   "cell_type": "markdown",
   "id": "879b2c4d",
   "metadata": {},
   "source": [
    "The following table gives Census-based population estimates for each US state on both July 1, 2015 and July 1, 2016. The last four columns describe the components of the estimated change in population during this time interval. **For all questions below, assume that the word \"states\" refers to all 52 rows including Puerto Rico and the District of Columbia.**\n",
    "\n",
    "The data was taken from [here](http://www2.census.gov/programs-surveys/popest/datasets/2010-2016/national/totals/nst-est2016-alldata.csv). (Note: If it doesn't download for you when you click the link, please copy and paste it into your address bar!) If you want to read more about the different column descriptions, click [here](http://www2.census.gov/programs-surveys/popest/datasets/2010-2015/national/totals/nst-est2015-alldata.pdf).\n",
    "\n",
    "The raw data is a bit messy—run the cell below to clean the table and make it easier to work with."
   ]
  },
  {
   "cell_type": "code",
   "execution_count": 23,
   "id": "485987ff",
   "metadata": {},
   "outputs": [
    {
     "data": {
      "text/html": [
       "<table border=\"1\" class=\"dataframe\">\n",
       "    <thead>\n",
       "        <tr>\n",
       "            <th>REGION</th> <th>NAME</th> <th>2015</th> <th>2016</th> <th>BIRTHS</th> <th>DEATHS</th> <th>MIGRATION</th> <th>OTHER</th>\n",
       "        </tr>\n",
       "    </thead>\n",
       "    <tbody>\n",
       "        <tr>\n",
       "            <td>3     </td> <td>Alabama   </td> <td>4,853,875 </td> <td>4,863,300 </td> <td>58,556 </td> <td>52,405 </td> <td>3,874    </td> <td>-600  </td>\n",
       "        </tr>\n",
       "        <tr>\n",
       "            <td>4     </td> <td>Alaska    </td> <td>737,709   </td> <td>741,894   </td> <td>11,255 </td> <td>4,511  </td> <td>-2,557   </td> <td>-2    </td>\n",
       "        </tr>\n",
       "        <tr>\n",
       "            <td>4     </td> <td>Arizona   </td> <td>6,817,565 </td> <td>6,931,071 </td> <td>87,204 </td> <td>56,564 </td> <td>76,405   </td> <td>6,461 </td>\n",
       "        </tr>\n",
       "        <tr>\n",
       "            <td>3     </td> <td>Arkansas  </td> <td>2,977,853 </td> <td>2,988,248 </td> <td>37,936 </td> <td>30,581 </td> <td>3,530    </td> <td>-490  </td>\n",
       "        </tr>\n",
       "        <tr>\n",
       "            <td>4     </td> <td>California</td> <td>38,993,940</td> <td>39,250,017</td> <td>502,848</td> <td>273,850</td> <td>33,530   </td> <td>-6,451</td>\n",
       "        </tr>\n",
       "    </tbody>\n",
       "</table>\n",
       "<p>... (47 rows omitted)</p>"
      ],
      "text/plain": [
       "<IPython.core.display.HTML object>"
      ]
     },
     "metadata": {},
     "output_type": "display_data"
    }
   ],
   "source": [
    "# Don't change this cell; just run it.\n",
    "pop = Table.read_table('nst-est2016-alldata.csv').where('SUMLEV', 40).select([1, 4, 12, 13, 27, 34, 62, 69])\n",
    "pop = pop.relabeled('POPESTIMATE2015', '2015').relabeled('POPESTIMATE2016', '2016')\n",
    "pop = pop.relabeled('BIRTHS2016', 'BIRTHS').relabeled('DEATHS2016', 'DEATHS')\n",
    "pop = pop.relabeled('NETMIG2016', 'MIGRATION').relabeled('RESIDUAL2016', 'OTHER')\n",
    "pop = pop.with_columns(\"REGION\", np.array([int(region) if region != \"X\" else 0 for region in pop.column(\"REGION\")]))\n",
    "pop.set_format([2, 3, 4, 5, 6, 7], NumberFormatter(decimals=0)).show(5)"
   ]
  },
  {
   "cell_type": "markdown",
   "id": "46a60a74",
   "metadata": {},
   "source": [
    "**Question 1.** Assign `us_birth_rate` to the total US annual birth rate during this time interval. The annual birth rate for a year-long period is the total number of births in that period as a proportion of the total population size at the start of the time period. **(4 Points)**\n",
    "\n",
    "*Hint:* Which year corresponds to the start of the time period?\n"
   ]
  },
  {
   "cell_type": "code",
   "execution_count": 30,
   "id": "b7f336eb",
   "metadata": {
    "tags": []
   },
   "outputs": [
    {
     "data": {
      "text/plain": [
       "0.012358536498646102"
      ]
     },
     "execution_count": 30,
     "metadata": {},
     "output_type": "execute_result"
    }
   ],
   "source": [
    "us_birth_rate = np.sum(pop.column('BIRTHS')) / np.sum(pop.column('2015'))\n",
    "us_birth_rate"
   ]
  },
  {
   "cell_type": "code",
   "execution_count": 31,
   "id": "119e7e1d",
   "metadata": {
    "deletable": false,
    "editable": false
   },
   "outputs": [
    {
     "data": {
      "text/html": [
       "<p><strong><pre style='display: inline;'>q2_1</pre></strong> passed! 💯</p>"
      ],
      "text/plain": [
       "q2_1 results: All test cases passed!"
      ]
     },
     "execution_count": 31,
     "metadata": {},
     "output_type": "execute_result"
    }
   ],
   "source": [
    "grader.check(\"q2_1\")"
   ]
  },
  {
   "cell_type": "markdown",
   "id": "4bcb8df0",
   "metadata": {},
   "source": [
    "**Question 2.** Assign `movers` to the number of states for which the **absolute value** of the **annual rate of migration** was higher than 1%. The annual rate of migration for a year-long period is the net number of migrations (in and out) as a proportion of the population size at the start of the period. The `MIGRATION` column contains estimated annual net migration counts by state. **(4 Points)**\n",
    "\n",
    "*Hint*: `migration_rates` should be a table and `movers` should be a number.\n"
   ]
  },
  {
   "cell_type": "code",
   "execution_count": 35,
   "id": "bc5ee3e7",
   "metadata": {
    "tags": []
   },
   "outputs": [
    {
     "data": {
      "text/plain": [
       "9"
      ]
     },
     "execution_count": 35,
     "metadata": {},
     "output_type": "execute_result"
    }
   ],
   "source": [
    "migration_rates = pop.with_columns('MIG_RATE', pop.column('MIGRATION') / pop.column('2015') * 100)\n",
    "movers = migration_rates.where('MIG_RATE', lambda x: abs(x) > 1).num_rows\n",
    "movers"
   ]
  },
  {
   "cell_type": "code",
   "execution_count": 36,
   "id": "e1a55e02",
   "metadata": {
    "deletable": false,
    "editable": false
   },
   "outputs": [
    {
     "data": {
      "text/html": [
       "<p><strong><pre style='display: inline;'>q2_2</pre></strong> passed! 💯</p>"
      ],
      "text/plain": [
       "q2_2 results: All test cases passed!"
      ]
     },
     "execution_count": 36,
     "metadata": {},
     "output_type": "execute_result"
    }
   ],
   "source": [
    "grader.check(\"q2_2\")"
   ]
  },
  {
   "cell_type": "markdown",
   "id": "22f4f029",
   "metadata": {},
   "source": [
    "**Question 3.** Assign `west_births` to the total number of births that occurred in region 4 (the Western US). **(4 Points)**\n",
    "\n",
    "*Hint:* Make sure you double check the type of the values in the `REGION` column and appropriately filter (i.e. the types must match!).\n"
   ]
  },
  {
   "cell_type": "code",
   "execution_count": 37,
   "id": "5010209f",
   "metadata": {
    "tags": []
   },
   "outputs": [
    {
     "data": {
      "text/plain": [
       "979657"
      ]
     },
     "execution_count": 37,
     "metadata": {},
     "output_type": "execute_result"
    }
   ],
   "source": [
    "west_births = np.sum(pop.where('REGION', 4).column('BIRTHS'))\n",
    "west_births"
   ]
  },
  {
   "cell_type": "code",
   "execution_count": 38,
   "id": "fdaf40a5",
   "metadata": {
    "deletable": false,
    "editable": false
   },
   "outputs": [
    {
     "data": {
      "text/html": [
       "<p><strong><pre style='display: inline;'>q2_3</pre></strong> passed! 🍀</p>"
      ],
      "text/plain": [
       "q2_3 results: All test cases passed!"
      ]
     },
     "execution_count": 38,
     "metadata": {},
     "output_type": "execute_result"
    }
   ],
   "source": [
    "grader.check(\"q2_3\")"
   ]
  },
  {
   "cell_type": "markdown",
   "id": "eb778707",
   "metadata": {},
   "source": [
    "**Question 4.** In the next question, you will be creating a visualization to understand the relationship between birth and death rates. The annual death rate for a year-long period is the total number of deaths in that period as a proportion of the population size at the start of the time period.\n",
    "\n",
    "What visualization is most appropriate to see if there is an association between birth and death rates during a given time interval?\n",
    "\n",
    "1. Line Graph\n",
    "2. Bar Chart\n",
    "3. Scatter Plot\n",
    "\n",
    "Assign `visualization` below to the number corresponding to the correct visualization. **(4 Points)**\n"
   ]
  },
  {
   "cell_type": "code",
   "execution_count": 51,
   "id": "efe79d4b",
   "metadata": {
    "tags": []
   },
   "outputs": [],
   "source": [
    "visualization = 1"
   ]
  },
  {
   "cell_type": "code",
   "execution_count": 52,
   "id": "8117d020",
   "metadata": {
    "deletable": false,
    "editable": false
   },
   "outputs": [
    {
     "data": {
      "text/html": [
       "<p><strong><pre style='display: inline;'>q2_4</pre></strong> passed! ✨</p>"
      ],
      "text/plain": [
       "q2_4 results: All test cases passed!"
      ]
     },
     "execution_count": 52,
     "metadata": {},
     "output_type": "execute_result"
    }
   ],
   "source": [
    "grader.check(\"q2_4\")"
   ]
  },
  {
   "cell_type": "markdown",
   "id": "3a4b9d33",
   "metadata": {},
   "source": [
    "<!-- BEGIN QUESTION -->\n",
    "\n",
    "**Question 5.** In the code cell below, create a visualization that will help us determine if there is an association between birth rate and death rate during this time interval. It may be helpful to create an intermediate table here. **(4 Points)**\n",
    "\n",
    "Things to consider:\n",
    "\n",
    "- What type of chart will help us illustrate an association between 2 variables?\n",
    "- How can you manipulate a certain table to help generate your chart?\n",
    "- Check out the Recommended Reading for this homework!\n"
   ]
  },
  {
   "cell_type": "code",
   "execution_count": 46,
   "id": "68836b20",
   "metadata": {
    "deletable": false,
    "manual_problem_id": "birth_death_rates_graph",
    "tags": []
   },
   "outputs": [
    {
     "data": {
      "image/png": "[encoded data removed]",
      "text/plain": [
       "<Figure size 500x500 with 1 Axes>"
      ]
     },
     "metadata": {},
     "output_type": "display_data"
    },
    {
     "data": {
      "image/png": "[encoded data removed]",
      "text/plain": [
       "<Figure size 600x600 with 1 Axes>"
      ]
     },
     "metadata": {},
     "output_type": "display_data"
    }
   ],
   "source": [
    "# In this cell, use birth_rates and death_rates to generate your visualization\n",
    "birth_rates = pop.column('BIRTHS') / pop.column('2015')\n",
    "death_rates = pop.column('DEATHS') / pop.column('2015')\n",
    "t = pop.with_columns('birth_rates', birth_rates, 'death_rates', death_rates)\n",
    "t.scatter('birth_rates', 'death_rates')\n",
    "t.plot('birth_rates', 'death_rates')"
   ]
  },
  {
   "cell_type": "markdown",
   "id": "9e34c2a3",
   "metadata": {},
   "source": [
    "<!-- END QUESTION -->\n",
    "\n",
    "**Question 6.** True or False: There is an association between birth rate and death rate during this time interval. \n",
    "\n",
    "Assign `assoc` to `True` or `False` in the cell below. **(4 Points)**\n"
   ]
  },
  {
   "cell_type": "code",
   "execution_count": 49,
   "id": "a86c7c0e",
   "metadata": {
    "tags": []
   },
   "outputs": [],
   "source": [
    "assoc = False"
   ]
  },
  {
   "cell_type": "code",
   "execution_count": 50,
   "id": "efd2861b",
   "metadata": {
    "deletable": false,
    "editable": false
   },
   "outputs": [
    {
     "data": {
      "text/html": [
       "<p><strong><pre style='display: inline;'>q2_6</pre></strong> passed! 🙌</p>"
      ],
      "text/plain": [
       "q2_6 results: All test cases passed!"
      ]
     },
     "execution_count": 50,
     "metadata": {},
     "output_type": "execute_result"
    }
   ],
   "source": [
    "grader.check(\"q2_6\")"
   ]
  },
  {
   "cell_type": "markdown",
   "id": "408ec390",
   "metadata": {},
   "source": [
    "## 3. Uber"
   ]
  },
  {
   "cell_type": "markdown",
   "id": "e1a79dd8",
   "metadata": {},
   "source": [
    "Below we load tables containing 200,000 weekday Uber rides in the Manila, Philippines, and Boston, Massachusetts metropolitan areas from the [Uber Movement](https://movement.uber.com) project. The `sourceid` and `dstid` columns contain codes corresponding to start and end locations of each ride. The `hod` column contains codes corresponding to the hour of the day the ride took place. The `ride time` column contains the length of the ride in minutes."
   ]
  },
  {
   "cell_type": "code",
   "execution_count": 53,
   "id": "434ccc4c",
   "metadata": {
    "for_question_type": "solution",
    "scrolled": true
   },
   "outputs": [
    {
     "name": "stdout",
     "output_type": "stream",
     "text": [
      "Boston Table\n"
     ]
    },
    {
     "data": {
      "text/html": [
       "<table border=\"1\" class=\"dataframe\">\n",
       "    <thead>\n",
       "        <tr>\n",
       "            <th>sourceid</th> <th>dstid</th> <th>hod</th> <th>ride time</th>\n",
       "        </tr>\n",
       "    </thead>\n",
       "    <tbody>\n",
       "        <tr>\n",
       "            <td>584     </td> <td>33   </td> <td>7   </td> <td>11.866   </td>\n",
       "        </tr>\n",
       "        <tr>\n",
       "            <td>1013    </td> <td>1116 </td> <td>13  </td> <td>17.7993  </td>\n",
       "        </tr>\n",
       "        <tr>\n",
       "            <td>884     </td> <td>1190 </td> <td>22  </td> <td>19.3488  </td>\n",
       "        </tr>\n",
       "        <tr>\n",
       "            <td>211     </td> <td>364  </td> <td>1   </td> <td>1.7235   </td>\n",
       "        </tr>\n",
       "    </tbody>\n",
       "</table>\n",
       "<p>... (199996 rows omitted)</p>"
      ],
      "text/plain": [
       "<IPython.core.display.HTML object>"
      ]
     },
     "metadata": {},
     "output_type": "display_data"
    },
    {
     "name": "stdout",
     "output_type": "stream",
     "text": [
      "Manila Table\n"
     ]
    },
    {
     "data": {
      "text/html": [
       "<table border=\"1\" class=\"dataframe\">\n",
       "    <thead>\n",
       "        <tr>\n",
       "            <th>sourceid</th> <th>dstid</th> <th>hod</th> <th>ride time</th>\n",
       "        </tr>\n",
       "    </thead>\n",
       "    <tbody>\n",
       "        <tr>\n",
       "            <td>544     </td> <td>5    </td> <td>22  </td> <td>22.8115  </td>\n",
       "        </tr>\n",
       "        <tr>\n",
       "            <td>302     </td> <td>240  </td> <td>21  </td> <td>7.02267  </td>\n",
       "        </tr>\n",
       "        <tr>\n",
       "            <td>278     </td> <td>99   </td> <td>16  </td> <td>21.6437  </td>\n",
       "        </tr>\n",
       "        <tr>\n",
       "            <td>720     </td> <td>775  </td> <td>18  </td> <td>13.0597  </td>\n",
       "        </tr>\n",
       "    </tbody>\n",
       "</table>\n",
       "<p>... (199996 rows omitted)</p>"
      ],
      "text/plain": [
       "<IPython.core.display.HTML object>"
      ]
     },
     "metadata": {},
     "output_type": "display_data"
    }
   ],
   "source": [
    "boston = Table.read_table(\"boston.csv\")\n",
    "manila = Table.read_table(\"manila.csv\")\n",
    "print(\"Boston Table\")\n",
    "boston.show(4)\n",
    "print(\"Manila Table\")\n",
    "manila.show(4)"
   ]
  },
  {
   "cell_type": "markdown",
   "id": "af6b5177",
   "metadata": {},
   "source": [
    "<!-- BEGIN QUESTION -->\n",
    "\n",
    "**Question 1.** Produce a histogram that visualizes the distributions of all ride times in Boston using the given bins in `equal_bins`. **(4 Points)**\n"
   ]
  },
  {
   "cell_type": "code",
   "execution_count": 56,
   "id": "ab394659",
   "metadata": {
    "deletable": false,
    "manual_problem_id": "uber_1",
    "scrolled": true,
    "tags": []
   },
   "outputs": [
    {
     "data": {
      "image/png": "[encoded data removed]",
      "text/plain": [
       "<Figure size 600x400 with 1 Axes>"
      ]
     },
     "metadata": {},
     "output_type": "display_data"
    }
   ],
   "source": [
    "equal_bins = np.arange(0, 120, 5)\n",
    "boston.hist('ride time', bins = equal_bins, unit = 'minute')"
   ]
  },
  {
   "cell_type": "markdown",
   "id": "eac156fe",
   "metadata": {},
   "source": [
    "<!-- END QUESTION -->\n",
    "\n",
    "<!-- BEGIN QUESTION -->\n",
    "\n",
    "**Question 2.** Now, produce a histogram that visualizes the distribution of all ride times in Manila using the given bins. **(4 Points)**\n"
   ]
  },
  {
   "cell_type": "code",
   "execution_count": 57,
   "id": "8f2005ba",
   "metadata": {
    "scrolled": true,
    "tags": []
   },
   "outputs": [
    {
     "data": {
      "image/png": "[encoded data removed]",
      "text/plain": [
       "<Figure size 600x400 with 1 Axes>"
      ]
     },
     "metadata": {},
     "output_type": "display_data"
    }
   ],
   "source": [
    "equal_bins = np.arange(0, 120, 5)\n",
    "manila.hist('ride time', bins = equal_bins, unit = 'minute')\n",
    "\n",
    "# Don't delete the following line!\n",
    "plots.ylim(0, 0.05);"
   ]
  },
  {
   "cell_type": "markdown",
   "id": "d6222009",
   "metadata": {},
   "source": [
    "<!-- END QUESTION -->\n",
    "\n",
    "**Question 3.** Let's take a closer look at the y-axis label. Assign `unit_meaning` to an integer (1, 2, 3) that corresponds to the \"unit\" in \"Percent per unit\". **(4 Points)**\n",
    "\n",
    "1. minute  \n",
    "2. ride time  \n",
    "3. second\n"
   ]
  },
  {
   "cell_type": "code",
   "execution_count": 60,
   "id": "a479137b",
   "metadata": {
    "tags": []
   },
   "outputs": [
    {
     "data": {
      "text/plain": [
       "1"
      ]
     },
     "execution_count": 60,
     "metadata": {},
     "output_type": "execute_result"
    }
   ],
   "source": [
    "unit_meaning = 1\n",
    "unit_meaning"
   ]
  },
  {
   "cell_type": "code",
   "execution_count": 61,
   "id": "a378cbd4",
   "metadata": {
    "deletable": false,
    "editable": false
   },
   "outputs": [
    {
     "data": {
      "text/html": [
       "<p><strong><pre style='display: inline;'>q3_3</pre></strong> passed! 🌟</p>"
      ],
      "text/plain": [
       "q3_3 results: All test cases passed!"
      ]
     },
     "execution_count": 61,
     "metadata": {},
     "output_type": "execute_result"
    }
   ],
   "source": [
    "grader.check(\"q3_3\")"
   ]
  },
  {
   "cell_type": "markdown",
   "id": "88413717",
   "metadata": {},
   "source": [
    "**Question 4.** Assign `boston_under_15` and `manila_under_15` to the percentage of rides that are less than 15 minutes in their respective metropolitan areas. Use the height variables provided below in order to compute the percentages. Your solution should only use height variables, numbers, and mathematical operations. You should **not** access the tables `boston` and `manila` in any way. **(4 Points)**\n"
   ]
  },
  {
   "cell_type": "code",
   "execution_count": 64,
   "id": "9d1f8f4a",
   "metadata": {
    "deletable": false,
    "manual_problem_id": "uber_2",
    "tags": []
   },
   "outputs": [
    {
     "data": {
      "text/plain": [
       "(9.3, 4.2)"
      ]
     },
     "execution_count": 64,
     "metadata": {},
     "output_type": "execute_result"
    }
   ],
   "source": [
    "boston_under_5_height = 1.2\n",
    "manila_under_5_height = 0.6\n",
    "boston_5_to_under_10_height = 3.2\n",
    "manila_5_to_under_10_height = 1.4\n",
    "boston_10_to_under_15_height = 4.9\n",
    "manila_10_to_under_15_height = 2.2\n",
    "\n",
    "boston_under_15 = boston_10_to_under_15_height + boston_5_to_under_10_height + boston_under_5_height\n",
    "manila_under_15 = manila_10_to_under_15_height + manila_5_to_under_10_height + manila_under_5_height\n",
    "\n",
    "boston_under_15, manila_under_15"
   ]
  },
  {
   "cell_type": "code",
   "execution_count": 65,
   "id": "9d656964",
   "metadata": {
    "deletable": false,
    "editable": false
   },
   "outputs": [
    {
     "data": {
      "text/html": [
       "<p><strong><pre style='display: inline;'>q3_4</pre></strong> passed! 🍀</p>"
      ],
      "text/plain": [
       "q3_4 results: All test cases passed!"
      ]
     },
     "execution_count": 65,
     "metadata": {},
     "output_type": "execute_result"
    }
   ],
   "source": [
    "grader.check(\"q3_4\")"
   ]
  },
  {
   "cell_type": "markdown",
   "id": "cbe60534",
   "metadata": {},
   "source": [
    "**Question 5.** Let's take a closer look at the distribution of ride times in Boston. Assign `boston_median_bin` to an integer (1, 2, 3, or 4) that corresponds to the bin that contains the median time. **(4 Points)**\n",
    "\n",
    "1. 0-8 minutes  \n",
    "2. 8-14 minutes  \n",
    "3. 14-20 minutes  \n",
    "4. 20-40 minutes  \n",
    "\n",
    "*Hint:* The median of a sorted list has half of the list elements to its left, and half to its right.\n"
   ]
  },
  {
   "cell_type": "code",
   "execution_count": 68,
   "id": "140a38a0",
   "metadata": {
    "tags": []
   },
   "outputs": [
    {
     "data": {
      "text/plain": [
       "3"
      ]
     },
     "execution_count": 68,
     "metadata": {},
     "output_type": "execute_result"
    }
   ],
   "source": [
    "boston_median_bin = 3\n",
    "boston_median_bin"
   ]
  },
  {
   "cell_type": "code",
   "execution_count": 69,
   "id": "eae102cc",
   "metadata": {
    "deletable": false,
    "editable": false
   },
   "outputs": [
    {
     "data": {
      "text/html": [
       "<p><strong><pre style='display: inline;'>q3_5</pre></strong> passed! 🚀</p>"
      ],
      "text/plain": [
       "q3_5 results: All test cases passed!"
      ]
     },
     "execution_count": 69,
     "metadata": {},
     "output_type": "execute_result"
    }
   ],
   "source": [
    "grader.check(\"q3_5\")"
   ]
  },
  {
   "cell_type": "markdown",
   "id": "593edf3c",
   "metadata": {},
   "source": [
    "<!-- BEGIN QUESTION -->\n",
    "\n",
    "**Question 6.** Identify one difference between the histograms, in terms of the statistical properties. Can you comment on the average and/or skew of each histogram? **(4 Points)**\n",
    "\n",
    "*Hint*: The best way to do this is to compare the two histograms (from 3.1 and 3.2) visually.\n"
   ]
  },
  {
   "cell_type": "markdown",
   "id": "1f32b55f",
   "metadata": {},
   "source": [
    "_Type your answer here, replacing this text._"
   ]
  },
  {
   "cell_type": "markdown",
   "id": "1ff170f4",
   "metadata": {},
   "source": [
    "<!-- END QUESTION -->\n",
    "\n",
    "<!-- BEGIN QUESTION -->\n",
    "\n",
    "**Question 7.** Why is your solution in Question 6 the case? Based on one of the following two readings, why are the distributions for Boston and Manila different? **(4 Points)**\n",
    "\n",
    "- [Boston reading](https://www.climatestotravel.com/climate/united-states/boston)\n",
    "- [Manila reading](https://manilafyi.com/why-is-manila-traffic-so-bad/)\n",
    "\n",
    "*Hint:* Try thinking about external factors of the two cities that may be causing the difference! There may be multiple different factors that come into play.\n"
   ]
  },
  {
   "cell_type": "markdown",
   "id": "4f8df915",
   "metadata": {},
   "source": [
    "_Type your answer here, replacing this text._"
   ]
  },
  {
   "cell_type": "markdown",
   "id": "75c49e0c",
   "metadata": {
    "tags": []
   },
   "source": [
    "<!-- END QUESTION -->\n",
    "\n",
    "## 4. Histograms"
   ]
  },
  {
   "cell_type": "markdown",
   "id": "c2cd8dfb",
   "metadata": {},
   "source": [
    "Consider the following scatter plot: \n",
    "\n",
    "![](scatter.png)\n",
    "\n",
    "The axes of the plot represent values of two variables: $x$ and $y$. "
   ]
  },
  {
   "cell_type": "markdown",
   "id": "a3d8c96a",
   "metadata": {},
   "source": [
    "Suppose we have a table called `t` that has two columns in it:\n",
    "\n",
    "- `x`: a column containing the x-values of the points in the scatter plot\n",
    "- `y`: a column containing the y-values of the points in the scatter plot"
   ]
  },
  {
   "cell_type": "markdown",
   "id": "f174951e",
   "metadata": {},
   "source": [
    "Below, you are given three histograms—one corresponds to column `x`, one corresponds to column `y`, and one does not correspond to either column. "
   ]
  },
  {
   "cell_type": "markdown",
   "id": "36384d52",
   "metadata": {},
   "source": [
    "**Histogram A:**\n",
    "\n",
    "![](var3.png)\n",
    "\n",
    "**Histogram B:**\n",
    "\n",
    "![](var1.png)\n",
    "\n",
    "**Histogram C:**\n",
    "\n",
    "![](var2.png)"
   ]
  },
  {
   "cell_type": "markdown",
   "id": "473c36e0",
   "metadata": {},
   "source": [
    "**Question 1.** Suppose we run `t.hist('x')`. Which histogram does this code produce? Assign `histogram_column_x` to either 1, 2, or 3. **(5 Points)**\n",
    "\n",
    "1. Histogram A\n",
    "2. Histogram B\n",
    "3. Histogram C\n"
   ]
  },
  {
   "cell_type": "code",
   "execution_count": 73,
   "id": "bd0bff54",
   "metadata": {
    "tags": []
   },
   "outputs": [],
   "source": [
    "histogram_column_x = 3"
   ]
  },
  {
   "cell_type": "code",
   "execution_count": 74,
   "id": "5f00b4de",
   "metadata": {
    "deletable": false,
    "editable": false
   },
   "outputs": [
    {
     "data": {
      "text/html": [
       "<p><strong><pre style='display: inline;'>q4_1</pre></strong> passed! 🌟</p>"
      ],
      "text/plain": [
       "q4_1 results: All test cases passed!"
      ]
     },
     "execution_count": 74,
     "metadata": {},
     "output_type": "execute_result"
    }
   ],
   "source": [
    "grader.check(\"q4_1\")"
   ]
  },
  {
   "cell_type": "markdown",
   "id": "82e68579",
   "metadata": {},
   "source": [
    "<!-- BEGIN QUESTION -->\n",
    "\n",
    "**Question 2.** State at least one reason why you chose the histogram from Question 1. **Make sure to clearly indicate which histogram you selected** (ex: \"I chose histogram A because ...\"). **(5 Points)**\n"
   ]
  },
  {
   "cell_type": "markdown",
   "id": "71a34dff",
   "metadata": {},
   "source": [
    "_Type your answer here, replacing this text._"
   ]
  },
  {
   "cell_type": "markdown",
   "id": "aac0918d",
   "metadata": {},
   "source": [
    "<!-- END QUESTION -->\n",
    "\n",
    "**Question 3.** Suppose we run `t.hist('y')`. Which histogram does this code produce? Assign `histogram_column_y` to either 1, 2, or 3. **(5 Points)**\n",
    "\n",
    "1. Histogram A\n",
    "2. Histogram B\n",
    "3. Histogram C\n"
   ]
  },
  {
   "cell_type": "code",
   "execution_count": 75,
   "id": "bd1973be",
   "metadata": {
    "tags": []
   },
   "outputs": [],
   "source": [
    "histogram_column_y = 2"
   ]
  },
  {
   "cell_type": "code",
   "execution_count": 76,
   "id": "963270bb",
   "metadata": {
    "deletable": false,
    "editable": false
   },
   "outputs": [
    {
     "data": {
      "text/html": [
       "<p><strong><pre style='display: inline;'>q4_3</pre></strong> passed! 💯</p>"
      ],
      "text/plain": [
       "q4_3 results: All test cases passed!"
      ]
     },
     "execution_count": 76,
     "metadata": {},
     "output_type": "execute_result"
    }
   ],
   "source": [
    "grader.check(\"q4_3\")"
   ]
  },
  {
   "cell_type": "markdown",
   "id": "94fe1653",
   "metadata": {},
   "source": [
    "<!-- BEGIN QUESTION -->\n",
    "\n",
    "**Question 4.** State at least one reason why you chose the histogram from Question 3.  **Make sure to clearly indicate which histogram you selected** (ex: \"I chose histogram A because ...\"). **(5 Points)**\n"
   ]
  },
  {
   "cell_type": "markdown",
   "id": "810c19e1",
   "metadata": {},
   "source": [
    "_Type your answer here, replacing this text._"
   ]
  },
  {
   "cell_type": "markdown",
   "id": "b5f83b03",
   "metadata": {},
   "source": [
    "<!-- END QUESTION -->\n",
    "\n",
    "You're done with Homework 3!  \n",
    "\n",
    "**Important submission steps:** \n",
    "1. Run the tests and verify that they all pass.\n",
    "2. Choose **Save Notebook** from the **File** menu, then **run the final cell**. \n",
    "3. Click the link to download the zip file.\n",
    "4. Then submit the zip file to the corresponding assignment according to your instructor's directions. \n",
    "\n",
    "**It is your responsibility to make sure your work is saved before running the last cell.**"
   ]
  },
  {
   "cell_type": "markdown",
   "id": "eaceac68",
   "metadata": {
    "deletable": false,
    "editable": false
   },
   "source": [
    "## Submission\n",
    "\n",
    "Make sure you have run all cells in your notebook in order before running the cell below, so that all images/graphs appear in the output. The cell below will generate a zip file for you to submit. **Please save before exporting!**"
   ]
  },
  {
   "cell_type": "code",
   "execution_count": null,
   "id": "081e1366",
   "metadata": {
    "deletable": false,
    "editable": false
   },
   "outputs": [],
   "source": [
    "# Save your notebook first, then run this cell to export your submission.\n",
    "grader.export(pdf=False, run_tests=True)"
   ]
  },
  {
   "cell_type": "markdown",
   "id": "95884650",
   "metadata": {},
   "source": [
    " "
   ]
  }
 ],
 "metadata": {
  "kernelspec": {
   "display_name": "Python 3 (ipykernel)",
   "language": "python",
   "name": "python3"
  },
  "language_info": {
   "codemirror_mode": {
    "name": "ipython",
    "version": 3
   },
   "file_extension": ".py",
   "mimetype": "text/x-python",
   "name": "python",
   "nbconvert_exporter": "python",
   "pygments_lexer": "ipython3",
   "version": "3.11.4"
  },
  "otter": {
   "OK_FORMAT": true,
   "tests": {
    "q1_1": {
     "name": "q1_1",
     "points": [
      4
     ],
     "suites": [
      {
       "cases": [
        {
         "code": ">>> unemployment.select('Date', 'NEI', 'NEI-PTER').take(0)\nDate       | NEI     | NEI-PTER\n1994-01-01 | 10.0974 | 11.172",
         "hidden": false,
         "locked": false
        }
       ],
       "scored": true,
       "setup": "",
       "teardown": "",
       "type": "doctest"
      }
     ]
    },
    "q1_2": {
     "name": "q1_2",
     "points": [
      2,
      2
     ],
     "suites": [
      {
       "cases": [
        {
         "code": ">>> by_nei.take(0)\nDate       | NEI     | NEI-PTER\n2009-10-01 | 10.9698 | 12.8557",
         "hidden": false,
         "locked": false
        },
        {
         "code": ">>> by_nei_pter.take(0)\nDate       | NEI     | NEI-PTER\n2009-10-01 | 10.9698 | 12.8557",
         "hidden": false,
         "locked": false
        }
       ],
       "scored": true,
       "setup": "",
       "teardown": "",
       "type": "doctest"
      }
     ]
    },
    "q1_3": {
     "name": "q1_3",
     "points": [
      2
     ],
     "suites": [
      {
       "cases": [
        {
         "code": ">>> greatest_nei.take(0)\nDate       | NEI     | NEI-PTER\n2009-10-01 | 10.9698 | 12.8557",
         "hidden": false,
         "locked": false
        }
       ],
       "scored": true,
       "setup": "",
       "teardown": "",
       "type": "doctest"
      }
     ]
    },
    "q1_4": {
     "name": "q1_4",
     "points": [
      1,
      3
     ],
     "suites": [
      {
       "cases": [
        {
         "code": ">>> # It looks like you subtracted in the wrong order.\n>>> round(pter.item(6), 4) != -1.1282\nTrue",
         "hidden": false,
         "locked": false
        },
        {
         "code": ">>> round(pter.item(6), 4)\n1.1282",
         "hidden": false,
         "locked": false
        }
       ],
       "scored": true,
       "setup": "",
       "teardown": "",
       "type": "doctest"
      }
     ]
    },
    "q1_5": {
     "name": "q1_5",
     "points": [
      4
     ],
     "suites": [
      {
       "cases": [
        {
         "code": ">>> by_pter.take(0)\nDate       | NEI     | NEI-PTER | PTER\n2009-07-01 | 10.8089 | 12.7404  | 1.9315",
         "hidden": false,
         "locked": false
        }
       ],
       "scored": true,
       "setup": "",
       "teardown": "",
       "type": "doctest"
      }
     ]
    },
    "q1_6": {
     "name": "q1_6",
     "points": [
      0
     ],
     "suites": [
      {
       "cases": [
        {
         "code": ">>> pter_over_time.take(0)\nDate       | NEI     | NEI-PTER | Year | PTER\n1994-01-01 | 10.0974 | 11.172   | 1994 | 1.0746",
         "hidden": false,
         "locked": false
        }
       ],
       "scored": true,
       "setup": "",
       "teardown": "",
       "type": "doctest"
      }
     ]
    },
    "q1_7": {
     "name": "q1_7",
     "points": [
      0
     ],
     "suites": [
      {
       "cases": [
        {
         "code": ">>> highPTER == True or highPTER == False\nTrue",
         "hidden": false,
         "locked": false
        }
       ],
       "scored": true,
       "setup": "",
       "teardown": "",
       "type": "doctest"
      }
     ]
    },
    "q2_1": {
     "name": "q2_1",
     "points": [
      0
     ],
     "suites": [
      {
       "cases": [
        {
         "code": ">>> 0 < us_birth_rate < 1\nTrue",
         "hidden": false,
         "locked": false
        }
       ],
       "scored": true,
       "setup": "",
       "teardown": "",
       "type": "doctest"
      }
     ]
    },
    "q2_2": {
     "name": "q2_2",
     "points": [
      0
     ],
     "suites": [
      {
       "cases": [
        {
         "code": ">>> 0 < movers <= 52\nTrue",
         "hidden": false,
         "locked": false
        }
       ],
       "scored": true,
       "setup": "",
       "teardown": "",
       "type": "doctest"
      }
     ]
    },
    "q2_3": {
     "name": "q2_3",
     "points": [
      0
     ],
     "suites": [
      {
       "cases": [
        {
         "code": ">>> 5e5 < west_births < 1e6\nTrue",
         "hidden": false,
         "locked": false
        }
       ],
       "scored": true,
       "setup": "",
       "teardown": "",
       "type": "doctest"
      }
     ]
    },
    "q2_4": {
     "name": "q2_4",
     "points": [
      0,
      0
     ],
     "suites": [
      {
       "cases": [
        {
         "code": ">>> # visualization should be assigned to an integer.\n>>> type(visualization) == int\nTrue",
         "hidden": false,
         "locked": false
        },
        {
         "code": ">>> # Make sure visualization is assigned to 1, 2 or 3.\n>>> 1 <= visualization <= 3\nTrue",
         "hidden": false,
         "locked": false
        }
       ],
       "scored": true,
       "setup": "",
       "teardown": "",
       "type": "doctest"
      }
     ]
    },
    "q2_6": {
     "name": "q2_6",
     "points": [
      0
     ],
     "suites": [
      {
       "cases": [
        {
         "code": ">>> type(assoc) is bool\nTrue",
         "hidden": false,
         "locked": false
        }
       ],
       "scored": true,
       "setup": "",
       "teardown": "",
       "type": "doctest"
      }
     ]
    },
    "q3_3": {
     "name": "q3_3",
     "points": [
      0
     ],
     "suites": [
      {
       "cases": [
        {
         "code": ">>> 1 <= unit_meaning <= 3\nTrue",
         "hidden": false,
         "locked": false
        }
       ],
       "scored": true,
       "setup": "",
       "teardown": "",
       "type": "doctest"
      }
     ]
    },
    "q3_4": {
     "name": "q3_4",
     "points": [
      0,
      0
     ],
     "suites": [
      {
       "cases": [
        {
         "code": ">>> boston_under_15 >= 0 and boston_under_15 <= 100\nTrue",
         "hidden": false,
         "locked": false
        },
        {
         "code": ">>> manila_under_15 >= 0 and manila_under_15 <= 100\nTrue",
         "hidden": false,
         "locked": false
        }
       ],
       "scored": true,
       "setup": "",
       "teardown": "",
       "type": "doctest"
      }
     ]
    },
    "q3_5": {
     "name": "q3_5",
     "points": [
      0
     ],
     "suites": [
      {
       "cases": [
        {
         "code": ">>> # Make sure boston_median_bin is assigned to 1, 2, 3, or 4.\n>>> 1 <= boston_median_bin <= 4\nTrue",
         "hidden": false,
         "locked": false
        }
       ],
       "scored": true,
       "setup": "",
       "teardown": "",
       "type": "doctest"
      }
     ]
    },
    "q4_1": {
     "name": "q4_1",
     "points": [
      0,
      1
     ],
     "suites": [
      {
       "cases": [
        {
         "code": ">>> # Make sure you assign histogram_column_x to either 1 or 2!\n>>> type(histogram_column_x) == int\nTrue",
         "hidden": false,
         "locked": false
        },
        {
         "code": ">>> histogram_column_x == 1 or histogram_column_x == 2 or histogram_column_x == 3\nTrue",
         "hidden": false,
         "locked": false
        }
       ],
       "scored": true,
       "setup": "",
       "teardown": "",
       "type": "doctest"
      }
     ]
    },
    "q4_3": {
     "name": "q4_3",
     "points": [
      0,
      1
     ],
     "suites": [
      {
       "cases": [
        {
         "code": ">>> # Make sure you assign histogram_column_y to either 1 or 2!\n>>> type(histogram_column_y) == int\nTrue",
         "hidden": false,
         "locked": false
        },
        {
         "code": ">>> # Make sure histogram_column_y is assigned to 1, 2 or 3.\n>>> histogram_column_y == 1 or histogram_column_y == 2 or histogram_column_y == 3\nTrue",
         "hidden": false,
         "locked": false
        }
       ],
       "scored": true,
       "setup": "",
       "teardown": "",
       "type": "doctest"
      }
     ]
    }
   }
  }
 },
 "nbformat": 4,
 "nbformat_minor": 5
}
