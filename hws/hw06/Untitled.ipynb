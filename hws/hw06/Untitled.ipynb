{
 "cells": [
  {
   "cell_type": "code",
   "execution_count": 1,
   "id": "c0692656-bbe6-428e-96ab-d0e7747e1960",
   "metadata": {},
   "outputs": [],
   "source": [
    "from datascience import *\n",
    "from matplotlib import *\n",
    "import numpy as np"
   ]
  },
  {
   "cell_type": "code",
   "execution_count": 2,
   "id": "6e224a38-faad-437b-888d-afbaea1033ce",
   "metadata": {},
   "outputs": [],
   "source": [
    "def f(x):\n",
    "    return [x for _ in range(5)]"
   ]
  },
  {
   "cell_type": "code",
   "execution_count": 3,
   "id": "96b2e337-f907-4300-96fd-e34188214557",
   "metadata": {},
   "outputs": [
    {
     "data": {
      "text/plain": [
       "array([ 42.35,  42.35,  42.35,  42.35,  42.35,  52.53,  52.53,  52.53,\n",
       "        52.53,  52.53,  31.65,  31.65,  31.65,  31.65,  31.65,  37.8 ,\n",
       "        37.8 ,  37.8 ,  37.8 ,  37.8 ,  47.  ,  47.  ,  47.  ,  47.  ,\n",
       "        47.  ])"
      ]
     },
     "execution_count": 3,
     "metadata": {},
     "output_type": "execute_result"
    }
   ],
   "source": [
    "\n",
    "length = np.array(f(40.35) + f(50.53) + f(29.65) + f(35.80) + f(45.00)) + 2\n",
    "length"
   ]
  },
  {
   "cell_type": "code",
   "execution_count": 4,
   "id": "cbffe994-5695-4de0-bb24-caf0d0d6f9ca",
   "metadata": {},
   "outputs": [
    {
     "data": {
      "text/plain": [
       "array([ 1.291,  1.291,  1.291,  1.291,  1.292,  1.44 ,  1.416,  1.44 ,\n",
       "        1.439,  1.439,  1.103,  1.104,  1.103,  1.085,  1.104,  1.218,\n",
       "        1.218,  1.218,  1.218,  1.218,  1.512,  1.513,  1.512,  1.513,\n",
       "        1.512])"
      ]
     },
     "execution_count": 4,
     "metadata": {},
     "output_type": "execute_result"
    }
   ],
   "source": [
    "T = np.array([1.291, 1.291, 1.291, 1.291, 1.292,\n",
    "              1.440, 1.416, 1.440, 1.439, 1.439,\n",
    "              1.103, 1.104, 1.103, 1.085, 1.104,\n",
    "              1.218, 1.218, 1.218, 1.218, 1.218,\n",
    "              1.512, 1.513, 1.512, 1.513, 1.512])\n",
    "T"
   ]
  },
  {
   "cell_type": "code",
   "execution_count": 5,
   "id": "256f9c61-9fe3-4e8e-a279-51e56d15e3c3",
   "metadata": {},
   "outputs": [
    {
     "data": {
      "text/html": [
       "<table border=\"1\" class=\"dataframe\">\n",
       "    <thead>\n",
       "        <tr>\n",
       "            <th>L</th> <th>T</th>\n",
       "        </tr>\n",
       "    </thead>\n",
       "    <tbody>\n",
       "        <tr>\n",
       "            <td>42.35</td> <td>1.291</td>\n",
       "        </tr>\n",
       "        <tr>\n",
       "            <td>42.35</td> <td>1.291</td>\n",
       "        </tr>\n",
       "        <tr>\n",
       "            <td>42.35</td> <td>1.291</td>\n",
       "        </tr>\n",
       "        <tr>\n",
       "            <td>42.35</td> <td>1.291</td>\n",
       "        </tr>\n",
       "        <tr>\n",
       "            <td>42.35</td> <td>1.292</td>\n",
       "        </tr>\n",
       "        <tr>\n",
       "            <td>52.53</td> <td>1.44 </td>\n",
       "        </tr>\n",
       "        <tr>\n",
       "            <td>52.53</td> <td>1.416</td>\n",
       "        </tr>\n",
       "        <tr>\n",
       "            <td>52.53</td> <td>1.44 </td>\n",
       "        </tr>\n",
       "        <tr>\n",
       "            <td>52.53</td> <td>1.439</td>\n",
       "        </tr>\n",
       "        <tr>\n",
       "            <td>52.53</td> <td>1.439</td>\n",
       "        </tr>\n",
       "    </tbody>\n",
       "</table>\n",
       "<p>... (15 rows omitted)</p>"
      ],
      "text/plain": [
       "L     | T\n",
       "42.35 | 1.291\n",
       "42.35 | 1.291\n",
       "42.35 | 1.291\n",
       "42.35 | 1.291\n",
       "42.35 | 1.292\n",
       "52.53 | 1.44\n",
       "52.53 | 1.416\n",
       "52.53 | 1.44\n",
       "52.53 | 1.439\n",
       "52.53 | 1.439\n",
       "... (15 rows omitted)"
      ]
     },
     "execution_count": 5,
     "metadata": {},
     "output_type": "execute_result"
    }
   ],
   "source": [
    "table = Table().with_columns('L', length,\n",
    "                           'T', T)\n",
    "table"
   ]
  },
  {
   "cell_type": "code",
   "execution_count": 8,
   "id": "ba21012b-8eb6-4066-94be-692e34c9df3d",
   "metadata": {},
   "outputs": [],
   "source": [
    "table.scatter('T', 'L', fit_line = True)"
   ]
  },
  {
   "cell_type": "code",
   "execution_count": null,
   "id": "77fedf83-b540-417b-b258-b5dff0a03aa4",
   "metadata": {},
   "outputs": [],
   "source": []
  }
 ],
 "metadata": {
  "kernelspec": {
   "display_name": "Python 3 (ipykernel)",
   "language": "python",
   "name": "python3"
  },
  "language_info": {
   "codemirror_mode": {
    "name": "ipython",
    "version": 3
   },
   "file_extension": ".py",
   "mimetype": "text/x-python",
   "name": "python",
   "nbconvert_exporter": "python",
   "pygments_lexer": "ipython3",
   "version": "3.11.4"
  }
 },
 "nbformat": 4,
 "nbformat_minor": 5
}
